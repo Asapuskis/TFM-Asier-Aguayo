{
 "cells": [
  {
   "cell_type": "markdown",
   "metadata": {},
   "source": [
    "<h2>Declaración de librerías para todo el Notebook.</h2>"
   ]
  },
  {
   "cell_type": "code",
   "execution_count": 1,
   "metadata": {},
   "outputs": [],
   "source": [
    "import io  \n",
    "import os\n",
    "\n",
    "import pandas as pd\n",
    "\n",
    "from surprise import Dataset\n",
    "from surprise import Reader\n",
    "\n",
    "from surprise import accuracy\n",
    "from surprise.model_selection import KFold\n",
    "from surprise.model_selection import GridSearchCV\n",
    "from surprise.model_selection import train_test_split\n"
   ]
  },
  {
   "cell_type": "markdown",
   "metadata": {},
   "source": [
    "<h2>Entrenamiento de modelos para ver de cuál se obtienen mejores resultados</h2>"
   ]
  },
  {
   "cell_type": "markdown",
   "metadata": {},
   "source": [
    "<p>Surprise proporciona diferentes tipos de algoritmos para crear modelos predictivos. Se implementa uno de cada tipo y se analizan los resultados.</p>"
   ]
  },
  {
   "cell_type": "code",
   "execution_count": 2,
   "metadata": {},
   "outputs": [],
   "source": [
    "file_path = os.path.expanduser('../TFM Files/CLB2/usernameRatingsFiltered.csv')\n",
    "\n",
    "# Al cargar un dataset propio, hay que definir un reader\n",
    "# En nuestro caso el formato es user_id,master_id,rating\n",
    "reader = Reader(line_format='user item rating', sep=',')\n",
    "data = Dataset.load_from_file(file_path, reader=reader)\n",
    "\n",
    "# se define cross validation para validar los resultados\n",
    "kf = KFold(n_splits=5, shuffle=True)"
   ]
  },
  {
   "cell_type": "markdown",
   "metadata": {},
   "source": [
    "<h4>Dividimos los datos en train y test</h4>"
   ]
  },
  {
   "cell_type": "code",
   "execution_count": 3,
   "metadata": {},
   "outputs": [],
   "source": [
    "# No se puede utilizar la función train_test_split de Surprise para \n",
    "# utilizarlo después en GridSearchCV. En el FAQ explican cómo hacerlo\n",
    "\n",
    "import random\n",
    "\n",
    "raw_ratings = data.raw_ratings\n",
    "\n",
    "random.shuffle(raw_ratings)\n",
    "\n",
    "# train = 75% of the data, test = 25% of the data\n",
    "threshold = int(.75 * len(raw_ratings))\n",
    "train_raw_ratings = raw_ratings[:threshold]\n",
    "test_raw_ratings = raw_ratings[threshold:]\n",
    "\n",
    "# data ahora tendrá los datos de training\n",
    "data.raw_ratings = train_raw_ratings  "
   ]
  },
  {
   "cell_type": "markdown",
   "metadata": {},
   "source": [
    "<h3>Algoritmos con base KNN</h3>"
   ]
  },
  {
   "cell_type": "code",
   "execution_count": 4,
   "metadata": {
    "scrolled": true
   },
   "outputs": [
    {
     "name": "stderr",
     "output_type": "stream",
     "text": [
      "[Parallel(n_jobs=-1)]: Using backend LokyBackend with 6 concurrent workers.\n",
      "[Parallel(n_jobs=-1)]: Done  29 tasks      | elapsed:   13.8s\n",
      "[Parallel(n_jobs=-1)]: Done 150 tasks      | elapsed:  1.0min\n",
      "[Parallel(n_jobs=-1)]: Done 353 tasks      | elapsed:  2.3min\n",
      "[Parallel(n_jobs=-1)]: Done 636 tasks      | elapsed:  4.1min\n",
      "[Parallel(n_jobs=-1)]: Done 840 out of 840 | elapsed:  5.3min finished\n"
     ]
    }
   ],
   "source": [
    "from surprise import KNNBaseline\n",
    "\n",
    "param_grid = {'bsl_options': {'method': ['als', 'sgd'],\n",
    "                              'reg': [1, 2]},\n",
    "              'k': [2, 3, 5, 10, 20, 40, 50],\n",
    "              'sim_options': {'name': ['msd', 'cosine', 'pearson_baseline'],\n",
    "                              'min_support': [1, 5],\n",
    "                              'user_based': [False]}\n",
    "              }\n",
    "\n",
    "# param_grid = {\n",
    "#               'k': [40],\n",
    "#                 'sim_options': {'name': ['msd', 'pearson_baseline', 'cosine'],\n",
    "#                               'user_based': [False]}\n",
    "#               }\n",
    "\n",
    "gsKNN = GridSearchCV(KNNBaseline, \n",
    "                     param_grid, \n",
    "                     measures=['rmse'], \n",
    "                     cv=5,\n",
    "                     n_jobs=-1,\n",
    "                     joblib_verbose = 2)\n",
    "\n",
    "gsKNN.fit(data)\n"
   ]
  },
  {
   "cell_type": "code",
   "execution_count": 25,
   "metadata": {
    "scrolled": true
   },
   "outputs": [
    {
     "name": "stdout",
     "output_type": "stream",
     "text": [
      "0.7326789460156862\n",
      "{'bsl_options': {'method': 'als', 'reg': 1}, 'k': 2, 'sim_options': {'name': 'pearson_baseline', 'min_support': 5, 'user_based': False}}\n"
     ]
    }
   ],
   "source": [
    "# best RMSE score\n",
    "print(gsKNN.best_score['rmse'])\n",
    "\n",
    "# combination of parameters that gave the best RMSE score\n",
    "print(gsKNN.best_params['rmse'])"
   ]
  },
  {
   "cell_type": "code",
   "execution_count": 26,
   "metadata": {
    "scrolled": true
   },
   "outputs": [
    {
     "name": "stdout",
     "output_type": "stream",
     "text": [
      "Estimating biases using als...\n",
      "Computing the pearson_baseline similarity matrix...\n",
      "Done computing similarity matrix.\n",
      "Unbiased accuracy on unbiased testData, RMSE: 0.7311\n"
     ]
    }
   ],
   "source": [
    "algo = gsKNN.best_estimator['rmse']\n",
    "trainset = data.construct_trainset(train_raw_ratings)\n",
    "algo.fit(trainset)\n",
    "\n",
    "# Predecimos los ratings sobre los datos de test\n",
    "testset = data.construct_testset(test_raw_ratings)\n",
    "predictions = algo.test(testset)\n",
    "\n",
    "print('Unbiased accuracy on unbiased testData,', end=' ')\n",
    "acc = accuracy.rmse(predictions, verbose=True)\n"
   ]
  },
  {
   "cell_type": "code",
   "execution_count": 27,
   "metadata": {
    "scrolled": true
   },
   "outputs": [
    {
     "name": "stdout",
     "output_type": "stream",
     "text": [
      "Estimating biases using als...\n",
      "Computing the pearson_baseline similarity matrix...\n",
      "Done computing similarity matrix.\n",
      "RMSE: 0.7487\n",
      "Estimating biases using als...\n",
      "Computing the pearson_baseline similarity matrix...\n",
      "Done computing similarity matrix.\n",
      "RMSE: 0.7433\n",
      "Estimating biases using als...\n",
      "Computing the pearson_baseline similarity matrix...\n",
      "Done computing similarity matrix.\n",
      "RMSE: 0.7230\n",
      "Estimating biases using als...\n",
      "Computing the pearson_baseline similarity matrix...\n",
      "Done computing similarity matrix.\n",
      "RMSE: 0.7253\n",
      "Estimating biases using als...\n",
      "Computing the pearson_baseline similarity matrix...\n",
      "Done computing similarity matrix.\n",
      "RMSE: 0.7343\n"
     ]
    }
   ],
   "source": [
    "rmseKNN = []\n",
    "\n",
    "# define a cross-validation iterator\n",
    "kf = KFold(n_splits=5)\n",
    "\n",
    "for trainset, testset in kf.split(data):\n",
    "\n",
    "    # train and test algorithm.\n",
    "    algo.fit(trainset)\n",
    "    predictions = algo.test(testset)\n",
    "\n",
    "    # Compute and print Root Mean Squared Error\n",
    "    acc = accuracy.rmse(predictions, verbose=True)\n",
    "    \n",
    "    rmseKNN.append(acc)"
   ]
  },
  {
   "cell_type": "markdown",
   "metadata": {},
   "source": [
    "<h3>Algoritmos con base Matrix Factorization</h3>"
   ]
  },
  {
   "cell_type": "code",
   "execution_count": 28,
   "metadata": {},
   "outputs": [],
   "source": [
    "# data ahora tendrá los datos de training\n",
    "data.raw_ratings = train_raw_ratings"
   ]
  },
  {
   "cell_type": "code",
   "execution_count": 29,
   "metadata": {},
   "outputs": [
    {
     "name": "stderr",
     "output_type": "stream",
     "text": [
      "[Parallel(n_jobs=-1)]: Using backend LokyBackend with 6 concurrent workers.\n",
      "[Parallel(n_jobs=-1)]: Done  29 tasks      | elapsed:    5.2s\n",
      "[Parallel(n_jobs=-1)]: Done  90 out of  90 | elapsed:   15.9s finished\n"
     ]
    }
   ],
   "source": [
    "from surprise import SVD\n",
    "\n",
    "param_grid = {'n_factors': [10, 20, 30 ],\n",
    "              'n_epochs': [10, 20, 30 ],\n",
    "              'biased': [True, False]\n",
    "              }\n",
    "\n",
    "gsSVD = GridSearchCV(SVD, \n",
    "                     param_grid, \n",
    "                     measures=['rmse'], \n",
    "                     cv=5,\n",
    "                     refit=True,\n",
    "                     n_jobs=-1,\n",
    "                     joblib_verbose = 2)\n",
    "\n",
    "gsSVD.fit(data)"
   ]
  },
  {
   "cell_type": "code",
   "execution_count": 30,
   "metadata": {},
   "outputs": [
    {
     "name": "stdout",
     "output_type": "stream",
     "text": [
      "0.75291705297167\n",
      "{'n_factors': 30, 'n_epochs': 30, 'biased': True}\n"
     ]
    }
   ],
   "source": [
    "# best RMSE score\n",
    "print(gsSVD.best_score['rmse'])\n",
    "\n",
    "# combination of parameters that gave the best RMSE score\n",
    "print(gsSVD.best_params['rmse'])"
   ]
  },
  {
   "cell_type": "code",
   "execution_count": 31,
   "metadata": {},
   "outputs": [
    {
     "name": "stdout",
     "output_type": "stream",
     "text": [
      "Unbiased accuracy on unbiased testData, RMSE: 0.7567\n"
     ]
    }
   ],
   "source": [
    "algo = gsSVD.best_estimator['rmse']\n",
    "trainset = data.construct_trainset(train_raw_ratings)\n",
    "algo.fit(trainset)\n",
    "\n",
    "# Predecimos los ratings sobre los datos de test\n",
    "testset = data.construct_testset(test_raw_ratings)\n",
    "predictions = algo.test(testset)\n",
    "\n",
    "print('Unbiased accuracy on unbiased testData,', end=' ')\n",
    "acc = accuracy.rmse(predictions, verbose=True)\n"
   ]
  },
  {
   "cell_type": "code",
   "execution_count": 32,
   "metadata": {},
   "outputs": [
    {
     "name": "stdout",
     "output_type": "stream",
     "text": [
      "RMSE: 0.7525\n",
      "RMSE: 0.7635\n",
      "RMSE: 0.7336\n",
      "RMSE: 0.7489\n",
      "RMSE: 0.7591\n"
     ]
    }
   ],
   "source": [
    "rmseSVD = []\n",
    "\n",
    "# define a cross-validation iterator\n",
    "kf = KFold(n_splits=5)\n",
    "\n",
    "for trainset, testset in kf.split(data):\n",
    "\n",
    "    # train and test algorithm.\n",
    "    algo.fit(trainset)\n",
    "    predictions = algo.test(testset)\n",
    "\n",
    "    # Compute and print Root Mean Squared Error\n",
    "    acc = accuracy.rmse(predictions, verbose=True)\n",
    "    \n",
    "    rmseSVD.append(acc)"
   ]
  },
  {
   "cell_type": "markdown",
   "metadata": {},
   "source": [
    "<h3>Algoritmo SlopeOne</h3>"
   ]
  },
  {
   "cell_type": "code",
   "execution_count": 33,
   "metadata": {},
   "outputs": [],
   "source": [
    "# data ahora tendrá los datos de training\n",
    "data.raw_ratings = train_raw_ratings"
   ]
  },
  {
   "cell_type": "code",
   "execution_count": 34,
   "metadata": {},
   "outputs": [
    {
     "name": "stderr",
     "output_type": "stream",
     "text": [
      "[Parallel(n_jobs=-1)]: Using backend LokyBackend with 6 concurrent workers.\n",
      "[Parallel(n_jobs=-1)]: Done   3 out of   5 | elapsed:    1.4s remaining:    0.9s\n",
      "[Parallel(n_jobs=-1)]: Done   5 out of   5 | elapsed:    1.8s finished\n"
     ]
    }
   ],
   "source": [
    "from surprise import SlopeOne\n",
    "\n",
    "param_grid = {}\n",
    "\n",
    "gsSlopeOne = GridSearchCV(SlopeOne, \n",
    "                     param_grid, \n",
    "                     measures=['rmse'], \n",
    "                     cv=5,\n",
    "                     refit=True,\n",
    "                     n_jobs=-1,\n",
    "                     joblib_verbose = 2)\n",
    "\n",
    "gsSlopeOne.fit(data)"
   ]
  },
  {
   "cell_type": "code",
   "execution_count": 35,
   "metadata": {},
   "outputs": [
    {
     "name": "stdout",
     "output_type": "stream",
     "text": [
      "0.8583230515334384\n",
      "{}\n"
     ]
    }
   ],
   "source": [
    "# best RMSE score\n",
    "print(gsSlopeOne.best_score['rmse'])\n",
    "\n",
    "# combination of parameters that gave the best RMSE score\n",
    "print(gsSlopeOne.best_params['rmse'])"
   ]
  },
  {
   "cell_type": "code",
   "execution_count": 36,
   "metadata": {},
   "outputs": [
    {
     "name": "stdout",
     "output_type": "stream",
     "text": [
      "Unbiased accuracy on unbiased testData, RMSE: 0.8577\n"
     ]
    }
   ],
   "source": [
    "algo = gsSlopeOne.best_estimator['rmse']\n",
    "trainset = data.construct_trainset(train_raw_ratings)\n",
    "algo.fit(trainset)\n",
    "\n",
    "# Predecimos los ratings sobre los datos de test\n",
    "testset = data.construct_testset(test_raw_ratings)\n",
    "predictions = algo.test(testset)\n",
    "\n",
    "print('Unbiased accuracy on unbiased testData,', end=' ')\n",
    "acc = accuracy.rmse(predictions, verbose=True)"
   ]
  },
  {
   "cell_type": "code",
   "execution_count": 37,
   "metadata": {},
   "outputs": [
    {
     "name": "stdout",
     "output_type": "stream",
     "text": [
      "RMSE: 0.8702\n",
      "RMSE: 0.8556\n",
      "RMSE: 0.8578\n",
      "RMSE: 0.8627\n",
      "RMSE: 0.8287\n"
     ]
    }
   ],
   "source": [
    "rmseSlopeOne = []\n",
    "\n",
    "# define a cross-validation iterator\n",
    "kf = KFold(n_splits=5)\n",
    "\n",
    "for trainset, testset in kf.split(data):\n",
    "\n",
    "    # train and test algorithm.\n",
    "    algo.fit(trainset)\n",
    "    predictions = algo.test(testset)\n",
    "\n",
    "    # Compute and print Root Mean Squared Error\n",
    "    acc = accuracy.rmse(predictions, verbose=True)\n",
    "    \n",
    "    rmseSlopeOne.append(acc)"
   ]
  },
  {
   "cell_type": "markdown",
   "metadata": {},
   "source": [
    "<h3>Algoritmos basados en Co-Clustering</h3>"
   ]
  },
  {
   "cell_type": "code",
   "execution_count": 38,
   "metadata": {},
   "outputs": [],
   "source": [
    "# data ahora tendrá los datos de training\n",
    "data.raw_ratings = train_raw_ratings"
   ]
  },
  {
   "cell_type": "code",
   "execution_count": 39,
   "metadata": {},
   "outputs": [
    {
     "name": "stderr",
     "output_type": "stream",
     "text": [
      "[Parallel(n_jobs=-1)]: Using backend LokyBackend with 6 concurrent workers.\n",
      "[Parallel(n_jobs=-1)]: Done  30 out of  30 | elapsed:    6.6s finished\n"
     ]
    }
   ],
   "source": [
    "from surprise import CoClustering\n",
    "\n",
    "param_grid = {'n_epochs': [1, 5, 10, 20, 30, 50]\n",
    "              }\n",
    "\n",
    "gsCC = GridSearchCV(CoClustering, \n",
    "                     param_grid, \n",
    "                     measures=['rmse'], \n",
    "                     cv=5,\n",
    "                     n_jobs=-1,\n",
    "                     joblib_verbose = 2)\n",
    "\n",
    "gsCC.fit(data)"
   ]
  },
  {
   "cell_type": "code",
   "execution_count": 40,
   "metadata": {},
   "outputs": [
    {
     "name": "stdout",
     "output_type": "stream",
     "text": [
      "0.8927342065905902\n",
      "{'n_epochs': 10}\n"
     ]
    }
   ],
   "source": [
    "# best RMSE score\n",
    "print(gsCC.best_score['rmse'])\n",
    "\n",
    "# combination of parameters that gave the best RMSE score\n",
    "print(gsCC.best_params['rmse'])"
   ]
  },
  {
   "cell_type": "code",
   "execution_count": 41,
   "metadata": {},
   "outputs": [
    {
     "name": "stdout",
     "output_type": "stream",
     "text": [
      "Unbiased accuracy on unbiased testData, RMSE: 0.8977\n"
     ]
    }
   ],
   "source": [
    "algo = gsCC.best_estimator['rmse']\n",
    "trainset = data.construct_trainset(train_raw_ratings)\n",
    "algo.fit(trainset)\n",
    "\n",
    "# Predecimos los ratings sobre los datos de test\n",
    "testset = data.construct_testset(test_raw_ratings)\n",
    "predictions = algo.test(testset)\n",
    "\n",
    "print('Unbiased accuracy on unbiased testData,', end=' ')\n",
    "acc = accuracy.rmse(predictions, verbose=True)"
   ]
  },
  {
   "cell_type": "code",
   "execution_count": 42,
   "metadata": {},
   "outputs": [
    {
     "name": "stdout",
     "output_type": "stream",
     "text": [
      "RMSE: 0.8851\n",
      "RMSE: 0.8831\n",
      "RMSE: 0.9177\n",
      "RMSE: 0.9098\n",
      "RMSE: 0.9002\n"
     ]
    }
   ],
   "source": [
    "rmseCC = []\n",
    "\n",
    "# define a cross-validation iterator\n",
    "kf = KFold(n_splits=5)\n",
    "\n",
    "for trainset, testset in kf.split(data):\n",
    "\n",
    "    # train and test algorithm.\n",
    "    algo.fit(trainset)\n",
    "    predictions = algo.test(testset)\n",
    "\n",
    "    # Compute and print Root Mean Squared Error\n",
    "    acc = accuracy.rmse(predictions, verbose=True)\n",
    "    \n",
    "    rmseCC.append(acc)"
   ]
  },
  {
   "cell_type": "markdown",
   "metadata": {},
   "source": [
    "<h2>Graficamos los resultados de los modelos generados.</h2>"
   ]
  },
  {
   "cell_type": "code",
   "execution_count": 43,
   "metadata": {
    "scrolled": true
   },
   "outputs": [
    {
     "data": {
      "image/png": "[encoded data removed]",
      "text/plain": [
       "<Figure size 432x288 with 1 Axes>"
      ]
     },
     "metadata": {
      "needs_background": "light"
     },
     "output_type": "display_data"
    }
   ],
   "source": [
    "#plotting the prediction data:\n",
    "import matplotlib.pyplot as plt\n",
    "for prediction in range(0,1):\n",
    "    modelPrediction = plt.plot(rmseKNN,label='KNNBaseline')\n",
    "    modelPrediction = plt.plot(rmseSVD,label='SVD')\n",
    "    modelPrediction = plt.plot(rmseSlopeOne,label='SlopeOne')\n",
    "    modelPrediction = plt.plot(rmseCC,label='CoClustering')\n",
    "\n",
    "    modelPrediction = plt.xlabel('folds')\n",
    "    modelPrediction = plt.ylabel('rmse accuracy')\n",
    "    plt.legend(bbox_to_anchor=(1.05, 1), loc=2, borderaxespad=0.)"
   ]
  },
  {
   "cell_type": "markdown",
   "metadata": {},
   "source": [
    "<h2>Nos quedamos con los algoritmos KNN</h2>\n",
    "\n",
    "<p>Vamos a analizar cuál de las cuatro variantes que nos ofrece Surprise es la que mejores resultados da.</p>"
   ]
  },
  {
   "cell_type": "code",
   "execution_count": 44,
   "metadata": {},
   "outputs": [],
   "source": [
    "# data ahora tendrá los datos de training\n",
    "data.raw_ratings = train_raw_ratings"
   ]
  },
  {
   "cell_type": "markdown",
   "metadata": {},
   "source": [
    "<h3>KNNBasic</h3>"
   ]
  },
  {
   "cell_type": "code",
   "execution_count": 45,
   "metadata": {},
   "outputs": [
    {
     "name": "stderr",
     "output_type": "stream",
     "text": [
      "[Parallel(n_jobs=-1)]: Using backend LokyBackend with 6 concurrent workers.\n",
      "[Parallel(n_jobs=-1)]: Done  29 tasks      | elapsed:   14.8s\n",
      "[Parallel(n_jobs=-1)]: Done 150 tasks      | elapsed:   59.2s\n",
      "[Parallel(n_jobs=-1)]: Done 353 tasks      | elapsed:  2.3min\n",
      "[Parallel(n_jobs=-1)]: Done 636 tasks      | elapsed:  4.1min\n",
      "[Parallel(n_jobs=-1)]: Done 840 out of 840 | elapsed:  5.4min finished\n"
     ]
    }
   ],
   "source": [
    "from surprise import KNNBasic\n",
    "\n",
    "param_grid = {'bsl_options': {'method': ['als', 'sgd'],\n",
    "                              'reg': [1, 2]},\n",
    "              'k': [2, 3, 5, 10, 20, 40, 50],\n",
    "              'sim_options': {'name': ['msd', 'cosine', 'pearson_baseline'],\n",
    "                              'min_support': [1, 5],\n",
    "                              'user_based': [False]}\n",
    "              }\n",
    "\n",
    "# param_grid = {\n",
    "#               'k': [40],\n",
    "#                 'sim_options': {'name': ['msd', 'pearson_baseline', 'cosine'],\n",
    "#                               'user_based': [False]}\n",
    "#               }\n",
    "\n",
    "gsKNNBasic = GridSearchCV(KNNBasic, \n",
    "                     param_grid, \n",
    "                     measures=['rmse'], \n",
    "                     cv=5,\n",
    "                     n_jobs=-1,\n",
    "                     joblib_verbose = 2)\n",
    "\n",
    "gsKNNBasic.fit(data)"
   ]
  },
  {
   "cell_type": "code",
   "execution_count": 46,
   "metadata": {},
   "outputs": [
    {
     "name": "stdout",
     "output_type": "stream",
     "text": [
      "0.844103090595004\n",
      "{'bsl_options': {'method': 'sgd', 'reg': 2}, 'k': 5, 'sim_options': {'name': 'pearson_baseline', 'min_support': 1, 'user_based': False}}\n"
     ]
    }
   ],
   "source": [
    "# best RMSE score\n",
    "print(gsKNNBasic.best_score['rmse'])\n",
    "\n",
    "# combination of parameters that gave the best RMSE score\n",
    "print(gsKNNBasic.best_params['rmse'])"
   ]
  },
  {
   "cell_type": "code",
   "execution_count": 47,
   "metadata": {},
   "outputs": [
    {
     "name": "stdout",
     "output_type": "stream",
     "text": [
      "Estimating biases using sgd...\n",
      "Computing the pearson_baseline similarity matrix...\n",
      "Done computing similarity matrix.\n",
      "Unbiased accuracy on unbiased testData, RMSE: 0.8407\n"
     ]
    }
   ],
   "source": [
    "algoBasic = gsKNNBasic.best_estimator['rmse']\n",
    "trainset = data.construct_trainset(train_raw_ratings)\n",
    "algoBasic.fit(trainset)\n",
    "\n",
    "# Predecimos los ratings sobre los datos de test\n",
    "testset = data.construct_testset(test_raw_ratings)\n",
    "predictions = algoBasic.test(testset)\n",
    "\n",
    "print('Unbiased accuracy on unbiased testData,', end=' ')\n",
    "acc = accuracy.rmse(predictions, verbose=True)"
   ]
  },
  {
   "cell_type": "code",
   "execution_count": 48,
   "metadata": {
    "scrolled": true
   },
   "outputs": [
    {
     "name": "stdout",
     "output_type": "stream",
     "text": [
      "Estimating biases using sgd...\n",
      "Computing the pearson_baseline similarity matrix...\n",
      "Done computing similarity matrix.\n",
      "RMSE: 0.8520\n",
      "Estimating biases using sgd...\n",
      "Computing the pearson_baseline similarity matrix...\n",
      "Done computing similarity matrix.\n",
      "RMSE: 0.8434\n",
      "Estimating biases using sgd...\n",
      "Computing the pearson_baseline similarity matrix...\n",
      "Done computing similarity matrix.\n",
      "RMSE: 0.8461\n",
      "Estimating biases using sgd...\n",
      "Computing the pearson_baseline similarity matrix...\n",
      "Done computing similarity matrix.\n",
      "RMSE: 0.8327\n",
      "Estimating biases using sgd...\n",
      "Computing the pearson_baseline similarity matrix...\n",
      "Done computing similarity matrix.\n",
      "RMSE: 0.8455\n"
     ]
    }
   ],
   "source": [
    "rmseKNNBasic = []\n",
    "\n",
    "# define a cross-validation iterator\n",
    "kf = KFold(n_splits=5)\n",
    "\n",
    "for trainset, testset in kf.split(data):\n",
    "\n",
    "    # train and test algorithm.\n",
    "    algoBasic.fit(trainset)\n",
    "    predictions = algoBasic.test(testset)\n",
    "\n",
    "    # Compute and print Root Mean Squared Error\n",
    "    acc = accuracy.rmse(predictions, verbose=True)\n",
    "    \n",
    "    rmseKNNBasic.append(acc)"
   ]
  },
  {
   "cell_type": "markdown",
   "metadata": {},
   "source": [
    "<h3>KNNWithMeans</h3>"
   ]
  },
  {
   "cell_type": "code",
   "execution_count": 49,
   "metadata": {},
   "outputs": [],
   "source": [
    "# data ahora tendrá los datos de training\n",
    "data.raw_ratings = train_raw_ratings"
   ]
  },
  {
   "cell_type": "code",
   "execution_count": 50,
   "metadata": {},
   "outputs": [
    {
     "name": "stderr",
     "output_type": "stream",
     "text": [
      "[Parallel(n_jobs=-1)]: Using backend LokyBackend with 6 concurrent workers.\n",
      "[Parallel(n_jobs=-1)]: Done  29 tasks      | elapsed:   12.6s\n",
      "[Parallel(n_jobs=-1)]: Done 150 tasks      | elapsed:   56.3s\n",
      "[Parallel(n_jobs=-1)]: Done 353 tasks      | elapsed:  2.2min\n",
      "[Parallel(n_jobs=-1)]: Done 636 tasks      | elapsed:  3.9min\n",
      "[Parallel(n_jobs=-1)]: Done 840 out of 840 | elapsed:  5.1min finished\n"
     ]
    }
   ],
   "source": [
    "from surprise import KNNWithMeans\n",
    "\n",
    "param_grid = {'bsl_options': {'method': ['als', 'sgd'],\n",
    "                              'reg': [1, 2]},\n",
    "              'k': [2, 3, 5, 10, 20, 40, 50],\n",
    "              'sim_options': {'name': ['msd', 'cosine', 'pearson_baseline'],\n",
    "                              'min_support': [1, 5],\n",
    "                              'user_based': [False]}\n",
    "              }\n",
    "\n",
    "# param_grid = {\n",
    "#               'k': [40],\n",
    "#                 'sim_options': {'name': ['msd', 'pearson_baseline', 'cosine'],\n",
    "#                               'user_based': [False]}\n",
    "#               }\n",
    "\n",
    "gsKNNWithMeans = GridSearchCV(KNNWithMeans, \n",
    "                     param_grid, \n",
    "                     measures=['rmse'], \n",
    "                     cv=5,\n",
    "                     n_jobs=-1,\n",
    "                     joblib_verbose = 2)\n",
    "\n",
    "gsKNNWithMeans.fit(data)"
   ]
  },
  {
   "cell_type": "code",
   "execution_count": 51,
   "metadata": {},
   "outputs": [
    {
     "name": "stdout",
     "output_type": "stream",
     "text": [
      "0.891309513697348\n",
      "{'bsl_options': {'method': 'als', 'reg': 1}, 'k': 3, 'sim_options': {'name': 'msd', 'min_support': 1, 'user_based': False}}\n"
     ]
    }
   ],
   "source": [
    "# best RMSE score\n",
    "print(gsKNNWithMeans.best_score['rmse'])\n",
    "\n",
    "# combination of parameters that gave the best RMSE score\n",
    "print(gsKNNWithMeans.best_params['rmse'])"
   ]
  },
  {
   "cell_type": "code",
   "execution_count": 52,
   "metadata": {},
   "outputs": [
    {
     "name": "stdout",
     "output_type": "stream",
     "text": [
      "Computing the msd similarity matrix...\n",
      "Done computing similarity matrix.\n",
      "Unbiased accuracy on unbiased testData, RMSE: 0.8863\n"
     ]
    }
   ],
   "source": [
    "algoWithMeans = gsKNNWithMeans.best_estimator['rmse']\n",
    "trainset = data.construct_trainset(train_raw_ratings)\n",
    "algoWithMeans.fit(trainset)\n",
    "\n",
    "# Predecimos los ratings sobre los datos de test\n",
    "testset = data.construct_testset(test_raw_ratings)\n",
    "predictions = algoWithMeans.test(testset)\n",
    "\n",
    "print('Unbiased accuracy on unbiased testData,', end=' ')\n",
    "acc = accuracy.rmse(predictions, verbose=True)"
   ]
  },
  {
   "cell_type": "code",
   "execution_count": 53,
   "metadata": {},
   "outputs": [
    {
     "name": "stdout",
     "output_type": "stream",
     "text": [
      "Computing the msd similarity matrix...\n",
      "Done computing similarity matrix.\n",
      "RMSE: 0.8689\n",
      "Computing the msd similarity matrix...\n",
      "Done computing similarity matrix.\n",
      "RMSE: 0.8919\n",
      "Computing the msd similarity matrix...\n",
      "Done computing similarity matrix.\n",
      "RMSE: 0.9050\n",
      "Computing the msd similarity matrix...\n",
      "Done computing similarity matrix.\n",
      "RMSE: 0.9156\n",
      "Computing the msd similarity matrix...\n",
      "Done computing similarity matrix.\n",
      "RMSE: 0.8899\n"
     ]
    }
   ],
   "source": [
    "rmseKNNWithMeans = []\n",
    "\n",
    "# define a cross-validation iterator\n",
    "kf = KFold(n_splits=5)\n",
    "\n",
    "for trainset, testset in kf.split(data):\n",
    "\n",
    "    # train and test algorithm.\n",
    "    algoWithMeans.fit(trainset)\n",
    "    predictions = algoWithMeans.test(testset)\n",
    "\n",
    "    # Compute and print Root Mean Squared Error\n",
    "    acc = accuracy.rmse(predictions, verbose=True)\n",
    "    \n",
    "    rmseKNNWithMeans.append(acc)"
   ]
  },
  {
   "cell_type": "markdown",
   "metadata": {},
   "source": [
    "<h3>KNNWithZScore</h3>"
   ]
  },
  {
   "cell_type": "code",
   "execution_count": 55,
   "metadata": {},
   "outputs": [],
   "source": [
    "# data ahora tendrá los datos de training\n",
    "data.raw_ratings = train_raw_ratings"
   ]
  },
  {
   "cell_type": "code",
   "execution_count": 56,
   "metadata": {},
   "outputs": [
    {
     "name": "stderr",
     "output_type": "stream",
     "text": [
      "[Parallel(n_jobs=-1)]: Using backend LokyBackend with 6 concurrent workers.\n",
      "[Parallel(n_jobs=-1)]: Done  29 tasks      | elapsed:   12.7s\n",
      "[Parallel(n_jobs=-1)]: Done 150 tasks      | elapsed:   58.9s\n",
      "[Parallel(n_jobs=-1)]: Done 353 tasks      | elapsed:  2.3min\n",
      "[Parallel(n_jobs=-1)]: Done 636 tasks      | elapsed:  4.0min\n",
      "[Parallel(n_jobs=-1)]: Done 840 out of 840 | elapsed:  5.3min finished\n"
     ]
    }
   ],
   "source": [
    "from surprise import KNNWithZScore\n",
    "\n",
    "param_grid = {'bsl_options': {'method': ['als', 'sgd'],\n",
    "                              'reg': [1, 2]},\n",
    "              'k': [2, 3, 5, 10, 20, 40, 50],\n",
    "              'sim_options': {'name': ['msd', 'cosine', 'pearson_baseline'],\n",
    "                              'min_support': [1, 5],\n",
    "                              'user_based': [False]}\n",
    "              }\n",
    "\n",
    "# param_grid = {\n",
    "#               'k': [40],\n",
    "#                 'sim_options': {'name': ['msd', 'pearson_baseline', 'cosine'],\n",
    "#                               'user_based': [False]}\n",
    "#               }\n",
    "\n",
    "gsKNNWithZScore = GridSearchCV(KNNWithZScore, \n",
    "                     param_grid, \n",
    "                     measures=['rmse'], \n",
    "                     cv=5,\n",
    "                     n_jobs=-1,\n",
    "                     joblib_verbose = 2)\n",
    "\n",
    "gsKNNWithZScore.fit(data)"
   ]
  },
  {
   "cell_type": "code",
   "execution_count": 57,
   "metadata": {
    "scrolled": true
   },
   "outputs": [
    {
     "name": "stdout",
     "output_type": "stream",
     "text": [
      "0.8871742381607135\n",
      "{'bsl_options': {'method': 'als', 'reg': 1}, 'k': 3, 'sim_options': {'name': 'msd', 'min_support': 1, 'user_based': False}}\n"
     ]
    }
   ],
   "source": [
    "# best RMSE score\n",
    "print(gsKNNWithZScore.best_score['rmse'])\n",
    "\n",
    "# combination of parameters that gave the best RMSE score\n",
    "print(gsKNNWithZScore.best_params['rmse'])"
   ]
  },
  {
   "cell_type": "code",
   "execution_count": 58,
   "metadata": {},
   "outputs": [
    {
     "name": "stdout",
     "output_type": "stream",
     "text": [
      "Computing the msd similarity matrix...\n",
      "Done computing similarity matrix.\n",
      "Unbiased accuracy on unbiased testData, RMSE: 0.8891\n"
     ]
    }
   ],
   "source": [
    "algoKNNWithZScore = gsKNNWithZScore.best_estimator['rmse']\n",
    "trainset = data.construct_trainset(train_raw_ratings)\n",
    "algoKNNWithZScore.fit(trainset)\n",
    "\n",
    "# Predecimos los ratings sobre los datos de test\n",
    "testset = data.construct_testset(test_raw_ratings)\n",
    "predictions = algoKNNWithZScore.test(testset)\n",
    "\n",
    "print('Unbiased accuracy on unbiased testData,', end=' ')\n",
    "acc = accuracy.rmse(predictions, verbose=True)"
   ]
  },
  {
   "cell_type": "code",
   "execution_count": 59,
   "metadata": {},
   "outputs": [
    {
     "name": "stdout",
     "output_type": "stream",
     "text": [
      "Computing the msd similarity matrix...\n",
      "Done computing similarity matrix.\n",
      "RMSE: 0.8839\n",
      "Computing the msd similarity matrix...\n",
      "Done computing similarity matrix.\n",
      "RMSE: 0.8860\n",
      "Computing the msd similarity matrix...\n",
      "Done computing similarity matrix.\n",
      "RMSE: 0.8938\n",
      "Computing the msd similarity matrix...\n",
      "Done computing similarity matrix.\n",
      "RMSE: 0.8871\n",
      "Computing the msd similarity matrix...\n",
      "Done computing similarity matrix.\n",
      "RMSE: 0.9043\n"
     ]
    }
   ],
   "source": [
    "rmseKNNWithZScore = []\n",
    "\n",
    "# define a cross-validation iterator\n",
    "kf = KFold(n_splits=5)\n",
    "\n",
    "for trainset, testset in kf.split(data):\n",
    "\n",
    "    # train and test algorithm.\n",
    "    algoKNNWithZScore.fit(trainset)\n",
    "    predictions = algoKNNWithZScore.test(testset)\n",
    "\n",
    "    # Compute and print Root Mean Squared Error\n",
    "    acc = accuracy.rmse(predictions, verbose=True)\n",
    "    \n",
    "    rmseKNNWithZScore.append(acc)"
   ]
  },
  {
   "cell_type": "markdown",
   "metadata": {},
   "source": [
    "<h3>KNNBaseline</h3>"
   ]
  },
  {
   "cell_type": "code",
   "execution_count": 92,
   "metadata": {},
   "outputs": [],
   "source": [
    "# data ahora tendrá los datos de training\n",
    "data.raw_ratings = train_raw_ratings"
   ]
  },
  {
   "cell_type": "code",
   "execution_count": 93,
   "metadata": {},
   "outputs": [
    {
     "name": "stderr",
     "output_type": "stream",
     "text": [
      "[Parallel(n_jobs=-1)]: Using backend LokyBackend with 6 concurrent workers.\n",
      "[Parallel(n_jobs=-1)]: Done  12 out of  15 | elapsed:    6.1s remaining:    1.4s\n",
      "[Parallel(n_jobs=-1)]: Done  15 out of  15 | elapsed:    6.9s finished\n"
     ]
    }
   ],
   "source": [
    "from surprise import KNNBaseline\n",
    "\n",
    "param_grid = {'bsl_options': {'method': ['als', 'sgd'],\n",
    "                              'reg': [1, 2]},\n",
    "              'k': [2, 3, 5, 10, 20, 40, 50],\n",
    "              'sim_options': {'name': ['msd', 'cosine', 'pearson_baseline'],\n",
    "                              'min_support': [1, 5],\n",
    "                              'user_based': [False]}\n",
    "              }\n",
    "\n",
    "# param_grid = {\n",
    "#               'k': [40],\n",
    "#                 'sim_options': {'name': ['msd', 'pearson_baseline', 'cosine'],\n",
    "#                               'user_based': [False]}\n",
    "#               }\n",
    "\n",
    "gsKNNBaseline = GridSearchCV(KNNBaseline, \n",
    "                     param_grid, \n",
    "                     measures=['rmse'], \n",
    "                     cv=5,\n",
    "                     n_jobs=-1,\n",
    "                     joblib_verbose = 2)\n",
    "\n",
    "gsKNNBaseline.fit(data)\n"
   ]
  },
  {
   "cell_type": "code",
   "execution_count": 94,
   "metadata": {},
   "outputs": [
    {
     "name": "stdout",
     "output_type": "stream",
     "text": [
      "0.7363008926610746\n",
      "{'k': 40, 'sim_options': {'name': 'pearson_baseline', 'user_based': False}}\n"
     ]
    }
   ],
   "source": [
    "# best RMSE score\n",
    "print(gsKNNBaseline.best_score['rmse'])\n",
    "\n",
    "# combination of parameters that gave the best RMSE score\n",
    "print(gsKNNBaseline.best_params['rmse'])"
   ]
  },
  {
   "cell_type": "code",
   "execution_count": 95,
   "metadata": {},
   "outputs": [
    {
     "name": "stdout",
     "output_type": "stream",
     "text": [
      "Estimating biases using als...\n",
      "Computing the pearson_baseline similarity matrix...\n",
      "Done computing similarity matrix.\n",
      "Unbiased accuracy on unbiased testData, RMSE: 0.7352\n"
     ]
    }
   ],
   "source": [
    "algoKNNBaseline = gsKNNBaseline.best_estimator['rmse']\n",
    "trainset = data.construct_trainset(train_raw_ratings)\n",
    "algoKNNBaseline.fit(trainset)\n",
    "\n",
    "# Predecimos los ratings sobre los datos de test\n",
    "testset = data.construct_testset(test_raw_ratings)\n",
    "predictions = algoKNNBaseline.test(testset)\n",
    "\n",
    "print('Unbiased accuracy on unbiased testData,', end=' ')\n",
    "acc = accuracy.rmse(predictions, verbose=True)"
   ]
  },
  {
   "cell_type": "code",
   "execution_count": 96,
   "metadata": {},
   "outputs": [
    {
     "name": "stdout",
     "output_type": "stream",
     "text": [
      "Estimating biases using als...\n",
      "Computing the pearson_baseline similarity matrix...\n",
      "Done computing similarity matrix.\n",
      "RMSE: 0.7229\n",
      "Estimating biases using als...\n",
      "Computing the pearson_baseline similarity matrix...\n",
      "Done computing similarity matrix.\n",
      "RMSE: 0.7515\n",
      "Estimating biases using als...\n",
      "Computing the pearson_baseline similarity matrix...\n",
      "Done computing similarity matrix.\n",
      "RMSE: 0.7271\n",
      "Estimating biases using als...\n",
      "Computing the pearson_baseline similarity matrix...\n",
      "Done computing similarity matrix.\n",
      "RMSE: 0.7405\n",
      "Estimating biases using als...\n",
      "Computing the pearson_baseline similarity matrix...\n",
      "Done computing similarity matrix.\n",
      "RMSE: 0.7333\n"
     ]
    }
   ],
   "source": [
    "rmseKNNBaseline = []\n",
    "\n",
    "# define a cross-validation iterator\n",
    "kf = KFold(n_splits=5)\n",
    "\n",
    "for trainset, testset in kf.split(data):\n",
    "\n",
    "    # train and test algorithm.\n",
    "    algoKNNBaseline.fit(trainset)\n",
    "    predictions = algoKNNBaseline.test(testset)\n",
    "\n",
    "    # Compute and print Root Mean Squared Error\n",
    "    acc = accuracy.rmse(predictions, verbose=True)\n",
    "    \n",
    "    rmseKNNBaseline.append(acc)"
   ]
  },
  {
   "cell_type": "markdown",
   "metadata": {},
   "source": [
    "<h3>Graficamos los errores de las diferentes variantes del algoritmo KNN</h3>"
   ]
  },
  {
   "cell_type": "code",
   "execution_count": 65,
   "metadata": {},
   "outputs": [
    {
     "data": {
      "image/png": "[encoded data removed]",
      "text/plain": [
       "<Figure size 432x288 with 1 Axes>"
      ]
     },
     "metadata": {
      "needs_background": "light"
     },
     "output_type": "display_data"
    }
   ],
   "source": [
    "#plotting the prediction data:\n",
    "import matplotlib.pyplot as plt\n",
    "for prediction in range(0,1):\n",
    "    modelPrediction = plt.plot(rmseKNNBasic,label='KNNBasic')\n",
    "    modelPrediction = plt.plot(rmseKNNWithMeans,label='KNNWithMeans')\n",
    "    modelPrediction = plt.plot(rmseKNNWithZScore,label='KNNWithZScore')\n",
    "    modelPrediction = plt.plot(rmseKNNBaseline,label='KNNBaseline')\n",
    "\n",
    "    modelPrediction = plt.xlabel('folds')\n",
    "    modelPrediction = plt.ylabel('rmse accuracy')\n",
    "    plt.legend(bbox_to_anchor=(1.05, 1), loc=2, borderaxespad=0.)"
   ]
  },
  {
   "cell_type": "code",
   "execution_count": 117,
   "metadata": {},
   "outputs": [],
   "source": [
    "bestAlgo = algoKNNBaseline"
   ]
  },
  {
   "cell_type": "markdown",
   "metadata": {},
   "source": [
    "<h2>Finalmente, obtenemos las recomendaciones.</h2>"
   ]
  },
  {
   "cell_type": "code",
   "execution_count": 118,
   "metadata": {},
   "outputs": [],
   "source": [
    "def read_item_names():\n",
    "    \"\"\"Read the u.item file from MovieLens 100-k dataset and return two\n",
    "    mappings to convert raw ids into movie names and movie names into raw ids.\n",
    "    \"\"\"\n",
    "\n",
    "    file_name = os.path.expanduser('../TFM Files/CLB2/idTitleList.csv')\n",
    "    rid_to_name = {}\n",
    "    name_to_rid = {}\n",
    "    with io.open(file_name, 'r', encoding='ISO-8859-1') as f:\n",
    "        for line in f:\n",
    "            line = line.split(',')\n",
    "            master_id = line[0]\n",
    "            title = line[1].rstrip('\\n')\n",
    "            rid_to_name[master_id] = title\n",
    "            name_to_rid[title] = master_id\n",
    "\n",
    "    return rid_to_name, name_to_rid"
   ]
  },
  {
   "cell_type": "code",
   "execution_count": 119,
   "metadata": {},
   "outputs": [],
   "source": [
    "# Read the mappings raw id <-> movie name\n",
    "rid_to_name, name_to_rid = read_item_names()"
   ]
  },
  {
   "cell_type": "code",
   "execution_count": 120,
   "metadata": {},
   "outputs": [],
   "source": [
    "# Utilizamos el release con más votaciones para tener mejores recomendaciones\n",
    "release_raw_id = name_to_rid['Per Un Amico']\n",
    "release_inner_id = bestAlgo.trainset.to_inner_iid(release_raw_id)"
   ]
  },
  {
   "cell_type": "code",
   "execution_count": 121,
   "metadata": {},
   "outputs": [
    {
     "data": {
      "text/plain": [
       "1132"
      ]
     },
     "execution_count": 121,
     "metadata": {},
     "output_type": "execute_result"
    }
   ],
   "source": [
    "release_inner_id"
   ]
  },
  {
   "cell_type": "code",
   "execution_count": 122,
   "metadata": {},
   "outputs": [],
   "source": [
    "# Retrieve inner ids of the nearest neighbors of the release.\n",
    "release_neighbors = bestAlgo.get_neighbors(release_inner_id, k=10)"
   ]
  },
  {
   "cell_type": "code",
   "execution_count": 123,
   "metadata": {},
   "outputs": [
    {
     "data": {
      "text/plain": [
       "[1574, 1313, 13, 374, 600, 946, 1853, 3758, 4259, 4290]"
      ]
     },
     "execution_count": 123,
     "metadata": {},
     "output_type": "execute_result"
    }
   ],
   "source": [
    "release_neighbors"
   ]
  },
  {
   "cell_type": "code",
   "execution_count": 124,
   "metadata": {},
   "outputs": [],
   "source": [
    "# Convert inner ids of the neighbors into names.\n",
    "release_neighbors = (bestAlgo.trainset.to_raw_iid(inner_id)\n",
    "                       for inner_id in release_neighbors)\n",
    "release_neighbors = (rid_to_name[rid]\n",
    "                       for rid in release_neighbors)"
   ]
  },
  {
   "cell_type": "code",
   "execution_count": 125,
   "metadata": {},
   "outputs": [
    {
     "name": "stdout",
     "output_type": "stream",
     "text": [
      "Las 10 recomendaciones para Per Un Amigo:\n",
      "Cameosis\n",
      "Even If You Don't\n",
      "Die Barke Mit Der GlÃÂ¤sernen Fracht\n",
      "( )\n",
      "QuotÃÂ¤reglÃÂ¤r\n",
      "Tunnel Trance Force Vol.57\n",
      "Get On Up\n",
      "Adagio Furioso\n",
      "Instinctual\n",
      "Eternal (New Remix Edition)\n"
     ]
    }
   ],
   "source": [
    "print('Las 10 recomendaciones para Per Un Amigo:')\n",
    "for title in release_neighbors:\n",
    "    print(title)"
   ]
  }
 ],
 "metadata": {
  "kernelspec": {
   "display_name": "Python 3",
   "language": "python",
   "name": "python3"
  },
  "language_info": {
   "codemirror_mode": {
    "name": "ipython",
    "version": 3
   },
   "file_extension": ".py",
   "mimetype": "text/x-python",
   "name": "python",
   "nbconvert_exporter": "python",
   "pygments_lexer": "ipython3",
   "version": "3.7.3"
  }
 },
 "nbformat": 4,
 "nbformat_minor": 2
}
