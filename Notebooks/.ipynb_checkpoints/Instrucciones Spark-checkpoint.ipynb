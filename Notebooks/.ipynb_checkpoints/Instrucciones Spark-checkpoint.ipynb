{
 "cells": [
  {
   "cell_type": "markdown",
   "metadata": {},
   "source": [
    "<h3>Crear nodo master de Spark</h3>\n",
    "<p>Abrir un cmd y: </p>\n",
    "\n",
    "C:\\SparkEnv\\Spark\\bin\\spark-class org.apache.spark.deploy.master.Master\n",
    "\n",
    "<p>Nos dará una dirección de IP y un puerto, que será el que tenemos que colocar en la configuración del SparkContext y como parámetro a la hora de crear un worker</p>\n",
    "\n",
    "<h3>Crear nodo worker de Spark</h3>\n",
    "<p>Abrir un cmd y: </p>\n",
    "\n",
    "C:\\SparkEnv\\Spark\\bin\\spark-class org.apache.spark.deploy.worker.Worker spark://192.168.2.132:7077\n",
    "\n",
    "Si queremos seleccionar el número de nucleos de cada worker y la memoria que utilizará cada uno, ponemos lo siguiente:\n",
    "\n",
    "C:\\SparkEnv\\Spark\\bin\\spark-class org.apache.spark.deploy.worker.Worker --cores 1 --memory 2g spark://192.168.2.132:7077\n",
    "\n",
    "<p>En caso de querer crear más de un worker, abrir un cmd y ejecutar tantas veces como workers se quieran</p>\n",
    "\n",
    "<h3>Trackeo de Spark</h3>\n",
    "<h4>Trackeo de los jobs y stages (ejecución del código)</h4>\n",
    "http://localhost:4040/jobs/\n",
    "\n",
    "<h4>Trackeo de los nodos en el cluster y la capacidad de computación asociada (procesador y memoria)</h4>\n",
    "http://192.168.56.1:8080"
   ]
  }
 ],
 "metadata": {
  "kernelspec": {
   "display_name": "Python 3",
   "language": "python",
   "name": "python3"
  },
  "language_info": {
   "codemirror_mode": {
    "name": "ipython",
    "version": 3
   },
   "file_extension": ".py",
   "mimetype": "text/x-python",
   "name": "python",
   "nbconvert_exporter": "python",
   "pygments_lexer": "ipython3",
   "version": "3.7.3"
  }
 },
 "nbformat": 4,
 "nbformat_minor": 2
}
