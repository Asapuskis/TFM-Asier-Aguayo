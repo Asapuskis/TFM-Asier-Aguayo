{
 "cells": [
  {
   "cell_type": "markdown",
   "metadata": {},
   "source": [
    "Carga del fichero json con los username de Discogs y elimininación de duplicados para buscar sus ratings."
   ]
  },
  {
   "cell_type": "code",
   "execution_count": 1,
   "metadata": {},
   "outputs": [],
   "source": [
    "import pandas as pd"
   ]
  },
  {
   "cell_type": "code",
   "execution_count": 7,
   "metadata": {
    "scrolled": true
   },
   "outputs": [
    {
     "name": "stdout",
     "output_type": "stream",
     "text": [
      "Número de usuarios (con repetidos):  username    41351\n",
      "dtype: int64\n",
      "Número de usuarios:  username    4773\n",
      "dtype: int64\n"
     ]
    },
    {
     "data": {
      "text/html": [
       "<div>\n",
       "<style scoped>\n",
       "    .dataframe tbody tr th:only-of-type {\n",
       "        vertical-align: middle;\n",
       "    }\n",
       "\n",
       "    .dataframe tbody tr th {\n",
       "        vertical-align: top;\n",
       "    }\n",
       "\n",
       "    .dataframe thead th {\n",
       "        text-align: right;\n",
       "    }\n",
       "</style>\n",
       "<table border=\"1\" class=\"dataframe\">\n",
       "  <thead>\n",
       "    <tr style=\"text-align: right;\">\n",
       "      <th></th>\n",
       "      <th>username</th>\n",
       "    </tr>\n",
       "  </thead>\n",
       "  <tbody>\n",
       "    <tr>\n",
       "      <th>0</th>\n",
       "      <td>andygrayrecords</td>\n",
       "    </tr>\n",
       "    <tr>\n",
       "      <th>1</th>\n",
       "      <td>nerdfly</td>\n",
       "    </tr>\n",
       "    <tr>\n",
       "      <th>2</th>\n",
       "      <td>DarreLP</td>\n",
       "    </tr>\n",
       "    <tr>\n",
       "      <th>3</th>\n",
       "      <td>SchusterBach</td>\n",
       "    </tr>\n",
       "    <tr>\n",
       "      <th>4</th>\n",
       "      <td>radiojohn</td>\n",
       "    </tr>\n",
       "    <tr>\n",
       "      <th>5</th>\n",
       "      <td>Tokeowave</td>\n",
       "    </tr>\n",
       "    <tr>\n",
       "      <th>6</th>\n",
       "      <td>Justinjoey1</td>\n",
       "    </tr>\n",
       "    <tr>\n",
       "      <th>7</th>\n",
       "      <td>flipster</td>\n",
       "    </tr>\n",
       "    <tr>\n",
       "      <th>10</th>\n",
       "      <td>HalberDirk</td>\n",
       "    </tr>\n",
       "    <tr>\n",
       "      <th>12</th>\n",
       "      <td>Earjerk</td>\n",
       "    </tr>\n",
       "    <tr>\n",
       "      <th>13</th>\n",
       "      <td>pdxmusic</td>\n",
       "    </tr>\n",
       "    <tr>\n",
       "      <th>14</th>\n",
       "      <td>bluebelle</td>\n",
       "    </tr>\n",
       "    <tr>\n",
       "      <th>15</th>\n",
       "      <td>IkEcht</td>\n",
       "    </tr>\n",
       "    <tr>\n",
       "      <th>16</th>\n",
       "      <td>presuminged</td>\n",
       "    </tr>\n",
       "    <tr>\n",
       "      <th>17</th>\n",
       "      <td>PabloPlato</td>\n",
       "    </tr>\n",
       "    <tr>\n",
       "      <th>18</th>\n",
       "      <td>dansauk</td>\n",
       "    </tr>\n",
       "    <tr>\n",
       "      <th>20</th>\n",
       "      <td>DMACRECORDS</td>\n",
       "    </tr>\n",
       "    <tr>\n",
       "      <th>21</th>\n",
       "      <td>8892sales</td>\n",
       "    </tr>\n",
       "    <tr>\n",
       "      <th>23</th>\n",
       "      <td>velove</td>\n",
       "    </tr>\n",
       "    <tr>\n",
       "      <th>25</th>\n",
       "      <td>la-voie-du-sabre</td>\n",
       "    </tr>\n",
       "    <tr>\n",
       "      <th>26</th>\n",
       "      <td>jilemnicky_02</td>\n",
       "    </tr>\n",
       "    <tr>\n",
       "      <th>27</th>\n",
       "      <td>avalon67</td>\n",
       "    </tr>\n",
       "    <tr>\n",
       "      <th>28</th>\n",
       "      <td>discosanddragons</td>\n",
       "    </tr>\n",
       "    <tr>\n",
       "      <th>29</th>\n",
       "      <td>Vinyl.Score</td>\n",
       "    </tr>\n",
       "    <tr>\n",
       "      <th>31</th>\n",
       "      <td>watidatga</td>\n",
       "    </tr>\n",
       "    <tr>\n",
       "      <th>34</th>\n",
       "      <td>goncalobcunha69</td>\n",
       "    </tr>\n",
       "    <tr>\n",
       "      <th>36</th>\n",
       "      <td>7_Sea_Cods</td>\n",
       "    </tr>\n",
       "    <tr>\n",
       "      <th>39</th>\n",
       "      <td>DIFFO</td>\n",
       "    </tr>\n",
       "    <tr>\n",
       "      <th>42</th>\n",
       "      <td>DNeils</td>\n",
       "    </tr>\n",
       "    <tr>\n",
       "      <th>45</th>\n",
       "      <td>inexpressible</td>\n",
       "    </tr>\n",
       "    <tr>\n",
       "      <th>...</th>\n",
       "      <td>...</td>\n",
       "    </tr>\n",
       "    <tr>\n",
       "      <th>41185</th>\n",
       "      <td>KaLam1ty</td>\n",
       "    </tr>\n",
       "    <tr>\n",
       "      <th>41187</th>\n",
       "      <td>Bibeaux</td>\n",
       "    </tr>\n",
       "    <tr>\n",
       "      <th>41194</th>\n",
       "      <td>GreenshadowMusic</td>\n",
       "    </tr>\n",
       "    <tr>\n",
       "      <th>41196</th>\n",
       "      <td>spakatak</td>\n",
       "    </tr>\n",
       "    <tr>\n",
       "      <th>41198</th>\n",
       "      <td>TheMonkeyGru</td>\n",
       "    </tr>\n",
       "    <tr>\n",
       "      <th>41203</th>\n",
       "      <td>LeCarlton</td>\n",
       "    </tr>\n",
       "    <tr>\n",
       "      <th>41204</th>\n",
       "      <td>FRANKLINDJ</td>\n",
       "    </tr>\n",
       "    <tr>\n",
       "      <th>41206</th>\n",
       "      <td>zobythefly</td>\n",
       "    </tr>\n",
       "    <tr>\n",
       "      <th>41210</th>\n",
       "      <td>wvknight3</td>\n",
       "    </tr>\n",
       "    <tr>\n",
       "      <th>41232</th>\n",
       "      <td>All_sales_are_vinyl</td>\n",
       "    </tr>\n",
       "    <tr>\n",
       "      <th>41248</th>\n",
       "      <td>barfly.dc</td>\n",
       "    </tr>\n",
       "    <tr>\n",
       "      <th>41256</th>\n",
       "      <td>ZizZooQ55</td>\n",
       "    </tr>\n",
       "    <tr>\n",
       "      <th>41270</th>\n",
       "      <td>jeckman</td>\n",
       "    </tr>\n",
       "    <tr>\n",
       "      <th>41271</th>\n",
       "      <td>Ian1109</td>\n",
       "    </tr>\n",
       "    <tr>\n",
       "      <th>41274</th>\n",
       "      <td>vinicio63v</td>\n",
       "    </tr>\n",
       "    <tr>\n",
       "      <th>41279</th>\n",
       "      <td>lana1304</td>\n",
       "    </tr>\n",
       "    <tr>\n",
       "      <th>41283</th>\n",
       "      <td>dokka.chapman</td>\n",
       "    </tr>\n",
       "    <tr>\n",
       "      <th>41284</th>\n",
       "      <td>revolutzia</td>\n",
       "    </tr>\n",
       "    <tr>\n",
       "      <th>41294</th>\n",
       "      <td>temporoboto</td>\n",
       "    </tr>\n",
       "    <tr>\n",
       "      <th>41302</th>\n",
       "      <td>StereoProducts</td>\n",
       "    </tr>\n",
       "    <tr>\n",
       "      <th>41309</th>\n",
       "      <td>Karl_Urff</td>\n",
       "    </tr>\n",
       "    <tr>\n",
       "      <th>41312</th>\n",
       "      <td>videoseconds</td>\n",
       "    </tr>\n",
       "    <tr>\n",
       "      <th>41323</th>\n",
       "      <td>Aries_</td>\n",
       "    </tr>\n",
       "    <tr>\n",
       "      <th>41330</th>\n",
       "      <td>Rikki1010</td>\n",
       "    </tr>\n",
       "    <tr>\n",
       "      <th>41333</th>\n",
       "      <td>sanipass</td>\n",
       "    </tr>\n",
       "    <tr>\n",
       "      <th>41338</th>\n",
       "      <td>boris251</td>\n",
       "    </tr>\n",
       "    <tr>\n",
       "      <th>41343</th>\n",
       "      <td>whalesix</td>\n",
       "    </tr>\n",
       "    <tr>\n",
       "      <th>41348</th>\n",
       "      <td>robson1972</td>\n",
       "    </tr>\n",
       "    <tr>\n",
       "      <th>41349</th>\n",
       "      <td>alegor66</td>\n",
       "    </tr>\n",
       "    <tr>\n",
       "      <th>41350</th>\n",
       "      <td>rwm1619</td>\n",
       "    </tr>\n",
       "  </tbody>\n",
       "</table>\n",
       "<p>4773 rows × 1 columns</p>\n",
       "</div>"
      ],
      "text/plain": [
       "                  username\n",
       "0          andygrayrecords\n",
       "1                  nerdfly\n",
       "2                  DarreLP\n",
       "3             SchusterBach\n",
       "4                radiojohn\n",
       "5                Tokeowave\n",
       "6              Justinjoey1\n",
       "7                 flipster\n",
       "10              HalberDirk\n",
       "12                 Earjerk\n",
       "13                pdxmusic\n",
       "14               bluebelle\n",
       "15                  IkEcht\n",
       "16             presuminged\n",
       "17              PabloPlato\n",
       "18                 dansauk\n",
       "20             DMACRECORDS\n",
       "21               8892sales\n",
       "23                  velove\n",
       "25        la-voie-du-sabre\n",
       "26           jilemnicky_02\n",
       "27                avalon67\n",
       "28        discosanddragons\n",
       "29             Vinyl.Score\n",
       "31               watidatga\n",
       "34         goncalobcunha69\n",
       "36              7_Sea_Cods\n",
       "39                   DIFFO\n",
       "42                  DNeils\n",
       "45           inexpressible\n",
       "...                    ...\n",
       "41185             KaLam1ty\n",
       "41187              Bibeaux\n",
       "41194     GreenshadowMusic\n",
       "41196             spakatak\n",
       "41198         TheMonkeyGru\n",
       "41203            LeCarlton\n",
       "41204           FRANKLINDJ\n",
       "41206           zobythefly\n",
       "41210            wvknight3\n",
       "41232  All_sales_are_vinyl\n",
       "41248            barfly.dc\n",
       "41256            ZizZooQ55\n",
       "41270              jeckman\n",
       "41271              Ian1109\n",
       "41274           vinicio63v\n",
       "41279             lana1304\n",
       "41283        dokka.chapman\n",
       "41284           revolutzia\n",
       "41294          temporoboto\n",
       "41302       StereoProducts\n",
       "41309            Karl_Urff\n",
       "41312         videoseconds\n",
       "41323               Aries_\n",
       "41330            Rikki1010\n",
       "41333             sanipass\n",
       "41338             boris251\n",
       "41343             whalesix\n",
       "41348           robson1972\n",
       "41349             alegor66\n",
       "41350              rwm1619\n",
       "\n",
       "[4773 rows x 1 columns]"
      ]
     },
     "execution_count": 7,
     "metadata": {},
     "output_type": "execute_result"
    }
   ],
   "source": [
    "usernameJsonFile = \"CLB0 - discogsScrapy/usernames.json\"\n",
    "\n",
    "usernameDf = pd.read_json(usernameJsonFile)\n",
    "print(\"Número de usuarios (con repetidos): \", usernameDf.count())\n",
    "usernameDf = usernameDf.drop_duplicates()\n",
    "print(\"Número de usuarios: \", usernameDf.count())\n",
    "usernameDf"
   ]
  },
  {
   "cell_type": "code",
   "execution_count": 14,
   "metadata": {
    "scrolled": true
   },
   "outputs": [
    {
     "data": {
      "text/html": [
       "<div>\n",
       "<style scoped>\n",
       "    .dataframe tbody tr th:only-of-type {\n",
       "        vertical-align: middle;\n",
       "    }\n",
       "\n",
       "    .dataframe tbody tr th {\n",
       "        vertical-align: top;\n",
       "    }\n",
       "\n",
       "    .dataframe thead th {\n",
       "        text-align: right;\n",
       "    }\n",
       "</style>\n",
       "<table border=\"1\" class=\"dataframe\">\n",
       "  <thead>\n",
       "    <tr style=\"text-align: right;\">\n",
       "      <th></th>\n",
       "      <th>username</th>\n",
       "    </tr>\n",
       "  </thead>\n",
       "  <tbody>\n",
       "    <tr>\n",
       "      <th>0</th>\n",
       "      <td>andygrayrecords</td>\n",
       "    </tr>\n",
       "    <tr>\n",
       "      <th>1</th>\n",
       "      <td>nerdfly</td>\n",
       "    </tr>\n",
       "    <tr>\n",
       "      <th>2</th>\n",
       "      <td>DarreLP</td>\n",
       "    </tr>\n",
       "    <tr>\n",
       "      <th>3</th>\n",
       "      <td>SchusterBach</td>\n",
       "    </tr>\n",
       "    <tr>\n",
       "      <th>4</th>\n",
       "      <td>radiojohn</td>\n",
       "    </tr>\n",
       "    <tr>\n",
       "      <th>5</th>\n",
       "      <td>Tokeowave</td>\n",
       "    </tr>\n",
       "    <tr>\n",
       "      <th>6</th>\n",
       "      <td>Justinjoey1</td>\n",
       "    </tr>\n",
       "    <tr>\n",
       "      <th>7</th>\n",
       "      <td>flipster</td>\n",
       "    </tr>\n",
       "    <tr>\n",
       "      <th>8</th>\n",
       "      <td>HalberDirk</td>\n",
       "    </tr>\n",
       "    <tr>\n",
       "      <th>9</th>\n",
       "      <td>Earjerk</td>\n",
       "    </tr>\n",
       "    <tr>\n",
       "      <th>10</th>\n",
       "      <td>pdxmusic</td>\n",
       "    </tr>\n",
       "    <tr>\n",
       "      <th>11</th>\n",
       "      <td>bluebelle</td>\n",
       "    </tr>\n",
       "    <tr>\n",
       "      <th>12</th>\n",
       "      <td>IkEcht</td>\n",
       "    </tr>\n",
       "    <tr>\n",
       "      <th>13</th>\n",
       "      <td>presuminged</td>\n",
       "    </tr>\n",
       "    <tr>\n",
       "      <th>14</th>\n",
       "      <td>PabloPlato</td>\n",
       "    </tr>\n",
       "    <tr>\n",
       "      <th>15</th>\n",
       "      <td>dansauk</td>\n",
       "    </tr>\n",
       "    <tr>\n",
       "      <th>16</th>\n",
       "      <td>DMACRECORDS</td>\n",
       "    </tr>\n",
       "    <tr>\n",
       "      <th>17</th>\n",
       "      <td>8892sales</td>\n",
       "    </tr>\n",
       "    <tr>\n",
       "      <th>18</th>\n",
       "      <td>velove</td>\n",
       "    </tr>\n",
       "    <tr>\n",
       "      <th>19</th>\n",
       "      <td>la-voie-du-sabre</td>\n",
       "    </tr>\n",
       "    <tr>\n",
       "      <th>20</th>\n",
       "      <td>jilemnicky_02</td>\n",
       "    </tr>\n",
       "    <tr>\n",
       "      <th>21</th>\n",
       "      <td>avalon67</td>\n",
       "    </tr>\n",
       "    <tr>\n",
       "      <th>22</th>\n",
       "      <td>discosanddragons</td>\n",
       "    </tr>\n",
       "    <tr>\n",
       "      <th>23</th>\n",
       "      <td>Vinyl.Score</td>\n",
       "    </tr>\n",
       "    <tr>\n",
       "      <th>24</th>\n",
       "      <td>watidatga</td>\n",
       "    </tr>\n",
       "    <tr>\n",
       "      <th>25</th>\n",
       "      <td>goncalobcunha69</td>\n",
       "    </tr>\n",
       "    <tr>\n",
       "      <th>26</th>\n",
       "      <td>7_Sea_Cods</td>\n",
       "    </tr>\n",
       "    <tr>\n",
       "      <th>27</th>\n",
       "      <td>DIFFO</td>\n",
       "    </tr>\n",
       "    <tr>\n",
       "      <th>28</th>\n",
       "      <td>DNeils</td>\n",
       "    </tr>\n",
       "    <tr>\n",
       "      <th>29</th>\n",
       "      <td>inexpressible</td>\n",
       "    </tr>\n",
       "    <tr>\n",
       "      <th>...</th>\n",
       "      <td>...</td>\n",
       "    </tr>\n",
       "    <tr>\n",
       "      <th>4743</th>\n",
       "      <td>KaLam1ty</td>\n",
       "    </tr>\n",
       "    <tr>\n",
       "      <th>4744</th>\n",
       "      <td>Bibeaux</td>\n",
       "    </tr>\n",
       "    <tr>\n",
       "      <th>4745</th>\n",
       "      <td>GreenshadowMusic</td>\n",
       "    </tr>\n",
       "    <tr>\n",
       "      <th>4746</th>\n",
       "      <td>spakatak</td>\n",
       "    </tr>\n",
       "    <tr>\n",
       "      <th>4747</th>\n",
       "      <td>TheMonkeyGru</td>\n",
       "    </tr>\n",
       "    <tr>\n",
       "      <th>4748</th>\n",
       "      <td>LeCarlton</td>\n",
       "    </tr>\n",
       "    <tr>\n",
       "      <th>4749</th>\n",
       "      <td>FRANKLINDJ</td>\n",
       "    </tr>\n",
       "    <tr>\n",
       "      <th>4750</th>\n",
       "      <td>zobythefly</td>\n",
       "    </tr>\n",
       "    <tr>\n",
       "      <th>4751</th>\n",
       "      <td>wvknight3</td>\n",
       "    </tr>\n",
       "    <tr>\n",
       "      <th>4752</th>\n",
       "      <td>All_sales_are_vinyl</td>\n",
       "    </tr>\n",
       "    <tr>\n",
       "      <th>4753</th>\n",
       "      <td>barfly.dc</td>\n",
       "    </tr>\n",
       "    <tr>\n",
       "      <th>4754</th>\n",
       "      <td>ZizZooQ55</td>\n",
       "    </tr>\n",
       "    <tr>\n",
       "      <th>4755</th>\n",
       "      <td>jeckman</td>\n",
       "    </tr>\n",
       "    <tr>\n",
       "      <th>4756</th>\n",
       "      <td>Ian1109</td>\n",
       "    </tr>\n",
       "    <tr>\n",
       "      <th>4757</th>\n",
       "      <td>vinicio63v</td>\n",
       "    </tr>\n",
       "    <tr>\n",
       "      <th>4758</th>\n",
       "      <td>lana1304</td>\n",
       "    </tr>\n",
       "    <tr>\n",
       "      <th>4759</th>\n",
       "      <td>dokka.chapman</td>\n",
       "    </tr>\n",
       "    <tr>\n",
       "      <th>4760</th>\n",
       "      <td>revolutzia</td>\n",
       "    </tr>\n",
       "    <tr>\n",
       "      <th>4761</th>\n",
       "      <td>temporoboto</td>\n",
       "    </tr>\n",
       "    <tr>\n",
       "      <th>4762</th>\n",
       "      <td>StereoProducts</td>\n",
       "    </tr>\n",
       "    <tr>\n",
       "      <th>4763</th>\n",
       "      <td>Karl_Urff</td>\n",
       "    </tr>\n",
       "    <tr>\n",
       "      <th>4764</th>\n",
       "      <td>videoseconds</td>\n",
       "    </tr>\n",
       "    <tr>\n",
       "      <th>4765</th>\n",
       "      <td>Aries_</td>\n",
       "    </tr>\n",
       "    <tr>\n",
       "      <th>4766</th>\n",
       "      <td>Rikki1010</td>\n",
       "    </tr>\n",
       "    <tr>\n",
       "      <th>4767</th>\n",
       "      <td>sanipass</td>\n",
       "    </tr>\n",
       "    <tr>\n",
       "      <th>4768</th>\n",
       "      <td>boris251</td>\n",
       "    </tr>\n",
       "    <tr>\n",
       "      <th>4769</th>\n",
       "      <td>whalesix</td>\n",
       "    </tr>\n",
       "    <tr>\n",
       "      <th>4770</th>\n",
       "      <td>robson1972</td>\n",
       "    </tr>\n",
       "    <tr>\n",
       "      <th>4771</th>\n",
       "      <td>alegor66</td>\n",
       "    </tr>\n",
       "    <tr>\n",
       "      <th>4772</th>\n",
       "      <td>rwm1619</td>\n",
       "    </tr>\n",
       "  </tbody>\n",
       "</table>\n",
       "<p>4773 rows × 1 columns</p>\n",
       "</div>"
      ],
      "text/plain": [
       "                 username\n",
       "0         andygrayrecords\n",
       "1                 nerdfly\n",
       "2                 DarreLP\n",
       "3            SchusterBach\n",
       "4               radiojohn\n",
       "5               Tokeowave\n",
       "6             Justinjoey1\n",
       "7                flipster\n",
       "8              HalberDirk\n",
       "9                 Earjerk\n",
       "10               pdxmusic\n",
       "11              bluebelle\n",
       "12                 IkEcht\n",
       "13            presuminged\n",
       "14             PabloPlato\n",
       "15                dansauk\n",
       "16            DMACRECORDS\n",
       "17              8892sales\n",
       "18                 velove\n",
       "19       la-voie-du-sabre\n",
       "20          jilemnicky_02\n",
       "21               avalon67\n",
       "22       discosanddragons\n",
       "23            Vinyl.Score\n",
       "24              watidatga\n",
       "25        goncalobcunha69\n",
       "26             7_Sea_Cods\n",
       "27                  DIFFO\n",
       "28                 DNeils\n",
       "29          inexpressible\n",
       "...                   ...\n",
       "4743             KaLam1ty\n",
       "4744              Bibeaux\n",
       "4745     GreenshadowMusic\n",
       "4746             spakatak\n",
       "4747         TheMonkeyGru\n",
       "4748            LeCarlton\n",
       "4749           FRANKLINDJ\n",
       "4750           zobythefly\n",
       "4751            wvknight3\n",
       "4752  All_sales_are_vinyl\n",
       "4753            barfly.dc\n",
       "4754            ZizZooQ55\n",
       "4755              jeckman\n",
       "4756              Ian1109\n",
       "4757           vinicio63v\n",
       "4758             lana1304\n",
       "4759        dokka.chapman\n",
       "4760           revolutzia\n",
       "4761          temporoboto\n",
       "4762       StereoProducts\n",
       "4763            Karl_Urff\n",
       "4764         videoseconds\n",
       "4765               Aries_\n",
       "4766            Rikki1010\n",
       "4767             sanipass\n",
       "4768             boris251\n",
       "4769             whalesix\n",
       "4770           robson1972\n",
       "4771             alegor66\n",
       "4772              rwm1619\n",
       "\n",
       "[4773 rows x 1 columns]"
      ]
     },
     "execution_count": 14,
     "metadata": {},
     "output_type": "execute_result"
    }
   ],
   "source": [
    "usernameDfReset = usernameDf.reset_index()\n",
    "usernameDfReset = usernameDfReset.drop(columns=\"index\")\n",
    "usernameDfReset"
   ]
  },
  {
   "cell_type": "markdown",
   "metadata": {},
   "source": [
    "Ejecutar la primera celda para cargar en el cliente de discogs los datos de usuario y poder utilizar para hacer consultas"
   ]
  },
  {
   "cell_type": "code",
   "execution_count": 7,
   "metadata": {},
   "outputs": [],
   "source": [
    "import discogs_client\n",
    "\n",
    "userKey = \"hIDxLHDKyKaEKugfeCmZ\"\n",
    "secretKey = \"CABuoqxLIxMnotQgNJooQDQLMoMMrEOP\"\n",
    "\n",
    "discogs = discogs_client.Client(\n",
    "    'tfm/0.1',\n",
    "    consumer_key=userKey,\n",
    "    consumer_secret=secretKey,\n",
    "    token='aoluYUGNxguFJirLzNGndsWXjlyCvHQEEMeBSLGN',\n",
    "    secret='QpbIAufXUDEcSJtmWUMQnljoQFavOlboFUWsitgT'\n",
    ")\n",
    "\n",
    "#discogs.set_consumer_key(userKey, secretKey)\n",
    "\n"
   ]
  },
  {
   "cell_type": "code",
   "execution_count": 8,
   "metadata": {},
   "outputs": [],
   "source": [
    "#No haría falta esto de aquí, ya tenemos autorización con el userKey y secretKey\n",
    "# auth = discogs.get_authorize_url()\n",
    "# auth"
   ]
  },
  {
   "cell_type": "code",
   "execution_count": 9,
   "metadata": {},
   "outputs": [],
   "source": [
    "#Esta función nos ha generado el token y el secretToken para terminar la \n",
    "#autorización\n",
    "# discogs.get_access_token('hPhYvNsIho')"
   ]
  },
  {
   "cell_type": "code",
   "execution_count": 10,
   "metadata": {},
   "outputs": [],
   "source": [
    "#Aquí cargamos las claves y ya estaríamos autorizados para hacer consultas\n",
    "# discogs.token='aoluYUGNxguFJirLzNGndsWXjlyCvHQEEMeBSLGN'\n",
    "# discogs.secret='QpbIAufXUDEcSJtmWUMQnljoQFavOlboFUWsitgT'"
   ]
  },
  {
   "cell_type": "markdown",
   "metadata": {},
   "source": [
    "Ejecutar a partir de aquí, una vez ejecutada la primera celda y cargado el cliente de discogs con los datos de usuario"
   ]
  },
  {
   "cell_type": "code",
   "execution_count": 26,
   "metadata": {
    "scrolled": true
   },
   "outputs": [
    {
     "name": "stderr",
     "output_type": "stream",
     "text": [
      "\n",
      "  0%|                                                                                          | 0/456 [00:00<?, ?it/s]"
     ]
    },
    {
     "name": "stdout",
     "output_type": "stream",
     "text": [
      "Theseampsgotoeleven\n",
      "page 0\n",
      "Number of ratings:  0\n",
      "<Response [200]>\n",
      "SALIENDO = RATINGS0\n",
      "SALIENDO: not next or Rating0\n"
     ]
    },
    {
     "name": "stderr",
     "output_type": "stream",
     "text": [
      "\n",
      "  0%|▏                                                                                 | 1/456 [00:03<25:11,  3.32s/it]"
     ]
    },
    {
     "name": "stdout",
     "output_type": "stream",
     "text": [
      "lol\n",
      "page 0\n",
      "Number of ratings:  29\n",
      "<Response [401]>\n",
      "No hay realases en la collection del user\n"
     ]
    },
    {
     "name": "stderr",
     "output_type": "stream",
     "text": [
      "\n",
      "  0%|▎                                                                                 | 2/456 [00:05<21:24,  2.83s/it]"
     ]
    },
    {
     "name": "stdout",
     "output_type": "stream",
     "text": [
      "Push\n",
      "page 0\n",
      "Number of ratings:  29\n",
      "<Response [200]>\n",
      "SALIENDO = RATINGS0\n",
      "SALIENDO: not next or Rating0\n"
     ]
    },
    {
     "name": "stderr",
     "output_type": "stream",
     "text": [
      "\n",
      "  1%|▌                                                                                 | 3/456 [00:06<18:41,  2.48s/it]"
     ]
    },
    {
     "name": "stdout",
     "output_type": "stream",
     "text": [
      "no-name-no-number\n",
      "page 0\n",
      "Number of ratings:  30\n",
      "<Response [401]>\n",
      "No hay realases en la collection del user\n"
     ]
    },
    {
     "name": "stderr",
     "output_type": "stream",
     "text": [
      "\n",
      "  1%|▋                                                                                 | 4/456 [00:08<16:44,  2.22s/it]"
     ]
    },
    {
     "name": "stdout",
     "output_type": "stream",
     "text": [
      "lvleow\n",
      "page 0\n",
      "Number of ratings:  30\n",
      "<Response [200]>\n",
      "SALIENDO = RATINGS0\n",
      "SALIENDO: not next or Rating0\n"
     ]
    },
    {
     "name": "stderr",
     "output_type": "stream",
     "text": [
      "\n",
      "  1%|▉                                                                                 | 5/456 [00:09<15:23,  2.05s/it]"
     ]
    },
    {
     "name": "stdout",
     "output_type": "stream",
     "text": [
      "fallguy\n",
      "page 0\n",
      "Number of ratings:  30\n",
      "<Response [401]>\n",
      "No hay realases en la collection del user\n"
     ]
    },
    {
     "name": "stderr",
     "output_type": "stream",
     "text": [
      "\n",
      "  1%|█                                                                                 | 6/456 [00:11<14:23,  1.92s/it]"
     ]
    },
    {
     "name": "stdout",
     "output_type": "stream",
     "text": [
      "rile3e\n",
      "page 0\n",
      "Number of ratings:  30\n",
      "<Response [401]>\n",
      "No hay realases en la collection del user\n"
     ]
    },
    {
     "name": "stderr",
     "output_type": "stream",
     "text": [
      "\n",
      "  2%|█▎                                                                                | 7/456 [00:13<13:40,  1.83s/it]"
     ]
    },
    {
     "name": "stdout",
     "output_type": "stream",
     "text": [
      "0frg\n",
      "page 0\n",
      "Number of ratings:  30\n",
      "<Response [401]>\n",
      "No hay realases en la collection del user\n"
     ]
    },
    {
     "name": "stderr",
     "output_type": "stream",
     "text": [
      "\n",
      "  2%|█▍                                                                                | 8/456 [00:14<13:17,  1.78s/it]"
     ]
    },
    {
     "name": "stdout",
     "output_type": "stream",
     "text": [
      "LanceCo\n",
      "page 0\n",
      "Number of ratings:  30\n",
      "<Response [200]>\n",
      "page 1\n",
      "Number of ratings:  130\n",
      "<Response [200]>\n",
      "page 2\n",
      "Number of ratings:  230\n",
      "<Response [200]>\n",
      "page 3\n",
      "Number of ratings:  330\n",
      "<Response [200]>\n",
      "SALIENDO = RATINGS0\n",
      "SALIENDO: not next or Rating0\n"
     ]
    },
    {
     "name": "stderr",
     "output_type": "stream",
     "text": [
      "\n",
      "  2%|█▌                                                                                | 9/456 [00:26<34:35,  4.64s/it]"
     ]
    },
    {
     "name": "stdout",
     "output_type": "stream",
     "text": [
      "linasd\n",
      "page 0\n",
      "Number of ratings:  380\n",
      "<Response [200]>\n",
      "SALIENDO: not next or Rating0\n"
     ]
    },
    {
     "name": "stderr",
     "output_type": "stream",
     "text": [
      "\n",
      "  2%|█▊                                                                               | 10/456 [00:27<27:49,  3.74s/it]"
     ]
    },
    {
     "name": "stdout",
     "output_type": "stream",
     "text": [
      "superpop\n",
      "page 0\n",
      "Number of ratings:  380\n",
      "<Response [200]>\n",
      "page 1\n",
      "Number of ratings:  480\n",
      "<Response [200]>\n",
      "page 2\n",
      "Number of ratings:  580\n",
      "<Response [200]>\n",
      "page 3\n",
      "Number of ratings:  680\n",
      "<Response [200]>\n",
      "page 4\n",
      "Number of ratings:  780\n",
      "<Response [200]>\n",
      "page 5\n",
      "Number of ratings:  880\n",
      "<Response [200]>\n",
      "SALIENDO = RATINGS0\n",
      "SALIENDO: not next or Rating0\n"
     ]
    },
    {
     "name": "stderr",
     "output_type": "stream",
     "text": [
      "\n",
      "  2%|█▉                                                                               | 11/456 [00:45<59:52,  8.07s/it]"
     ]
    },
    {
     "name": "stdout",
     "output_type": "stream",
     "text": [
      "bibisea\n",
      "page 0\n",
      "Number of ratings:  960\n",
      "<Response [200]>\n",
      "SALIENDO: not next or Rating0\n"
     ]
    },
    {
     "name": "stderr",
     "output_type": "stream",
     "text": [
      "\n",
      "  3%|██▏                                                                              | 12/456 [00:47<45:29,  6.15s/it]"
     ]
    },
    {
     "name": "stdout",
     "output_type": "stream",
     "text": [
      "BeatVandal\n",
      "page 0\n",
      "Number of ratings:  960\n",
      "<Response [200]>\n",
      "SALIENDO: not next or Rating0\n"
     ]
    },
    {
     "name": "stderr",
     "output_type": "stream",
     "text": [
      "\n",
      "  3%|██▎                                                                              | 13/456 [00:49<36:27,  4.94s/it]"
     ]
    },
    {
     "name": "stdout",
     "output_type": "stream",
     "text": [
      "DAHOF\n",
      "page 0\n",
      "Number of ratings:  960\n",
      "<Response [200]>\n",
      "SALIENDO: not next or Rating0\n"
     ]
    },
    {
     "name": "stderr",
     "output_type": "stream",
     "text": [
      "\n",
      "  3%|██▍                                                                              | 14/456 [00:51<29:45,  4.04s/it]"
     ]
    },
    {
     "name": "stdout",
     "output_type": "stream",
     "text": [
      "BigTwin\n",
      "page 0\n",
      "Number of ratings:  976\n",
      "<Response [401]>\n",
      "No hay realases en la collection del user\n"
     ]
    },
    {
     "name": "stderr",
     "output_type": "stream",
     "text": [
      "\n",
      "  3%|██▋                                                                              | 15/456 [00:53<24:26,  3.33s/it]"
     ]
    },
    {
     "name": "stdout",
     "output_type": "stream",
     "text": [
      "robertod\n",
      "page 0\n",
      "Number of ratings:  976\n",
      "<Response [200]>\n",
      "SALIENDO = RATINGS0\n",
      "SALIENDO: not next or Rating0\n"
     ]
    },
    {
     "name": "stderr",
     "output_type": "stream",
     "text": [
      "\n",
      "  4%|██▊                                                                              | 16/456 [00:55<21:18,  2.91s/it]"
     ]
    },
    {
     "name": "stdout",
     "output_type": "stream",
     "text": [
      "andrewaircraft\n",
      "page 0\n",
      "Number of ratings:  987\n",
      "<Response [200]>\n",
      "SALIENDO: not next or Rating0\n"
     ]
    },
    {
     "name": "stderr",
     "output_type": "stream",
     "text": [
      "\n",
      "  4%|███                                                                              | 17/456 [00:56<18:28,  2.53s/it]"
     ]
    },
    {
     "name": "stdout",
     "output_type": "stream",
     "text": [
      "earshot\n",
      "page 0\n",
      "Number of ratings:  987\n",
      "<Response [200]>\n",
      "page 1\n",
      "Number of ratings:  1087\n",
      "<Response [200]>\n",
      "page 2\n",
      "Number of ratings:  1187\n",
      "<Response [200]>\n",
      "page 3\n",
      "Number of ratings:  1287\n",
      "<Response [200]>\n",
      "page 4\n",
      "Number of ratings:  1387\n",
      "<Response [200]>\n",
      "page 5\n",
      "Number of ratings:  1487\n",
      "<Response [200]>\n",
      "page 6\n",
      "Number of ratings:  1587\n",
      "<Response [200]>\n",
      "page 7\n",
      "Number of ratings:  1687\n",
      "<Response [200]>\n",
      "page 8\n",
      "Number of ratings:  1787\n",
      "<Response [200]>\n",
      "page 9\n",
      "Number of ratings:  1887\n",
      "<Response [200]>\n",
      "page 10\n",
      "Number of ratings:  1987\n",
      "<Response [200]>\n",
      "page 11\n",
      "Number of ratings:  2087\n",
      "<Response [200]>\n",
      "page 12\n",
      "Number of ratings:  2187\n",
      "<Response [200]>\n",
      "page 13\n",
      "Number of ratings:  2287\n",
      "<Response [200]>\n",
      "page 14\n",
      "Number of ratings:  2387\n",
      "<Response [200]>\n",
      "page 15\n",
      "Number of ratings:  2487\n",
      "<Response [200]>\n",
      "page 16\n",
      "Number of ratings:  2587\n",
      "<Response [200]>\n",
      "page 17\n",
      "Number of ratings:  2687\n",
      "<Response [200]>\n",
      "page 18\n",
      "Number of ratings:  2787\n",
      "<Response [200]>\n",
      "page 19\n",
      "Number of ratings:  2887\n",
      "<Response [200]>\n",
      "page 20\n",
      "Number of ratings:  2987\n",
      "<Response [200]>\n",
      "page 21\n",
      "Number of ratings:  3087\n",
      "<Response [200]>\n",
      "page 22\n",
      "Number of ratings:  3187\n",
      "<Response [200]>\n",
      "page 23\n",
      "Number of ratings:  3287\n",
      "<Response [200]>\n",
      "page 24\n",
      "Number of ratings:  3387\n",
      "<Response [200]>\n",
      "page 25\n",
      "Number of ratings:  3487\n",
      "<Response [200]>\n",
      "page 26\n",
      "Number of ratings:  3587\n",
      "<Response [200]>\n",
      "page 27\n",
      "Number of ratings:  3687\n",
      "<Response [200]>\n",
      "page 28\n",
      "Number of ratings:  3787\n",
      "<Response [200]>\n",
      "page 29\n",
      "Number of ratings:  3887\n",
      "<Response [200]>\n",
      "page 30\n",
      "Number of ratings:  3987\n",
      "<Response [200]>\n",
      "page 31\n",
      "Number of ratings:  4087\n",
      "<Response [200]>\n",
      "page 32\n",
      "Number of ratings:  4187\n",
      "<Response [200]>\n",
      "page 33\n",
      "Number of ratings:  4287\n",
      "<Response [200]>\n",
      "page 34\n",
      "Number of ratings:  4387\n",
      "<Response [200]>\n",
      "page 35\n",
      "Number of ratings:  4487\n",
      "<Response [200]>\n",
      "page 36\n",
      "Number of ratings:  4587\n",
      "<Response [200]>\n",
      "page 37\n",
      "Number of ratings:  4687\n",
      "<Response [200]>\n",
      "page 38\n",
      "Number of ratings:  4787\n",
      "<Response [200]>\n",
      "page 39\n",
      "Number of ratings:  4887\n",
      "<Response [200]>\n",
      "page 40\n",
      "Number of ratings:  4987\n",
      "<Response [200]>\n",
      "page 41\n",
      "Number of ratings:  5087\n",
      "<Response [200]>\n",
      "page 42\n",
      "Number of ratings:  5187\n",
      "<Response [200]>\n",
      "page 43\n",
      "Number of ratings:  5287\n",
      "<Response [200]>\n",
      "page 44\n",
      "Number of ratings:  5387\n",
      "<Response [200]>\n",
      "page 45\n",
      "Number of ratings:  5487\n",
      "<Response [200]>\n",
      "page 46\n",
      "Number of ratings:  5587\n",
      "<Response [200]>\n",
      "page 47\n",
      "Number of ratings:  5687\n",
      "<Response [200]>\n",
      "page 48\n",
      "Number of ratings:  5787\n",
      "<Response [200]>\n",
      "page 49\n",
      "Number of ratings:  5887\n",
      "<Response [200]>\n",
      "page 50\n",
      "Number of ratings:  5987\n",
      "<Response [200]>\n",
      "page 51\n",
      "Number of ratings:  6087\n",
      "<Response [200]>\n",
      "page 52\n",
      "Number of ratings:  6187\n",
      "<Response [200]>\n",
      "page 53\n",
      "Number of ratings:  6287\n",
      "<Response [200]>\n",
      "page 54\n",
      "Number of ratings:  6387\n",
      "<Response [200]>\n",
      "page 55\n",
      "Number of ratings:  6487\n",
      "<Response [200]>\n",
      "page 56\n",
      "Number of ratings:  6587\n",
      "<Response [200]>\n",
      "page 57\n",
      "Number of ratings:  6687\n",
      "<Response [200]>\n",
      "page 58\n",
      "Number of ratings:  6787\n",
      "<Response [200]>\n",
      "page 59\n",
      "Number of ratings:  6887\n",
      "<Response [200]>\n",
      "page 60\n",
      "Number of ratings:  6987\n",
      "<Response [200]>\n",
      "page 61\n",
      "Number of ratings:  7087\n",
      "<Response [200]>\n",
      "page 62\n",
      "Number of ratings:  7187\n",
      "<Response [200]>\n",
      "page 63\n",
      "Number of ratings:  7287\n",
      "<Response [200]>\n",
      "page 64\n",
      "Number of ratings:  7387\n",
      "<Response [200]>\n",
      "page 65\n",
      "Number of ratings:  7487\n",
      "<Response [200]>\n",
      "page 66\n",
      "Number of ratings:  7587\n",
      "<Response [200]>\n",
      "page 67\n",
      "Number of ratings:  7687\n",
      "<Response [200]>\n",
      "page 68\n",
      "Number of ratings:  7787\n",
      "<Response [200]>\n",
      "page 69\n",
      "Number of ratings:  7887\n",
      "<Response [200]>\n",
      "page 70\n",
      "Number of ratings:  7987\n",
      "<Response [200]>\n",
      "page 71\n",
      "Number of ratings:  8087\n",
      "<Response [200]>\n",
      "SALIENDO = RATINGS0\n",
      "SALIENDO: not next or Rating0\n"
     ]
    },
    {
     "name": "stderr",
     "output_type": "stream",
     "text": [
      "\n",
      "  4%|███                                                                            | 18/456 [04:53<8:51:10, 72.76s/it]"
     ]
    },
    {
     "name": "stdout",
     "output_type": "stream",
     "text": [
      "ptambient\n",
      "page 0\n",
      "Number of ratings:  8092\n",
      "<Response [401]>\n",
      "No hay realases en la collection del user\n"
     ]
    },
    {
     "name": "stderr",
     "output_type": "stream",
     "text": [
      "\n",
      "  4%|███▎                                                                           | 19/456 [04:55<6:14:30, 51.42s/it]"
     ]
    },
    {
     "name": "stdout",
     "output_type": "stream",
     "text": [
      "deejayzaq\n",
      "page 0\n",
      "Number of ratings:  8092\n",
      "<Response [401]>\n",
      "No hay realases en la collection del user\n"
     ]
    },
    {
     "name": "stderr",
     "output_type": "stream",
     "text": [
      "\n",
      "  4%|███▍                                                                           | 20/456 [04:56<4:25:08, 36.49s/it]"
     ]
    },
    {
     "name": "stdout",
     "output_type": "stream",
     "text": [
      "ElectronicaCollector\n",
      "page 0\n",
      "Number of ratings:  8092\n",
      "<Response [401]>\n",
      "No hay realases en la collection del user\n"
     ]
    },
    {
     "name": "stderr",
     "output_type": "stream",
     "text": [
      "\n",
      "  5%|███▋                                                                           | 21/456 [04:58<3:08:41, 26.03s/it]"
     ]
    },
    {
     "name": "stdout",
     "output_type": "stream",
     "text": [
      "djpileup\n",
      "page 0\n",
      "Number of ratings:  8092\n",
      "<Response [401]>\n",
      "No hay realases en la collection del user\n"
     ]
    },
    {
     "name": "stderr",
     "output_type": "stream",
     "text": [
      "\n",
      "  5%|███▊                                                                           | 22/456 [05:00<2:15:20, 18.71s/it]"
     ]
    },
    {
     "name": "stdout",
     "output_type": "stream",
     "text": [
      "cworth\n",
      "page 0\n",
      "Number of ratings:  8092\n",
      "<Response [200]>\n",
      "SALIENDO = RATINGS0\n",
      "SALIENDO: not next or Rating0\n"
     ]
    },
    {
     "name": "stderr",
     "output_type": "stream",
     "text": [
      "\n",
      "  5%|███▉                                                                           | 23/456 [05:03<1:42:16, 14.17s/it]"
     ]
    },
    {
     "name": "stdout",
     "output_type": "stream",
     "text": [
      "somewhatdistantghost\n",
      "page 0\n",
      "Number of ratings:  8093\n",
      "<Response [200]>\n",
      "page 1\n",
      "Number of ratings:  8193\n",
      "<Response [200]>\n",
      "page 2\n",
      "Number of ratings:  8293\n",
      "<Response [200]>\n",
      "page 3\n",
      "Number of ratings:  8393\n",
      "<Response [200]>\n",
      "page 4\n",
      "Number of ratings:  8493\n",
      "<Response [200]>\n",
      "page 5\n",
      "Number of ratings:  8593\n",
      "<Response [200]>\n",
      "page 6\n",
      "Number of ratings:  8693\n",
      "<Response [200]>\n",
      "page 7\n",
      "Number of ratings:  8793\n",
      "<Response [200]>\n",
      "page 8\n",
      "Number of ratings:  8893\n",
      "<Response [200]>\n",
      "page 9\n",
      "Number of ratings:  8993\n",
      "<Response [200]>\n",
      "page 10\n",
      "Number of ratings:  9093\n",
      "<Response [200]>\n",
      "page 11\n",
      "Number of ratings:  9193\n",
      "<Response [200]>\n",
      "page 12\n",
      "Number of ratings:  9293\n",
      "<Response [200]>\n",
      "page 13\n",
      "Number of ratings:  9393\n",
      "<Response [200]>\n",
      "page 14\n",
      "Number of ratings:  9493\n",
      "<Response [200]>\n",
      "page 15\n",
      "Number of ratings:  9593\n",
      "<Response [200]>\n",
      "page 16\n",
      "Number of ratings:  9693\n",
      "<Response [200]>\n",
      "page 17\n",
      "Number of ratings:  9793\n",
      "<Response [200]>\n",
      "page 18\n",
      "Number of ratings:  9893\n",
      "<Response [200]>\n",
      "SALIENDO = RATINGS0\n",
      "SALIENDO: not next or Rating0\n"
     ]
    },
    {
     "name": "stderr",
     "output_type": "stream",
     "text": [
      "\n",
      "  5%|████▏                                                                          | 24/456 [05:57<3:08:47, 26.22s/it]"
     ]
    },
    {
     "name": "stdout",
     "output_type": "stream",
     "text": [
      "dan85\n",
      "page 0\n",
      "Number of ratings:  9901\n",
      "<Response [200]>\n",
      "page 1\n",
      "Number of ratings:  10001\n",
      "<Response [200]>\n",
      "page 2\n",
      "Number of ratings:  10101\n",
      "<Response [200]>\n",
      "SALIENDO = RATINGS0\n",
      "SALIENDO: not next or Rating0\n"
     ]
    },
    {
     "name": "stderr",
     "output_type": "stream",
     "text": [
      "\n",
      "  5%|████▎                                                                          | 25/456 [06:08<2:34:16, 21.48s/it]"
     ]
    },
    {
     "name": "stdout",
     "output_type": "stream",
     "text": [
      "mrvolantebungle\n",
      "page 0\n",
      "Number of ratings:  10109\n",
      "<Response [401]>\n",
      "No hay realases en la collection del user\n"
     ]
    },
    {
     "name": "stderr",
     "output_type": "stream",
     "text": [
      "\n",
      "  6%|████▌                                                                          | 26/456 [06:10<1:51:16, 15.53s/it]"
     ]
    },
    {
     "name": "stdout",
     "output_type": "stream",
     "text": [
      "perennial_quest\n",
      "page 0\n",
      "Number of ratings:  10109\n",
      "<Response [200]>\n",
      "page 1\n",
      "Number of ratings:  10209\n",
      "<Response [200]>\n",
      "page 2\n",
      "Number of ratings:  10309\n",
      "<Response [200]>\n",
      "page 3\n",
      "Number of ratings:  10409\n",
      "<Response [200]>\n",
      "page 4\n",
      "Number of ratings:  10509\n",
      "<Response [200]>\n",
      "page 5\n",
      "Number of ratings:  10609\n",
      "<Response [200]>\n",
      "page 6\n",
      "Number of ratings:  10709\n",
      "<Response [200]>\n",
      "page 7\n",
      "Number of ratings:  10809\n",
      "<Response [200]>\n",
      "page 8\n",
      "Number of ratings:  10909\n",
      "<Response [200]>\n",
      "page 9\n",
      "Number of ratings:  11009\n",
      "<Response [200]>\n",
      "page 10\n",
      "Number of ratings:  11109\n",
      "<Response [200]>\n",
      "page 11\n",
      "Number of ratings:  11209\n",
      "<Response [200]>\n",
      "page 12\n",
      "Number of ratings:  11309\n",
      "<Response [200]>\n",
      "page 13\n",
      "Number of ratings:  11409\n",
      "<Response [200]>\n",
      "page 14\n",
      "Number of ratings:  11509\n",
      "<Response [200]>\n",
      "page 15\n",
      "Number of ratings:  11609\n",
      "<Response [200]>\n",
      "page 16\n",
      "Number of ratings:  11709\n",
      "<Response [200]>\n",
      "page 17\n",
      "Number of ratings:  11809\n",
      "<Response [200]>\n",
      "page 18\n",
      "Number of ratings:  11909\n",
      "<Response [200]>\n",
      "page 19\n",
      "Number of ratings:  12009\n",
      "<Response [200]>\n",
      "page 20\n",
      "Number of ratings:  12109\n",
      "<Response [200]>\n",
      "page 21\n",
      "Number of ratings:  12209\n",
      "<Response [200]>\n",
      "page 22\n",
      "Number of ratings:  12309\n",
      "<Response [200]>\n",
      "page 23\n",
      "Number of ratings:  12409\n",
      "<Response [200]>\n",
      "page 24\n",
      "Number of ratings:  12509\n",
      "<Response [200]>\n",
      "SALIENDO = RATINGS0\n",
      "SALIENDO: not next or Rating0\n"
     ]
    },
    {
     "name": "stderr",
     "output_type": "stream",
     "text": [
      "\n",
      "  6%|████▋                                                                          | 27/456 [07:28<4:04:57, 34.26s/it]"
     ]
    },
    {
     "name": "stdout",
     "output_type": "stream",
     "text": [
      "TBibby\n",
      "page 0\n",
      "Number of ratings:  12583\n",
      "<Response [200]>\n",
      "SALIENDO = RATINGS0\n",
      "SALIENDO: not next or Rating0\n"
     ]
    },
    {
     "name": "stderr",
     "output_type": "stream",
     "text": [
      "\n",
      "  6%|████▊                                                                          | 28/456 [07:31<2:59:25, 25.15s/it]"
     ]
    },
    {
     "name": "stdout",
     "output_type": "stream",
     "text": [
      "srabbull\n",
      "page 0\n",
      "Number of ratings:  12612\n",
      "<Response [401]>\n",
      "No hay realases en la collection del user\n"
     ]
    },
    {
     "name": "stderr",
     "output_type": "stream",
     "text": [
      "\n",
      "  6%|█████                                                                          | 29/456 [07:33<2:08:42, 18.09s/it]"
     ]
    },
    {
     "name": "stdout",
     "output_type": "stream",
     "text": [
      "Auribus\n",
      "page 0\n",
      "Number of ratings:  12612\n",
      "<Response [200]>\n",
      "SALIENDO: not next or Rating0\n"
     ]
    },
    {
     "name": "stderr",
     "output_type": "stream",
     "text": [
      "\n",
      "  7%|█████▏                                                                         | 30/456 [07:35<1:33:21, 13.15s/it]"
     ]
    },
    {
     "name": "stdout",
     "output_type": "stream",
     "text": [
      "Aaron0083\n",
      "page 0\n",
      "Number of ratings:  12612\n",
      "<Response [200]>\n",
      "SALIENDO = RATINGS0\n",
      "SALIENDO: not next or Rating0\n"
     ]
    },
    {
     "name": "stderr",
     "output_type": "stream",
     "text": [
      "\n",
      "  7%|█████▎                                                                         | 31/456 [07:38<1:12:36, 10.25s/it]"
     ]
    },
    {
     "name": "stdout",
     "output_type": "stream",
     "text": [
      "VoittoAnkka\n",
      "page 0\n",
      "Number of ratings:  12612\n",
      "<Response [200]>\n",
      "SALIENDO = RATINGS0\n",
      "SALIENDO: not next or Rating0\n"
     ]
    },
    {
     "name": "stderr",
     "output_type": "stream",
     "text": [
      "\n",
      "  7%|█████▋                                                                           | 32/456 [07:42<58:59,  8.35s/it]"
     ]
    },
    {
     "name": "stdout",
     "output_type": "stream",
     "text": [
      "theslutbunny\n",
      "page 0\n",
      "Number of ratings:  12612\n",
      "<Response [200]>\n",
      "page 1\n",
      "Number of ratings:  12712\n",
      "<Response [200]>\n",
      "page 2\n",
      "Number of ratings:  12812\n",
      "<Response [200]>\n",
      "SALIENDO = RATINGS0\n",
      "SALIENDO: not next or Rating0\n"
     ]
    },
    {
     "name": "stderr",
     "output_type": "stream",
     "text": [
      "\n",
      "  7%|█████▊                                                                           | 33/456 [07:51<59:29,  8.44s/it]"
     ]
    },
    {
     "name": "stdout",
     "output_type": "stream",
     "text": [
      "oniomania\n",
      "page 0\n",
      "Number of ratings:  12871\n",
      "<Response [200]>\n",
      "SALIENDO: not next or Rating0\n"
     ]
    },
    {
     "name": "stderr",
     "output_type": "stream",
     "text": [
      "\n",
      "  7%|██████                                                                           | 34/456 [07:52<45:03,  6.41s/it]"
     ]
    },
    {
     "name": "stdout",
     "output_type": "stream",
     "text": [
      "no_noise_reduction\n",
      "page 0\n",
      "Number of ratings:  12871\n",
      "<Response [401]>\n",
      "No hay realases en la collection del user\n"
     ]
    },
    {
     "name": "stderr",
     "output_type": "stream",
     "text": [
      "\n",
      "  8%|██████▏                                                                          | 35/456 [07:54<34:50,  4.97s/it]"
     ]
    },
    {
     "name": "stdout",
     "output_type": "stream",
     "text": [
      "Llenyataire\n",
      "page 0\n",
      "Number of ratings:  12871\n",
      "<Response [401]>\n",
      "No hay realases en la collection del user\n"
     ]
    },
    {
     "name": "stderr",
     "output_type": "stream",
     "text": [
      "\n",
      "  8%|██████▍                                                                          | 36/456 [07:56<27:53,  3.99s/it]"
     ]
    },
    {
     "name": "stdout",
     "output_type": "stream",
     "text": [
      "Gedou\n",
      "page 0\n",
      "Number of ratings:  12871\n",
      "<Response [200]>\n",
      "SALIENDO = RATINGS0\n",
      "SALIENDO: not next or Rating0\n"
     ]
    },
    {
     "name": "stderr",
     "output_type": "stream",
     "text": [
      "\n",
      "  8%|██████▌                                                                          | 37/456 [07:59<26:19,  3.77s/it]"
     ]
    },
    {
     "name": "stdout",
     "output_type": "stream",
     "text": [
      "cjm49745\n",
      "page 0\n",
      "Number of ratings:  12874\n",
      "<Response [200]>\n",
      "SALIENDO = RATINGS0\n",
      "SALIENDO: not next or Rating0\n"
     ]
    },
    {
     "name": "stderr",
     "output_type": "stream",
     "text": [
      "\n",
      "  8%|██████▊                                                                          | 38/456 [08:02<25:44,  3.69s/it]"
     ]
    },
    {
     "name": "stdout",
     "output_type": "stream",
     "text": [
      "Adams-Vinyl\n",
      "page 0\n",
      "Number of ratings:  12902\n",
      "<Response [200]>\n",
      "SALIENDO = RATINGS0\n",
      "SALIENDO: not next or Rating0\n"
     ]
    },
    {
     "name": "stderr",
     "output_type": "stream",
     "text": [
      "\n",
      "  9%|██████▉                                                                          | 39/456 [08:05<23:41,  3.41s/it]"
     ]
    },
    {
     "name": "stdout",
     "output_type": "stream",
     "text": [
      "Bill_or_George\n",
      "page 0\n",
      "Number of ratings:  12903\n",
      "<Response [200]>\n",
      "page 1\n",
      "Number of ratings:  13003\n",
      "<Response [200]>\n",
      "page 2\n",
      "Number of ratings:  13103\n",
      "<Response [200]>\n",
      "SALIENDO = RATINGS0\n",
      "SALIENDO: not next or Rating0\n"
     ]
    },
    {
     "name": "stderr",
     "output_type": "stream",
     "text": [
      "\n",
      "  9%|███████                                                                          | 40/456 [08:15<36:24,  5.25s/it]"
     ]
    },
    {
     "name": "stdout",
     "output_type": "stream",
     "text": [
      "metalheadmosher\n",
      "page 0\n",
      "Number of ratings:  13143\n",
      "<Response [200]>\n",
      "SALIENDO = RATINGS0\n",
      "SALIENDO: not next or Rating0\n"
     ]
    },
    {
     "name": "stderr",
     "output_type": "stream",
     "text": [
      "\n",
      "  9%|███████▎                                                                         | 41/456 [08:19<33:51,  4.90s/it]"
     ]
    },
    {
     "name": "stdout",
     "output_type": "stream",
     "text": [
      "badadoom\n",
      "page 0\n",
      "Number of ratings:  13186\n",
      "<Response [401]>\n",
      "No hay realases en la collection del user\n"
     ]
    },
    {
     "name": "stderr",
     "output_type": "stream",
     "text": [
      "\n",
      "  9%|███████▍                                                                         | 42/456 [08:20<27:02,  3.92s/it]"
     ]
    },
    {
     "name": "stdout",
     "output_type": "stream",
     "text": [
      "Sandal-Records\n",
      "page 0\n",
      "Number of ratings:  13186\n",
      "<Response [401]>\n",
      "No hay realases en la collection del user\n"
     ]
    },
    {
     "name": "stderr",
     "output_type": "stream",
     "text": [
      "\n",
      "  9%|███████▋                                                                         | 43/456 [08:22<22:13,  3.23s/it]"
     ]
    },
    {
     "name": "stdout",
     "output_type": "stream",
     "text": [
      "jimiphil\n",
      "page 0\n",
      "Number of ratings:  13186\n",
      "<Response [200]>\n",
      "page 1\n",
      "Number of ratings:  13286\n",
      "<Response [200]>\n",
      "page 2\n",
      "Number of ratings:  13386\n",
      "<Response [200]>\n",
      "page 3\n",
      "Number of ratings:  13486\n",
      "<Response [200]>\n",
      "page 4\n",
      "Number of ratings:  13586\n",
      "<Response [200]>\n",
      "page 5\n",
      "Number of ratings:  13686\n",
      "<Response [200]>\n",
      "page 6\n",
      "Number of ratings:  13786\n",
      "<Response [200]>\n",
      "page 7\n",
      "Number of ratings:  13886\n",
      "<Response [200]>\n",
      "page 8\n",
      "Number of ratings:  13986\n",
      "<Response [200]>\n",
      "page 9\n",
      "Number of ratings:  14086\n",
      "<Response [200]>\n",
      "page 10\n",
      "Number of ratings:  14186\n",
      "<Response [200]>\n",
      "page 11\n",
      "Number of ratings:  14286\n",
      "<Response [200]>\n",
      "page 12\n",
      "Number of ratings:  14386\n",
      "<Response [200]>\n",
      "page 13\n",
      "Number of ratings:  14486\n",
      "<Response [200]>\n",
      "page 14\n",
      "Number of ratings:  14586\n",
      "<Response [200]>\n",
      "page 15\n",
      "Number of ratings:  14686\n",
      "<Response [200]>\n",
      "page 16\n",
      "Number of ratings:  14786\n",
      "<Response [200]>\n",
      "page 17\n",
      "Number of ratings:  14886\n",
      "<Response [200]>\n",
      "page 18\n",
      "Number of ratings:  14986\n",
      "<Response [200]>\n",
      "page 19\n",
      "Number of ratings:  15086\n",
      "<Response [200]>\n",
      "page 20\n",
      "Number of ratings:  15186\n",
      "<Response [200]>\n",
      "page 21\n",
      "Number of ratings:  15286\n",
      "<Response [200]>\n",
      "page 22\n",
      "Number of ratings:  15386\n",
      "<Response [200]>\n",
      "page 23\n",
      "Number of ratings:  15486\n",
      "<Response [200]>\n",
      "page 24\n",
      "Number of ratings:  15586\n",
      "<Response [200]>\n",
      "page 25\n",
      "Number of ratings:  15686\n",
      "<Response [200]>\n",
      "page 26\n",
      "Number of ratings:  15786\n",
      "<Response [200]>\n",
      "page 27\n",
      "Number of ratings:  15886\n",
      "<Response [200]>\n",
      "page 28\n",
      "Number of ratings:  15986\n",
      "<Response [200]>\n",
      "page 29\n",
      "Number of ratings:  16086\n",
      "<Response [200]>\n",
      "page 30\n",
      "Number of ratings:  16186\n",
      "<Response [200]>\n",
      "page 31\n",
      "Number of ratings:  16286\n",
      "<Response [200]>\n",
      "page 32\n",
      "Number of ratings:  16386\n",
      "<Response [200]>\n",
      "page 33\n",
      "Number of ratings:  16486\n",
      "<Response [200]>\n",
      "page 34\n",
      "Number of ratings:  16586\n",
      "<Response [200]>\n",
      "page 35\n",
      "Number of ratings:  16686\n",
      "<Response [200]>\n",
      "page 36\n",
      "Number of ratings:  16786\n",
      "<Response [200]>\n",
      "page 37\n",
      "Number of ratings:  16886\n",
      "<Response [200]>\n",
      "page 38\n",
      "Number of ratings:  16986\n",
      "<Response [200]>\n",
      "page 39\n",
      "Number of ratings:  17086\n",
      "<Response [200]>\n",
      "page 40\n",
      "Number of ratings:  17186\n",
      "<Response [200]>\n",
      "SALIENDO = RATINGS0\n",
      "SALIENDO: not next or Rating0\n"
     ]
    },
    {
     "name": "stderr",
     "output_type": "stream",
     "text": [
      "\n",
      " 10%|███████▌                                                                       | 44/456 [10:25<4:29:10, 39.20s/it]"
     ]
    },
    {
     "name": "stdout",
     "output_type": "stream",
     "text": [
      "reverendx\n",
      "page 0\n",
      "Number of ratings:  17257\n",
      "<Response [200]>\n",
      "SALIENDO = RATINGS0\n",
      "SALIENDO: not next or Rating0\n"
     ]
    },
    {
     "name": "stderr",
     "output_type": "stream",
     "text": [
      "\n",
      " 10%|███████▊                                                                       | 45/456 [10:28<3:14:23, 28.38s/it]"
     ]
    },
    {
     "name": "stdout",
     "output_type": "stream",
     "text": [
      "girfan\n",
      "page 0\n",
      "Number of ratings:  17263\n",
      "<Response [200]>\n",
      "SALIENDO = RATINGS0\n",
      "SALIENDO: not next or Rating0\n"
     ]
    },
    {
     "name": "stderr",
     "output_type": "stream",
     "text": [
      "\n",
      " 10%|███████▉                                                                       | 46/456 [10:31<2:22:05, 20.79s/it]"
     ]
    },
    {
     "name": "stdout",
     "output_type": "stream",
     "text": [
      "ivo6\n",
      "page 0\n",
      "Number of ratings:  17263\n",
      "<Response [200]>\n",
      "page 1\n",
      "Number of ratings:  17363\n",
      "<Response [200]>\n",
      "page 2\n",
      "Number of ratings:  17463\n",
      "<Response [200]>\n",
      "page 3\n",
      "Number of ratings:  17563\n",
      "<Response [200]>\n",
      "page 4\n",
      "Number of ratings:  17663\n",
      "<Response [200]>\n",
      "page 5\n",
      "Number of ratings:  17763\n",
      "<Response [200]>\n",
      "page 6\n",
      "Number of ratings:  17863\n",
      "<Response [200]>\n",
      "page 7\n",
      "Number of ratings:  17963\n",
      "<Response [200]>\n",
      "page 8\n",
      "Number of ratings:  18063\n",
      "<Response [200]>\n",
      "page 9\n",
      "Number of ratings:  18163\n",
      "<Response [200]>\n",
      "page 10\n",
      "Number of ratings:  18263\n",
      "<Response [200]>\n",
      "page 11\n",
      "Number of ratings:  18363\n",
      "<Response [200]>\n",
      "page 12\n",
      "Number of ratings:  18463\n",
      "<Response [200]>\n",
      "page 13\n",
      "Number of ratings:  18563\n",
      "<Response [200]>\n",
      "page 14\n",
      "Number of ratings:  18663\n",
      "<Response [200]>\n",
      "page 15\n",
      "Number of ratings:  18763\n",
      "<Response [200]>\n",
      "page 16\n",
      "Number of ratings:  18863\n",
      "<Response [200]>\n",
      "page 17\n",
      "Number of ratings:  18963\n",
      "<Response [200]>\n",
      "page 18\n",
      "Number of ratings:  19063\n",
      "<Response [200]>\n",
      "page 19\n",
      "Number of ratings:  19163\n",
      "<Response [200]>\n",
      "page 20\n",
      "Number of ratings:  19263\n",
      "<Response [200]>\n",
      "page 21\n",
      "Number of ratings:  19363\n",
      "<Response [200]>\n",
      "SALIENDO = RATINGS0\n",
      "SALIENDO: not next or Rating0\n"
     ]
    },
    {
     "name": "stderr",
     "output_type": "stream",
     "text": [
      "\n",
      " 10%|████████▏                                                                      | 47/456 [11:42<4:03:10, 35.67s/it]"
     ]
    },
    {
     "name": "stdout",
     "output_type": "stream",
     "text": [
      "WotSefak\n",
      "page 0\n",
      "Number of ratings:  19432\n",
      "<Response [200]>\n",
      "SALIENDO = RATINGS0\n",
      "SALIENDO: not next or Rating0\n"
     ]
    },
    {
     "name": "stderr",
     "output_type": "stream",
     "text": [
      "\n",
      " 11%|████████▎                                                                      | 48/456 [11:45<2:57:04, 26.04s/it]"
     ]
    },
    {
     "name": "stdout",
     "output_type": "stream",
     "text": [
      "Mop66\n",
      "page 0\n",
      "Number of ratings:  19437\n",
      "<Response [200]>\n",
      "page 1\n",
      "Number of ratings:  19537\n",
      "<Response [200]>\n",
      "page 2\n",
      "Number of ratings:  19637\n",
      "<Response [200]>\n",
      "page 3\n",
      "Number of ratings:  19737\n",
      "<Response [200]>\n",
      "page 4\n",
      "Number of ratings:  19837\n",
      "<Response [200]>\n",
      "page 5\n",
      "Number of ratings:  19937\n",
      "<Response [200]>\n",
      "page 6\n",
      "Number of ratings:  20037\n",
      "<Response [200]>\n",
      "page 7\n",
      "Number of ratings:  20137\n",
      "<Response [200]>\n",
      "page 8\n",
      "Number of ratings:  20237\n",
      "<Response [200]>\n",
      "page 9\n",
      "Number of ratings:  20337\n",
      "<Response [200]>\n",
      "page 10\n",
      "Number of ratings:  20437\n",
      "<Response [200]>\n",
      "page 11\n",
      "Number of ratings:  20537\n",
      "<Response [200]>\n",
      "page 12\n",
      "Number of ratings:  20637\n",
      "<Response [200]>\n",
      "page 13\n",
      "Number of ratings:  20737\n",
      "<Response [200]>\n",
      "page 14\n",
      "Number of ratings:  20837\n",
      "<Response [200]>\n",
      "page 15\n",
      "Number of ratings:  20937\n",
      "<Response [200]>\n",
      "page 16\n",
      "Number of ratings:  21037\n",
      "<Response [200]>\n",
      "page 17\n",
      "Number of ratings:  21137\n",
      "<Response [200]>\n",
      "page 18\n",
      "Number of ratings:  21237\n",
      "<Response [200]>\n",
      "page 19\n",
      "Number of ratings:  21337\n",
      "<Response [200]>\n",
      "page 20\n",
      "Number of ratings:  21437\n",
      "<Response [200]>\n",
      "page 21\n",
      "Number of ratings:  21537\n",
      "<Response [200]>\n",
      "SALIENDO = RATINGS0\n",
      "SALIENDO: not next or Rating0\n"
     ]
    },
    {
     "name": "stderr",
     "output_type": "stream",
     "text": [
      "\n",
      " 11%|████████▍                                                                      | 49/456 [12:52<4:19:27, 38.25s/it]"
     ]
    },
    {
     "name": "stdout",
     "output_type": "stream",
     "text": [
      "majacol\n",
      "page 0\n",
      "Number of ratings:  21634\n",
      "<Response [200]>\n",
      "SALIENDO = RATINGS0\n",
      "SALIENDO: not next or Rating0\n"
     ]
    },
    {
     "name": "stderr",
     "output_type": "stream",
     "text": [
      "\n",
      " 11%|████████▋                                                                      | 50/456 [12:56<3:08:55, 27.92s/it]"
     ]
    },
    {
     "name": "stdout",
     "output_type": "stream",
     "text": [
      "chromant\n",
      "page 0\n",
      "Number of ratings:  21640\n",
      "<Response [200]>\n",
      "SALIENDO = RATINGS0\n",
      "SALIENDO: not next or Rating0\n"
     ]
    },
    {
     "name": "stderr",
     "output_type": "stream",
     "text": [
      "\n",
      " 11%|████████▊                                                                      | 51/456 [12:59<2:18:32, 20.53s/it]"
     ]
    },
    {
     "name": "stdout",
     "output_type": "stream",
     "text": [
      "hereintheyear\n",
      "page 0\n",
      "Number of ratings:  21642\n",
      "<Response [200]>\n",
      "SALIENDO = RATINGS0\n",
      "SALIENDO: not next or Rating0\n"
     ]
    },
    {
     "name": "stderr",
     "output_type": "stream",
     "text": [
      "\n",
      " 11%|█████████                                                                      | 52/456 [13:03<1:43:25, 15.36s/it]"
     ]
    },
    {
     "name": "stdout",
     "output_type": "stream",
     "text": [
      "OLDFRIENDSFORSALE\n",
      "page 0\n",
      "Number of ratings:  21642\n",
      "<Response [200]>\n",
      "SALIENDO: not next or Rating0\n"
     ]
    },
    {
     "name": "stderr",
     "output_type": "stream",
     "text": [
      "\n",
      " 12%|█████████▏                                                                     | 53/456 [13:04<1:15:36, 11.26s/it]"
     ]
    },
    {
     "name": "stdout",
     "output_type": "stream",
     "text": [
      "criture\n",
      "page 0\n",
      "Number of ratings:  21642\n",
      "<Response [200]>\n",
      "SALIENDO = RATINGS0\n",
      "SALIENDO: not next or Rating0\n"
     ]
    },
    {
     "name": "stderr",
     "output_type": "stream",
     "text": [
      "\n",
      " 12%|█████████▌                                                                       | 54/456 [13:07<58:55,  8.79s/it]"
     ]
    },
    {
     "name": "stdout",
     "output_type": "stream",
     "text": [
      "kurts.ear.candy\n",
      "page 0\n",
      "Number of ratings:  21642\n",
      "<Response [200]>\n",
      "page 1\n",
      "Number of ratings:  21742\n",
      "<Response [200]>\n",
      "page 2\n",
      "Number of ratings:  21842\n",
      "<Response [200]>\n",
      "page 3\n",
      "Number of ratings:  21942\n",
      "<Response [200]>\n",
      "page 4\n",
      "Number of ratings:  22042\n",
      "<Response [200]>\n",
      "SALIENDO = RATINGS0\n",
      "SALIENDO: not next or Rating0\n"
     ]
    },
    {
     "name": "stderr",
     "output_type": "stream",
     "text": [
      "\n",
      " 12%|█████████▌                                                                     | 55/456 [13:23<1:13:06, 10.94s/it]"
     ]
    },
    {
     "name": "stdout",
     "output_type": "stream",
     "text": [
      "sirjoe7\n",
      "page 0\n",
      "Number of ratings:  22096\n",
      "<Response [200]>\n",
      "SALIENDO = RATINGS0\n",
      "SALIENDO: not next or Rating0\n"
     ]
    },
    {
     "name": "stderr",
     "output_type": "stream",
     "text": [
      "\n",
      " 12%|█████████▉                                                                       | 56/456 [13:27<58:10,  8.73s/it]"
     ]
    },
    {
     "name": "stdout",
     "output_type": "stream",
     "text": [
      "vouvounix\n",
      "page 0\n",
      "Number of ratings:  22145\n",
      "<Response [200]>\n",
      "page 1\n",
      "Number of ratings:  22245\n",
      "<Response [200]>\n",
      "page 2\n",
      "Number of ratings:  22345\n",
      "<Response [200]>\n",
      "page 3\n",
      "Number of ratings:  22445\n",
      "<Response [200]>\n",
      "page 4\n",
      "Number of ratings:  22545\n",
      "<Response [200]>\n",
      "page 5\n",
      "Number of ratings:  22645\n",
      "<Response [200]>\n",
      "page 6\n",
      "Number of ratings:  22745\n",
      "<Response [200]>\n",
      "page 7\n",
      "Number of ratings:  22845\n",
      "<Response [200]>\n",
      "page 8\n",
      "Number of ratings:  22945\n",
      "<Response [200]>\n",
      "page 9\n",
      "Number of ratings:  23045\n",
      "<Response [200]>\n",
      "page 10\n",
      "Number of ratings:  23145\n",
      "<Response [200]>\n",
      "page 11\n",
      "Number of ratings:  23245\n",
      "<Response [200]>\n",
      "page 12\n",
      "Number of ratings:  23345\n",
      "<Response [200]>\n",
      "page 13\n",
      "Number of ratings:  23445\n",
      "<Response [200]>\n",
      "page 14\n",
      "Number of ratings:  23545\n",
      "<Response [200]>\n",
      "page 15\n",
      "Number of ratings:  23645\n",
      "<Response [200]>\n",
      "page 16\n",
      "Number of ratings:  23745\n",
      "<Response [200]>\n",
      "page 17\n",
      "Number of ratings:  23845\n",
      "<Response [200]>\n",
      "page 18\n",
      "Number of ratings:  23945\n",
      "<Response [200]>\n",
      "page 19\n",
      "Number of ratings:  24045\n",
      "<Response [200]>\n",
      "page 20\n",
      "Number of ratings:  24145\n",
      "<Response [200]>\n",
      "page 21\n",
      "Number of ratings:  24245\n",
      "<Response [200]>\n",
      "page 22\n",
      "Number of ratings:  24345\n",
      "<Response [200]>\n",
      "page 23\n",
      "Number of ratings:  24445\n",
      "<Response [200]>\n",
      "page 24\n",
      "Number of ratings:  24545\n",
      "<Response [200]>\n",
      "page 25\n",
      "Number of ratings:  24645\n",
      "<Response [200]>\n",
      "page 26\n",
      "Number of ratings:  24745\n",
      "<Response [200]>\n",
      "page 27\n",
      "Number of ratings:  24845\n",
      "<Response [200]>\n",
      "page 28\n",
      "Number of ratings:  24945\n",
      "<Response [200]>\n",
      "page 29\n",
      "Number of ratings:  25045\n",
      "<Response [200]>\n",
      "page 30\n",
      "Number of ratings:  25145\n",
      "<Response [200]>\n",
      "page 31\n",
      "Number of ratings:  25245\n",
      "<Response [200]>\n",
      "page 32\n",
      "Number of ratings:  25345\n",
      "<Response [200]>\n",
      "page 33\n",
      "Number of ratings:  25445\n",
      "<Response [200]>\n",
      "page 34\n",
      "Number of ratings:  25545\n",
      "<Response [200]>\n",
      "page 35\n",
      "Number of ratings:  25645\n",
      "<Response [200]>\n",
      "page 36\n",
      "Number of ratings:  25745\n",
      "<Response [200]>\n",
      "page 37\n",
      "Number of ratings:  25845\n",
      "<Response [200]>\n",
      "page 38\n",
      "Number of ratings:  25945\n",
      "<Response [200]>\n",
      "page 39\n",
      "Number of ratings:  26045\n",
      "<Response [200]>\n",
      "page 40\n",
      "Number of ratings:  26145\n",
      "<Response [200]>\n",
      "page 41\n",
      "Number of ratings:  26245\n",
      "<Response [200]>\n",
      "page 42\n",
      "Number of ratings:  26345\n",
      "<Response [200]>\n",
      "SALIENDO = RATINGS0\n",
      "SALIENDO: not next or Rating0\n"
     ]
    },
    {
     "name": "stderr",
     "output_type": "stream",
     "text": [
      "\n",
      " 12%|█████████▉                                                                     | 57/456 [15:38<5:02:43, 45.52s/it]"
     ]
    },
    {
     "name": "stdout",
     "output_type": "stream",
     "text": [
      "Surface_Records\n",
      "page 0\n",
      "Number of ratings:  26402\n",
      "<Response [200]>\n",
      "SALIENDO = RATINGS0\n",
      "SALIENDO: not next or Rating0\n"
     ]
    },
    {
     "name": "stderr",
     "output_type": "stream",
     "text": [
      "\n",
      " 13%|██████████                                                                     | 58/456 [15:40<3:35:51, 32.54s/it]"
     ]
    },
    {
     "name": "stdout",
     "output_type": "stream",
     "text": [
      "ultimathulerecords\n",
      "page 0\n",
      "Number of ratings:  26402\n",
      "<Response [200]>\n",
      "page 1\n",
      "Number of ratings:  26502\n",
      "<Response [200]>\n",
      "page 2\n",
      "Number of ratings:  26602\n",
      "<Response [200]>\n",
      "page 3\n",
      "Number of ratings:  26702\n",
      "<Response [200]>\n",
      "page 4\n",
      "Number of ratings:  26802\n",
      "<Response [200]>\n",
      "page 5\n",
      "Number of ratings:  26902\n",
      "<Response [200]>\n",
      "SALIENDO = RATINGS0\n",
      "SALIENDO: not next or Rating0\n"
     ]
    },
    {
     "name": "stderr",
     "output_type": "stream",
     "text": [
      "\n",
      " 13%|██████████▏                                                                    | 59/456 [15:57<3:04:33, 27.89s/it]"
     ]
    },
    {
     "name": "stdout",
     "output_type": "stream",
     "text": [
      "mtwallet\n",
      "page 0\n",
      "Number of ratings:  26929\n",
      "<Response [401]>\n",
      "No hay realases en la collection del user\n"
     ]
    },
    {
     "name": "stderr",
     "output_type": "stream",
     "text": [
      "\n",
      " 13%|██████████▍                                                                    | 60/456 [15:59<2:12:04, 20.01s/it]"
     ]
    },
    {
     "name": "stdout",
     "output_type": "stream",
     "text": [
      "Dep435\n",
      "page 0\n",
      "Number of ratings:  26929\n",
      "<Response [200]>\n",
      "SALIENDO = RATINGS0\n",
      "SALIENDO: not next or Rating0\n"
     ]
    },
    {
     "name": "stderr",
     "output_type": "stream",
     "text": [
      "\n",
      " 13%|██████████▌                                                                    | 61/456 [16:03<1:39:42, 15.15s/it]"
     ]
    },
    {
     "name": "stdout",
     "output_type": "stream",
     "text": [
      "dyet\n",
      "page 0\n",
      "Number of ratings:  26930\n",
      "<Response [200]>\n",
      "SALIENDO = RATINGS0\n",
      "SALIENDO: not next or Rating0\n"
     ]
    },
    {
     "name": "stderr",
     "output_type": "stream",
     "text": [
      "\n",
      " 14%|██████████▋                                                                    | 62/456 [16:07<1:18:02, 11.89s/it]"
     ]
    },
    {
     "name": "stdout",
     "output_type": "stream",
     "text": [
      "essrafan\n",
      "page 0\n",
      "Number of ratings:  26958\n",
      "<Response [200]>\n",
      "page 1\n",
      "Number of ratings:  27058\n",
      "<Response [200]>\n",
      "page 2\n",
      "Number of ratings:  27158\n",
      "<Response [200]>\n",
      "page 3\n",
      "Number of ratings:  27258\n",
      "<Response [200]>\n",
      "page 4\n",
      "Number of ratings:  27358\n",
      "<Response [200]>\n",
      "page 5\n",
      "Number of ratings:  27458\n",
      "<Response [200]>\n",
      "SALIENDO = RATINGS0\n",
      "SALIENDO: not next or Rating0\n"
     ]
    },
    {
     "name": "stderr",
     "output_type": "stream",
     "text": [
      "\n",
      " 14%|██████████▉                                                                    | 63/456 [16:33<1:46:02, 16.19s/it]"
     ]
    },
    {
     "name": "stdout",
     "output_type": "stream",
     "text": [
      "teninchfan\n",
      "page 0\n",
      "Number of ratings:  27524\n",
      "<Response [200]>\n",
      "page 1\n",
      "Number of ratings:  27624\n",
      "<Response [200]>\n",
      "page 2\n",
      "Number of ratings:  27724\n",
      "<Response [200]>\n",
      "page 3\n",
      "Number of ratings:  27824\n",
      "<Response [200]>\n",
      "page 4\n",
      "Number of ratings:  27924\n",
      "<Response [200]>\n",
      "page 5\n",
      "Number of ratings:  28024\n",
      "<Response [200]>\n",
      "page 6\n",
      "Number of ratings:  28124\n",
      "<Response [200]>\n",
      "page 7\n",
      "Number of ratings:  28224\n",
      "<Response [200]>\n",
      "page 8\n",
      "Number of ratings:  28324\n",
      "<Response [200]>\n",
      "page 9\n",
      "Number of ratings:  28424\n",
      "<Response [200]>\n",
      "page 10\n",
      "Number of ratings:  28524\n",
      "<Response [200]>\n",
      "page 11\n",
      "Number of ratings:  28624\n",
      "<Response [200]>\n",
      "page 12\n",
      "Number of ratings:  28724\n",
      "<Response [200]>\n",
      "page 13\n",
      "Number of ratings:  28824\n",
      "<Response [200]>\n",
      "page 14\n",
      "Number of ratings:  28924\n",
      "<Response [200]>\n",
      "page 15\n",
      "Number of ratings:  29024\n",
      "<Response [200]>\n",
      "page 16\n",
      "Number of ratings:  29124\n",
      "<Response [200]>\n",
      "page 17\n",
      "Number of ratings:  29224\n",
      "<Response [200]>\n",
      "page 18\n",
      "Number of ratings:  29324\n",
      "<Response [200]>\n",
      "page 19\n",
      "Number of ratings:  29424\n",
      "<Response [200]>\n",
      "page 20\n",
      "Number of ratings:  29524\n",
      "<Response [200]>\n",
      "page 21\n",
      "Number of ratings:  29624\n",
      "<Response [200]>\n",
      "page 22\n",
      "Number of ratings:  29724\n",
      "<Response [200]>\n",
      "page 23\n",
      "Number of ratings:  29824\n",
      "<Response [200]>\n",
      "page 24\n",
      "Number of ratings:  29924\n",
      "<Response [200]>\n",
      "page 25\n",
      "Number of ratings:  30024\n",
      "<Response [200]>\n",
      "page 26\n",
      "Number of ratings:  30124\n",
      "<Response [200]>\n",
      "page 27\n",
      "Number of ratings:  30224\n",
      "<Response [200]>\n",
      "page 28\n",
      "Number of ratings:  30324\n",
      "<Response [200]>\n",
      "page 29\n",
      "Number of ratings:  30424\n",
      "<Response [200]>\n",
      "page 30\n",
      "Number of ratings:  30524\n",
      "<Response [200]>\n",
      "page 31\n",
      "Number of ratings:  30624\n",
      "<Response [200]>\n",
      "page 32\n",
      "Number of ratings:  30724\n",
      "<Response [200]>\n",
      "page 33\n",
      "Number of ratings:  30824\n",
      "<Response [200]>\n",
      "page 34\n",
      "Number of ratings:  30924\n",
      "<Response [200]>\n",
      "page 35\n",
      "Number of ratings:  31024\n",
      "<Response [200]>\n",
      "page 36\n",
      "Number of ratings:  31124\n",
      "<Response [200]>\n",
      "page 37\n",
      "Number of ratings:  31224\n",
      "<Response [200]>\n",
      "page 38\n",
      "Number of ratings:  31324\n",
      "<Response [200]>\n",
      "page 39\n",
      "Number of ratings:  31424\n",
      "<Response [200]>\n",
      "page 40\n",
      "Number of ratings:  31524\n",
      "<Response [200]>\n",
      "page 41\n",
      "Number of ratings:  31624\n",
      "<Response [200]>\n",
      "page 42\n",
      "Number of ratings:  31724\n",
      "<Response [200]>\n",
      "page 43\n",
      "Number of ratings:  31824\n",
      "<Response [200]>\n",
      "page 44\n",
      "Number of ratings:  31924\n",
      "<Response [200]>\n",
      "page 45\n",
      "Number of ratings:  32024\n",
      "<Response [200]>\n",
      "page 46\n",
      "Number of ratings:  32124\n",
      "<Response [200]>\n",
      "page 47\n",
      "Number of ratings:  32224\n",
      "<Response [200]>\n",
      "page 48\n",
      "Number of ratings:  32324\n",
      "<Response [200]>\n",
      "page 49\n",
      "Number of ratings:  32424\n",
      "<Response [200]>\n",
      "page 50\n",
      "Number of ratings:  32524\n",
      "<Response [200]>\n",
      "page 51\n",
      "Number of ratings:  32624\n",
      "<Response [200]>\n",
      "page 52\n",
      "Number of ratings:  32724\n",
      "<Response [200]>\n",
      "page 53\n",
      "Number of ratings:  32824\n",
      "<Response [200]>\n",
      "page 54\n",
      "Number of ratings:  32924\n",
      "<Response [200]>\n",
      "page 55\n",
      "Number of ratings:  33024\n",
      "<Response [200]>\n",
      "page 56\n",
      "Number of ratings:  33124\n",
      "<Response [200]>\n",
      "page 57\n",
      "Number of ratings:  33224\n",
      "<Response [200]>\n",
      "page 58\n",
      "Number of ratings:  33324\n",
      "<Response [200]>\n",
      "page 59\n",
      "Number of ratings:  33424\n",
      "<Response [200]>\n",
      "page 60\n",
      "Number of ratings:  33524\n",
      "<Response [200]>\n",
      "page 61\n",
      "Number of ratings:  33624\n",
      "<Response [200]>\n",
      "page 62\n",
      "Number of ratings:  33724\n",
      "<Response [200]>\n",
      "page 63\n",
      "Number of ratings:  33824\n",
      "<Response [200]>\n",
      "page 64\n",
      "Number of ratings:  33924\n",
      "<Response [200]>\n",
      "page 65\n",
      "Number of ratings:  34024\n",
      "<Response [200]>\n",
      "page 66\n",
      "Number of ratings:  34124\n",
      "<Response [200]>\n",
      "page 67\n",
      "Number of ratings:  34224\n",
      "<Response [200]>\n",
      "page 68\n",
      "Number of ratings:  34324\n",
      "<Response [200]>\n",
      "page 69\n",
      "Number of ratings:  34424\n",
      "<Response [200]>\n",
      "page 70\n",
      "Number of ratings:  34524\n",
      "<Response [200]>\n",
      "page 71\n",
      "Number of ratings:  34624\n",
      "<Response [200]>\n",
      "page 72\n",
      "Number of ratings:  34724\n",
      "<Response [200]>\n",
      "page 73\n",
      "Number of ratings:  34824\n",
      "<Response [200]>\n",
      "page 74\n",
      "Number of ratings:  34924\n",
      "<Response [200]>\n",
      "page 75\n",
      "Number of ratings:  35024\n",
      "<Response [200]>\n",
      "page 76\n",
      "Number of ratings:  35124\n",
      "<Response [200]>\n",
      "page 77\n",
      "Number of ratings:  35224\n",
      "<Response [200]>\n",
      "page 78\n",
      "Number of ratings:  35324\n",
      "<Response [200]>\n",
      "page 79\n",
      "Number of ratings:  35424\n",
      "<Response [200]>\n",
      "page 80\n",
      "Number of ratings:  35524\n",
      "<Response [200]>\n",
      "page 81\n",
      "Number of ratings:  35624\n",
      "<Response [200]>\n",
      "page 82\n",
      "Number of ratings:  35724\n",
      "<Response [200]>\n",
      "page 83\n",
      "Number of ratings:  35824\n",
      "<Response [200]>\n",
      "page 84\n",
      "Number of ratings:  35924\n",
      "<Response [200]>\n",
      "page 85\n",
      "Number of ratings:  36024\n",
      "<Response [200]>\n",
      "page 86\n",
      "Number of ratings:  36124\n",
      "<Response [200]>\n",
      "page 87\n",
      "Number of ratings:  36224\n",
      "<Response [200]>\n",
      "page 88\n",
      "Number of ratings:  36324\n",
      "<Response [200]>\n",
      "page 89\n",
      "Number of ratings:  36424\n",
      "<Response [200]>\n",
      "page 90\n",
      "Number of ratings:  36524\n",
      "<Response [200]>\n",
      "page 91\n",
      "Number of ratings:  36624\n",
      "<Response [200]>\n",
      "page 92\n",
      "Number of ratings:  36724\n",
      "<Response [200]>\n",
      "page 93\n",
      "Number of ratings:  36824\n",
      "<Response [200]>\n",
      "page 94\n",
      "Number of ratings:  36924\n",
      "<Response [200]>\n",
      "page 95\n",
      "Number of ratings:  37024\n",
      "<Response [200]>\n",
      "page 96\n",
      "Number of ratings:  37124\n",
      "<Response [200]>\n",
      "page 97\n",
      "Number of ratings:  37224\n",
      "<Response [200]>\n",
      "page 98\n",
      "Number of ratings:  37324\n",
      "<Response [200]>\n",
      "page 99\n",
      "Number of ratings:  37424\n",
      "<Response [200]>\n",
      "page 100\n",
      "Number of ratings:  37524\n",
      "<Response [200]>\n",
      "page 101\n",
      "Number of ratings:  37624\n",
      "<Response [200]>\n",
      "page 102\n",
      "Number of ratings:  37724\n",
      "<Response [200]>\n",
      "page 103\n",
      "Number of ratings:  37824\n",
      "<Response [200]>\n",
      "page 104\n",
      "Number of ratings:  37924\n",
      "<Response [200]>\n",
      "page 105\n",
      "Number of ratings:  38024\n",
      "<Response [200]>\n",
      "page 106\n",
      "Number of ratings:  38124\n",
      "<Response [200]>\n",
      "SALIENDO = RATINGS0\n",
      "SALIENDO: not next or Rating0\n"
     ]
    },
    {
     "name": "stderr",
     "output_type": "stream",
     "text": [
      "\n",
      " 14%|██████████▊                                                                  | 64/456 [23:01<13:54:27, 127.72s/it]"
     ]
    },
    {
     "name": "stdout",
     "output_type": "stream",
     "text": [
      "devotionalie\n",
      "page 0\n",
      "Number of ratings:  38156\n",
      "<Response [401]>\n",
      "No hay realases en la collection del user\n"
     ]
    },
    {
     "name": "stderr",
     "output_type": "stream",
     "text": [
      "\n",
      " 14%|███████████▎                                                                   | 65/456 [23:03<9:45:42, 89.88s/it]"
     ]
    },
    {
     "name": "stdout",
     "output_type": "stream",
     "text": [
      "dnlkdwll\n",
      "page 0\n",
      "Number of ratings:  38156\n",
      "<Response [200]>\n",
      "page 1\n",
      "Number of ratings:  38256\n",
      "<Response [200]>\n",
      "page 2\n",
      "Number of ratings:  38356\n",
      "<Response [200]>\n",
      "page 3\n",
      "Number of ratings:  38456\n",
      "<Response [200]>\n",
      "page 4\n",
      "Number of ratings:  38556\n",
      "<Response [200]>\n",
      "page 5\n",
      "Number of ratings:  38656\n",
      "<Response [200]>\n",
      "page 6\n",
      "Number of ratings:  38756\n",
      "<Response [200]>\n",
      "page 7\n",
      "Number of ratings:  38856\n",
      "<Response [200]>\n",
      "page 8\n",
      "Number of ratings:  38956\n",
      "<Response [200]>\n",
      "page 9\n",
      "Number of ratings:  39056\n",
      "<Response [200]>\n",
      "page 10\n",
      "Number of ratings:  39156\n",
      "<Response [200]>\n",
      "page 11\n",
      "Number of ratings:  39256\n",
      "<Response [200]>\n",
      "page 12\n",
      "Number of ratings:  39356\n",
      "<Response [200]>\n",
      "page 13\n",
      "Number of ratings:  39456\n",
      "<Response [200]>\n",
      "SALIENDO = RATINGS0\n",
      "SALIENDO: not next or Rating0\n"
     ]
    },
    {
     "name": "stderr",
     "output_type": "stream",
     "text": [
      "\n",
      " 14%|███████████▍                                                                   | 66/456 [23:50<8:20:01, 76.93s/it]"
     ]
    },
    {
     "name": "stdout",
     "output_type": "stream",
     "text": [
      "WyattMiller\n",
      "page 0\n",
      "Number of ratings:  39464\n",
      "<Response [200]>\n",
      "SALIENDO = RATINGS0\n",
      "SALIENDO: not next or Rating0\n"
     ]
    },
    {
     "name": "stderr",
     "output_type": "stream",
     "text": [
      "\n",
      " 15%|███████████▌                                                                   | 67/456 [23:53<5:56:30, 54.99s/it]"
     ]
    },
    {
     "name": "stdout",
     "output_type": "stream",
     "text": [
      "BruceFeuillette\n",
      "page 0\n",
      "Number of ratings:  39467\n",
      "<Response [200]>\n",
      "page 1\n",
      "Number of ratings:  39567\n",
      "<Response [200]>\n",
      "page 2\n",
      "Number of ratings:  39667\n",
      "<Response [200]>\n",
      "SALIENDO = RATINGS0\n",
      "SALIENDO: not next or Rating0\n"
     ]
    },
    {
     "name": "stderr",
     "output_type": "stream",
     "text": [
      "\n",
      " 15%|███████████▊                                                                   | 68/456 [24:04<4:29:30, 41.68s/it]"
     ]
    },
    {
     "name": "stdout",
     "output_type": "stream",
     "text": [
      "a1musik\n",
      "page 0\n",
      "Number of ratings:  39681\n",
      "<Response [200]>\n",
      "SALIENDO: not next or Rating0\n"
     ]
    },
    {
     "name": "stderr",
     "output_type": "stream",
     "text": [
      "\n",
      " 15%|███████████▉                                                                   | 69/456 [24:06<3:11:16, 29.66s/it]"
     ]
    },
    {
     "name": "stdout",
     "output_type": "stream",
     "text": [
      "Nolan.Reese\n",
      "page 0\n",
      "Number of ratings:  39681\n",
      "<Response [200]>\n",
      "page 1\n",
      "Number of ratings:  39781\n",
      "<Response [200]>\n",
      "page 2\n",
      "Number of ratings:  39881\n",
      "<Response [200]>\n",
      "SALIENDO = RATINGS0\n",
      "SALIENDO: not next or Rating0\n"
     ]
    },
    {
     "name": "stderr",
     "output_type": "stream",
     "text": [
      "\n",
      " 15%|████████████▏                                                                  | 70/456 [24:16<2:34:15, 23.98s/it]"
     ]
    },
    {
     "name": "stdout",
     "output_type": "stream",
     "text": [
      "hafler3o\n",
      "page 0\n",
      "Number of ratings:  39966\n",
      "<Response [200]>\n",
      "page 1\n",
      "Number of ratings:  40066\n",
      "<Response [200]>\n",
      "page 2\n",
      "Number of ratings:  40166\n",
      "<Response [200]>\n",
      "page 3\n",
      "Number of ratings:  40266\n",
      "<Response [200]>\n",
      "page 4\n",
      "Number of ratings:  40366\n",
      "<Response [200]>\n",
      "page 5\n",
      "Number of ratings:  40466\n",
      "<Response [200]>\n",
      "page 6\n",
      "Number of ratings:  40566\n",
      "<Response [200]>\n",
      "page 7\n",
      "Number of ratings:  40666\n",
      "<Response [200]>\n",
      "page 8\n",
      "Number of ratings:  40766\n",
      "<Response [200]>\n",
      "page 9\n",
      "Number of ratings:  40866\n",
      "<Response [200]>\n",
      "page 10\n",
      "Number of ratings:  40966\n",
      "<Response [200]>\n",
      "page 11\n",
      "Number of ratings:  41066\n",
      "<Response [200]>\n",
      "page 12\n",
      "Number of ratings:  41166\n",
      "<Response [200]>\n",
      "page 13\n",
      "Number of ratings:  41266\n",
      "<Response [200]>\n",
      "page 14\n",
      "Number of ratings:  41366\n",
      "<Response [200]>\n",
      "page 15\n",
      "Number of ratings:  41466\n",
      "<Response [200]>\n",
      "SALIENDO = RATINGS0\n",
      "SALIENDO: not next or Rating0\n"
     ]
    },
    {
     "name": "stderr",
     "output_type": "stream",
     "text": [
      "\n",
      " 16%|████████████▎                                                                  | 71/456 [25:10<3:30:19, 32.78s/it]"
     ]
    },
    {
     "name": "stdout",
     "output_type": "stream",
     "text": [
      "mikkelhk\n",
      "page 0\n",
      "Number of ratings:  41538\n",
      "<Response [200]>\n",
      "page 1\n",
      "Number of ratings:  41638\n",
      "<Response [200]>\n",
      "page 2\n",
      "Number of ratings:  41738\n",
      "<Response [200]>\n",
      "page 3\n",
      "Number of ratings:  41838\n",
      "<Response [200]>\n",
      "page 4\n",
      "Number of ratings:  41938\n",
      "<Response [200]>\n",
      "page 5\n",
      "Number of ratings:  42038\n",
      "<Response [200]>\n",
      "page 6\n",
      "Number of ratings:  42138\n",
      "<Response [200]>\n",
      "page 7\n",
      "Number of ratings:  42238\n",
      "<Response [200]>\n",
      "SALIENDO = RATINGS0\n",
      "SALIENDO: not next or Rating0\n"
     ]
    },
    {
     "name": "stderr",
     "output_type": "stream",
     "text": [
      "\n",
      " 16%|████████████▍                                                                  | 72/456 [25:39<3:23:14, 31.76s/it]"
     ]
    },
    {
     "name": "stdout",
     "output_type": "stream",
     "text": [
      "edited\n",
      "page 0\n",
      "Number of ratings:  42323\n",
      "<Response [401]>\n",
      "No hay realases en la collection del user\n"
     ]
    },
    {
     "name": "stderr",
     "output_type": "stream",
     "text": [
      "\n",
      " 16%|████████████▋                                                                  | 73/456 [25:41<2:25:04, 22.73s/it]"
     ]
    },
    {
     "name": "stdout",
     "output_type": "stream",
     "text": [
      "jander\n",
      "page 0\n",
      "Number of ratings:  42323\n",
      "<Response [200]>\n",
      "page 1\n",
      "Number of ratings:  42423\n",
      "<Response [200]>\n",
      "page 2\n",
      "Number of ratings:  42523\n",
      "<Response [200]>\n",
      "page 3\n",
      "Number of ratings:  42623\n",
      "<Response [200]>\n",
      "SALIENDO = RATINGS0\n",
      "SALIENDO: not next or Rating0\n"
     ]
    },
    {
     "name": "stderr",
     "output_type": "stream",
     "text": [
      "\n",
      " 16%|████████████▊                                                                  | 74/456 [25:59<2:16:31, 21.44s/it]"
     ]
    },
    {
     "name": "stdout",
     "output_type": "stream",
     "text": [
      "harbour\n",
      "page 0\n",
      "Number of ratings:  42715\n",
      "<Response [200]>\n",
      "page 1\n",
      "Number of ratings:  42815\n",
      "<Response [200]>\n",
      "page 2\n",
      "Number of ratings:  42915\n",
      "<Response [200]>\n",
      "page 3\n",
      "Number of ratings:  43015\n",
      "<Response [200]>\n",
      "page 4\n",
      "Number of ratings:  43115\n",
      "<Response [200]>\n",
      "page 5\n",
      "Number of ratings:  43215\n",
      "<Response [200]>\n",
      "page 6\n",
      "Number of ratings:  43315\n",
      "<Response [200]>\n",
      "page 7\n",
      "Number of ratings:  43415\n",
      "<Response [200]>\n",
      "page 8\n",
      "Number of ratings:  43515\n",
      "<Response [200]>\n",
      "page 9\n",
      "Number of ratings:  43615\n",
      "<Response [200]>\n",
      "page 10\n",
      "Number of ratings:  43715\n",
      "<Response [200]>\n",
      "page 11\n",
      "Number of ratings:  43815\n",
      "<Response [200]>\n",
      "page 12\n",
      "Number of ratings:  43915\n",
      "<Response [200]>\n",
      "page 13\n",
      "Number of ratings:  44015\n",
      "<Response [200]>\n",
      "page 14\n",
      "Number of ratings:  44115\n",
      "<Response [200]>\n",
      "page 15\n",
      "Number of ratings:  44215\n",
      "<Response [200]>\n",
      "SALIENDO = RATINGS0\n",
      "SALIENDO: not next or Rating0\n"
     ]
    },
    {
     "name": "stderr",
     "output_type": "stream",
     "text": [
      "\n",
      " 16%|████████████▉                                                                  | 75/456 [26:58<3:26:42, 32.55s/it]"
     ]
    },
    {
     "name": "stdout",
     "output_type": "stream",
     "text": [
      "DasVogt\n",
      "page 0\n",
      "Number of ratings:  44262\n",
      "<Response [200]>\n",
      "SALIENDO = RATINGS0\n",
      "SALIENDO: not next or Rating0\n"
     ]
    },
    {
     "name": "stderr",
     "output_type": "stream",
     "text": [
      "\n",
      " 17%|█████████████▏                                                                 | 76/456 [27:02<2:32:07, 24.02s/it]"
     ]
    },
    {
     "name": "stdout",
     "output_type": "stream",
     "text": [
      "GCTPL\n",
      "page 0\n",
      "Number of ratings:  44262\n",
      "<Response [200]>\n",
      "SALIENDO: not next or Rating0\n"
     ]
    },
    {
     "name": "stderr",
     "output_type": "stream",
     "text": [
      "\n",
      " 17%|█████████████▎                                                                 | 77/456 [27:03<1:49:22, 17.32s/it]"
     ]
    },
    {
     "name": "stdout",
     "output_type": "stream",
     "text": [
      "hols_der_geier\n",
      "page 0\n",
      "Number of ratings:  44262\n",
      "<Response [200]>\n",
      "SALIENDO = RATINGS0\n",
      "SALIENDO: not next or Rating0\n"
     ]
    },
    {
     "name": "stderr",
     "output_type": "stream",
     "text": [
      "\n",
      " 17%|█████████████▌                                                                 | 78/456 [27:09<1:27:49, 13.94s/it]"
     ]
    },
    {
     "name": "stdout",
     "output_type": "stream",
     "text": [
      "lootje\n",
      "page 0\n",
      "Number of ratings:  44263\n",
      "<Response [200]>\n",
      "SALIENDO = RATINGS0\n",
      "SALIENDO: not next or Rating0\n"
     ]
    },
    {
     "name": "stderr",
     "output_type": "stream",
     "text": [
      "\n",
      " 17%|█████████████▋                                                                 | 79/456 [27:14<1:09:26, 11.05s/it]"
     ]
    },
    {
     "name": "stdout",
     "output_type": "stream",
     "text": [
      "azzurro\n",
      "page 0\n",
      "Number of ratings:  44263\n",
      "<Response [200]>\n",
      "page 1\n",
      "Number of ratings:  44363\n",
      "<Response [200]>\n",
      "page 2\n",
      "Number of ratings:  44463\n",
      "<Response [200]>\n",
      "page 3\n",
      "Number of ratings:  44563\n",
      "<Response [200]>\n",
      "page 4\n",
      "Number of ratings:  44663\n",
      "<Response [200]>\n",
      "SALIENDO = RATINGS0\n",
      "SALIENDO: not next or Rating0\n"
     ]
    },
    {
     "name": "stderr",
     "output_type": "stream",
     "text": [
      "\n",
      " 18%|█████████████▊                                                                 | 80/456 [27:30<1:19:11, 12.64s/it]"
     ]
    },
    {
     "name": "stdout",
     "output_type": "stream",
     "text": [
      "johnny86\n",
      "page 0\n",
      "Number of ratings:  44692\n",
      "<Response [200]>\n",
      "SALIENDO: not next or Rating0\n"
     ]
    },
    {
     "name": "stderr",
     "output_type": "stream",
     "text": [
      "\n",
      " 18%|██████████████▍                                                                  | 81/456 [27:32<58:37,  9.38s/it]"
     ]
    },
    {
     "name": "stdout",
     "output_type": "stream",
     "text": [
      "gonow\n",
      "page 0\n",
      "Number of ratings:  44697\n",
      "<Response [401]>\n",
      "No hay realases en la collection del user\n"
     ]
    },
    {
     "name": "stderr",
     "output_type": "stream",
     "text": [
      "\n",
      " 18%|██████████████▌                                                                  | 82/456 [27:33<43:54,  7.04s/it]"
     ]
    },
    {
     "name": "stdout",
     "output_type": "stream",
     "text": [
      "Wegi\n",
      "page 0\n",
      "Number of ratings:  44697\n",
      "<Response [401]>\n",
      "No hay realases en la collection del user\n"
     ]
    },
    {
     "name": "stderr",
     "output_type": "stream",
     "text": [
      "\n",
      " 18%|██████████████▋                                                                  | 83/456 [27:35<33:43,  5.43s/it]"
     ]
    },
    {
     "name": "stdout",
     "output_type": "stream",
     "text": [
      "bhagabhi\n",
      "page 0\n",
      "Number of ratings:  44697\n",
      "<Response [200]>\n",
      "SALIENDO: not next or Rating0\n"
     ]
    },
    {
     "name": "stderr",
     "output_type": "stream",
     "text": [
      "\n",
      " 18%|██████████████▉                                                                  | 84/456 [27:37<26:37,  4.29s/it]"
     ]
    },
    {
     "name": "stdout",
     "output_type": "stream",
     "text": [
      "neorecords\n",
      "page 0\n",
      "Number of ratings:  44697\n",
      "<Response [200]>\n",
      "SALIENDO: not next or Rating0\n"
     ]
    },
    {
     "name": "stderr",
     "output_type": "stream",
     "text": [
      "\n",
      " 19%|███████████████                                                                  | 85/456 [27:38<21:45,  3.52s/it]"
     ]
    },
    {
     "name": "stdout",
     "output_type": "stream",
     "text": [
      "edmonton68\n",
      "page 0\n",
      "Number of ratings:  44699\n",
      "<Response [401]>\n",
      "No hay realases en la collection del user\n"
     ]
    },
    {
     "name": "stderr",
     "output_type": "stream",
     "text": [
      "\n",
      " 19%|███████████████▎                                                                 | 86/456 [27:40<18:09,  2.94s/it]"
     ]
    },
    {
     "name": "stdout",
     "output_type": "stream",
     "text": [
      "lynxtuft\n",
      "page 0\n",
      "Number of ratings:  44699\n",
      "<Response [401]>\n",
      "No hay realases en la collection del user\n"
     ]
    },
    {
     "name": "stderr",
     "output_type": "stream",
     "text": [
      "\n",
      " 19%|███████████████▍                                                                 | 87/456 [27:42<15:43,  2.56s/it]"
     ]
    },
    {
     "name": "stdout",
     "output_type": "stream",
     "text": [
      "gbarwis\n",
      "page 0\n",
      "Number of ratings:  44699\n",
      "<Response [200]>\n",
      "SALIENDO = RATINGS0\n",
      "SALIENDO: not next or Rating0\n"
     ]
    },
    {
     "name": "stderr",
     "output_type": "stream",
     "text": [
      "\n",
      " 19%|███████████████▋                                                                 | 88/456 [27:44<14:50,  2.42s/it]"
     ]
    },
    {
     "name": "stdout",
     "output_type": "stream",
     "text": [
      "limitlessaudio\n",
      "page 0\n",
      "Number of ratings:  44700\n",
      "<Response [200]>\n",
      "page 1\n",
      "Number of ratings:  44800\n",
      "<Response [200]>\n",
      "page 2\n",
      "Number of ratings:  44900\n",
      "<Response [200]>\n",
      "page 3\n",
      "Number of ratings:  45000\n",
      "<Response [200]>\n",
      "page 4\n",
      "Number of ratings:  45100\n",
      "<Response [200]>\n",
      "page 5\n",
      "Number of ratings:  45200\n",
      "<Response [200]>\n",
      "page 6\n",
      "Number of ratings:  45300\n",
      "<Response [200]>\n",
      "page 7\n",
      "Number of ratings:  45400\n",
      "<Response [200]>\n",
      "page 8\n",
      "Number of ratings:  45500\n",
      "<Response [200]>\n",
      "page 9\n",
      "Number of ratings:  45600\n",
      "<Response [200]>\n",
      "page 10\n",
      "Number of ratings:  45700\n",
      "<Response [200]>\n",
      "page 11\n",
      "Number of ratings:  45800\n",
      "<Response [200]>\n",
      "SALIENDO = RATINGS0\n",
      "SALIENDO: not next or Rating0\n"
     ]
    },
    {
     "name": "stderr",
     "output_type": "stream",
     "text": [
      "\n",
      " 20%|███████████████▍                                                               | 89/456 [28:20<1:16:10, 12.45s/it]"
     ]
    },
    {
     "name": "stdout",
     "output_type": "stream",
     "text": [
      "Scrabubbly\n",
      "page 0\n",
      "Number of ratings:  45839\n",
      "<Response [200]>\n",
      "page 1\n",
      "Number of ratings:  45939\n",
      "<Response [200]>\n",
      "page 2\n",
      "Number of ratings:  46039\n",
      "<Response [200]>\n",
      "SALIENDO = RATINGS0\n",
      "SALIENDO: not next or Rating0\n"
     ]
    },
    {
     "name": "stderr",
     "output_type": "stream",
     "text": [
      "\n",
      " 20%|███████████████▌                                                               | 90/456 [28:29<1:09:37, 11.41s/it]"
     ]
    },
    {
     "name": "stdout",
     "output_type": "stream",
     "text": [
      "makbo\n",
      "page 0\n",
      "Number of ratings:  46064\n",
      "<Response [200]>\n",
      "SALIENDO = RATINGS0\n",
      "SALIENDO: not next or Rating0\n"
     ]
    },
    {
     "name": "stderr",
     "output_type": "stream",
     "text": [
      "\n",
      " 20%|████████████████▏                                                                | 91/456 [28:33<57:07,  9.39s/it]"
     ]
    },
    {
     "name": "stdout",
     "output_type": "stream",
     "text": [
      "lil_dwy\n",
      "page 0\n",
      "Number of ratings:  46074\n",
      "<Response [401]>\n",
      "No hay realases en la collection del user\n"
     ]
    },
    {
     "name": "stderr",
     "output_type": "stream",
     "text": [
      "\n",
      " 20%|████████████████▎                                                                | 92/456 [28:35<43:00,  7.09s/it]"
     ]
    },
    {
     "name": "stdout",
     "output_type": "stream",
     "text": [
      "Ordo\n",
      "page 0\n",
      "Number of ratings:  46074\n",
      "<Response [401]>\n",
      "No hay realases en la collection del user\n"
     ]
    },
    {
     "name": "stderr",
     "output_type": "stream",
     "text": [
      "\n",
      " 20%|████████████████▌                                                                | 93/456 [28:37<33:00,  5.46s/it]"
     ]
    },
    {
     "name": "stdout",
     "output_type": "stream",
     "text": [
      "MICHALMATLAK\n",
      "page 0\n",
      "Number of ratings:  46074\n",
      "<Response [401]>\n",
      "No hay realases en la collection del user\n"
     ]
    },
    {
     "name": "stderr",
     "output_type": "stream",
     "text": [
      "\n",
      " 21%|████████████████▋                                                                | 94/456 [28:38<26:00,  4.31s/it]"
     ]
    },
    {
     "name": "stdout",
     "output_type": "stream",
     "text": [
      "leonardfell\n",
      "page 0\n",
      "Number of ratings:  46074\n",
      "<Response [401]>\n",
      "No hay realases en la collection del user\n"
     ]
    },
    {
     "name": "stderr",
     "output_type": "stream",
     "text": [
      "\n",
      " 21%|████████████████▉                                                                | 95/456 [28:40<21:05,  3.51s/it]"
     ]
    },
    {
     "name": "stdout",
     "output_type": "stream",
     "text": [
      "SampleKween\n",
      "page 0\n",
      "Number of ratings:  46074\n",
      "<Response [200]>\n",
      "page 1\n",
      "Number of ratings:  46174\n",
      "<Response [200]>\n",
      "page 2\n",
      "Number of ratings:  46274\n",
      "<Response [200]>\n",
      "page 3\n",
      "Number of ratings:  46374\n",
      "<Response [200]>\n",
      "page 4\n",
      "Number of ratings:  46474\n",
      "<Response [200]>\n",
      "page 5\n",
      "Number of ratings:  46574\n",
      "<Response [200]>\n",
      "page 6\n",
      "Number of ratings:  46674\n",
      "<Response [200]>\n",
      "page 7\n",
      "Number of ratings:  46774\n",
      "<Response [200]>\n",
      "page 8\n",
      "Number of ratings:  46874\n",
      "<Response [200]>\n",
      "SALIENDO = RATINGS0\n",
      "SALIENDO: not next or Rating0\n"
     ]
    },
    {
     "name": "stderr",
     "output_type": "stream",
     "text": [
      "\n",
      " 21%|████████████████▋                                                              | 96/456 [29:08<1:05:27, 10.91s/it]"
     ]
    },
    {
     "name": "stdout",
     "output_type": "stream",
     "text": [
      "squonk57\n",
      "page 0\n",
      "Number of ratings:  46951\n",
      "<Response [200]>\n",
      "page 1\n",
      "Number of ratings:  47051\n",
      "<Response [200]>\n",
      "page 2\n",
      "Number of ratings:  47151\n",
      "<Response [200]>\n",
      "SALIENDO = RATINGS0\n",
      "SALIENDO: not next or Rating0\n"
     ]
    },
    {
     "name": "stderr",
     "output_type": "stream",
     "text": [
      "\n",
      " 21%|████████████████▊                                                              | 97/456 [29:17<1:01:41, 10.31s/it]"
     ]
    },
    {
     "name": "stdout",
     "output_type": "stream",
     "text": [
      "desioner\n",
      "page 0\n",
      "Number of ratings:  47172\n",
      "<Response [200]>\n",
      "page 1\n",
      "Number of ratings:  47272\n",
      "<Response [200]>\n",
      "page 2\n",
      "Number of ratings:  47372\n",
      "<Response [200]>\n",
      "page 3\n",
      "Number of ratings:  47472\n",
      "<Response [200]>\n",
      "page 4\n",
      "Number of ratings:  47572\n",
      "<Response [200]>\n",
      "page 5\n",
      "Number of ratings:  47672\n",
      "<Response [200]>\n",
      "page 6\n",
      "Number of ratings:  47772\n",
      "<Response [200]>\n",
      "SALIENDO = RATINGS0\n",
      "SALIENDO: not next or Rating0\n"
     ]
    },
    {
     "name": "stderr",
     "output_type": "stream",
     "text": [
      "\n",
      " 21%|████████████████▉                                                              | 98/456 [29:38<1:20:13, 13.45s/it]"
     ]
    },
    {
     "name": "stdout",
     "output_type": "stream",
     "text": [
      "cholmes75\n",
      "page 0\n",
      "Number of ratings:  47851\n",
      "<Response [200]>\n",
      "SALIENDO = RATINGS0\n",
      "SALIENDO: not next or Rating0\n"
     ]
    },
    {
     "name": "stderr",
     "output_type": "stream",
     "text": [
      "\n",
      " 22%|█████████████████▏                                                             | 99/456 [29:41<1:02:11, 10.45s/it]"
     ]
    },
    {
     "name": "stdout",
     "output_type": "stream",
     "text": [
      "strummin\n",
      "page 0\n",
      "Number of ratings:  47888\n",
      "<Response [401]>\n",
      "No hay realases en la collection del user\n"
     ]
    },
    {
     "name": "stderr",
     "output_type": "stream",
     "text": [
      "\n",
      " 22%|█████████████████▌                                                              | 100/456 [29:43<46:22,  7.82s/it]"
     ]
    },
    {
     "name": "stdout",
     "output_type": "stream",
     "text": [
      "Guigui_Mou\n",
      "page 0\n",
      "Number of ratings:  47888\n",
      "<Response [200]>\n",
      "SALIENDO: not next or Rating0\n"
     ]
    },
    {
     "name": "stderr",
     "output_type": "stream",
     "text": [
      "\n",
      " 22%|█████████████████▋                                                              | 101/456 [29:46<36:50,  6.23s/it]"
     ]
    },
    {
     "name": "stdout",
     "output_type": "stream",
     "text": [
      "tone.def\n",
      "page 0\n",
      "Number of ratings:  47901\n",
      "<Response [200]>\n",
      "SALIENDO = RATINGS0\n",
      "SALIENDO: not next or Rating0\n"
     ]
    },
    {
     "name": "stderr",
     "output_type": "stream",
     "text": [
      "\n",
      " 22%|█████████████████▉                                                              | 102/456 [29:48<30:42,  5.20s/it]"
     ]
    },
    {
     "name": "stdout",
     "output_type": "stream",
     "text": [
      "steve_h\n",
      "page 0\n",
      "Number of ratings:  47904\n",
      "<Response [200]>\n",
      "SALIENDO: not next or Rating0\n"
     ]
    },
    {
     "name": "stderr",
     "output_type": "stream",
     "text": [
      "\n",
      " 23%|██████████████████                                                              | 103/456 [29:50<24:18,  4.13s/it]"
     ]
    },
    {
     "name": "stdout",
     "output_type": "stream",
     "text": [
      "Jonny_Fused\n",
      "page 0\n",
      "Number of ratings:  47904\n",
      "<Response [200]>\n",
      "page 1\n",
      "Number of ratings:  48004\n",
      "<Response [200]>\n",
      "page 2\n",
      "Number of ratings:  48104\n",
      "<Response [200]>\n",
      "page 3\n",
      "Number of ratings:  48204\n",
      "<Response [200]>\n",
      "page 4\n",
      "Number of ratings:  48304\n",
      "<Response [200]>\n",
      "page 5\n",
      "Number of ratings:  48404\n",
      "<Response [200]>\n",
      "page 6\n",
      "Number of ratings:  48504\n",
      "<Response [200]>\n",
      "page 7\n",
      "Number of ratings:  48604\n",
      "<Response [200]>\n",
      "page 8\n",
      "Number of ratings:  48704\n",
      "<Response [200]>\n",
      "page 9\n",
      "Number of ratings:  48804\n",
      "<Response [200]>\n",
      "page 10\n",
      "Number of ratings:  48904\n",
      "<Response [200]>\n",
      "page 11\n",
      "Number of ratings:  49004\n",
      "<Response [200]>\n",
      "page 12\n",
      "Number of ratings:  49104\n",
      "<Response [200]>\n",
      "page 13\n",
      "Number of ratings:  49204\n",
      "<Response [200]>\n",
      "SALIENDO = RATINGS0\n",
      "SALIENDO: not next or Rating0\n"
     ]
    },
    {
     "name": "stderr",
     "output_type": "stream",
     "text": [
      "\n",
      " 23%|█████████████████▊                                                            | 104/456 [30:35<1:36:39, 16.47s/it]"
     ]
    },
    {
     "name": "stdout",
     "output_type": "stream",
     "text": [
      "DougBear\n",
      "page 0\n",
      "Number of ratings:  49290\n",
      "<Response [200]>\n",
      "page 1\n",
      "Number of ratings:  49390\n",
      "<Response [200]>\n",
      "page 2\n",
      "Number of ratings:  49490\n",
      "<Response [200]>\n",
      "page 3\n",
      "Number of ratings:  49590\n",
      "<Response [200]>\n",
      "page 4\n",
      "Number of ratings:  49690\n",
      "<Response [200]>\n",
      "page 5\n",
      "Number of ratings:  49790\n",
      "<Response [200]>\n",
      "page 6\n",
      "Number of ratings:  49890\n",
      "<Response [200]>\n",
      "page 7\n",
      "Number of ratings:  49990\n",
      "<Response [200]>\n",
      "page 8\n",
      "Number of ratings:  50090\n",
      "<Response [200]>\n",
      "page 9\n",
      "Number of ratings:  50190\n",
      "<Response [200]>\n",
      "page 10\n",
      "Number of ratings:  50290\n",
      "<Response [200]>\n",
      "page 11\n",
      "Number of ratings:  50390\n",
      "<Response [200]>\n",
      "page 12\n",
      "Number of ratings:  50490\n",
      "<Response [200]>\n",
      "SALIENDO = RATINGS0\n",
      "SALIENDO: not next or Rating0\n"
     ]
    },
    {
     "name": "stderr",
     "output_type": "stream",
     "text": [
      "\n",
      " 23%|█████████████████▉                                                            | 105/456 [31:15<2:17:21, 23.48s/it]"
     ]
    },
    {
     "name": "stdout",
     "output_type": "stream",
     "text": [
      "Andy_Finn\n",
      "page 0\n",
      "Number of ratings:  50575\n",
      "<Response [200]>\n",
      "SALIENDO: not next or Rating0\n"
     ]
    },
    {
     "name": "stderr",
     "output_type": "stream",
     "text": [
      "\n",
      " 23%|██████████████████▏                                                           | 106/456 [31:17<1:38:43, 16.93s/it]"
     ]
    },
    {
     "name": "stdout",
     "output_type": "stream",
     "text": [
      "Kergillian\n",
      "page 0\n",
      "Number of ratings:  50575\n",
      "<Response [200]>\n",
      "page 1\n",
      "Number of ratings:  50675\n",
      "<Response [200]>\n",
      "page 2\n",
      "Number of ratings:  50775\n",
      "<Response [200]>\n",
      "page 3\n",
      "Number of ratings:  50875\n",
      "<Response [200]>\n",
      "page 4\n",
      "Number of ratings:  50975\n",
      "<Response [200]>\n",
      "page 5\n",
      "Number of ratings:  51075\n",
      "<Response [200]>\n",
      "page 6\n",
      "Number of ratings:  51175\n",
      "<Response [200]>\n",
      "page 7\n",
      "Number of ratings:  51275\n",
      "<Response [200]>\n",
      "page 8\n",
      "Number of ratings:  51375\n",
      "<Response [200]>\n",
      "page 9\n",
      "Number of ratings:  51475\n",
      "<Response [200]>\n",
      "page 10\n",
      "Number of ratings:  51575\n",
      "<Response [200]>\n",
      "page 11\n",
      "Number of ratings:  51675\n",
      "<Response [200]>\n",
      "page 12\n",
      "Number of ratings:  51775\n",
      "<Response [200]>\n",
      "SALIENDO = RATINGS0\n",
      "SALIENDO: not next or Rating0\n"
     ]
    },
    {
     "name": "stderr",
     "output_type": "stream",
     "text": [
      "\n",
      " 23%|██████████████████▎                                                           | 107/456 [31:58<2:20:24, 24.14s/it]"
     ]
    },
    {
     "name": "stdout",
     "output_type": "stream",
     "text": [
      "shichikokuyama\n",
      "page 0\n",
      "Number of ratings:  51820\n",
      "<Response [200]>\n",
      "SALIENDO = RATINGS0\n",
      "SALIENDO: not next or Rating0\n"
     ]
    },
    {
     "name": "stderr",
     "output_type": "stream",
     "text": [
      "\n",
      " 24%|██████████████████▍                                                           | 108/456 [32:00<1:42:39, 17.70s/it]"
     ]
    },
    {
     "name": "stdout",
     "output_type": "stream",
     "text": [
      "Flight\n",
      "page 0\n",
      "Number of ratings:  51879\n",
      "<Response [401]>\n",
      "No hay realases en la collection del user\n"
     ]
    },
    {
     "name": "stderr",
     "output_type": "stream",
     "text": [
      "\n",
      " 24%|██████████████████▋                                                           | 109/456 [32:02<1:14:29, 12.88s/it]"
     ]
    },
    {
     "name": "stdout",
     "output_type": "stream",
     "text": [
      "s1gnals\n",
      "page 0\n",
      "Number of ratings:  51879\n",
      "<Response [200]>\n",
      "SALIENDO = RATINGS0\n",
      "SALIENDO: not next or Rating0\n"
     ]
    },
    {
     "name": "stderr",
     "output_type": "stream",
     "text": [
      "\n",
      " 24%|███████████████████▎                                                            | 110/456 [32:06<58:34, 10.16s/it]"
     ]
    },
    {
     "name": "stdout",
     "output_type": "stream",
     "text": [
      "ThomDLorean\n",
      "page 0\n",
      "Number of ratings:  51885\n",
      "<Response [200]>\n",
      "page 1\n",
      "Number of ratings:  51985\n",
      "<Response [200]>\n",
      "page 2\n",
      "Number of ratings:  52085\n",
      "<Response [200]>\n",
      "page 3\n",
      "Number of ratings:  52185\n",
      "<Response [200]>\n",
      "page 4\n",
      "Number of ratings:  52285\n",
      "<Response [200]>\n",
      "page 5\n",
      "Number of ratings:  52385\n",
      "<Response [200]>\n",
      "page 6\n",
      "Number of ratings:  52485\n",
      "<Response [200]>\n",
      "page 7\n",
      "Number of ratings:  52585\n",
      "<Response [200]>\n",
      "page 8\n",
      "Number of ratings:  52685\n",
      "<Response [200]>\n",
      "page 9\n",
      "Number of ratings:  52785\n",
      "<Response [200]>\n",
      "page 10\n",
      "Number of ratings:  52885\n",
      "<Response [200]>\n",
      "page 11\n",
      "Number of ratings:  52985\n",
      "<Response [200]>\n",
      "page 12\n",
      "Number of ratings:  53085\n",
      "<Response [200]>\n",
      "page 13\n",
      "Number of ratings:  53185\n",
      "<Response [200]>\n",
      "page 14\n",
      "Number of ratings:  53285\n",
      "<Response [200]>\n",
      "page 15\n",
      "Number of ratings:  53385\n",
      "<Response [200]>\n",
      "page 16\n",
      "Number of ratings:  53485\n",
      "<Response [200]>\n",
      "page 17\n",
      "Number of ratings:  53585\n",
      "<Response [200]>\n",
      "page 18\n",
      "Number of ratings:  53685\n",
      "<Response [200]>\n",
      "page 19\n",
      "Number of ratings:  53785\n",
      "<Response [200]>\n",
      "page 20\n",
      "Number of ratings:  53885\n",
      "<Response [200]>\n",
      "page 21\n",
      "Number of ratings:  53985\n",
      "<Response [200]>\n",
      "SALIENDO = RATINGS0\n",
      "SALIENDO: not next or Rating0\n"
     ]
    },
    {
     "name": "stderr",
     "output_type": "stream",
     "text": [
      "\n",
      " 24%|██████████████████▉                                                           | 111/456 [33:11<2:33:13, 26.65s/it]"
     ]
    },
    {
     "name": "stdout",
     "output_type": "stream",
     "text": [
      "julass\n",
      "page 0\n",
      "Number of ratings:  54066\n",
      "<Response [200]>\n",
      "SALIENDO = RATINGS0\n",
      "SALIENDO: not next or Rating0\n"
     ]
    },
    {
     "name": "stderr",
     "output_type": "stream",
     "text": [
      "\n",
      " 25%|███████████████████▏                                                          | 112/456 [33:15<1:53:28, 19.79s/it]"
     ]
    },
    {
     "name": "stdout",
     "output_type": "stream",
     "text": [
      "Rickski65\n",
      "page 0\n",
      "Number of ratings:  54109\n",
      "<Response [401]>\n",
      "No hay realases en la collection del user\n"
     ]
    },
    {
     "name": "stderr",
     "output_type": "stream",
     "text": [
      "\n",
      " 25%|███████████████████▎                                                          | 113/456 [33:16<1:22:02, 14.35s/it]"
     ]
    },
    {
     "name": "stdout",
     "output_type": "stream",
     "text": [
      "DonHergeFan\n",
      "page 0\n",
      "Number of ratings:  54109\n",
      "<Response [200]>\n",
      "SALIENDO = RATINGS0\n",
      "SALIENDO: not next or Rating0\n"
     ]
    },
    {
     "name": "stderr",
     "output_type": "stream",
     "text": [
      "\n",
      " 25%|███████████████████▌                                                          | 114/456 [33:20<1:03:10, 11.08s/it]"
     ]
    },
    {
     "name": "stdout",
     "output_type": "stream",
     "text": [
      "manmess\n",
      "page 0\n",
      "Number of ratings:  54109\n",
      "<Response [200]>\n",
      "page 1\n",
      "Number of ratings:  54209\n",
      "<Response [200]>\n",
      "page 2\n",
      "Number of ratings:  54309\n",
      "<Response [200]>\n",
      "page 3\n",
      "Number of ratings:  54409\n",
      "<Response [200]>\n",
      "SALIENDO = RATINGS0\n",
      "SALIENDO: not next or Rating0\n"
     ]
    },
    {
     "name": "stderr",
     "output_type": "stream",
     "text": [
      "\n",
      " 25%|███████████████████▋                                                          | 115/456 [33:33<1:06:15, 11.66s/it]"
     ]
    },
    {
     "name": "stdout",
     "output_type": "stream",
     "text": [
      "rikroc\n",
      "page 0\n",
      "Number of ratings:  54454\n",
      "<Response [200]>\n",
      "SALIENDO = RATINGS0\n",
      "SALIENDO: not next or Rating0\n"
     ]
    },
    {
     "name": "stderr",
     "output_type": "stream",
     "text": [
      "\n",
      " 25%|████████████████████▎                                                           | 116/456 [33:36<51:42,  9.12s/it]"
     ]
    },
    {
     "name": "stdout",
     "output_type": "stream",
     "text": [
      "bonsai\n",
      "page 0\n",
      "Number of ratings:  54454\n",
      "<Response [401]>\n",
      "No hay realases en la collection del user\n"
     ]
    },
    {
     "name": "stderr",
     "output_type": "stream",
     "text": [
      "\n",
      " 26%|████████████████████▌                                                           | 117/456 [33:38<38:53,  6.88s/it]"
     ]
    },
    {
     "name": "stdout",
     "output_type": "stream",
     "text": [
      "angela.ave\n",
      "page 0\n",
      "Number of ratings:  54454\n",
      "<Response [200]>\n",
      "SALIENDO = RATINGS0\n",
      "SALIENDO: not next or Rating0\n"
     ]
    },
    {
     "name": "stderr",
     "output_type": "stream",
     "text": [
      "\n",
      " 26%|████████████████████▋                                                           | 118/456 [33:42<35:02,  6.22s/it]"
     ]
    },
    {
     "name": "stdout",
     "output_type": "stream",
     "text": [
      "7ii\n",
      "page 0\n",
      "Number of ratings:  54534\n",
      "<Response [200]>\n",
      "SALIENDO = RATINGS0\n",
      "SALIENDO: not next or Rating0\n"
     ]
    },
    {
     "name": "stderr",
     "output_type": "stream",
     "text": [
      "\n",
      " 26%|████████████████████▉                                                           | 119/456 [33:47<31:42,  5.65s/it]"
     ]
    },
    {
     "name": "stdout",
     "output_type": "stream",
     "text": [
      "nfnshdbzznzz\n",
      "page 0\n",
      "Number of ratings:  54556\n",
      "<Response [401]>\n",
      "No hay realases en la collection del user\n"
     ]
    },
    {
     "name": "stderr",
     "output_type": "stream",
     "text": [
      "\n",
      " 26%|█████████████████████                                                           | 120/456 [33:48<24:52,  4.44s/it]"
     ]
    },
    {
     "name": "stdout",
     "output_type": "stream",
     "text": [
      "soundpit\n",
      "page 0\n",
      "Number of ratings:  54556\n",
      "<Response [200]>\n",
      "SALIENDO = RATINGS0\n",
      "SALIENDO: not next or Rating0\n"
     ]
    },
    {
     "name": "stderr",
     "output_type": "stream",
     "text": [
      "\n",
      " 27%|█████████████████████▏                                                          | 121/456 [33:50<20:42,  3.71s/it]"
     ]
    },
    {
     "name": "stdout",
     "output_type": "stream",
     "text": [
      "Utnapishti\n",
      "page 0\n",
      "Number of ratings:  54557\n",
      "<Response [401]>\n",
      "No hay realases en la collection del user\n"
     ]
    },
    {
     "name": "stderr",
     "output_type": "stream",
     "text": [
      "\n",
      " 27%|█████████████████████▍                                                          | 122/456 [33:52<17:08,  3.08s/it]"
     ]
    },
    {
     "name": "stdout",
     "output_type": "stream",
     "text": [
      "take22\n",
      "page 0\n",
      "Number of ratings:  54557\n",
      "<Response [401]>\n",
      "No hay realases en la collection del user\n"
     ]
    },
    {
     "name": "stderr",
     "output_type": "stream",
     "text": [
      "\n",
      " 27%|█████████████████████▌                                                          | 123/456 [33:54<14:40,  2.65s/it]"
     ]
    },
    {
     "name": "stdout",
     "output_type": "stream",
     "text": [
      "vernoy\n",
      "page 0\n",
      "Number of ratings:  54557\n",
      "<Response [200]>\n",
      "SALIENDO = RATINGS0\n",
      "SALIENDO: not next or Rating0\n"
     ]
    },
    {
     "name": "stderr",
     "output_type": "stream",
     "text": [
      "\n",
      " 27%|█████████████████████▊                                                          | 124/456 [33:57<15:22,  2.78s/it]"
     ]
    },
    {
     "name": "stdout",
     "output_type": "stream",
     "text": [
      "jandlvw\n",
      "page 0\n",
      "Number of ratings:  54629\n",
      "<Response [200]>\n",
      "SALIENDO = RATINGS0\n",
      "SALIENDO: not next or Rating0\n"
     ]
    },
    {
     "name": "stderr",
     "output_type": "stream",
     "text": [
      "\n",
      " 27%|█████████████████████▉                                                          | 125/456 [34:02<19:38,  3.56s/it]"
     ]
    },
    {
     "name": "stdout",
     "output_type": "stream",
     "text": [
      "truedream\n",
      "page 0\n",
      "Number of ratings:  54645\n",
      "<Response [401]>\n",
      "No hay realases en la collection del user\n"
     ]
    },
    {
     "name": "stderr",
     "output_type": "stream",
     "text": [
      "\n",
      " 28%|██████████████████████                                                          | 126/456 [34:04<16:23,  2.98s/it]"
     ]
    },
    {
     "name": "stdout",
     "output_type": "stream",
     "text": [
      "videoface\n",
      "page 0\n",
      "Number of ratings:  54645\n",
      "<Response [200]>\n",
      "SALIENDO = RATINGS0\n",
      "SALIENDO: not next or Rating0\n"
     ]
    },
    {
     "name": "stderr",
     "output_type": "stream",
     "text": [
      "\n",
      " 28%|██████████████████████▎                                                         | 127/456 [34:07<16:51,  3.07s/it]"
     ]
    },
    {
     "name": "stdout",
     "output_type": "stream",
     "text": [
      "itching4vinyl\n",
      "page 0\n",
      "Number of ratings:  54705\n",
      "<Response [200]>\n",
      "SALIENDO = RATINGS0\n",
      "SALIENDO: not next or Rating0\n"
     ]
    },
    {
     "name": "stderr",
     "output_type": "stream",
     "text": [
      "\n",
      " 28%|██████████████████████▍                                                         | 128/456 [34:10<17:03,  3.12s/it]"
     ]
    },
    {
     "name": "stdout",
     "output_type": "stream",
     "text": [
      "mcr1\n",
      "page 0\n",
      "Number of ratings:  54793\n",
      "<Response [200]>\n",
      "page 1\n",
      "Number of ratings:  54893\n",
      "<Response [200]>\n",
      "page 2\n",
      "Number of ratings:  54993\n",
      "<Response [200]>\n",
      "page 3\n",
      "Number of ratings:  55093\n",
      "<Response [200]>\n",
      "page 4\n",
      "Number of ratings:  55193\n",
      "<Response [200]>\n",
      "page 5\n",
      "Number of ratings:  55293\n",
      "<Response [200]>\n",
      "page 6\n",
      "Number of ratings:  55393\n",
      "<Response [200]>\n",
      "page 7\n",
      "Number of ratings:  55493\n",
      "<Response [200]>\n",
      "page 8\n",
      "Number of ratings:  55593\n",
      "<Response [200]>\n",
      "page 9\n",
      "Number of ratings:  55693\n",
      "<Response [200]>\n",
      "page 10\n",
      "Number of ratings:  55793\n",
      "<Response [200]>\n",
      "page 11\n",
      "Number of ratings:  55893\n",
      "<Response [200]>\n",
      "page 12\n",
      "Number of ratings:  55993\n",
      "<Response [200]>\n",
      "page 13\n",
      "Number of ratings:  56093\n",
      "<Response [200]>\n",
      "page 14\n",
      "Number of ratings:  56193\n",
      "<Response [200]>\n",
      "page 15\n",
      "Number of ratings:  56293\n",
      "<Response [200]>\n",
      "page 16\n",
      "Number of ratings:  56393\n",
      "<Response [200]>\n",
      "page 17\n",
      "Number of ratings:  56493\n",
      "<Response [200]>\n",
      "page 18\n",
      "Number of ratings:  56593\n",
      "<Response [200]>\n",
      "page 19\n",
      "Number of ratings:  56693\n",
      "<Response [200]>\n",
      "page 20\n",
      "Number of ratings:  56793\n",
      "<Response [200]>\n",
      "page 21\n",
      "Number of ratings:  56893\n",
      "<Response [200]>\n",
      "SALIENDO = RATINGS0\n",
      "SALIENDO: not next or Rating0\n"
     ]
    },
    {
     "name": "stderr",
     "output_type": "stream",
     "text": [
      "\n",
      " 28%|██████████████████████                                                        | 129/456 [35:13<1:55:18, 21.16s/it]"
     ]
    },
    {
     "name": "stdout",
     "output_type": "stream",
     "text": [
      "musicanonstop\n",
      "page 0\n",
      "Number of ratings:  56961\n",
      "<Response [200]>\n",
      "SALIENDO = RATINGS0\n",
      "SALIENDO: not next or Rating0\n"
     ]
    },
    {
     "name": "stderr",
     "output_type": "stream",
     "text": [
      "\n",
      " 29%|██████████████████████▏                                                       | 130/456 [35:17<1:25:56, 15.82s/it]"
     ]
    },
    {
     "name": "stdout",
     "output_type": "stream",
     "text": [
      "armidge\n",
      "page 0\n",
      "Number of ratings:  56974\n",
      "<Response [401]>\n",
      "No hay realases en la collection del user\n"
     ]
    },
    {
     "name": "stderr",
     "output_type": "stream",
     "text": [
      "\n",
      " 29%|██████████████████████▍                                                       | 131/456 [35:18<1:02:36, 11.56s/it]"
     ]
    },
    {
     "name": "stdout",
     "output_type": "stream",
     "text": [
      "INTERSTELLAR_VINYL\n",
      "page 0\n",
      "Number of ratings:  56974\n",
      "<Response [401]>\n",
      "No hay realases en la collection del user\n"
     ]
    },
    {
     "name": "stderr",
     "output_type": "stream",
     "text": [
      "\n",
      " 29%|███████████████████████▏                                                        | 132/456 [35:20<46:19,  8.58s/it]"
     ]
    },
    {
     "name": "stdout",
     "output_type": "stream",
     "text": [
      "Maherto\n",
      "page 0\n",
      "Number of ratings:  56974\n",
      "<Response [200]>\n",
      "page 1\n",
      "Number of ratings:  57074\n",
      "<Response [200]>\n",
      "page 2\n",
      "Number of ratings:  57174\n",
      "<Response [200]>\n",
      "page 3\n",
      "Number of ratings:  57274\n",
      "<Response [200]>\n",
      "page 4\n",
      "Number of ratings:  57374\n",
      "<Response [200]>\n",
      "page 5\n",
      "Number of ratings:  57474\n",
      "<Response [200]>\n",
      "page 6\n",
      "Number of ratings:  57574\n",
      "<Response [200]>\n",
      "page 7\n",
      "Number of ratings:  57674\n",
      "<Response [200]>\n",
      "SALIENDO = RATINGS0\n",
      "SALIENDO: not next or Rating0\n"
     ]
    },
    {
     "name": "stderr",
     "output_type": "stream",
     "text": [
      "\n",
      " 29%|██████████████████████▊                                                       | 133/456 [35:42<1:07:28, 12.53s/it]"
     ]
    },
    {
     "name": "stdout",
     "output_type": "stream",
     "text": [
      "Tama45\n",
      "page 0\n",
      "Number of ratings:  57709\n",
      "<Response [200]>\n",
      "SALIENDO: not next or Rating0\n"
     ]
    },
    {
     "name": "stderr",
     "output_type": "stream",
     "text": [
      "\n",
      " 29%|███████████████████████▌                                                        | 134/456 [35:43<49:46,  9.27s/it]"
     ]
    },
    {
     "name": "stdout",
     "output_type": "stream",
     "text": [
      "Smokin_Ace\n",
      "page 0\n",
      "Number of ratings:  57709\n",
      "<Response [401]>\n",
      "No hay realases en la collection del user\n"
     ]
    },
    {
     "name": "stderr",
     "output_type": "stream",
     "text": [
      "\n",
      " 30%|███████████████████████▋                                                        | 135/456 [35:45<37:19,  6.98s/it]"
     ]
    },
    {
     "name": "stdout",
     "output_type": "stream",
     "text": [
      "ohbuoyancy\n",
      "page 0\n",
      "Number of ratings:  57709\n",
      "<Response [200]>\n",
      "SALIENDO = RATINGS0\n",
      "SALIENDO: not next or Rating0\n"
     ]
    },
    {
     "name": "stderr",
     "output_type": "stream",
     "text": [
      "\n",
      " 30%|███████████████████████▊                                                        | 136/456 [35:49<32:13,  6.04s/it]"
     ]
    },
    {
     "name": "stdout",
     "output_type": "stream",
     "text": [
      "fylopaloma\n",
      "page 0\n",
      "Number of ratings:  57724\n",
      "<Response [200]>\n",
      "SALIENDO = RATINGS0\n",
      "SALIENDO: not next or Rating0\n"
     ]
    },
    {
     "name": "stderr",
     "output_type": "stream",
     "text": [
      "\n",
      " 30%|████████████████████████                                                        | 137/456 [35:51<25:41,  4.83s/it]"
     ]
    },
    {
     "name": "stdout",
     "output_type": "stream",
     "text": [
      "diseone\n",
      "page 0\n",
      "Number of ratings:  57724\n",
      "<Response [200]>\n",
      "page 1\n",
      "Number of ratings:  57824\n",
      "<Response [200]>\n",
      "page 2\n",
      "Number of ratings:  57924\n",
      "<Response [200]>\n",
      "page 3\n",
      "Number of ratings:  58024\n",
      "<Response [200]>\n",
      "page 4\n",
      "Number of ratings:  58124\n",
      "<Response [200]>\n",
      "page 5\n",
      "Number of ratings:  58224\n",
      "<Response [200]>\n",
      "page 6\n",
      "Number of ratings:  58324\n",
      "<Response [200]>\n",
      "page 7\n",
      "Number of ratings:  58424\n",
      "<Response [200]>\n",
      "page 8\n",
      "Number of ratings:  58524\n",
      "<Response [200]>\n",
      "page 9\n",
      "Number of ratings:  58624\n",
      "<Response [200]>\n",
      "page 10\n",
      "Number of ratings:  58724\n",
      "<Response [200]>\n",
      "page 11\n",
      "Number of ratings:  58824\n",
      "<Response [200]>\n",
      "page 12\n",
      "Number of ratings:  58924\n",
      "<Response [200]>\n",
      "page 13\n",
      "Number of ratings:  59024\n",
      "<Response [200]>\n",
      "page 14\n",
      "Number of ratings:  59124\n",
      "<Response [200]>\n",
      "page 15\n",
      "Number of ratings:  59224\n",
      "<Response [200]>\n",
      "page 16\n",
      "Number of ratings:  59324\n",
      "<Response [200]>\n",
      "page 17\n",
      "Number of ratings:  59424\n",
      "<Response [200]>\n",
      "page 18\n",
      "Number of ratings:  59524\n",
      "<Response [200]>\n",
      "page 19\n",
      "Number of ratings:  59624\n",
      "<Response [200]>\n",
      "page 20\n",
      "Number of ratings:  59724\n",
      "<Response [200]>\n",
      "page 21\n",
      "Number of ratings:  59824\n",
      "<Response [200]>\n",
      "page 22\n",
      "Number of ratings:  59924\n",
      "<Response [200]>\n",
      "page 23\n",
      "Number of ratings:  60024\n",
      "<Response [200]>\n",
      "page 24\n",
      "Number of ratings:  60124\n",
      "<Response [200]>\n",
      "page 25\n",
      "Number of ratings:  60224\n",
      "<Response [200]>\n",
      "page 26\n",
      "Number of ratings:  60324\n",
      "<Response [200]>\n",
      "page 27\n",
      "Number of ratings:  60424\n",
      "<Response [200]>\n",
      "page 28\n",
      "Number of ratings:  60524\n",
      "<Response [200]>\n",
      "page 29\n",
      "Number of ratings:  60624\n",
      "<Response [200]>\n",
      "page 30\n",
      "Number of ratings:  60724\n",
      "<Response [200]>\n",
      "page 31\n",
      "Number of ratings:  60824\n",
      "<Response [200]>\n",
      "page 32\n",
      "Number of ratings:  60924\n",
      "<Response [200]>\n",
      "page 33\n",
      "Number of ratings:  61024\n",
      "<Response [200]>\n",
      "page 34\n",
      "Number of ratings:  61124\n",
      "<Response [200]>\n",
      "page 35\n",
      "Number of ratings:  61224\n",
      "<Response [200]>\n",
      "page 36\n",
      "Number of ratings:  61324\n",
      "<Response [200]>\n",
      "page 37\n",
      "Number of ratings:  61424\n",
      "<Response [200]>\n",
      "page 38\n",
      "Number of ratings:  61524\n",
      "<Response [200]>\n",
      "page 39\n",
      "Number of ratings:  61624\n",
      "<Response [200]>\n",
      "page 40\n",
      "Number of ratings:  61724\n",
      "<Response [200]>\n",
      "page 41\n",
      "Number of ratings:  61824\n",
      "<Response [200]>\n",
      "page 42\n",
      "Number of ratings:  61924\n",
      "<Response [200]>\n",
      "page 43\n",
      "Number of ratings:  62024\n",
      "<Response [200]>\n",
      "page 44\n",
      "Number of ratings:  62124\n",
      "<Response [200]>\n",
      "page 45\n",
      "Number of ratings:  62224\n",
      "<Response [200]>\n",
      "page 46\n",
      "Number of ratings:  62324\n",
      "<Response [200]>\n",
      "page 47\n",
      "Number of ratings:  62424\n",
      "<Response [200]>\n",
      "page 48\n",
      "Number of ratings:  62524\n",
      "<Response [200]>\n",
      "page 49\n",
      "Number of ratings:  62624\n",
      "<Response [200]>\n",
      "page 50\n",
      "Number of ratings:  62724\n",
      "<Response [200]>\n",
      "page 51\n",
      "Number of ratings:  62824\n",
      "<Response [200]>\n",
      "page 52\n",
      "Number of ratings:  62924\n",
      "<Response [200]>\n",
      "page 53\n",
      "Number of ratings:  63024\n",
      "<Response [200]>\n",
      "page 54\n",
      "Number of ratings:  63124\n",
      "<Response [200]>\n",
      "page 55\n",
      "Number of ratings:  63224\n",
      "<Response [200]>\n",
      "page 56\n",
      "Number of ratings:  63324\n",
      "<Response [200]>\n",
      "page 57\n",
      "Number of ratings:  63424\n",
      "<Response [200]>\n",
      "page 58\n",
      "Number of ratings:  63524\n",
      "<Response [200]>\n",
      "page 59\n",
      "Number of ratings:  63624\n",
      "<Response [200]>\n",
      "page 60\n",
      "Number of ratings:  63724\n",
      "<Response [200]>\n",
      "page 61\n",
      "Number of ratings:  63824\n",
      "<Response [200]>\n",
      "page 62\n",
      "Number of ratings:  63924\n",
      "<Response [200]>\n",
      "page 63\n",
      "Number of ratings:  64024\n",
      "<Response [200]>\n",
      "page 64\n",
      "Number of ratings:  64124\n",
      "<Response [200]>\n",
      "page 65\n",
      "Number of ratings:  64224\n",
      "<Response [200]>\n",
      "page 66\n",
      "Number of ratings:  64324\n",
      "<Response [200]>\n",
      "page 67\n",
      "Number of ratings:  64424\n",
      "<Response [200]>\n",
      "page 68\n",
      "Number of ratings:  64524\n",
      "<Response [200]>\n",
      "SALIENDO = RATINGS0\n",
      "SALIENDO: not next or Rating0\n"
     ]
    },
    {
     "name": "stderr",
     "output_type": "stream",
     "text": [
      "\n",
      " 30%|███████████████████████▌                                                      | 138/456 [39:30<6:06:08, 69.08s/it]"
     ]
    },
    {
     "name": "stdout",
     "output_type": "stream",
     "text": [
      "gatip\n",
      "page 0\n",
      "Number of ratings:  64562\n",
      "<Response [200]>\n",
      "SALIENDO = RATINGS0\n",
      "SALIENDO: not next or Rating0\n"
     ]
    },
    {
     "name": "stderr",
     "output_type": "stream",
     "text": [
      "\n",
      " 30%|███████████████████████▊                                                      | 139/456 [39:33<4:20:59, 49.40s/it]"
     ]
    },
    {
     "name": "stdout",
     "output_type": "stream",
     "text": [
      "michael_c\n",
      "page 0\n",
      "Number of ratings:  64562\n",
      "<Response [200]>\n",
      "page 1\n",
      "Number of ratings:  64662\n",
      "<Response [200]>\n",
      "page 2\n",
      "Number of ratings:  64762\n",
      "<Response [200]>\n",
      "page 3\n",
      "Number of ratings:  64862\n",
      "<Response [200]>\n",
      "page 4\n",
      "Number of ratings:  64962\n",
      "<Response [200]>\n",
      "page 5\n",
      "Number of ratings:  65062\n",
      "<Response [200]>\n",
      "page 6\n",
      "Number of ratings:  65162\n",
      "<Response [200]>\n",
      "page 7\n",
      "Number of ratings:  65262\n",
      "<Response [200]>\n",
      "page 8\n",
      "Number of ratings:  65362\n",
      "<Response [200]>\n",
      "page 9\n",
      "Number of ratings:  65462\n",
      "<Response [200]>\n",
      "page 10\n",
      "Number of ratings:  65562\n",
      "<Response [200]>\n",
      "page 11\n",
      "Number of ratings:  65662\n",
      "<Response [200]>\n",
      "page 12\n",
      "Number of ratings:  65762\n",
      "<Response [200]>\n",
      "page 13\n",
      "Number of ratings:  65862\n",
      "<Response [200]>\n",
      "page 14\n",
      "Number of ratings:  65962\n",
      "<Response [200]>\n",
      "page 15\n",
      "Number of ratings:  66062\n",
      "<Response [200]>\n",
      "page 16\n",
      "Number of ratings:  66162\n",
      "<Response [200]>\n",
      "page 17\n",
      "Number of ratings:  66262\n",
      "<Response [200]>\n",
      "SALIENDO = RATINGS0\n",
      "SALIENDO: not next or Rating0\n"
     ]
    },
    {
     "name": "stderr",
     "output_type": "stream",
     "text": [
      "\n",
      " 31%|███████████████████████▉                                                      | 140/456 [40:33<4:36:41, 52.54s/it]"
     ]
    },
    {
     "name": "stdout",
     "output_type": "stream",
     "text": [
      "autumnyears\n",
      "page 0\n",
      "Number of ratings:  66324\n",
      "<Response [401]>\n",
      "No hay realases en la collection del user\n"
     ]
    },
    {
     "name": "stderr",
     "output_type": "stream",
     "text": [
      "\n",
      " 31%|████████████████████████                                                      | 141/456 [40:35<3:15:37, 37.26s/it]"
     ]
    },
    {
     "name": "stdout",
     "output_type": "stream",
     "text": [
      "KCJammer\n",
      "page 0\n",
      "Number of ratings:  66324\n",
      "<Response [200]>\n",
      "SALIENDO = RATINGS0\n",
      "SALIENDO: not next or Rating0\n"
     ]
    },
    {
     "name": "stderr",
     "output_type": "stream",
     "text": [
      "\n",
      " 31%|████████████████████████▎                                                     | 142/456 [40:39<2:22:38, 27.26s/it]"
     ]
    },
    {
     "name": "stdout",
     "output_type": "stream",
     "text": [
      "vinyljunkie66\n",
      "page 0\n",
      "Number of ratings:  66324\n",
      "<Response [401]>\n",
      "No hay realases en la collection del user\n"
     ]
    },
    {
     "name": "stderr",
     "output_type": "stream",
     "text": [
      "\n",
      " 31%|████████████████████████▍                                                     | 143/456 [40:40<1:42:06, 19.57s/it]"
     ]
    },
    {
     "name": "stdout",
     "output_type": "stream",
     "text": [
      "myklbrooks\n",
      "page 0\n",
      "Number of ratings:  66324\n",
      "<Response [200]>\n",
      "SALIENDO = RATINGS0\n",
      "SALIENDO: not next or Rating0\n"
     ]
    },
    {
     "name": "stderr",
     "output_type": "stream",
     "text": [
      "\n",
      " 32%|████████████████████████▋                                                     | 144/456 [40:42<1:14:24, 14.31s/it]"
     ]
    },
    {
     "name": "stdout",
     "output_type": "stream",
     "text": [
      "Electro-Magnetic\n",
      "page 0\n",
      "Number of ratings:  66336\n",
      "<Response [401]>\n",
      "No hay realases en la collection del user\n"
     ]
    },
    {
     "name": "stderr",
     "output_type": "stream",
     "text": [
      "\n",
      " 32%|█████████████████████████▍                                                      | 145/456 [40:44<54:27, 10.51s/it]"
     ]
    },
    {
     "name": "stdout",
     "output_type": "stream",
     "text": [
      "LostInVinyl\n",
      "page 0\n",
      "Number of ratings:  66336\n",
      "<Response [401]>\n",
      "No hay realases en la collection del user\n"
     ]
    },
    {
     "name": "stderr",
     "output_type": "stream",
     "text": [
      "\n",
      " 32%|█████████████████████████▌                                                      | 146/456 [40:46<40:32,  7.85s/it]"
     ]
    },
    {
     "name": "stdout",
     "output_type": "stream",
     "text": [
      "toyskin\n",
      "page 0\n",
      "Number of ratings:  66336\n",
      "<Response [200]>\n",
      "page 1\n",
      "Number of ratings:  66436\n",
      "<Response [200]>\n",
      "page 2\n",
      "Number of ratings:  66536\n",
      "<Response [200]>\n",
      "SALIENDO = RATINGS0\n",
      "SALIENDO: not next or Rating0\n"
     ]
    },
    {
     "name": "stderr",
     "output_type": "stream",
     "text": [
      "\n",
      " 32%|█████████████████████████▊                                                      | 147/456 [40:56<44:10,  8.58s/it]"
     ]
    },
    {
     "name": "stdout",
     "output_type": "stream",
     "text": [
      "DEGASPERI\n",
      "page 0\n",
      "Number of ratings:  66611\n",
      "<Response [200]>\n",
      "SALIENDO: not next or Rating0\n"
     ]
    },
    {
     "name": "stderr",
     "output_type": "stream",
     "text": [
      "\n",
      " 32%|█████████████████████████▉                                                      | 148/456 [40:58<33:22,  6.50s/it]"
     ]
    },
    {
     "name": "stdout",
     "output_type": "stream",
     "text": [
      "mindustries\n",
      "page 0\n",
      "Number of ratings:  66611\n",
      "<Response [200]>\n",
      "page 1\n",
      "Number of ratings:  66711\n",
      "<Response [200]>\n",
      "page 2\n",
      "Number of ratings:  66811\n",
      "<Response [200]>\n",
      "page 3\n",
      "Number of ratings:  66911\n",
      "<Response [200]>\n",
      "page 4\n",
      "Number of ratings:  67011\n",
      "<Response [200]>\n",
      "page 5\n",
      "Number of ratings:  67111\n",
      "<Response [200]>\n",
      "SALIENDO = RATINGS0\n",
      "SALIENDO: not next or Rating0\n"
     ]
    },
    {
     "name": "stderr",
     "output_type": "stream",
     "text": [
      "\n",
      " 33%|██████████████████████████▏                                                     | 149/456 [41:15<49:58,  9.77s/it]"
     ]
    },
    {
     "name": "stdout",
     "output_type": "stream",
     "text": [
      "jupiterboy\n",
      "page 0\n",
      "Number of ratings:  67121\n",
      "<Response [200]>\n",
      "SALIENDO = RATINGS0\n",
      "SALIENDO: not next or Rating0\n"
     ]
    },
    {
     "name": "stderr",
     "output_type": "stream",
     "text": [
      "\n",
      " 33%|██████████████████████████▎                                                     | 150/456 [41:17<37:54,  7.43s/it]"
     ]
    },
    {
     "name": "stdout",
     "output_type": "stream",
     "text": [
      "giosue\n",
      "page 0\n",
      "Number of ratings:  67132\n",
      "<Response [401]>\n",
      "No hay realases en la collection del user\n"
     ]
    },
    {
     "name": "stderr",
     "output_type": "stream",
     "text": [
      "\n",
      " 33%|██████████████████████████▍                                                     | 151/456 [41:19<28:59,  5.70s/it]"
     ]
    },
    {
     "name": "stdout",
     "output_type": "stream",
     "text": [
      "grondeekhoorn\n",
      "page 0\n",
      "Number of ratings:  67132\n",
      "<Response [401]>\n",
      "No hay realases en la collection del user\n"
     ]
    },
    {
     "name": "stderr",
     "output_type": "stream",
     "text": [
      "\n",
      " 33%|██████████████████████████▋                                                     | 152/456 [41:20<22:44,  4.49s/it]"
     ]
    },
    {
     "name": "stdout",
     "output_type": "stream",
     "text": [
      "oneseven\n",
      "page 0\n",
      "Number of ratings:  67132\n",
      "<Response [401]>\n",
      "No hay realases en la collection del user\n"
     ]
    },
    {
     "name": "stderr",
     "output_type": "stream",
     "text": [
      "\n",
      " 34%|██████████████████████████▊                                                     | 153/456 [41:22<18:20,  3.63s/it]"
     ]
    },
    {
     "name": "stdout",
     "output_type": "stream",
     "text": [
      "Otorhino-Laringo\n",
      "page 0\n",
      "Number of ratings:  67132\n",
      "<Response [401]>\n",
      "No hay realases en la collection del user\n"
     ]
    },
    {
     "name": "stderr",
     "output_type": "stream",
     "text": [
      "\n",
      " 34%|███████████████████████████                                                     | 154/456 [41:24<15:12,  3.02s/it]"
     ]
    },
    {
     "name": "stdout",
     "output_type": "stream",
     "text": [
      "d1gital_love\n",
      "page 0\n",
      "Number of ratings:  67132\n",
      "<Response [200]>\n",
      "SALIENDO = RATINGS0\n",
      "SALIENDO: not next or Rating0\n"
     ]
    },
    {
     "name": "stderr",
     "output_type": "stream",
     "text": [
      "\n",
      " 34%|███████████████████████████▏                                                    | 155/456 [41:27<15:58,  3.18s/it]"
     ]
    },
    {
     "name": "stdout",
     "output_type": "stream",
     "text": [
      "KOUNTERFEIT\n",
      "page 0\n",
      "Number of ratings:  67132\n",
      "<Response [200]>\n",
      "SALIENDO: not next or Rating0\n"
     ]
    },
    {
     "name": "stderr",
     "output_type": "stream",
     "text": [
      "\n",
      " 34%|███████████████████████████▎                                                    | 156/456 [41:29<13:41,  2.74s/it]"
     ]
    },
    {
     "name": "stdout",
     "output_type": "stream",
     "text": [
      "D.E.A.\n",
      "page 0\n",
      "Number of ratings:  67134\n",
      "<Response [200]>\n",
      "SALIENDO: not next or Rating0\n"
     ]
    },
    {
     "name": "stderr",
     "output_type": "stream",
     "text": [
      "\n",
      " 34%|███████████████████████████▌                                                    | 157/456 [41:31<12:07,  2.43s/it]"
     ]
    },
    {
     "name": "stdout",
     "output_type": "stream",
     "text": [
      "vinyl-addict\n",
      "page 0\n",
      "Number of ratings:  67136\n",
      "<Response [401]>\n",
      "No hay realases en la collection del user\n"
     ]
    },
    {
     "name": "stderr",
     "output_type": "stream",
     "text": [
      "\n",
      " 35%|███████████████████████████▋                                                    | 158/456 [41:32<10:51,  2.19s/it]"
     ]
    },
    {
     "name": "stdout",
     "output_type": "stream",
     "text": [
      "Saulir\n",
      "page 0\n",
      "Number of ratings:  67136\n",
      "<Response [200]>\n",
      "SALIENDO = RATINGS0\n",
      "SALIENDO: not next or Rating0\n"
     ]
    },
    {
     "name": "stderr",
     "output_type": "stream",
     "text": [
      "\n",
      " 35%|███████████████████████████▉                                                    | 159/456 [41:37<14:36,  2.95s/it]"
     ]
    },
    {
     "name": "stdout",
     "output_type": "stream",
     "text": [
      "w_ellis\n",
      "page 0\n",
      "Number of ratings:  67136\n",
      "<Response [200]>\n",
      "SALIENDO = RATINGS0\n",
      "SALIENDO: not next or Rating0\n"
     ]
    },
    {
     "name": "stderr",
     "output_type": "stream",
     "text": [
      "\n",
      " 35%|████████████████████████████                                                    | 160/456 [41:42<17:53,  3.63s/it]"
     ]
    },
    {
     "name": "stdout",
     "output_type": "stream",
     "text": [
      "Roger.Z\n",
      "page 0\n",
      "Number of ratings:  67137\n",
      "<Response [200]>\n",
      "SALIENDO: not next or Rating0\n"
     ]
    },
    {
     "name": "stderr",
     "output_type": "stream",
     "text": [
      "\n",
      " 35%|████████████████████████████▏                                                   | 161/456 [41:44<14:55,  3.04s/it]"
     ]
    },
    {
     "name": "stdout",
     "output_type": "stream",
     "text": [
      "plusdeson\n",
      "page 0\n",
      "Number of ratings:  67137\n",
      "<Response [200]>\n",
      "SALIENDO: not next or Rating0\n"
     ]
    },
    {
     "name": "stderr",
     "output_type": "stream",
     "text": [
      "\n",
      " 36%|████████████████████████████▍                                                   | 162/456 [41:45<12:51,  2.63s/it]"
     ]
    },
    {
     "name": "stdout",
     "output_type": "stream",
     "text": [
      "vinileviola\n",
      "page 0\n",
      "Number of ratings:  67137\n",
      "<Response [200]>\n",
      "page 1\n",
      "Number of ratings:  67237\n",
      "<Response [200]>\n",
      "page 2\n",
      "Number of ratings:  67337\n",
      "<Response [200]>\n",
      "page 3\n",
      "Number of ratings:  67437\n",
      "<Response [200]>\n",
      "page 4\n",
      "Number of ratings:  67537\n",
      "<Response [200]>\n",
      "page 5\n",
      "Number of ratings:  67637\n",
      "<Response [200]>\n",
      "page 6\n",
      "Number of ratings:  67737\n",
      "<Response [200]>\n",
      "page 7\n",
      "Number of ratings:  67837\n",
      "<Response [200]>\n",
      "page 8\n",
      "Number of ratings:  67937\n",
      "<Response [200]>\n",
      "page 9\n",
      "Number of ratings:  68037\n",
      "<Response [200]>\n",
      "page 10\n",
      "Number of ratings:  68137\n",
      "<Response [200]>\n",
      "page 11\n",
      "Number of ratings:  68237\n",
      "<Response [200]>\n",
      "page 12\n",
      "Number of ratings:  68337\n",
      "<Response [200]>\n",
      "page 13\n",
      "Number of ratings:  68437\n",
      "<Response [200]>\n",
      "SALIENDO = RATINGS0\n",
      "SALIENDO: not next or Rating0\n"
     ]
    },
    {
     "name": "stderr",
     "output_type": "stream",
     "text": [
      "\n",
      " 36%|███████████████████████████▉                                                  | 163/456 [42:29<1:13:14, 15.00s/it]"
     ]
    },
    {
     "name": "stdout",
     "output_type": "stream",
     "text": [
      "neokyol\n",
      "page 0\n",
      "Number of ratings:  68492\n",
      "<Response [200]>\n",
      "SALIENDO = RATINGS0\n",
      "SALIENDO: not next or Rating0\n"
     ]
    },
    {
     "name": "stderr",
     "output_type": "stream",
     "text": [
      "\n",
      " 36%|████████████████████████████▊                                                   | 164/456 [42:31<53:32, 11.00s/it]"
     ]
    },
    {
     "name": "stdout",
     "output_type": "stream",
     "text": [
      "kaysow\n",
      "page 0\n",
      "Number of ratings:  68493\n",
      "<Response [200]>\n",
      "page 1\n",
      "Number of ratings:  68593\n",
      "<Response [200]>\n",
      "page 2\n",
      "Number of ratings:  68693\n",
      "<Response [200]>\n",
      "SALIENDO = RATINGS0\n",
      "SALIENDO: not next or Rating0\n"
     ]
    },
    {
     "name": "stderr",
     "output_type": "stream",
     "text": [
      "\n",
      " 36%|████████████████████████████▉                                                   | 165/456 [42:41<51:38, 10.65s/it]"
     ]
    },
    {
     "name": "stdout",
     "output_type": "stream",
     "text": [
      "Quarck\n",
      "page 0\n",
      "Number of ratings:  68773\n",
      "<Response [200]>\n",
      "page 1\n",
      "Number of ratings:  68873\n",
      "<Response [200]>\n",
      "page 2\n",
      "Number of ratings:  68973\n",
      "<Response [200]>\n",
      "SALIENDO = RATINGS0\n",
      "SALIENDO: not next or Rating0\n"
     ]
    },
    {
     "name": "stderr",
     "output_type": "stream",
     "text": [
      "\n",
      " 36%|█████████████████████████████                                                   | 166/456 [42:51<50:31, 10.45s/it]"
     ]
    },
    {
     "name": "stdout",
     "output_type": "stream",
     "text": [
      "caitlynmaire\n",
      "page 0\n",
      "Number of ratings:  69034\n",
      "<Response [401]>\n",
      "No hay realases en la collection del user\n"
     ]
    },
    {
     "name": "stderr",
     "output_type": "stream",
     "text": [
      "\n",
      " 37%|█████████████████████████████▎                                                  | 167/456 [42:53<37:40,  7.82s/it]"
     ]
    },
    {
     "name": "stdout",
     "output_type": "stream",
     "text": [
      "slur\n",
      "page 0\n",
      "Number of ratings:  69034\n",
      "<Response [401]>\n",
      "No hay realases en la collection del user\n"
     ]
    },
    {
     "name": "stderr",
     "output_type": "stream",
     "text": [
      "\n",
      " 37%|█████████████████████████████▍                                                  | 168/456 [42:54<28:41,  5.98s/it]"
     ]
    },
    {
     "name": "stdout",
     "output_type": "stream",
     "text": [
      "Silentbob\n",
      "page 0\n",
      "Number of ratings:  69034\n",
      "<Response [200]>\n",
      "page 1\n",
      "Number of ratings:  69134\n",
      "<Response [200]>\n",
      "page 2\n",
      "Number of ratings:  69234\n",
      "<Response [200]>\n",
      "SALIENDO = RATINGS0\n",
      "SALIENDO: not next or Rating0\n"
     ]
    },
    {
     "name": "stderr",
     "output_type": "stream",
     "text": [
      "\n",
      " 37%|█████████████████████████████▋                                                  | 169/456 [43:02<31:13,  6.53s/it]"
     ]
    },
    {
     "name": "stdout",
     "output_type": "stream",
     "text": [
      "Kyoto\n",
      "page 0\n",
      "Number of ratings:  69332\n",
      "<Response [200]>\n",
      "SALIENDO: not next or Rating0\n"
     ]
    },
    {
     "name": "stderr",
     "output_type": "stream",
     "text": [
      "\n",
      " 37%|█████████████████████████████▊                                                  | 170/456 [43:04<24:07,  5.06s/it]"
     ]
    },
    {
     "name": "stdout",
     "output_type": "stream",
     "text": [
      "ger2oo5\n",
      "page 0\n",
      "Number of ratings:  69333\n",
      "<Response [200]>\n",
      "page 1\n",
      "Number of ratings:  69433\n",
      "<Response [200]>\n",
      "page 2\n",
      "Number of ratings:  69533\n",
      "<Response [200]>\n",
      "page 3\n",
      "Number of ratings:  69633\n",
      "<Response [200]>\n",
      "page 4\n",
      "Number of ratings:  69733\n",
      "<Response [200]>\n",
      "page 5\n",
      "Number of ratings:  69833\n",
      "<Response [200]>\n",
      "page 6\n",
      "Number of ratings:  69933\n",
      "<Response [200]>\n",
      "page 7\n",
      "Number of ratings:  70033\n",
      "<Response [200]>\n",
      "page 8\n",
      "Number of ratings:  70133\n",
      "<Response [200]>\n",
      "page 9\n",
      "Number of ratings:  70233\n",
      "<Response [200]>\n",
      "page 10\n",
      "Number of ratings:  70333\n",
      "<Response [200]>\n",
      "page 11\n",
      "Number of ratings:  70433\n",
      "<Response [200]>\n",
      "page 12\n",
      "Number of ratings:  70533\n",
      "<Response [200]>\n",
      "page 13\n",
      "Number of ratings:  70633\n",
      "<Response [200]>\n",
      "page 14\n",
      "Number of ratings:  70733\n",
      "<Response [200]>\n",
      "page 15\n",
      "Number of ratings:  70833\n",
      "<Response [200]>\n",
      "SALIENDO = RATINGS0\n",
      "SALIENDO: not next or Rating0\n"
     ]
    },
    {
     "name": "stderr",
     "output_type": "stream",
     "text": [
      "\n",
      " 38%|█████████████████████████████▎                                                | 171/456 [43:50<1:23:11, 17.52s/it]"
     ]
    },
    {
     "name": "stdout",
     "output_type": "stream",
     "text": [
      "Chester_Copperpot\n",
      "page 0\n",
      "Number of ratings:  70864\n",
      "<Response [401]>\n",
      "No hay realases en la collection del user\n"
     ]
    },
    {
     "name": "stderr",
     "output_type": "stream",
     "text": [
      "\n",
      " 38%|█████████████████████████████▍                                                | 172/456 [43:52<1:00:22, 12.76s/it]"
     ]
    },
    {
     "name": "stdout",
     "output_type": "stream",
     "text": [
      "Atari-420\n",
      "page 0\n",
      "Number of ratings:  70864\n",
      "<Response [401]>\n",
      "No hay realases en la collection del user\n"
     ]
    },
    {
     "name": "stderr",
     "output_type": "stream",
     "text": [
      "\n",
      " 38%|██████████████████████████████▎                                                 | 173/456 [43:53<44:22,  9.41s/it]"
     ]
    },
    {
     "name": "stdout",
     "output_type": "stream",
     "text": [
      "Basement-Records\n",
      "page 0\n",
      "Number of ratings:  70864\n",
      "<Response [200]>\n",
      "SALIENDO: not next or Rating0\n"
     ]
    },
    {
     "name": "stderr",
     "output_type": "stream",
     "text": [
      "\n",
      " 38%|██████████████████████████████▌                                                 | 174/456 [43:55<33:20,  7.09s/it]"
     ]
    },
    {
     "name": "stdout",
     "output_type": "stream",
     "text": [
      "Dimao\n",
      "page 0\n",
      "Number of ratings:  70865\n",
      "<Response [401]>\n",
      "No hay realases en la collection del user\n"
     ]
    },
    {
     "name": "stderr",
     "output_type": "stream",
     "text": [
      "\n",
      " 38%|██████████████████████████████▋                                                 | 175/456 [43:57<25:32,  5.45s/it]"
     ]
    },
    {
     "name": "stdout",
     "output_type": "stream",
     "text": [
      "CommonGood-Records\n",
      "page 0\n",
      "Number of ratings:  70865\n",
      "<Response [200]>\n",
      "SALIENDO = RATINGS0\n",
      "SALIENDO: not next or Rating0\n"
     ]
    },
    {
     "name": "stderr",
     "output_type": "stream",
     "text": [
      "\n",
      " 39%|██████████████████████████████▉                                                 | 176/456 [44:00<22:29,  4.82s/it]"
     ]
    },
    {
     "name": "stdout",
     "output_type": "stream",
     "text": [
      "BBart\n",
      "page 0\n",
      "Number of ratings:  70935\n",
      "<Response [401]>\n",
      "No hay realases en la collection del user\n"
     ]
    },
    {
     "name": "stderr",
     "output_type": "stream",
     "text": [
      "\n",
      " 39%|███████████████████████████████                                                 | 177/456 [44:02<17:56,  3.86s/it]"
     ]
    },
    {
     "name": "stdout",
     "output_type": "stream",
     "text": [
      "ChrisCrooner\n",
      "page 0\n",
      "Number of ratings:  70935\n",
      "<Response [200]>\n",
      "SALIENDO = RATINGS0\n",
      "SALIENDO: not next or Rating0\n"
     ]
    },
    {
     "name": "stderr",
     "output_type": "stream",
     "text": [
      "\n",
      " 39%|███████████████████████████████▏                                                | 178/456 [44:04<15:15,  3.29s/it]"
     ]
    },
    {
     "name": "stdout",
     "output_type": "stream",
     "text": [
      "snuffrock\n",
      "page 0\n",
      "Number of ratings:  70947\n",
      "<Response [200]>\n",
      "page 1\n",
      "Number of ratings:  71047\n",
      "<Response [200]>\n",
      "page 2\n",
      "Number of ratings:  71147\n",
      "<Response [200]>\n",
      "page 3\n",
      "Number of ratings:  71247\n",
      "<Response [200]>\n",
      "page 4\n",
      "Number of ratings:  71347\n",
      "<Response [200]>\n",
      "page 5\n",
      "Number of ratings:  71447\n",
      "<Response [200]>\n",
      "page 6\n",
      "Number of ratings:  71547\n",
      "<Response [200]>\n",
      "page 7\n",
      "Number of ratings:  71647\n",
      "<Response [200]>\n",
      "page 8\n",
      "Number of ratings:  71747\n",
      "<Response [200]>\n",
      "page 9\n",
      "Number of ratings:  71847\n",
      "<Response [200]>\n",
      "SALIENDO = RATINGS0\n",
      "SALIENDO: not next or Rating0\n"
     ]
    },
    {
     "name": "stderr",
     "output_type": "stream",
     "text": [
      "\n",
      " 39%|███████████████████████████████▍                                                | 179/456 [44:35<53:43, 11.64s/it]"
     ]
    },
    {
     "name": "stdout",
     "output_type": "stream",
     "text": [
      "_dreamer\n",
      "page 0\n",
      "Number of ratings:  71898\n",
      "<Response [200]>\n",
      "page 1\n",
      "Number of ratings:  71998\n",
      "<Response [200]>\n",
      "page 2\n",
      "Number of ratings:  72098\n",
      "<Response [200]>\n",
      "page 3\n",
      "Number of ratings:  72198\n",
      "<Response [200]>\n",
      "page 4\n",
      "Number of ratings:  72298\n",
      "<Response [200]>\n",
      "page 5\n",
      "Number of ratings:  72398\n",
      "<Response [200]>\n",
      "page 6\n",
      "Number of ratings:  72498\n",
      "<Response [200]>\n",
      "page 7\n",
      "Number of ratings:  72598\n",
      "<Response [200]>\n",
      "page 8\n",
      "Number of ratings:  72698\n",
      "<Response [200]>\n",
      "page 9\n",
      "Number of ratings:  72798\n",
      "<Response [200]>\n",
      "SALIENDO = RATINGS0\n",
      "SALIENDO: not next or Rating0\n"
     ]
    },
    {
     "name": "stderr",
     "output_type": "stream",
     "text": [
      "\n",
      " 39%|██████████████████████████████▊                                               | 180/456 [45:08<1:23:27, 18.14s/it]"
     ]
    },
    {
     "name": "stdout",
     "output_type": "stream",
     "text": [
      "Sal_Ami\n",
      "page 0\n",
      "Number of ratings:  72820\n",
      "<Response [200]>\n",
      "SALIENDO = RATINGS0\n",
      "SALIENDO: not next or Rating0\n"
     ]
    },
    {
     "name": "stderr",
     "output_type": "stream",
     "text": [
      "\n",
      " 40%|██████████████████████████████▉                                               | 181/456 [45:10<1:01:10, 13.35s/it]"
     ]
    },
    {
     "name": "stdout",
     "output_type": "stream",
     "text": [
      "cristianocarla\n",
      "page 0\n",
      "Number of ratings:  72822\n",
      "<Response [200]>\n",
      "page 1\n",
      "Number of ratings:  72922\n",
      "<Response [200]>\n",
      "page 2\n",
      "Number of ratings:  73022\n",
      "<Response [200]>\n",
      "page 3\n",
      "Number of ratings:  73122\n",
      "<Response [200]>\n",
      "page 4\n",
      "Number of ratings:  73222\n",
      "<Response [200]>\n",
      "page 5\n",
      "Number of ratings:  73322\n",
      "<Response [200]>\n",
      "page 6\n",
      "Number of ratings:  73422\n",
      "<Response [200]>\n",
      "page 7\n",
      "Number of ratings:  73522\n",
      "<Response [200]>\n",
      "page 8\n",
      "Number of ratings:  73622\n",
      "<Response [200]>\n",
      "page 9\n",
      "Number of ratings:  73722\n",
      "<Response [200]>\n",
      "page 10\n",
      "Number of ratings:  73822\n",
      "<Response [200]>\n",
      "page 11\n",
      "Number of ratings:  73922\n",
      "<Response [200]>\n",
      "page 12\n",
      "Number of ratings:  74022\n",
      "<Response [200]>\n",
      "page 13\n",
      "Number of ratings:  74122\n",
      "<Response [200]>\n",
      "page 14\n",
      "Number of ratings:  74222\n",
      "<Response [200]>\n",
      "page 15\n",
      "Number of ratings:  74322\n",
      "<Response [200]>\n",
      "page 16\n",
      "Number of ratings:  74422\n",
      "<Response [200]>\n",
      "page 17\n",
      "Number of ratings:  74522\n",
      "<Response [200]>\n",
      "page 18\n",
      "Number of ratings:  74622\n",
      "<Response [200]>\n",
      "page 19\n",
      "Number of ratings:  74722\n",
      "<Response [200]>\n",
      "page 20\n",
      "Number of ratings:  74822\n",
      "<Response [200]>\n",
      "page 21\n",
      "Number of ratings:  74922\n",
      "<Response [200]>\n",
      "page 22\n",
      "Number of ratings:  75022\n",
      "<Response [200]>\n",
      "page 23\n",
      "Number of ratings:  75122\n",
      "<Response [200]>\n",
      "page 24\n",
      "Number of ratings:  75222\n",
      "<Response [200]>\n",
      "page 25\n",
      "Number of ratings:  75322\n",
      "<Response [200]>\n",
      "page 26\n",
      "Number of ratings:  75422\n",
      "<Response [200]>\n",
      "page 27\n",
      "Number of ratings:  75522\n",
      "<Response [200]>\n",
      "page 28\n",
      "Number of ratings:  75622\n",
      "<Response [200]>\n",
      "page 29\n",
      "Number of ratings:  75722\n",
      "<Response [200]>\n",
      "page 30\n",
      "Number of ratings:  75822\n",
      "<Response [200]>\n",
      "page 31\n",
      "Number of ratings:  75922\n",
      "<Response [200]>\n",
      "page 32\n",
      "Number of ratings:  76022\n",
      "<Response [200]>\n",
      "page 33\n",
      "Number of ratings:  76122\n",
      "<Response [200]>\n",
      "page 34\n",
      "Number of ratings:  76222\n",
      "<Response [200]>\n",
      "page 35\n",
      "Number of ratings:  76322\n",
      "<Response [200]>\n",
      "page 36\n",
      "Number of ratings:  76422\n",
      "<Response [200]>\n",
      "page 37\n",
      "Number of ratings:  76522\n",
      "<Response [200]>\n",
      "page 38\n",
      "Number of ratings:  76622\n",
      "<Response [200]>\n",
      "page 39\n",
      "Number of ratings:  76722\n",
      "<Response [200]>\n",
      "page 40\n",
      "Number of ratings:  76822\n",
      "<Response [200]>\n",
      "page 41\n",
      "Number of ratings:  76922\n",
      "<Response [200]>\n",
      "page 42\n",
      "Number of ratings:  77022\n",
      "<Response [200]>\n",
      "page 43\n",
      "Number of ratings:  77122\n",
      "<Response [200]>\n",
      "page 44\n",
      "Number of ratings:  77222\n",
      "<Response [200]>\n",
      "page 45\n",
      "Number of ratings:  77322\n",
      "<Response [200]>\n",
      "page 46\n",
      "Number of ratings:  77422\n",
      "<Response [200]>\n",
      "page 47\n",
      "Number of ratings:  77522\n",
      "<Response [200]>\n",
      "page 48\n",
      "Number of ratings:  77622\n",
      "<Response [200]>\n",
      "page 49\n",
      "Number of ratings:  77722\n",
      "<Response [200]>\n",
      "page 50\n",
      "Number of ratings:  77822\n",
      "<Response [200]>\n",
      "page 51\n",
      "Number of ratings:  77922\n",
      "<Response [200]>\n",
      "page 52\n",
      "Number of ratings:  78022\n",
      "<Response [200]>\n",
      "page 53\n",
      "Number of ratings:  78122\n",
      "<Response [200]>\n",
      "page 54\n",
      "Number of ratings:  78222\n",
      "<Response [200]>\n",
      "page 55\n",
      "Number of ratings:  78322\n",
      "<Response [200]>\n",
      "page 56\n",
      "Number of ratings:  78422\n",
      "<Response [200]>\n",
      "page 57\n",
      "Number of ratings:  78522\n",
      "<Response [200]>\n",
      "page 58\n",
      "Number of ratings:  78622\n",
      "<Response [200]>\n",
      "page 59\n",
      "Number of ratings:  78722\n",
      "<Response [200]>\n",
      "page 60\n",
      "Number of ratings:  78822\n",
      "<Response [200]>\n",
      "SALIENDO = RATINGS0\n",
      "SALIENDO: not next or Rating0\n"
     ]
    },
    {
     "name": "stderr",
     "output_type": "stream",
     "text": [
      "\n",
      " 40%|███████████████████████████████▏                                              | 182/456 [48:35<5:22:31, 70.62s/it]"
     ]
    },
    {
     "name": "stdout",
     "output_type": "stream",
     "text": [
      "moujet\n",
      "page 0\n",
      "Number of ratings:  78888\n",
      "<Response [401]>\n",
      "No hay realases en la collection del user\n"
     ]
    },
    {
     "name": "stderr",
     "output_type": "stream",
     "text": [
      "\n",
      " 40%|███████████████████████████████▎                                              | 183/456 [48:36<3:47:09, 49.92s/it]"
     ]
    },
    {
     "name": "stdout",
     "output_type": "stream",
     "text": [
      "Crown.Propeller\n",
      "page 0\n",
      "Number of ratings:  78888\n",
      "<Response [200]>\n",
      "SALIENDO = RATINGS0\n",
      "SALIENDO: not next or Rating0\n"
     ]
    },
    {
     "name": "stderr",
     "output_type": "stream",
     "text": [
      "\n",
      " 40%|███████████████████████████████▍                                              | 184/456 [48:40<2:43:35, 36.09s/it]"
     ]
    },
    {
     "name": "stdout",
     "output_type": "stream",
     "text": [
      "ShinylVinyl\n",
      "page 0\n",
      "Number of ratings:  78891\n",
      "<Response [200]>\n",
      "SALIENDO = RATINGS0\n",
      "SALIENDO: not next or Rating0\n"
     ]
    },
    {
     "name": "stderr",
     "output_type": "stream",
     "text": [
      "\n",
      " 41%|███████████████████████████████▋                                              | 185/456 [48:42<1:57:12, 25.95s/it]"
     ]
    },
    {
     "name": "stdout",
     "output_type": "stream",
     "text": [
      "Symphonyz\n",
      "page 0\n",
      "Number of ratings:  78899\n",
      "<Response [200]>\n",
      "SALIENDO: not next or Rating0\n"
     ]
    },
    {
     "name": "stderr",
     "output_type": "stream",
     "text": [
      "\n",
      " 41%|███████████████████████████████▊                                              | 186/456 [48:44<1:24:02, 18.68s/it]"
     ]
    },
    {
     "name": "stdout",
     "output_type": "stream",
     "text": [
      "jackmos999\n",
      "page 0\n",
      "Number of ratings:  78899\n",
      "<Response [200]>\n",
      "SALIENDO = RATINGS0\n",
      "SALIENDO: not next or Rating0\n"
     ]
    },
    {
     "name": "stderr",
     "output_type": "stream",
     "text": [
      "\n",
      " 41%|███████████████████████████████▉                                              | 187/456 [48:47<1:02:46, 14.00s/it]"
     ]
    },
    {
     "name": "stdout",
     "output_type": "stream",
     "text": [
      "hedonismheffner\n",
      "page 0\n",
      "Number of ratings:  78899\n",
      "<Response [200]>\n",
      "page 1\n",
      "Number of ratings:  78999\n",
      "<Response [200]>\n",
      "page 2\n",
      "Number of ratings:  79099\n",
      "<Response [200]>\n",
      "SALIENDO = RATINGS0\n",
      "SALIENDO: not next or Rating0\n"
     ]
    },
    {
     "name": "stderr",
     "output_type": "stream",
     "text": [
      "\n",
      " 41%|████████████████████████████████▉                                               | 188/456 [48:57<57:23, 12.85s/it]"
     ]
    },
    {
     "name": "stdout",
     "output_type": "stream",
     "text": [
      "darkwaves\n",
      "page 0\n",
      "Number of ratings:  79146\n",
      "<Response [200]>\n",
      "SALIENDO = RATINGS0\n",
      "SALIENDO: not next or Rating0\n"
     ]
    },
    {
     "name": "stderr",
     "output_type": "stream",
     "text": [
      "\n",
      " 41%|█████████████████████████████████▏                                              | 189/456 [49:01<44:39, 10.04s/it]"
     ]
    },
    {
     "name": "stdout",
     "output_type": "stream",
     "text": [
      "llllllllllIIIIIIIIII\n",
      "page 0\n",
      "Number of ratings:  79182\n",
      "<Response [401]>\n",
      "No hay realases en la collection del user\n"
     ]
    },
    {
     "name": "stderr",
     "output_type": "stream",
     "text": [
      "\n",
      " 42%|█████████████████████████████████▎                                              | 190/456 [49:02<33:16,  7.50s/it]"
     ]
    },
    {
     "name": "stdout",
     "output_type": "stream",
     "text": [
      "JuSi\n",
      "page 0\n",
      "Number of ratings:  79182\n",
      "<Response [200]>\n",
      "page 1\n",
      "Number of ratings:  79282\n",
      "<Response [200]>\n",
      "page 2\n",
      "Number of ratings:  79382\n",
      "<Response [200]>\n",
      "page 3\n",
      "Number of ratings:  79482\n",
      "<Response [200]>\n",
      "page 4\n",
      "Number of ratings:  79582\n",
      "<Response [200]>\n",
      "SALIENDO = RATINGS0\n",
      "SALIENDO: not next or Rating0\n"
     ]
    },
    {
     "name": "stderr",
     "output_type": "stream",
     "text": [
      "\n",
      " 42%|█████████████████████████████████▌                                              | 191/456 [49:19<44:44, 10.13s/it]"
     ]
    },
    {
     "name": "stdout",
     "output_type": "stream",
     "text": [
      "somapeti2\n",
      "page 0\n",
      "Number of ratings:  79604\n",
      "<Response [401]>\n",
      "No hay realases en la collection del user\n"
     ]
    },
    {
     "name": "stderr",
     "output_type": "stream",
     "text": [
      "\n",
      " 42%|█████████████████████████████████▋                                              | 192/456 [49:20<33:23,  7.59s/it]"
     ]
    },
    {
     "name": "stdout",
     "output_type": "stream",
     "text": [
      "All-Vinyl-Experience\n",
      "page 0\n",
      "Number of ratings:  79604\n",
      "<Response [401]>\n",
      "No hay realases en la collection del user\n"
     ]
    },
    {
     "name": "stderr",
     "output_type": "stream",
     "text": [
      "\n",
      " 42%|█████████████████████████████████▊                                              | 193/456 [49:22<25:23,  5.79s/it]"
     ]
    },
    {
     "name": "stdout",
     "output_type": "stream",
     "text": [
      "jimmy07\n",
      "page 0\n",
      "Number of ratings:  79604\n",
      "<Response [200]>\n",
      "SALIENDO = RATINGS0\n",
      "SALIENDO: not next or Rating0\n"
     ]
    },
    {
     "name": "stderr",
     "output_type": "stream",
     "text": [
      "\n",
      " 43%|██████████████████████████████████                                              | 194/456 [49:26<23:05,  5.29s/it]"
     ]
    },
    {
     "name": "stdout",
     "output_type": "stream",
     "text": [
      "genitek.rge\n",
      "page 0\n",
      "Number of ratings:  79613\n",
      "<Response [401]>\n",
      "No hay realases en la collection del user\n"
     ]
    },
    {
     "name": "stderr",
     "output_type": "stream",
     "text": [
      "\n",
      " 43%|██████████████████████████████████▏                                             | 195/456 [49:28<18:12,  4.19s/it]"
     ]
    },
    {
     "name": "stdout",
     "output_type": "stream",
     "text": [
      "dertriumphdestodes\n",
      "page 0\n",
      "Number of ratings:  79613\n",
      "<Response [200]>\n",
      "page 1\n",
      "Number of ratings:  79713\n",
      "<Response [200]>\n",
      "page 2\n",
      "Number of ratings:  79813\n",
      "<Response [200]>\n",
      "SALIENDO = RATINGS0\n",
      "SALIENDO: not next or Rating0\n"
     ]
    },
    {
     "name": "stderr",
     "output_type": "stream",
     "text": [
      "\n",
      " 43%|██████████████████████████████████▍                                             | 196/456 [49:37<24:51,  5.73s/it]"
     ]
    },
    {
     "name": "stdout",
     "output_type": "stream",
     "text": [
      "breakup66\n",
      "page 0\n",
      "Number of ratings:  79891\n",
      "<Response [401]>\n",
      "No hay realases en la collection del user\n"
     ]
    },
    {
     "name": "stderr",
     "output_type": "stream",
     "text": [
      "\n",
      " 43%|██████████████████████████████████▌                                             | 197/456 [49:39<19:29,  4.52s/it]"
     ]
    },
    {
     "name": "stdout",
     "output_type": "stream",
     "text": [
      "cezarlacrone\n",
      "page 0\n",
      "Number of ratings:  79891\n",
      "<Response [200]>\n",
      "SALIENDO: not next or Rating0\n"
     ]
    },
    {
     "name": "stderr",
     "output_type": "stream",
     "text": [
      "\n",
      " 43%|██████████████████████████████████▋                                             | 198/456 [49:40<15:45,  3.66s/it]"
     ]
    },
    {
     "name": "stdout",
     "output_type": "stream",
     "text": [
      "deMonne\n",
      "page 0\n",
      "Number of ratings:  79891\n",
      "<Response [401]>\n",
      "No hay realases en la collection del user\n"
     ]
    },
    {
     "name": "stderr",
     "output_type": "stream",
     "text": [
      "\n",
      " 44%|██████████████████████████████████▉                                             | 199/456 [49:42<13:07,  3.06s/it]"
     ]
    },
    {
     "name": "stdout",
     "output_type": "stream",
     "text": [
      "ubongo\n",
      "page 0\n",
      "Number of ratings:  79891\n",
      "<Response [200]>\n",
      "SALIENDO = RATINGS0\n",
      "SALIENDO: not next or Rating0\n"
     ]
    },
    {
     "name": "stderr",
     "output_type": "stream",
     "text": [
      "\n",
      " 44%|███████████████████████████████████                                             | 200/456 [49:46<14:05,  3.30s/it]"
     ]
    },
    {
     "name": "stdout",
     "output_type": "stream",
     "text": [
      "Stefan-KWS\n",
      "page 0\n",
      "Number of ratings:  79891\n",
      "<Response [401]>\n",
      "No hay realases en la collection del user\n"
     ]
    },
    {
     "name": "stderr",
     "output_type": "stream",
     "text": [
      "\n",
      " 44%|███████████████████████████████████▎                                            | 201/456 [49:47<11:56,  2.81s/it]"
     ]
    },
    {
     "name": "stdout",
     "output_type": "stream",
     "text": [
      "mate_spawn_die\n",
      "page 0\n",
      "Number of ratings:  79891\n",
      "<Response [200]>\n",
      "SALIENDO = RATINGS0\n",
      "SALIENDO: not next or Rating0\n"
     ]
    },
    {
     "name": "stderr",
     "output_type": "stream",
     "text": [
      "\n",
      " 44%|███████████████████████████████████▍                                            | 202/456 [49:51<12:33,  2.97s/it]"
     ]
    },
    {
     "name": "stdout",
     "output_type": "stream",
     "text": [
      "musicmann1\n",
      "page 0\n",
      "Number of ratings:  79891\n",
      "<Response [401]>\n",
      "No hay realases en la collection del user\n"
     ]
    },
    {
     "name": "stderr",
     "output_type": "stream",
     "text": [
      "\n",
      " 45%|███████████████████████████████████▌                                            | 203/456 [49:52<10:51,  2.58s/it]"
     ]
    },
    {
     "name": "stdout",
     "output_type": "stream",
     "text": [
      "Salutaurs\n",
      "page 0\n",
      "Number of ratings:  79891\n",
      "<Response [200]>\n",
      "SALIENDO = RATINGS0\n",
      "SALIENDO: not next or Rating0\n"
     ]
    },
    {
     "name": "stderr",
     "output_type": "stream",
     "text": [
      "\n",
      " 45%|███████████████████████████████████▊                                            | 204/456 [49:56<11:59,  2.85s/it]"
     ]
    },
    {
     "name": "stdout",
     "output_type": "stream",
     "text": [
      "BCSA\n",
      "page 0\n",
      "Number of ratings:  79891\n",
      "<Response [200]>\n",
      "SALIENDO = RATINGS0\n",
      "SALIENDO: not next or Rating0\n"
     ]
    },
    {
     "name": "stderr",
     "output_type": "stream",
     "text": [
      "\n",
      " 45%|███████████████████████████████████▉                                            | 205/456 [49:59<12:23,  2.96s/it]"
     ]
    },
    {
     "name": "stdout",
     "output_type": "stream",
     "text": [
      "tract\n",
      "page 0\n",
      "Number of ratings:  79966\n",
      "<Response [200]>\n",
      "page 1\n",
      "Number of ratings:  80066\n",
      "<Response [200]>\n",
      "page 2\n",
      "Number of ratings:  80166\n",
      "<Response [200]>\n",
      "page 3\n",
      "Number of ratings:  80266\n",
      "<Response [200]>\n",
      "page 4\n",
      "Number of ratings:  80366\n",
      "<Response [200]>\n",
      "page 5\n",
      "Number of ratings:  80466\n",
      "<Response [200]>\n",
      "page 6\n",
      "Number of ratings:  80566\n",
      "<Response [200]>\n",
      "page 7\n",
      "Number of ratings:  80666\n",
      "<Response [200]>\n",
      "page 8\n",
      "Number of ratings:  80766\n",
      "<Response [200]>\n",
      "page 9\n",
      "Number of ratings:  80866\n",
      "<Response [200]>\n",
      "page 10\n",
      "Number of ratings:  80966\n",
      "<Response [200]>\n",
      "page 11\n",
      "Number of ratings:  81066\n",
      "<Response [200]>\n",
      "page 12\n",
      "Number of ratings:  81166\n",
      "<Response [200]>\n",
      "SALIENDO = RATINGS0\n",
      "SALIENDO: not next or Rating0\n"
     ]
    },
    {
     "name": "stderr",
     "output_type": "stream",
     "text": [
      "\n",
      " 45%|████████████████████████████████████▏                                           | 206/456 [50:39<57:50, 13.88s/it]"
     ]
    },
    {
     "name": "stdout",
     "output_type": "stream",
     "text": [
      "orgunworn\n",
      "page 0\n",
      "Number of ratings:  81173\n",
      "<Response [200]>\n",
      "SALIENDO = RATINGS0\n",
      "SALIENDO: not next or Rating0\n"
     ]
    },
    {
     "name": "stderr",
     "output_type": "stream",
     "text": [
      "\n",
      " 45%|████████████████████████████████████▎                                           | 207/456 [50:41<42:47, 10.31s/it]"
     ]
    },
    {
     "name": "stdout",
     "output_type": "stream",
     "text": [
      "maxxyme\n",
      "page 0\n",
      "Number of ratings:  81182\n",
      "<Response [401]>\n",
      "No hay realases en la collection del user\n"
     ]
    },
    {
     "name": "stderr",
     "output_type": "stream",
     "text": [
      "\n",
      " 46%|████████████████████████████████████▍                                           | 208/456 [50:42<31:56,  7.73s/it]"
     ]
    },
    {
     "name": "stdout",
     "output_type": "stream",
     "text": [
      "nabukudurriusur\n",
      "page 0\n",
      "Number of ratings:  81182\n",
      "<Response [200]>\n",
      "SALIENDO = RATINGS0\n",
      "SALIENDO: not next or Rating0\n"
     ]
    },
    {
     "name": "stderr",
     "output_type": "stream",
     "text": [
      "\n",
      " 46%|████████████████████████████████████▋                                           | 209/456 [50:46<27:28,  6.67s/it]"
     ]
    },
    {
     "name": "stdout",
     "output_type": "stream",
     "text": [
      "Alen_Milivojevic\n",
      "page 0\n",
      "Number of ratings:  81254\n",
      "<Response [200]>\n",
      "SALIENDO: not next or Rating0\n"
     ]
    },
    {
     "name": "stderr",
     "output_type": "stream",
     "text": [
      "\n",
      " 46%|████████████████████████████████████▊                                           | 210/456 [50:48<21:19,  5.20s/it]"
     ]
    },
    {
     "name": "stdout",
     "output_type": "stream",
     "text": [
      "RootsRecords\n",
      "page 0\n",
      "Number of ratings:  81258\n",
      "<Response [200]>\n",
      "SALIENDO = RATINGS0\n",
      "SALIENDO: not next or Rating0\n"
     ]
    },
    {
     "name": "stderr",
     "output_type": "stream",
     "text": [
      "\n",
      " 46%|█████████████████████████████████████                                           | 211/456 [50:50<16:57,  4.15s/it]"
     ]
    },
    {
     "name": "stdout",
     "output_type": "stream",
     "text": [
      "spaceface01\n",
      "page 0\n",
      "Number of ratings:  81258\n",
      "<Response [401]>\n",
      "No hay realases en la collection del user\n"
     ]
    },
    {
     "name": "stderr",
     "output_type": "stream",
     "text": [
      "\n",
      " 46%|█████████████████████████████████████▏                                          | 212/456 [50:52<13:49,  3.40s/it]"
     ]
    },
    {
     "name": "stdout",
     "output_type": "stream",
     "text": [
      "vamosadelante\n",
      "page 0\n",
      "Number of ratings:  81258\n",
      "<Response [401]>\n",
      "No hay realases en la collection del user\n"
     ]
    },
    {
     "name": "stderr",
     "output_type": "stream",
     "text": [
      "\n",
      " 47%|█████████████████████████████████████▎                                          | 213/456 [50:53<11:36,  2.86s/it]"
     ]
    },
    {
     "name": "stdout",
     "output_type": "stream",
     "text": [
      "thefavoriteplay\n",
      "page 0\n",
      "Number of ratings:  81258\n",
      "<Response [401]>\n",
      "No hay realases en la collection del user\n"
     ]
    },
    {
     "name": "stderr",
     "output_type": "stream",
     "text": [
      "\n",
      " 47%|█████████████████████████████████████▌                                          | 214/456 [50:55<10:04,  2.50s/it]"
     ]
    },
    {
     "name": "stdout",
     "output_type": "stream",
     "text": [
      "dianardo\n",
      "page 0\n",
      "Number of ratings:  81258\n",
      "<Response [401]>\n",
      "No hay realases en la collection del user\n"
     ]
    },
    {
     "name": "stderr",
     "output_type": "stream",
     "text": [
      "\n",
      " 47%|█████████████████████████████████████▋                                          | 215/456 [50:56<08:59,  2.24s/it]"
     ]
    },
    {
     "name": "stdout",
     "output_type": "stream",
     "text": [
      "Renatar\n",
      "page 0\n",
      "Number of ratings:  81258\n",
      "<Response [200]>\n",
      "page 1\n",
      "Number of ratings:  81358\n",
      "<Response [200]>\n",
      "page 2\n",
      "Number of ratings:  81458\n",
      "<Response [200]>\n",
      "page 3\n",
      "Number of ratings:  81558\n",
      "<Response [200]>\n",
      "SALIENDO = RATINGS0\n",
      "SALIENDO: not next or Rating0\n"
     ]
    },
    {
     "name": "stderr",
     "output_type": "stream",
     "text": [
      "\n",
      " 47%|█████████████████████████████████████▉                                          | 216/456 [51:09<21:02,  5.26s/it]"
     ]
    },
    {
     "name": "stdout",
     "output_type": "stream",
     "text": [
      "Derby_MH\n",
      "page 0\n",
      "Number of ratings:  81615\n",
      "<Response [401]>\n",
      "No hay realases en la collection del user\n"
     ]
    },
    {
     "name": "stderr",
     "output_type": "stream",
     "text": [
      "\n",
      " 48%|██████████████████████████████████████                                          | 217/456 [51:10<16:42,  4.19s/it]"
     ]
    },
    {
     "name": "stdout",
     "output_type": "stream",
     "text": [
      "crashedcar\n",
      "page 0\n",
      "Number of ratings:  81615\n",
      "<Response [200]>\n",
      "SALIENDO = RATINGS0\n",
      "SALIENDO: not next or Rating0\n"
     ]
    },
    {
     "name": "stderr",
     "output_type": "stream",
     "text": [
      "\n",
      " 48%|██████████████████████████████████████▏                                         | 218/456 [51:14<16:22,  4.13s/it]"
     ]
    },
    {
     "name": "stdout",
     "output_type": "stream",
     "text": [
      "nooe\n",
      "page 0\n",
      "Number of ratings:  81615\n",
      "<Response [401]>\n",
      "No hay realases en la collection del user\n"
     ]
    },
    {
     "name": "stderr",
     "output_type": "stream",
     "text": [
      "\n",
      " 48%|██████████████████████████████████████▍                                         | 219/456 [51:16<13:22,  3.39s/it]"
     ]
    },
    {
     "name": "stdout",
     "output_type": "stream",
     "text": [
      "Shades-of-Grey\n",
      "page 0\n",
      "Number of ratings:  81615\n",
      "<Response [401]>\n",
      "No hay realases en la collection del user\n"
     ]
    },
    {
     "name": "stderr",
     "output_type": "stream",
     "text": [
      "\n",
      " 48%|██████████████████████████████████████▌                                         | 220/456 [51:18<11:18,  2.87s/it]"
     ]
    },
    {
     "name": "stdout",
     "output_type": "stream",
     "text": [
      "marmilmjd66\n",
      "page 0\n",
      "Number of ratings:  81615\n",
      "<Response [401]>\n",
      "No hay realases en la collection del user\n"
     ]
    },
    {
     "name": "stderr",
     "output_type": "stream",
     "text": [
      "\n",
      " 48%|██████████████████████████████████████▊                                         | 221/456 [51:19<09:47,  2.50s/it]"
     ]
    },
    {
     "name": "stdout",
     "output_type": "stream",
     "text": [
      "Montandon\n",
      "page 0\n",
      "Number of ratings:  81615\n",
      "<Response [200]>\n",
      "page 1\n",
      "Number of ratings:  81715\n",
      "<Response [200]>\n",
      "page 2\n",
      "Number of ratings:  81815\n",
      "<Response [200]>\n",
      "SALIENDO = RATINGS0\n",
      "SALIENDO: not next or Rating0\n"
     ]
    },
    {
     "name": "stderr",
     "output_type": "stream",
     "text": [
      "\n",
      " 49%|██████████████████████████████████████▉                                         | 222/456 [51:29<18:08,  4.65s/it]"
     ]
    },
    {
     "name": "stdout",
     "output_type": "stream",
     "text": [
      "leinad\n",
      "page 0\n",
      "Number of ratings:  81848\n",
      "<Response [200]>\n",
      "page 1\n",
      "Number of ratings:  81948\n",
      "<Response [200]>\n",
      "page 2\n",
      "Number of ratings:  82048\n",
      "<Response [200]>\n",
      "SALIENDO = RATINGS0\n",
      "SALIENDO: not next or Rating0\n"
     ]
    },
    {
     "name": "stderr",
     "output_type": "stream",
     "text": [
      "\n",
      " 49%|███████████████████████████████████████                                         | 223/456 [51:37<21:35,  5.56s/it]"
     ]
    },
    {
     "name": "stdout",
     "output_type": "stream",
     "text": [
      "rcasd\n",
      "page 0\n",
      "Number of ratings:  82076\n",
      "<Response [200]>\n",
      "SALIENDO = RATINGS0\n",
      "SALIENDO: not next or Rating0\n"
     ]
    },
    {
     "name": "stderr",
     "output_type": "stream",
     "text": [
      "\n",
      " 49%|███████████████████████████████████████▎                                        | 224/456 [51:41<19:34,  5.06s/it]"
     ]
    },
    {
     "name": "stdout",
     "output_type": "stream",
     "text": [
      "amoebasinger\n",
      "page 0\n",
      "Number of ratings:  82090\n",
      "<Response [200]>\n",
      "page 1\n",
      "Number of ratings:  82190\n",
      "<Response [200]>\n",
      "page 2\n",
      "Number of ratings:  82290\n",
      "<Response [200]>\n",
      "page 3\n",
      "Number of ratings:  82390\n",
      "<Response [200]>\n",
      "page 4\n",
      "Number of ratings:  82490\n",
      "<Response [200]>\n",
      "page 5\n",
      "Number of ratings:  82590\n",
      "<Response [200]>\n",
      "page 6\n",
      "Number of ratings:  82690\n",
      "<Response [200]>\n",
      "page 7\n",
      "Number of ratings:  82790\n",
      "<Response [200]>\n",
      "page 8\n",
      "Number of ratings:  82890\n",
      "<Response [200]>\n",
      "page 9\n",
      "Number of ratings:  82990\n",
      "<Response [200]>\n",
      "page 10\n",
      "Number of ratings:  83090\n",
      "<Response [200]>\n",
      "page 11\n",
      "Number of ratings:  83190\n",
      "<Response [200]>\n",
      "page 12\n",
      "Number of ratings:  83290\n",
      "<Response [200]>\n",
      "SALIENDO = RATINGS0\n",
      "SALIENDO: not next or Rating0\n"
     ]
    },
    {
     "name": "stderr",
     "output_type": "stream",
     "text": [
      "\n",
      " 49%|███████████████████████████████████████▍                                        | 225/456 [52:20<59:40, 15.50s/it]"
     ]
    },
    {
     "name": "stdout",
     "output_type": "stream",
     "text": [
      "anagrama\n",
      "page 0\n",
      "Number of ratings:  83312\n",
      "<Response [401]>\n",
      "No hay realases en la collection del user\n"
     ]
    },
    {
     "name": "stderr",
     "output_type": "stream",
     "text": [
      "\n",
      " 50%|███████████████████████████████████████▋                                        | 226/456 [52:22<43:32, 11.36s/it]"
     ]
    },
    {
     "name": "stdout",
     "output_type": "stream",
     "text": [
      "OneObuyan\n",
      "page 0\n",
      "Number of ratings:  83312\n",
      "<Response [200]>\n",
      "page 1\n",
      "Number of ratings:  83412\n",
      "<Response [200]>\n",
      "page 2\n",
      "Number of ratings:  83512\n",
      "<Response [200]>\n",
      "page 3\n",
      "Number of ratings:  83612\n",
      "<Response [200]>\n",
      "SALIENDO = RATINGS0\n",
      "SALIENDO: not next or Rating0\n"
     ]
    },
    {
     "name": "stderr",
     "output_type": "stream",
     "text": [
      "\n",
      " 50%|███████████████████████████████████████▊                                        | 227/456 [52:36<46:17, 12.13s/it]"
     ]
    },
    {
     "name": "stdout",
     "output_type": "stream",
     "text": [
      "Bingre\n",
      "page 0\n",
      "Number of ratings:  83651\n",
      "<Response [401]>\n",
      "No hay realases en la collection del user\n"
     ]
    },
    {
     "name": "stderr",
     "output_type": "stream",
     "text": [
      "\n",
      " 50%|████████████████████████████████████████                                        | 228/456 [52:38<34:09,  8.99s/it]"
     ]
    },
    {
     "name": "stdout",
     "output_type": "stream",
     "text": [
      "VegasDJ1\n",
      "page 0\n",
      "Number of ratings:  83651\n",
      "<Response [200]>\n",
      "SALIENDO = RATINGS0\n",
      "SALIENDO: not next or Rating0\n"
     ]
    },
    {
     "name": "stderr",
     "output_type": "stream",
     "text": [
      "\n",
      " 50%|████████████████████████████████████████▏                                       | 229/456 [52:41<27:36,  7.30s/it]"
     ]
    },
    {
     "name": "stdout",
     "output_type": "stream",
     "text": [
      "djgurygury\n",
      "page 0\n",
      "Number of ratings:  83679\n",
      "<Response [200]>\n",
      "page 1\n",
      "Number of ratings:  83779\n",
      "<Response [200]>\n",
      "page 2\n",
      "Number of ratings:  83879\n",
      "<Response [200]>\n",
      "page 3\n",
      "Number of ratings:  83979\n",
      "<Response [200]>\n",
      "page 4\n",
      "Number of ratings:  84079\n",
      "<Response [200]>\n",
      "page 5\n",
      "Number of ratings:  84179\n",
      "<Response [200]>\n",
      "page 6\n",
      "Number of ratings:  84279\n",
      "<Response [200]>\n",
      "page 7\n",
      "Number of ratings:  84379\n",
      "<Response [200]>\n",
      "page 8\n",
      "Number of ratings:  84479\n",
      "<Response [200]>\n",
      "page 9\n",
      "Number of ratings:  84579\n",
      "<Response [200]>\n",
      "page 10\n",
      "Number of ratings:  84679\n",
      "<Response [200]>\n",
      "page 11\n",
      "Number of ratings:  84779\n",
      "<Response [200]>\n",
      "page 12\n",
      "Number of ratings:  84879\n",
      "<Response [200]>\n",
      "page 13\n",
      "Number of ratings:  84979\n",
      "<Response [200]>\n",
      "page 14\n",
      "Number of ratings:  85079\n",
      "<Response [200]>\n",
      "page 15\n",
      "Number of ratings:  85179\n",
      "<Response [200]>\n",
      "page 16\n",
      "Number of ratings:  85279\n",
      "<Response [200]>\n",
      "page 17\n",
      "Number of ratings:  85379\n",
      "<Response [200]>\n",
      "page 18\n",
      "Number of ratings:  85479\n",
      "<Response [200]>\n",
      "page 19\n",
      "Number of ratings:  85579\n",
      "<Response [200]>\n",
      "page 20\n",
      "Number of ratings:  85679\n",
      "<Response [200]>\n",
      "page 21\n",
      "Number of ratings:  85779\n",
      "<Response [200]>\n",
      "page 22\n",
      "Number of ratings:  85879\n",
      "<Response [200]>\n",
      "page 23\n",
      "Number of ratings:  85979\n",
      "<Response [200]>\n",
      "page 24\n",
      "Number of ratings:  86079\n",
      "<Response [200]>\n",
      "page 25\n",
      "Number of ratings:  86179\n",
      "<Response [200]>\n",
      "page 26\n",
      "Number of ratings:  86279\n",
      "<Response [200]>\n",
      "page 27\n",
      "Number of ratings:  86379\n",
      "<Response [200]>\n",
      "page 28\n",
      "Number of ratings:  86479\n",
      "<Response [200]>\n",
      "page 29\n",
      "Number of ratings:  86579\n",
      "<Response [200]>\n",
      "page 30\n",
      "Number of ratings:  86679\n",
      "<Response [200]>\n",
      "page 31\n",
      "Number of ratings:  86779\n",
      "<Response [200]>\n",
      "page 32\n",
      "Number of ratings:  86879\n",
      "<Response [200]>\n",
      "page 33\n",
      "Number of ratings:  86979\n",
      "<Response [200]>\n",
      "page 34\n",
      "Number of ratings:  87079\n",
      "<Response [200]>\n",
      "page 35\n",
      "Number of ratings:  87179\n",
      "<Response [200]>\n",
      "SALIENDO = RATINGS0\n",
      "SALIENDO: not next or Rating0\n"
     ]
    },
    {
     "name": "stderr",
     "output_type": "stream",
     "text": [
      "\n",
      " 50%|███████████████████████████████████████▎                                      | 230/456 [54:53<2:48:37, 44.77s/it]"
     ]
    },
    {
     "name": "stdout",
     "output_type": "stream",
     "text": [
      "zoli79\n",
      "page 0\n",
      "Number of ratings:  87234\n",
      "<Response [200]>\n",
      "page 1\n",
      "Number of ratings:  87334\n",
      "<Response [200]>\n",
      "page 2\n",
      "Number of ratings:  87434\n",
      "<Response [200]>\n",
      "page 3\n",
      "Number of ratings:  87534\n",
      "<Response [200]>\n",
      "page 4\n",
      "Number of ratings:  87634\n",
      "<Response [200]>\n",
      "SALIENDO = RATINGS0\n",
      "SALIENDO: not next or Rating0\n"
     ]
    },
    {
     "name": "stderr",
     "output_type": "stream",
     "text": [
      "\n",
      " 51%|███████████████████████████████████████▌                                      | 231/456 [55:10<2:16:40, 36.45s/it]"
     ]
    },
    {
     "name": "stdout",
     "output_type": "stream",
     "text": [
      "DavidPro1992\n",
      "page 0\n",
      "Number of ratings:  87688\n",
      "<Response [200]>\n",
      "page 1\n",
      "Number of ratings:  87788\n",
      "<Response [200]>\n",
      "page 2\n",
      "Number of ratings:  87888\n",
      "<Response [200]>\n",
      "SALIENDO = RATINGS0\n",
      "SALIENDO: not next or Rating0\n"
     ]
    },
    {
     "name": "stderr",
     "output_type": "stream",
     "text": [
      "\n",
      " 51%|███████████████████████████████████████▋                                      | 232/456 [55:20<1:46:26, 28.51s/it]"
     ]
    },
    {
     "name": "stdout",
     "output_type": "stream",
     "text": [
      "sound_.mind\n",
      "page 0\n",
      "Number of ratings:  87888\n",
      "<Response [401]>\n",
      "No hay realases en la collection del user\n"
     ]
    },
    {
     "name": "stderr",
     "output_type": "stream",
     "text": [
      "\n",
      " 51%|███████████████████████████████████████▊                                      | 233/456 [55:22<1:16:02, 20.46s/it]"
     ]
    },
    {
     "name": "stdout",
     "output_type": "stream",
     "text": [
      "n0r\n",
      "page 0\n",
      "Number of ratings:  87888\n",
      "<Response [200]>\n",
      "page 1\n",
      "Number of ratings:  87988\n",
      "<Response [200]>\n",
      "page 2\n",
      "Number of ratings:  88088\n",
      "<Response [200]>\n",
      "page 3\n",
      "Number of ratings:  88188\n",
      "<Response [200]>\n",
      "page 4\n",
      "Number of ratings:  88288\n",
      "<Response [200]>\n",
      "page 5\n",
      "Number of ratings:  88388\n",
      "<Response [200]>\n",
      "SALIENDO = RATINGS0\n",
      "SALIENDO: not next or Rating0\n"
     ]
    },
    {
     "name": "stderr",
     "output_type": "stream",
     "text": [
      "\n",
      " 51%|████████████████████████████████████████                                      | 234/456 [55:43<1:16:38, 20.71s/it]"
     ]
    },
    {
     "name": "stdout",
     "output_type": "stream",
     "text": [
      "badinage1958\n",
      "page 0\n",
      "Number of ratings:  88451\n",
      "<Response [200]>\n",
      "SALIENDO: not next or Rating0\n"
     ]
    },
    {
     "name": "stderr",
     "output_type": "stream",
     "text": [
      "\n",
      " 52%|█████████████████████████████████████████▏                                      | 235/456 [55:45<55:14, 15.00s/it]"
     ]
    },
    {
     "name": "stdout",
     "output_type": "stream",
     "text": [
      "mixtaped\n",
      "page 0\n",
      "Number of ratings:  88451\n",
      "<Response [401]>\n",
      "No hay realases en la collection del user\n"
     ]
    },
    {
     "name": "stderr",
     "output_type": "stream",
     "text": [
      "\n",
      " 52%|█████████████████████████████████████████▍                                      | 236/456 [55:47<40:16, 10.98s/it]"
     ]
    },
    {
     "name": "stdout",
     "output_type": "stream",
     "text": [
      "Luigi499\n",
      "page 0\n",
      "Number of ratings:  88451\n",
      "<Response [401]>\n",
      "No hay realases en la collection del user\n"
     ]
    },
    {
     "name": "stderr",
     "output_type": "stream",
     "text": [
      "\n",
      " 52%|█████████████████████████████████████████▌                                      | 237/456 [55:48<29:50,  8.18s/it]"
     ]
    },
    {
     "name": "stdout",
     "output_type": "stream",
     "text": [
      "prematureejakulation\n",
      "page 0\n",
      "Number of ratings:  88451\n",
      "<Response [200]>\n",
      "page 1\n",
      "Number of ratings:  88551\n",
      "<Response [200]>\n",
      "page 2\n",
      "Number of ratings:  88651\n",
      "<Response [200]>\n",
      "SALIENDO = RATINGS0\n",
      "SALIENDO: not next or Rating0\n"
     ]
    },
    {
     "name": "stderr",
     "output_type": "stream",
     "text": [
      "\n",
      " 52%|█████████████████████████████████████████▊                                      | 238/456 [55:56<29:37,  8.15s/it]"
     ]
    },
    {
     "name": "stdout",
     "output_type": "stream",
     "text": [
      "fleabag\n",
      "page 0\n",
      "Number of ratings:  88659\n",
      "<Response [200]>\n",
      "SALIENDO: not next or Rating0\n"
     ]
    },
    {
     "name": "stderr",
     "output_type": "stream",
     "text": [
      "\n",
      " 52%|█████████████████████████████████████████▉                                      | 239/456 [55:58<22:24,  6.20s/it]"
     ]
    },
    {
     "name": "stdout",
     "output_type": "stream",
     "text": [
      "tox\n",
      "page 0\n",
      "Number of ratings:  88659\n",
      "<Response [401]>\n",
      "No hay realases en la collection del user\n"
     ]
    },
    {
     "name": "stderr",
     "output_type": "stream",
     "text": [
      "\n",
      " 53%|██████████████████████████████████████████                                      | 240/456 [56:00<17:21,  4.82s/it]"
     ]
    },
    {
     "name": "stdout",
     "output_type": "stream",
     "text": [
      "EBJ_Emax\n",
      "page 0\n",
      "Number of ratings:  88659\n",
      "<Response [200]>\n",
      "SALIENDO = RATINGS0\n",
      "SALIENDO: not next or Rating0\n"
     ]
    },
    {
     "name": "stderr",
     "output_type": "stream",
     "text": [
      "\n",
      " 53%|██████████████████████████████████████████▎                                     | 241/456 [56:01<14:03,  3.92s/it]"
     ]
    },
    {
     "name": "stdout",
     "output_type": "stream",
     "text": [
      "trademarkuk\n",
      "page 0\n",
      "Number of ratings:  88660\n",
      "<Response [200]>\n",
      "page 1\n",
      "Number of ratings:  88760\n",
      "<Response [200]>\n",
      "page 2\n",
      "Number of ratings:  88860\n",
      "<Response [200]>\n",
      "SALIENDO = RATINGS0\n",
      "SALIENDO: not next or Rating0\n"
     ]
    },
    {
     "name": "stderr",
     "output_type": "stream",
     "text": [
      "\n",
      " 53%|██████████████████████████████████████████▍                                     | 242/456 [56:13<21:45,  6.10s/it]"
     ]
    },
    {
     "name": "stdout",
     "output_type": "stream",
     "text": [
      "MrDiscoBall\n",
      "page 0\n",
      "Number of ratings:  88953\n",
      "<Response [401]>\n",
      "No hay realases en la collection del user\n"
     ]
    },
    {
     "name": "stderr",
     "output_type": "stream",
     "text": [
      "\n",
      " 53%|██████████████████████████████████████████▋                                     | 243/456 [56:14<16:55,  4.77s/it]"
     ]
    },
    {
     "name": "stdout",
     "output_type": "stream",
     "text": [
      "AbsoluteBodyControl\n",
      "page 0\n",
      "Number of ratings:  88953\n",
      "<Response [200]>\n",
      "page 1\n",
      "Number of ratings:  89053\n",
      "<Response [200]>\n",
      "page 2\n",
      "Number of ratings:  89153\n",
      "<Response [200]>\n",
      "page 3\n",
      "Number of ratings:  89253\n",
      "<Response [200]>\n",
      "page 4\n",
      "Number of ratings:  89353\n",
      "<Response [200]>\n",
      "page 5\n",
      "Number of ratings:  89453\n",
      "<Response [200]>\n",
      "page 6\n",
      "Number of ratings:  89553\n",
      "<Response [200]>\n",
      "page 7\n",
      "Number of ratings:  89653\n",
      "<Response [200]>\n",
      "page 8\n",
      "Number of ratings:  89753\n",
      "<Response [200]>\n",
      "page 9\n",
      "Number of ratings:  89853\n",
      "<Response [200]>\n",
      "SALIENDO = RATINGS0\n",
      "SALIENDO: not next or Rating0\n"
     ]
    },
    {
     "name": "stderr",
     "output_type": "stream",
     "text": [
      "\n",
      " 54%|██████████████████████████████████████████▊                                     | 244/456 [56:51<50:29, 14.29s/it]"
     ]
    },
    {
     "name": "stdout",
     "output_type": "stream",
     "text": [
      "Hemingways_Cat\n",
      "page 0\n",
      "Number of ratings:  89916\n",
      "<Response [401]>\n",
      "No hay realases en la collection del user\n"
     ]
    },
    {
     "name": "stderr",
     "output_type": "stream",
     "text": [
      "\n",
      " 54%|██████████████████████████████████████████▉                                     | 245/456 [56:52<36:53, 10.49s/it]"
     ]
    },
    {
     "name": "stdout",
     "output_type": "stream",
     "text": [
      "d-prock\n",
      "page 0\n",
      "Number of ratings:  89916\n",
      "<Response [200]>\n",
      "SALIENDO = RATINGS0\n",
      "SALIENDO: not next or Rating0\n"
     ]
    },
    {
     "name": "stderr",
     "output_type": "stream",
     "text": [
      "\n",
      " 54%|███████████████████████████████████████████▏                                    | 246/456 [56:56<29:33,  8.44s/it]"
     ]
    },
    {
     "name": "stdout",
     "output_type": "stream",
     "text": [
      "Robusto\n",
      "page 0\n",
      "Number of ratings:  89916\n",
      "<Response [200]>\n",
      "SALIENDO = RATINGS0\n",
      "SALIENDO: not next or Rating0\n"
     ]
    },
    {
     "name": "stderr",
     "output_type": "stream",
     "text": [
      "\n",
      " 54%|███████████████████████████████████████████▎                                    | 247/456 [56:58<22:29,  6.46s/it]"
     ]
    },
    {
     "name": "stdout",
     "output_type": "stream",
     "text": [
      "john-eden\n",
      "page 0\n",
      "Number of ratings:  89918\n",
      "<Response [401]>\n",
      "No hay realases en la collection del user\n"
     ]
    },
    {
     "name": "stderr",
     "output_type": "stream",
     "text": [
      "\n",
      " 54%|███████████████████████████████████████████▌                                    | 248/456 [56:59<17:21,  5.01s/it]"
     ]
    },
    {
     "name": "stdout",
     "output_type": "stream",
     "text": [
      "Axefield\n",
      "page 0\n",
      "Number of ratings:  89918\n",
      "<Response [200]>\n",
      "SALIENDO: not next or Rating0\n"
     ]
    },
    {
     "name": "stderr",
     "output_type": "stream",
     "text": [
      "\n",
      " 55%|███████████████████████████████████████████▋                                    | 249/456 [57:01<13:47,  4.00s/it]"
     ]
    },
    {
     "name": "stdout",
     "output_type": "stream",
     "text": [
      "SeaMonkey\n",
      "page 0\n",
      "Number of ratings:  89918\n",
      "<Response [200]>\n",
      "SALIENDO = RATINGS0\n",
      "SALIENDO: not next or Rating0\n"
     ]
    },
    {
     "name": "stderr",
     "output_type": "stream",
     "text": [
      "\n",
      " 55%|███████████████████████████████████████████▊                                    | 250/456 [57:05<13:37,  3.97s/it]"
     ]
    },
    {
     "name": "stdout",
     "output_type": "stream",
     "text": [
      "paulice\n",
      "page 0\n",
      "Number of ratings:  89921\n",
      "<Response [200]>\n",
      "SALIENDO = RATINGS0\n",
      "SALIENDO: not next or Rating0\n"
     ]
    },
    {
     "name": "stderr",
     "output_type": "stream",
     "text": [
      "\n",
      " 55%|████████████████████████████████████████████                                    | 251/456 [57:08<13:00,  3.81s/it]"
     ]
    },
    {
     "name": "stdout",
     "output_type": "stream",
     "text": [
      "jbgd\n",
      "page 0\n",
      "Number of ratings:  89963\n",
      "<Response [401]>\n",
      "No hay realases en la collection del user\n"
     ]
    },
    {
     "name": "stderr",
     "output_type": "stream",
     "text": [
      "\n",
      " 55%|████████████████████████████████████████████▏                                   | 252/456 [57:10<10:42,  3.15s/it]"
     ]
    },
    {
     "name": "stdout",
     "output_type": "stream",
     "text": [
      "soul_diamond\n",
      "page 0\n",
      "Number of ratings:  89963\n",
      "<Response [200]>\n",
      "SALIENDO = RATINGS0\n",
      "SALIENDO: not next or Rating0\n"
     ]
    },
    {
     "name": "stderr",
     "output_type": "stream",
     "text": [
      "\n",
      " 55%|████████████████████████████████████████████▍                                   | 253/456 [57:14<11:25,  3.38s/it]"
     ]
    },
    {
     "name": "stdout",
     "output_type": "stream",
     "text": [
      "hwanin\n",
      "page 0\n",
      "Number of ratings:  89963\n",
      "<Response [200]>\n",
      "page 1\n",
      "Number of ratings:  90063\n",
      "<Response [200]>\n",
      "page 2\n",
      "Number of ratings:  90163\n",
      "<Response [200]>\n",
      "page 3\n",
      "Number of ratings:  90263\n",
      "<Response [200]>\n",
      "page 4\n",
      "Number of ratings:  90363\n",
      "<Response [200]>\n",
      "page 5\n",
      "Number of ratings:  90463\n",
      "<Response [200]>\n",
      "page 6\n",
      "Number of ratings:  90563\n",
      "<Response [200]>\n",
      "page 7\n",
      "Number of ratings:  90663\n",
      "<Response [200]>\n",
      "page 8\n",
      "Number of ratings:  90763\n",
      "<Response [200]>\n",
      "page 9\n",
      "Number of ratings:  90863\n",
      "<Response [200]>\n",
      "page 10\n",
      "Number of ratings:  90963\n",
      "<Response [200]>\n",
      "page 11\n",
      "Number of ratings:  91063\n",
      "<Response [200]>\n",
      "page 12\n",
      "Number of ratings:  91163\n",
      "<Response [200]>\n",
      "page 13\n",
      "Number of ratings:  91263\n",
      "<Response [200]>\n",
      "page 14\n",
      "Number of ratings:  91363\n",
      "<Response [200]>\n",
      "page 15\n",
      "Number of ratings:  91463\n",
      "<Response [200]>\n",
      "page 16\n",
      "Number of ratings:  91563\n",
      "<Response [200]>\n",
      "page 17\n",
      "Number of ratings:  91663\n",
      "<Response [200]>\n",
      "page 18\n",
      "Number of ratings:  91763\n",
      "<Response [200]>\n",
      "page 19\n",
      "Number of ratings:  91863\n",
      "<Response [200]>\n",
      "page 20\n",
      "Number of ratings:  91963\n",
      "<Response [200]>\n",
      "page 21\n",
      "Number of ratings:  92063\n",
      "<Response [200]>\n",
      "page 22\n",
      "Number of ratings:  92163\n",
      "<Response [200]>\n",
      "page 23\n",
      "Number of ratings:  92263\n",
      "<Response [200]>\n",
      "SALIENDO = RATINGS0\n",
      "SALIENDO: not next or Rating0\n"
     ]
    },
    {
     "name": "stderr",
     "output_type": "stream",
     "text": [
      "\n",
      " 56%|███████████████████████████████████████████▍                                  | 254/456 [58:27<1:21:40, 24.26s/it]"
     ]
    },
    {
     "name": "stdout",
     "output_type": "stream",
     "text": [
      "MEGATRONDJ\n",
      "page 0\n",
      "Number of ratings:  92356\n",
      "<Response [200]>\n",
      "SALIENDO = RATINGS0\n",
      "SALIENDO: not next or Rating0\n"
     ]
    },
    {
     "name": "stderr",
     "output_type": "stream",
     "text": [
      "\n",
      " 56%|████████████████████████████████████████████▋                                   | 255/456 [58:29<59:11, 17.67s/it]"
     ]
    },
    {
     "name": "stdout",
     "output_type": "stream",
     "text": [
      "Killer_Instinct\n",
      "page 0\n",
      "Number of ratings:  92382\n",
      "<Response [200]>\n",
      "page 1\n",
      "Number of ratings:  92482\n",
      "<Response [200]>\n",
      "page 2\n",
      "Number of ratings:  92582\n",
      "<Response [200]>\n",
      "page 3\n",
      "Number of ratings:  92682\n",
      "<Response [200]>\n",
      "page 4\n",
      "Number of ratings:  92782\n",
      "<Response [200]>\n",
      "page 5\n",
      "Number of ratings:  92882\n",
      "<Response [200]>\n",
      "page 6\n",
      "Number of ratings:  92982\n",
      "<Response [200]>\n",
      "SALIENDO = RATINGS0\n",
      "SALIENDO: not next or Rating0\n"
     ]
    },
    {
     "name": "stderr",
     "output_type": "stream",
     "text": [
      "\n",
      " 56%|███████████████████████████████████████████▊                                  | 256/456 [58:48<1:00:14, 18.07s/it]"
     ]
    },
    {
     "name": "stdout",
     "output_type": "stream",
     "text": [
      "subwax101\n",
      "page 0\n",
      "Number of ratings:  93010\n",
      "<Response [200]>\n",
      "SALIENDO = RATINGS0\n",
      "SALIENDO: not next or Rating0\n"
     ]
    },
    {
     "name": "stderr",
     "output_type": "stream",
     "text": [
      "\n",
      " 56%|█████████████████████████████████████████████                                   | 257/456 [58:52<45:14, 13.64s/it]"
     ]
    },
    {
     "name": "stdout",
     "output_type": "stream",
     "text": [
      "danperry0\n",
      "page 0\n",
      "Number of ratings:  93102\n",
      "<Response [200]>\n",
      "SALIENDO = RATINGS0\n",
      "SALIENDO: not next or Rating0\n"
     ]
    },
    {
     "name": "stderr",
     "output_type": "stream",
     "text": [
      "\n",
      " 57%|█████████████████████████████████████████████▎                                  | 258/456 [58:56<36:06, 10.94s/it]"
     ]
    },
    {
     "name": "stdout",
     "output_type": "stream",
     "text": [
      "Rev2010\n",
      "page 0\n",
      "Number of ratings:  93106\n",
      "<Response [200]>\n",
      "SALIENDO = RATINGS0\n",
      "SALIENDO: not next or Rating0\n"
     ]
    },
    {
     "name": "stderr",
     "output_type": "stream",
     "text": [
      "\n",
      " 57%|█████████████████████████████████████████████▍                                  | 259/456 [58:58<26:50,  8.17s/it]"
     ]
    },
    {
     "name": "stdout",
     "output_type": "stream",
     "text": [
      "BadAssSupastar\n",
      "page 0\n",
      "Number of ratings:  93106\n",
      "<Response [200]>\n",
      "SALIENDO = RATINGS0\n",
      "SALIENDO: not next or Rating0\n"
     ]
    },
    {
     "name": "stderr",
     "output_type": "stream",
     "text": [
      "\n",
      " 57%|█████████████████████████████████████████████▌                                  | 260/456 [59:02<22:13,  6.80s/it]"
     ]
    },
    {
     "name": "stdout",
     "output_type": "stream",
     "text": [
      "DakotaThrice\n",
      "page 0\n",
      "Number of ratings:  93108\n",
      "<Response [200]>\n",
      "SALIENDO = RATINGS0\n",
      "SALIENDO: not next or Rating0\n"
     ]
    },
    {
     "name": "stderr",
     "output_type": "stream",
     "text": [
      "\n",
      " 57%|█████████████████████████████████████████████▊                                  | 261/456 [59:04<17:38,  5.43s/it]"
     ]
    },
    {
     "name": "stdout",
     "output_type": "stream",
     "text": [
      "HughMacpherson\n",
      "page 0\n",
      "Number of ratings:  93108\n",
      "<Response [401]>\n",
      "No hay realases en la collection del user\n"
     ]
    },
    {
     "name": "stderr",
     "output_type": "stream",
     "text": [
      "\n",
      " 57%|█████████████████████████████████████████████▉                                  | 262/456 [59:05<13:52,  4.29s/it]"
     ]
    },
    {
     "name": "stdout",
     "output_type": "stream",
     "text": [
      "thafatha\n",
      "page 0\n",
      "Number of ratings:  93108\n",
      "<Response [200]>\n",
      "page 1\n",
      "Number of ratings:  93208\n",
      "<Response [200]>\n",
      "page 2\n",
      "Number of ratings:  93308\n",
      "<Response [200]>\n",
      "page 3\n",
      "Number of ratings:  93408\n",
      "<Response [200]>\n",
      "page 4\n",
      "Number of ratings:  93508\n",
      "<Response [200]>\n",
      "page 5\n",
      "Number of ratings:  93608\n",
      "<Response [200]>\n",
      "SALIENDO = RATINGS0\n",
      "SALIENDO: not next or Rating0\n"
     ]
    },
    {
     "name": "stderr",
     "output_type": "stream",
     "text": [
      "\n",
      " 58%|██████████████████████████████████████████████▏                                 | 263/456 [59:24<27:47,  8.64s/it]"
     ]
    },
    {
     "name": "stdout",
     "output_type": "stream",
     "text": [
      "LPWJ\n",
      "page 0\n",
      "Number of ratings:  93681\n",
      "<Response [200]>\n",
      "page 1\n",
      "Number of ratings:  93781\n",
      "<Response [200]>\n",
      "page 2\n",
      "Number of ratings:  93881\n",
      "<Response [200]>\n",
      "page 3\n",
      "Number of ratings:  93981\n",
      "<Response [200]>\n",
      "page 4\n",
      "Number of ratings:  94081\n",
      "<Response [200]>\n",
      "page 5\n",
      "Number of ratings:  94181\n",
      "<Response [200]>\n",
      "page 6\n",
      "Number of ratings:  94281\n",
      "<Response [200]>\n",
      "page 7\n",
      "Number of ratings:  94381\n",
      "<Response [200]>\n",
      "page 8\n",
      "Number of ratings:  94481\n",
      "<Response [200]>\n",
      "page 9\n",
      "Number of ratings:  94581\n",
      "<Response [200]>\n",
      "SALIENDO = RATINGS0\n",
      "SALIENDO: not next or Rating0\n"
     ]
    },
    {
     "name": "stderr",
     "output_type": "stream",
     "text": [
      "\n",
      " 58%|██████████████████████████████████████████████▎                                 | 264/456 [59:58<52:13, 16.32s/it]"
     ]
    },
    {
     "name": "stdout",
     "output_type": "stream",
     "text": [
      "Laurisnewplace\n",
      "page 0\n",
      "Number of ratings:  94635\n",
      "<Response [401]>\n",
      "No hay realases en la collection del user\n"
     ]
    },
    {
     "name": "stderr",
     "output_type": "stream",
     "text": [
      "\n",
      " 58%|█████████████████████████████████████████████▎                                | 265/456 [1:00:00<37:56, 11.92s/it]"
     ]
    },
    {
     "name": "stdout",
     "output_type": "stream",
     "text": [
      "heaven83\n",
      "page 0\n",
      "Number of ratings:  94635\n",
      "<Response [200]>\n",
      "SALIENDO = RATINGS0\n",
      "SALIENDO: not next or Rating0\n"
     ]
    },
    {
     "name": "stderr",
     "output_type": "stream",
     "text": [
      "\n",
      " 58%|█████████████████████████████████████████████▌                                | 266/456 [1:00:04<30:15,  9.55s/it]"
     ]
    },
    {
     "name": "stdout",
     "output_type": "stream",
     "text": [
      "luetgewatz\n",
      "page 0\n",
      "Number of ratings:  94635\n",
      "<Response [200]>\n",
      "page 1\n",
      "Number of ratings:  94735\n",
      "<Response [200]>\n",
      "page 2\n",
      "Number of ratings:  94835\n",
      "<Response [200]>\n",
      "page 3\n",
      "Number of ratings:  94935\n",
      "<Response [200]>\n",
      "page 4\n",
      "Number of ratings:  95035\n",
      "<Response [200]>\n",
      "SALIENDO = RATINGS0\n",
      "SALIENDO: not next or Rating0\n"
     ]
    },
    {
     "name": "stderr",
     "output_type": "stream",
     "text": [
      "\n",
      " 59%|█████████████████████████████████████████████▋                                | 267/456 [1:00:19<35:30, 11.27s/it]"
     ]
    },
    {
     "name": "stdout",
     "output_type": "stream",
     "text": [
      "zuao\n",
      "page 0\n",
      "Number of ratings:  95049\n",
      "<Response [401]>\n",
      "No hay realases en la collection del user\n"
     ]
    },
    {
     "name": "stderr",
     "output_type": "stream",
     "text": [
      "\n",
      " 59%|█████████████████████████████████████████████▊                                | 268/456 [1:00:21<26:15,  8.38s/it]"
     ]
    },
    {
     "name": "stdout",
     "output_type": "stream",
     "text": [
      "Hectic1\n",
      "page 0\n",
      "Number of ratings:  95049\n",
      "<Response [401]>\n",
      "No hay realases en la collection del user\n"
     ]
    },
    {
     "name": "stderr",
     "output_type": "stream",
     "text": [
      "\n",
      " 59%|██████████████████████████████████████████████                                | 269/456 [1:00:23<19:47,  6.35s/it]"
     ]
    },
    {
     "name": "stdout",
     "output_type": "stream",
     "text": [
      "motosanta2011\n",
      "page 0\n",
      "Number of ratings:  95049\n",
      "<Response [200]>\n",
      "page 1\n",
      "Number of ratings:  95149\n",
      "<Response [200]>\n",
      "page 2\n",
      "Number of ratings:  95249\n",
      "<Response [200]>\n",
      "page 3\n",
      "Number of ratings:  95349\n",
      "<Response [200]>\n",
      "page 4\n",
      "Number of ratings:  95449\n",
      "<Response [200]>\n",
      "page 5\n",
      "Number of ratings:  95549\n",
      "<Response [200]>\n",
      "page 6\n",
      "Number of ratings:  95649\n",
      "<Response [200]>\n",
      "page 7\n",
      "Number of ratings:  95749\n",
      "<Response [200]>\n",
      "page 8\n",
      "Number of ratings:  95849\n",
      "<Response [200]>\n",
      "page 9\n",
      "Number of ratings:  95949\n",
      "<Response [200]>\n",
      "page 10\n",
      "Number of ratings:  96049\n",
      "<Response [200]>\n",
      "page 11\n",
      "Number of ratings:  96149\n",
      "<Response [200]>\n",
      "page 12\n",
      "Number of ratings:  96249\n",
      "<Response [200]>\n",
      "page 13\n",
      "Number of ratings:  96349\n",
      "<Response [200]>\n",
      "page 14\n",
      "Number of ratings:  96449\n",
      "<Response [200]>\n",
      "page 15\n",
      "Number of ratings:  96549\n",
      "<Response [200]>\n",
      "SALIENDO = RATINGS0\n",
      "SALIENDO: not next or Rating0\n"
     ]
    },
    {
     "name": "stderr",
     "output_type": "stream",
     "text": [
      "\n",
      " 59%|█████████████████████████████████████████████                               | 270/456 [1:01:13<1:00:22, 19.47s/it]"
     ]
    },
    {
     "name": "stdout",
     "output_type": "stream",
     "text": [
      "rexjwb\n",
      "page 0\n",
      "Number of ratings:  96623\n",
      "<Response [401]>\n",
      "No hay realases en la collection del user\n"
     ]
    },
    {
     "name": "stderr",
     "output_type": "stream",
     "text": [
      "\n",
      " 59%|██████████████████████████████████████████████▎                               | 271/456 [1:01:14<43:31, 14.12s/it]"
     ]
    },
    {
     "name": "stdout",
     "output_type": "stream",
     "text": [
      "devonites\n",
      "page 0\n",
      "Number of ratings:  96623\n",
      "<Response [401]>\n",
      "No hay realases en la collection del user\n"
     ]
    },
    {
     "name": "stderr",
     "output_type": "stream",
     "text": [
      "\n",
      " 60%|██████████████████████████████████████████████▌                               | 272/456 [1:01:16<31:49, 10.38s/it]"
     ]
    },
    {
     "name": "stdout",
     "output_type": "stream",
     "text": [
      "powerstone05\n",
      "page 0\n",
      "Number of ratings:  96623\n",
      "<Response [200]>\n",
      "page 1\n",
      "Number of ratings:  96723\n",
      "<Response [200]>\n",
      "page 2\n",
      "Number of ratings:  96823\n",
      "<Response [200]>\n",
      "page 3\n",
      "Number of ratings:  96923\n",
      "<Response [200]>\n",
      "page 4\n",
      "Number of ratings:  97023\n",
      "<Response [200]>\n",
      "page 5\n",
      "Number of ratings:  97123\n",
      "<Response [200]>\n",
      "page 6\n",
      "Number of ratings:  97223\n",
      "<Response [200]>\n",
      "page 7\n",
      "Number of ratings:  97323\n",
      "<Response [200]>\n",
      "page 8\n",
      "Number of ratings:  97423\n",
      "<Response [200]>\n",
      "page 9\n",
      "Number of ratings:  97523\n",
      "<Response [200]>\n",
      "page 10\n",
      "Number of ratings:  97623\n",
      "<Response [200]>\n",
      "page 11\n",
      "Number of ratings:  97723\n",
      "<Response [200]>\n",
      "page 12\n",
      "Number of ratings:  97823\n",
      "<Response [200]>\n",
      "page 13\n",
      "Number of ratings:  97923\n",
      "<Response [200]>\n",
      "page 14\n",
      "Number of ratings:  98023\n",
      "<Response [200]>\n",
      "page 15\n",
      "Number of ratings:  98123\n",
      "<Response [200]>\n",
      "page 16\n",
      "Number of ratings:  98223\n",
      "<Response [200]>\n",
      "page 17\n",
      "Number of ratings:  98323\n",
      "<Response [200]>\n",
      "page 18\n",
      "Number of ratings:  98423\n",
      "<Response [200]>\n",
      "page 19\n",
      "Number of ratings:  98523\n",
      "<Response [200]>\n",
      "page 20\n",
      "Number of ratings:  98623\n",
      "<Response [200]>\n",
      "page 21\n",
      "Number of ratings:  98723\n",
      "<Response [200]>\n",
      "SALIENDO = RATINGS0\n",
      "SALIENDO: not next or Rating0\n"
     ]
    },
    {
     "name": "stderr",
     "output_type": "stream",
     "text": [
      "\n",
      " 60%|█████████████████████████████████████████████▌                              | 273/456 [1:02:19<1:20:11, 26.29s/it]"
     ]
    },
    {
     "name": "stdout",
     "output_type": "stream",
     "text": [
      "JoshPeer\n",
      "page 0\n",
      "Number of ratings:  98795\n",
      "<Response [200]>\n",
      "page 1\n",
      "Number of ratings:  98895\n",
      "<Response [200]>\n",
      "page 2\n",
      "Number of ratings:  98995\n",
      "<Response [200]>\n",
      "page 3\n",
      "Number of ratings:  99095\n",
      "<Response [200]>\n",
      "page 4\n",
      "Number of ratings:  99195\n",
      "<Response [200]>\n",
      "page 5\n",
      "Number of ratings:  99295\n",
      "<Response [200]>\n",
      "page 6\n",
      "Number of ratings:  99395\n",
      "<Response [200]>\n",
      "page 7\n",
      "Number of ratings:  99495\n",
      "<Response [200]>\n",
      "page 8\n",
      "Number of ratings:  99595\n",
      "<Response [200]>\n",
      "page 9\n",
      "Number of ratings:  99695\n",
      "<Response [200]>\n",
      "page 10\n",
      "Number of ratings:  99795\n",
      "<Response [200]>\n",
      "page 11\n",
      "Number of ratings:  99895\n",
      "<Response [200]>\n",
      "page 12\n",
      "Number of ratings:  99995\n",
      "<Response [200]>\n",
      "SALIENDO = RATINGS0\n",
      "SALIENDO: not next or Rating0\n"
     ]
    },
    {
     "name": "stderr",
     "output_type": "stream",
     "text": [
      "\n",
      " 60%|█████████████████████████████████████████████▋                              | 274/456 [1:03:03<1:35:24, 31.46s/it]"
     ]
    },
    {
     "name": "stdout",
     "output_type": "stream",
     "text": [
      "ahr2nd\n",
      "page 0\n",
      "Number of ratings:  100093\n",
      "<Response [401]>\n",
      "No hay realases en la collection del user\n"
     ]
    },
    {
     "name": "stderr",
     "output_type": "stream",
     "text": [
      "\n",
      " 60%|█████████████████████████████████████████████▊                              | 275/456 [1:03:05<1:07:55, 22.52s/it]"
     ]
    },
    {
     "name": "stdout",
     "output_type": "stream",
     "text": [
      "hoppkorv\n",
      "page 0\n",
      "Number of ratings:  100093\n",
      "<Response [200]>\n",
      "page 1\n",
      "Number of ratings:  100193\n",
      "<Response [200]>\n",
      "page 2\n",
      "Number of ratings:  100293\n",
      "<Response [200]>\n",
      "page 3\n",
      "Number of ratings:  100393\n",
      "<Response [200]>\n",
      "page 4\n",
      "Number of ratings:  100493\n",
      "<Response [200]>\n",
      "SALIENDO = RATINGS0\n",
      "SALIENDO: not next or Rating0\n"
     ]
    },
    {
     "name": "stderr",
     "output_type": "stream",
     "text": [
      "\n",
      " 61%|██████████████████████████████████████████████                              | 276/456 [1:03:19<1:00:41, 20.23s/it]"
     ]
    },
    {
     "name": "stdout",
     "output_type": "stream",
     "text": [
      "eklektikk\n",
      "page 0\n",
      "Number of ratings:  100539\n",
      "<Response [401]>\n",
      "No hay realases en la collection del user\n"
     ]
    },
    {
     "name": "stderr",
     "output_type": "stream",
     "text": [
      "\n",
      " 61%|███████████████████████████████████████████████▍                              | 277/456 [1:03:21<43:43, 14.66s/it]"
     ]
    },
    {
     "name": "stdout",
     "output_type": "stream",
     "text": [
      "Thrashing_Rage\n",
      "page 0\n",
      "Number of ratings:  100539\n",
      "<Response [200]>\n",
      "SALIENDO = RATINGS0\n",
      "SALIENDO: not next or Rating0\n"
     ]
    },
    {
     "name": "stderr",
     "output_type": "stream",
     "text": [
      "\n",
      " 61%|███████████████████████████████████████████████▌                              | 278/456 [1:03:24<33:24, 11.26s/it]"
     ]
    },
    {
     "name": "stdout",
     "output_type": "stream",
     "text": [
      "bbm54\n",
      "page 0\n",
      "Number of ratings:  100540\n",
      "<Response [401]>\n",
      "No hay realases en la collection del user\n"
     ]
    },
    {
     "name": "stderr",
     "output_type": "stream",
     "text": [
      "\n",
      " 61%|███████████████████████████████████████████████▋                              | 279/456 [1:03:26<24:42,  8.38s/it]"
     ]
    },
    {
     "name": "stdout",
     "output_type": "stream",
     "text": [
      "benny.profane\n",
      "page 0\n",
      "Number of ratings:  100540\n",
      "<Response [200]>\n",
      "SALIENDO = RATINGS0\n",
      "SALIENDO: not next or Rating0\n"
     ]
    },
    {
     "name": "stderr",
     "output_type": "stream",
     "text": [
      "\n",
      " 61%|███████████████████████████████████████████████▉                              | 280/456 [1:03:29<20:09,  6.87s/it]"
     ]
    },
    {
     "name": "stdout",
     "output_type": "stream",
     "text": [
      "Dead_of_Night\n",
      "page 0\n",
      "Number of ratings:  100540\n",
      "<Response [401]>\n",
      "No hay realases en la collection del user\n"
     ]
    },
    {
     "name": "stderr",
     "output_type": "stream",
     "text": [
      "\n",
      " 62%|████████████████████████████████████████████████                              | 281/456 [1:03:31<15:30,  5.31s/it]"
     ]
    },
    {
     "name": "stdout",
     "output_type": "stream",
     "text": [
      "MHJH\n",
      "page 0\n",
      "Number of ratings:  100540\n",
      "<Response [200]>\n",
      "page 1\n",
      "Number of ratings:  100640\n",
      "<Response [200]>\n",
      "page 2\n",
      "Number of ratings:  100740\n",
      "<Response [200]>\n",
      "page 3\n",
      "Number of ratings:  100840\n",
      "<Response [200]>\n",
      "page 4\n",
      "Number of ratings:  100940\n",
      "<Response [200]>\n",
      "page 5\n",
      "Number of ratings:  101040\n",
      "<Response [200]>\n",
      "page 6\n",
      "Number of ratings:  101140\n",
      "<Response [200]>\n",
      "page 7\n",
      "Number of ratings:  101240\n",
      "<Response [200]>\n",
      "page 8\n",
      "Number of ratings:  101340\n",
      "<Response [200]>\n",
      "page 9\n",
      "Number of ratings:  101440\n",
      "<Response [200]>\n",
      "page 10\n",
      "Number of ratings:  101540\n",
      "<Response [200]>\n",
      "page 11\n",
      "Number of ratings:  101640\n",
      "<Response [200]>\n",
      "page 12\n",
      "Number of ratings:  101740\n",
      "<Response [200]>\n",
      "page 13\n",
      "Number of ratings:  101840\n",
      "<Response [200]>\n",
      "page 14\n",
      "Number of ratings:  101940\n",
      "<Response [200]>\n",
      "SALIENDO = RATINGS0\n",
      "SALIENDO: not next or Rating0\n"
     ]
    },
    {
     "name": "stderr",
     "output_type": "stream",
     "text": [
      "\n",
      " 62%|████████████████████████████████████████████████▏                             | 282/456 [1:04:15<48:32, 16.74s/it]"
     ]
    },
    {
     "name": "stdout",
     "output_type": "stream",
     "text": [
      "tiagohm\n",
      "page 0\n",
      "Number of ratings:  101944\n",
      "<Response [200]>\n",
      "SALIENDO = RATINGS0\n",
      "SALIENDO: not next or Rating0\n"
     ]
    },
    {
     "name": "stderr",
     "output_type": "stream",
     "text": [
      "\n",
      " 62%|████████████████████████████████████████████████▍                             | 283/456 [1:04:17<36:17, 12.59s/it]"
     ]
    },
    {
     "name": "stdout",
     "output_type": "stream",
     "text": [
      "Jevo\n",
      "page 0\n",
      "Number of ratings:  101990\n",
      "<Response [200]>\n",
      "SALIENDO = RATINGS0\n",
      "SALIENDO: not next or Rating0\n"
     ]
    },
    {
     "name": "stderr",
     "output_type": "stream",
     "text": [
      "\n",
      " 62%|████████████████████████████████████████████████▌                             | 284/456 [1:04:21<27:57,  9.75s/it]"
     ]
    },
    {
     "name": "stdout",
     "output_type": "stream",
     "text": [
      "Britney-Spears\n",
      "page 0\n",
      "Number of ratings:  101991\n",
      "<Response [401]>\n",
      "No hay realases en la collection del user\n"
     ]
    },
    {
     "name": "stderr",
     "output_type": "stream",
     "text": [
      "\n",
      " 62%|████████████████████████████████████████████████▊                             | 285/456 [1:04:22<20:53,  7.33s/it]"
     ]
    },
    {
     "name": "stdout",
     "output_type": "stream",
     "text": [
      "rdlogie\n",
      "page 0\n",
      "Number of ratings:  101991\n",
      "<Response [401]>\n",
      "No hay realases en la collection del user\n"
     ]
    },
    {
     "name": "stderr",
     "output_type": "stream",
     "text": [
      "\n",
      " 63%|████████████████████████████████████████████████▉                             | 286/456 [1:04:24<15:53,  5.61s/it]"
     ]
    },
    {
     "name": "stdout",
     "output_type": "stream",
     "text": [
      "Formosa\n",
      "page 0\n",
      "Number of ratings:  101991\n",
      "<Response [200]>\n",
      "SALIENDO: not next or Rating0\n"
     ]
    },
    {
     "name": "stderr",
     "output_type": "stream",
     "text": [
      "\n",
      " 63%|█████████████████████████████████████████████████                             | 287/456 [1:04:25<12:24,  4.41s/it]"
     ]
    },
    {
     "name": "stdout",
     "output_type": "stream",
     "text": [
      "torchomatic\n",
      "page 0\n",
      "Number of ratings:  101991\n",
      "<Response [200]>\n",
      "SALIENDO = RATINGS0\n",
      "SALIENDO: not next or Rating0\n"
     ]
    },
    {
     "name": "stderr",
     "output_type": "stream",
     "text": [
      "\n",
      " 63%|█████████████████████████████████████████████████▎                            | 288/456 [1:04:29<11:53,  4.25s/it]"
     ]
    },
    {
     "name": "stdout",
     "output_type": "stream",
     "text": [
      "johntugby\n",
      "page 0\n",
      "Number of ratings:  102075\n",
      "<Response [200]>\n",
      "SALIENDO = RATINGS0\n",
      "SALIENDO: not next or Rating0\n"
     ]
    },
    {
     "name": "stderr",
     "output_type": "stream",
     "text": [
      "\n",
      " 63%|█████████████████████████████████████████████████▍                            | 289/456 [1:04:34<12:02,  4.33s/it]"
     ]
    },
    {
     "name": "stdout",
     "output_type": "stream",
     "text": [
      "Sal_Chicho\n",
      "page 0\n",
      "Number of ratings:  102075\n",
      "<Response [401]>\n",
      "No hay realases en la collection del user\n"
     ]
    },
    {
     "name": "stderr",
     "output_type": "stream",
     "text": [
      "\n",
      " 64%|█████████████████████████████████████████████████▌                            | 290/456 [1:04:36<09:46,  3.53s/it]"
     ]
    },
    {
     "name": "stdout",
     "output_type": "stream",
     "text": [
      "oleiso\n",
      "page 0\n",
      "Number of ratings:  102075\n",
      "<Response [200]>\n",
      "SALIENDO = RATINGS0\n",
      "SALIENDO: not next or Rating0\n"
     ]
    },
    {
     "name": "stderr",
     "output_type": "stream",
     "text": [
      "\n",
      " 64%|█████████████████████████████████████████████████▊                            | 291/456 [1:04:39<09:54,  3.60s/it]"
     ]
    },
    {
     "name": "stdout",
     "output_type": "stream",
     "text": [
      "IconicMusic\n",
      "page 0\n",
      "Number of ratings:  102077\n",
      "<Response [200]>\n",
      "SALIENDO = RATINGS0\n",
      "SALIENDO: not next or Rating0\n"
     ]
    },
    {
     "name": "stderr",
     "output_type": "stream",
     "text": [
      "\n",
      " 64%|█████████████████████████████████████████████████▉                            | 292/456 [1:04:43<09:58,  3.65s/it]"
     ]
    },
    {
     "name": "stdout",
     "output_type": "stream",
     "text": [
      "tam89rds\n",
      "page 0\n",
      "Number of ratings:  102168\n",
      "<Response [401]>\n",
      "No hay realases en la collection del user\n"
     ]
    },
    {
     "name": "stderr",
     "output_type": "stream",
     "text": [
      "\n",
      " 64%|██████████████████████████████████████████████████                            | 293/456 [1:04:45<08:16,  3.05s/it]"
     ]
    },
    {
     "name": "stdout",
     "output_type": "stream",
     "text": [
      "choan\n",
      "page 0\n",
      "Number of ratings:  102168\n",
      "<Response [200]>\n",
      "page 1\n",
      "Number of ratings:  102268\n",
      "<Response [200]>\n",
      "page 2\n",
      "Number of ratings:  102368\n",
      "<Response [200]>\n",
      "page 3\n",
      "Number of ratings:  102468\n",
      "<Response [200]>\n",
      "page 4\n",
      "Number of ratings:  102568\n",
      "<Response [200]>\n",
      "SALIENDO = RATINGS0\n",
      "SALIENDO: not next or Rating0\n"
     ]
    },
    {
     "name": "stderr",
     "output_type": "stream",
     "text": [
      "\n",
      " 64%|██████████████████████████████████████████████████▎                           | 294/456 [1:05:00<17:55,  6.64s/it]"
     ]
    },
    {
     "name": "stdout",
     "output_type": "stream",
     "text": [
      "freakaz0id\n",
      "page 0\n",
      "Number of ratings:  102590\n",
      "<Response [200]>\n",
      "SALIENDO = RATINGS0\n",
      "SALIENDO: not next or Rating0\n"
     ]
    },
    {
     "name": "stderr",
     "output_type": "stream",
     "text": [
      "\n",
      " 65%|██████████████████████████████████████████████████▍                           | 295/456 [1:05:04<16:14,  6.05s/it]"
     ]
    },
    {
     "name": "stdout",
     "output_type": "stream",
     "text": [
      "Besides-Records\n",
      "page 0\n",
      "Number of ratings:  102590\n",
      "<Response [200]>\n",
      "SALIENDO = RATINGS0\n",
      "SALIENDO: not next or Rating0\n"
     ]
    },
    {
     "name": "stderr",
     "output_type": "stream",
     "text": [
      "\n",
      " 65%|██████████████████████████████████████████████████▋                           | 296/456 [1:05:08<14:09,  5.31s/it]"
     ]
    },
    {
     "name": "stdout",
     "output_type": "stream",
     "text": [
      "c-Row\n",
      "page 0\n",
      "Number of ratings:  102602\n",
      "<Response [200]>\n",
      "page 1\n",
      "Number of ratings:  102702\n",
      "<Response [200]>\n",
      "page 2\n",
      "Number of ratings:  102802\n",
      "<Response [200]>\n",
      "page 3\n",
      "Number of ratings:  102902\n",
      "<Response [200]>\n",
      "page 4\n",
      "Number of ratings:  103002\n",
      "<Response [200]>\n",
      "page 5\n",
      "Number of ratings:  103102\n",
      "<Response [200]>\n",
      "page 6\n",
      "Number of ratings:  103202\n",
      "<Response [200]>\n",
      "page 7\n",
      "Number of ratings:  103302\n",
      "<Response [200]>\n",
      "page 8\n",
      "Number of ratings:  103402\n",
      "<Response [200]>\n",
      "page 9\n",
      "Number of ratings:  103502\n",
      "<Response [200]>\n",
      "page 10\n",
      "Number of ratings:  103602\n",
      "<Response [200]>\n",
      "page 11\n",
      "Number of ratings:  103702\n",
      "<Response [200]>\n",
      "page 12\n",
      "Number of ratings:  103802\n",
      "<Response [200]>\n",
      "SALIENDO = RATINGS0\n",
      "SALIENDO: not next or Rating0\n"
     ]
    },
    {
     "name": "stderr",
     "output_type": "stream",
     "text": [
      "\n",
      " 65%|██████████████████████████████████████████████████▊                           | 297/456 [1:05:47<40:54, 15.44s/it]"
     ]
    },
    {
     "name": "stdout",
     "output_type": "stream",
     "text": [
      "delboy74\n",
      "page 0\n",
      "Number of ratings:  103893\n",
      "<Response [200]>\n",
      "page 1\n",
      "Number of ratings:  103993\n",
      "<Response [200]>\n",
      "page 2\n",
      "Number of ratings:  104093\n",
      "<Response [200]>\n",
      "page 3\n",
      "Number of ratings:  104193\n",
      "<Response [200]>\n",
      "page 4\n",
      "Number of ratings:  104293\n",
      "<Response [200]>\n",
      "page 5\n",
      "Number of ratings:  104393\n",
      "<Response [200]>\n",
      "page 6\n",
      "Number of ratings:  104493\n",
      "<Response [200]>\n",
      "page 7\n",
      "Number of ratings:  104593\n",
      "<Response [200]>\n",
      "page 8\n",
      "Number of ratings:  104693\n",
      "<Response [200]>\n",
      "page 9\n",
      "Number of ratings:  104793\n",
      "<Response [200]>\n",
      "page 10\n",
      "Number of ratings:  104893\n",
      "<Response [200]>\n",
      "SALIENDO = RATINGS0\n",
      "SALIENDO: not next or Rating0\n"
     ]
    },
    {
     "name": "stderr",
     "output_type": "stream",
     "text": [
      "\n",
      " 65%|██████████████████████████████████████████████████▉                           | 298/456 [1:06:22<55:41, 21.15s/it]"
     ]
    },
    {
     "name": "stdout",
     "output_type": "stream",
     "text": [
      "The-1989\n",
      "page 0\n",
      "Number of ratings:  104963\n",
      "<Response [200]>\n",
      "SALIENDO: not next or Rating0\n"
     ]
    },
    {
     "name": "stderr",
     "output_type": "stream",
     "text": [
      "\n",
      " 66%|███████████████████████████████████████████████████▏                          | 299/456 [1:06:23<40:12, 15.37s/it]"
     ]
    },
    {
     "name": "stdout",
     "output_type": "stream",
     "text": [
      "ben777\n",
      "page 0\n",
      "Number of ratings:  104982\n",
      "<Response [401]>\n",
      "No hay realases en la collection del user\n"
     ]
    },
    {
     "name": "stderr",
     "output_type": "stream",
     "text": [
      "\n",
      " 66%|███████████████████████████████████████████████████▎                          | 300/456 [1:06:25<29:17, 11.26s/it]"
     ]
    },
    {
     "name": "stdout",
     "output_type": "stream",
     "text": [
      "vaninadh\n",
      "page 0\n",
      "Number of ratings:  104982\n",
      "<Response [401]>\n",
      "No hay realases en la collection del user\n"
     ]
    },
    {
     "name": "stderr",
     "output_type": "stream",
     "text": [
      "\n",
      " 66%|███████████████████████████████████████████████████▍                          | 301/456 [1:06:27<21:38,  8.38s/it]"
     ]
    },
    {
     "name": "stdout",
     "output_type": "stream",
     "text": [
      "heatrush\n",
      "page 0\n",
      "Number of ratings:  104982\n",
      "<Response [200]>\n",
      "SALIENDO: not next or Rating0\n"
     ]
    },
    {
     "name": "stderr",
     "output_type": "stream",
     "text": [
      "\n",
      " 66%|███████████████████████████████████████████████████▋                          | 302/456 [1:06:29<16:38,  6.48s/it]"
     ]
    },
    {
     "name": "stdout",
     "output_type": "stream",
     "text": [
      "Vsadnik\n",
      "page 0\n",
      "Number of ratings:  105011\n",
      "<Response [200]>\n",
      "SALIENDO = RATINGS0\n",
      "SALIENDO: not next or Rating0\n"
     ]
    },
    {
     "name": "stderr",
     "output_type": "stream",
     "text": [
      "\n",
      " 66%|███████████████████████████████████████████████████▊                          | 303/456 [1:06:32<14:12,  5.57s/it]"
     ]
    },
    {
     "name": "stdout",
     "output_type": "stream",
     "text": [
      "jackschmaltz\n",
      "page 0\n",
      "Number of ratings:  105045\n",
      "<Response [200]>\n",
      "page 1\n",
      "Number of ratings:  105145\n",
      "<Response [200]>\n",
      "page 2\n",
      "Number of ratings:  105245\n",
      "<Response [200]>\n",
      "page 3\n",
      "Number of ratings:  105345\n",
      "<Response [200]>\n",
      "page 4\n",
      "Number of ratings:  105445\n",
      "<Response [200]>\n",
      "page 5\n",
      "Number of ratings:  105545\n",
      "<Response [200]>\n",
      "page 6\n",
      "Number of ratings:  105645\n",
      "<Response [200]>\n",
      "page 7\n",
      "Number of ratings:  105745\n",
      "<Response [200]>\n",
      "page 8\n",
      "Number of ratings:  105845\n",
      "<Response [200]>\n",
      "page 9\n",
      "Number of ratings:  105945\n",
      "<Response [200]>\n",
      "page 10\n",
      "Number of ratings:  106045\n",
      "<Response [200]>\n",
      "page 11\n",
      "Number of ratings:  106145\n",
      "<Response [200]>\n",
      "page 12\n",
      "Number of ratings:  106245\n",
      "<Response [200]>\n",
      "page 13\n",
      "Number of ratings:  106345\n",
      "<Response [200]>\n",
      "page 14\n",
      "Number of ratings:  106445\n",
      "<Response [200]>\n",
      "SALIENDO = RATINGS0\n",
      "SALIENDO: not next or Rating0\n"
     ]
    },
    {
     "name": "stderr",
     "output_type": "stream",
     "text": [
      "\n",
      " 67%|████████████████████████████████████████████████████                          | 304/456 [1:07:14<41:52, 16.53s/it]"
     ]
    },
    {
     "name": "stdout",
     "output_type": "stream",
     "text": [
      "LivingDeadDivision\n",
      "page 0\n",
      "Number of ratings:  106528\n",
      "<Response [401]>\n",
      "No hay realases en la collection del user\n"
     ]
    },
    {
     "name": "stderr",
     "output_type": "stream",
     "text": [
      "\n",
      " 67%|████████████████████████████████████████████████████▏                         | 305/456 [1:07:16<30:19, 12.05s/it]"
     ]
    },
    {
     "name": "stdout",
     "output_type": "stream",
     "text": [
      "maitreya\n",
      "page 0\n",
      "Number of ratings:  106528\n",
      "<Response [200]>\n",
      "page 1\n",
      "Number of ratings:  106628\n",
      "<Response [200]>\n",
      "page 2\n",
      "Number of ratings:  106728\n",
      "<Response [200]>\n",
      "page 3\n",
      "Number of ratings:  106828\n",
      "<Response [200]>\n",
      "page 4\n",
      "Number of ratings:  106928\n",
      "<Response [200]>\n",
      "page 5\n",
      "Number of ratings:  107028\n",
      "<Response [200]>\n",
      "page 6\n",
      "Number of ratings:  107128\n",
      "<Response [200]>\n",
      "page 7\n",
      "Number of ratings:  107228\n",
      "<Response [200]>\n",
      "page 8\n",
      "Number of ratings:  107328\n",
      "<Response [200]>\n",
      "page 9\n",
      "Number of ratings:  107428\n",
      "<Response [200]>\n",
      "page 10\n",
      "Number of ratings:  107528\n",
      "<Response [200]>\n",
      "page 11\n",
      "Number of ratings:  107628\n",
      "<Response [200]>\n",
      "page 12\n",
      "Number of ratings:  107728\n",
      "<Response [200]>\n",
      "page 13\n",
      "Number of ratings:  107828\n",
      "<Response [200]>\n",
      "page 14\n",
      "Number of ratings:  107928\n",
      "<Response [200]>\n",
      "page 15\n",
      "Number of ratings:  108028\n",
      "<Response [200]>\n",
      "page 16\n",
      "Number of ratings:  108128\n",
      "<Response [200]>\n",
      "page 17\n",
      "Number of ratings:  108228\n",
      "<Response [200]>\n",
      "page 18\n",
      "Number of ratings:  108328\n",
      "<Response [200]>\n",
      "page 19\n",
      "Number of ratings:  108428\n",
      "<Response [200]>\n",
      "page 20\n",
      "Number of ratings:  108528\n",
      "<Response [200]>\n",
      "page 21\n",
      "Number of ratings:  108628\n",
      "<Response [200]>\n",
      "page 22\n",
      "Number of ratings:  108728\n",
      "<Response [200]>\n",
      "page 23\n",
      "Number of ratings:  108828\n",
      "<Response [200]>\n",
      "page 24\n",
      "Number of ratings:  108928\n",
      "<Response [200]>\n",
      "page 25\n",
      "Number of ratings:  109028\n",
      "<Response [200]>\n",
      "page 26\n",
      "Number of ratings:  109128\n",
      "<Response [200]>\n",
      "page 27\n",
      "Number of ratings:  109228\n",
      "<Response [200]>\n",
      "page 28\n",
      "Number of ratings:  109328\n",
      "<Response [200]>\n",
      "page 29\n",
      "Number of ratings:  109428\n",
      "<Response [200]>\n",
      "page 30\n",
      "Number of ratings:  109528\n",
      "<Response [200]>\n",
      "page 31\n",
      "Number of ratings:  109628\n",
      "<Response [200]>\n",
      "page 32\n",
      "Number of ratings:  109728\n",
      "<Response [200]>\n",
      "page 33\n",
      "Number of ratings:  109828\n",
      "<Response [200]>\n",
      "page 34\n",
      "Number of ratings:  109928\n",
      "<Response [200]>\n",
      "page 35\n",
      "Number of ratings:  110028\n",
      "<Response [200]>\n",
      "page 36\n",
      "Number of ratings:  110128\n",
      "<Response [200]>\n",
      "page 37\n",
      "Number of ratings:  110228\n",
      "<Response [200]>\n",
      "SALIENDO = RATINGS0\n",
      "SALIENDO: not next or Rating0\n"
     ]
    },
    {
     "name": "stderr",
     "output_type": "stream",
     "text": [
      "\n",
      " 67%|███████████████████████████████████████████████████                         | 306/456 [1:09:16<1:51:19, 44.53s/it]"
     ]
    },
    {
     "name": "stdout",
     "output_type": "stream",
     "text": [
      "Anarko\n",
      "page 0\n",
      "Number of ratings:  110250\n",
      "<Response [200]>\n",
      "SALIENDO: not next or Rating0\n"
     ]
    },
    {
     "name": "stderr",
     "output_type": "stream",
     "text": [
      "\n",
      " 67%|███████████████████████████████████████████████████▏                        | 307/456 [1:09:18<1:18:39, 31.68s/it]"
     ]
    },
    {
     "name": "stdout",
     "output_type": "stream",
     "text": [
      "trancephorm\n",
      "page 0\n",
      "Number of ratings:  110250\n",
      "<Response [401]>\n",
      "No hay realases en la collection del user\n"
     ]
    },
    {
     "name": "stderr",
     "output_type": "stream",
     "text": [
      "\n",
      " 68%|████████████████████████████████████████████████████▋                         | 308/456 [1:09:20<55:53, 22.66s/it]"
     ]
    },
    {
     "name": "stdout",
     "output_type": "stream",
     "text": [
      "femrec\n",
      "page 0\n",
      "Number of ratings:  110250\n",
      "<Response [200]>\n",
      "SALIENDO = RATINGS0\n",
      "SALIENDO: not next or Rating0\n"
     ]
    },
    {
     "name": "stderr",
     "output_type": "stream",
     "text": [
      "\n",
      " 68%|████████████████████████████████████████████████████▊                         | 309/456 [1:09:21<40:12, 16.41s/it]"
     ]
    },
    {
     "name": "stdout",
     "output_type": "stream",
     "text": [
      "skutchy\n",
      "page 0\n",
      "Number of ratings:  110250\n",
      "<Response [200]>\n",
      "page 1\n",
      "Number of ratings:  110350\n",
      "<Response [200]>\n",
      "page 2\n",
      "Number of ratings:  110450\n",
      "<Response [200]>\n",
      "page 3\n",
      "Number of ratings:  110550\n",
      "<Response [200]>\n",
      "page 4\n",
      "Number of ratings:  110650\n",
      "<Response [200]>\n",
      "page 5\n",
      "Number of ratings:  110750\n",
      "<Response [200]>\n",
      "page 6\n",
      "Number of ratings:  110850\n",
      "<Response [200]>\n",
      "page 7\n",
      "Number of ratings:  110950\n",
      "<Response [200]>\n",
      "page 8\n",
      "Number of ratings:  111050\n",
      "<Response [200]>\n",
      "page 9\n",
      "Number of ratings:  111150\n",
      "<Response [200]>\n",
      "page 10\n",
      "Number of ratings:  111250\n",
      "<Response [200]>\n",
      "page 11\n",
      "Number of ratings:  111350\n",
      "<Response [200]>\n",
      "page 12\n",
      "Number of ratings:  111450\n",
      "<Response [200]>\n",
      "page 13\n",
      "Number of ratings:  111550\n",
      "<Response [200]>\n",
      "page 14\n",
      "Number of ratings:  111650\n",
      "<Response [200]>\n",
      "page 15\n",
      "Number of ratings:  111750\n",
      "<Response [200]>\n",
      "SALIENDO = RATINGS0\n",
      "SALIENDO: not next or Rating0\n"
     ]
    },
    {
     "name": "stderr",
     "output_type": "stream",
     "text": [
      "\n",
      " 68%|███████████████████████████████████████████████████▋                        | 310/456 [1:10:13<1:05:38, 26.98s/it]"
     ]
    },
    {
     "name": "stdout",
     "output_type": "stream",
     "text": [
      "markw999\n",
      "page 0\n",
      "Number of ratings:  111761\n",
      "<Response [200]>\n",
      "SALIENDO = RATINGS0\n",
      "SALIENDO: not next or Rating0\n"
     ]
    },
    {
     "name": "stderr",
     "output_type": "stream",
     "text": [
      "\n",
      " 68%|█████████████████████████████████████████████████████▏                        | 311/456 [1:10:16<48:10, 19.93s/it]"
     ]
    },
    {
     "name": "stdout",
     "output_type": "stream",
     "text": [
      "branwensuspiriashoop\n",
      "page 0\n",
      "Number of ratings:  111810\n",
      "<Response [401]>\n",
      "No hay realases en la collection del user\n"
     ]
    },
    {
     "name": "stderr",
     "output_type": "stream",
     "text": [
      "\n",
      " 68%|█████████████████████████████████████████████████████▎                        | 312/456 [1:10:18<34:40, 14.45s/it]"
     ]
    },
    {
     "name": "stdout",
     "output_type": "stream",
     "text": [
      "spambent\n",
      "page 0\n",
      "Number of ratings:  111810\n",
      "<Response [200]>\n",
      "SALIENDO: not next or Rating0\n"
     ]
    },
    {
     "name": "stderr",
     "output_type": "stream",
     "text": [
      "\n",
      " 69%|█████████████████████████████████████████████████████▌                        | 313/456 [1:10:20<25:16, 10.60s/it]"
     ]
    },
    {
     "name": "stdout",
     "output_type": "stream",
     "text": [
      "sybel\n",
      "page 0\n",
      "Number of ratings:  111810\n",
      "<Response [200]>\n",
      "SALIENDO = RATINGS0\n",
      "SALIENDO: not next or Rating0\n"
     ]
    },
    {
     "name": "stderr",
     "output_type": "stream",
     "text": [
      "\n",
      " 69%|█████████████████████████████████████████████████████▋                        | 314/456 [1:10:24<20:27,  8.64s/it]"
     ]
    },
    {
     "name": "stdout",
     "output_type": "stream",
     "text": [
      "carolemadge\n",
      "page 0\n",
      "Number of ratings:  111847\n",
      "<Response [200]>\n",
      "SALIENDO = RATINGS0\n",
      "SALIENDO: not next or Rating0\n"
     ]
    },
    {
     "name": "stderr",
     "output_type": "stream",
     "text": [
      "\n",
      " 69%|█████████████████████████████████████████████████████▉                        | 315/456 [1:10:28<16:56,  7.21s/it]"
     ]
    },
    {
     "name": "stdout",
     "output_type": "stream",
     "text": [
      "plattenkonferenz\n",
      "page 0\n",
      "Number of ratings:  111857\n",
      "<Response [200]>\n",
      "SALIENDO: not next or Rating0\n"
     ]
    },
    {
     "name": "stderr",
     "output_type": "stream",
     "text": [
      "\n",
      " 69%|██████████████████████████████████████████████████████                        | 316/456 [1:10:29<12:57,  5.56s/it]"
     ]
    },
    {
     "name": "stdout",
     "output_type": "stream",
     "text": [
      "ApoapsisRecords\n",
      "page 0\n",
      "Number of ratings:  111859\n",
      "<Response [200]>\n",
      "SALIENDO: not next or Rating0\n"
     ]
    },
    {
     "name": "stderr",
     "output_type": "stream",
     "text": [
      "\n",
      " 70%|██████████████████████████████████████████████████████▏                       | 317/456 [1:10:31<10:19,  4.46s/it]"
     ]
    },
    {
     "name": "stdout",
     "output_type": "stream",
     "text": [
      "maxssi\n",
      "page 0\n",
      "Number of ratings:  111872\n",
      "<Response [401]>\n",
      "No hay realases en la collection del user\n"
     ]
    },
    {
     "name": "stderr",
     "output_type": "stream",
     "text": [
      "\n",
      " 70%|██████████████████████████████████████████████████████▍                       | 318/456 [1:10:33<08:17,  3.61s/it]"
     ]
    },
    {
     "name": "stdout",
     "output_type": "stream",
     "text": [
      "Tavaron\n",
      "page 0\n",
      "Number of ratings:  111872\n",
      "<Response [401]>\n",
      "No hay realases en la collection del user\n"
     ]
    },
    {
     "name": "stderr",
     "output_type": "stream",
     "text": [
      "\n",
      " 70%|██████████████████████████████████████████████████████▌                       | 319/456 [1:10:35<06:52,  3.01s/it]"
     ]
    },
    {
     "name": "stdout",
     "output_type": "stream",
     "text": [
      "tahumenahu\n",
      "page 0\n",
      "Number of ratings:  111872\n",
      "<Response [200]>\n",
      "SALIENDO: not next or Rating0\n"
     ]
    },
    {
     "name": "stderr",
     "output_type": "stream",
     "text": [
      "\n",
      " 70%|██████████████████████████████████████████████████████▋                       | 320/456 [1:10:36<05:53,  2.60s/it]"
     ]
    },
    {
     "name": "stdout",
     "output_type": "stream",
     "text": [
      "rimrimrim\n",
      "page 0\n",
      "Number of ratings:  111874\n",
      "<Response [200]>\n",
      "SALIENDO = RATINGS0\n",
      "SALIENDO: not next or Rating0\n"
     ]
    },
    {
     "name": "stderr",
     "output_type": "stream",
     "text": [
      "\n",
      " 70%|██████████████████████████████████████████████████████▉                       | 321/456 [1:10:40<06:20,  2.82s/it]"
     ]
    },
    {
     "name": "stdout",
     "output_type": "stream",
     "text": [
      "cincinnati\n",
      "page 0\n",
      "Number of ratings:  111874\n",
      "<Response [200]>\n",
      "SALIENDO = RATINGS0\n",
      "SALIENDO: not next or Rating0\n"
     ]
    },
    {
     "name": "stderr",
     "output_type": "stream",
     "text": [
      "\n",
      " 71%|███████████████████████████████████████████████████████                       | 322/456 [1:10:41<05:35,  2.51s/it]"
     ]
    },
    {
     "name": "stdout",
     "output_type": "stream",
     "text": [
      "sinbox\n",
      "page 0\n",
      "Number of ratings:  111874\n",
      "<Response [200]>\n",
      "page 1\n",
      "Number of ratings:  111974\n",
      "<Response [200]>\n",
      "page 2\n",
      "Number of ratings:  112074\n",
      "<Response [200]>\n",
      "SALIENDO = RATINGS0\n",
      "SALIENDO: not next or Rating0\n"
     ]
    },
    {
     "name": "stderr",
     "output_type": "stream",
     "text": [
      "\n",
      " 71%|███████████████████████████████████████████████████████▎                      | 323/456 [1:10:52<11:02,  4.98s/it]"
     ]
    },
    {
     "name": "stdout",
     "output_type": "stream",
     "text": [
      "Azz_Izz\n",
      "page 0\n",
      "Number of ratings:  112103\n",
      "<Response [200]>\n",
      "SALIENDO = RATINGS0\n",
      "SALIENDO: not next or Rating0\n"
     ]
    },
    {
     "name": "stderr",
     "output_type": "stream",
     "text": [
      "\n",
      " 71%|███████████████████████████████████████████████████████▍                      | 324/456 [1:10:56<10:27,  4.76s/it]"
     ]
    },
    {
     "name": "stdout",
     "output_type": "stream",
     "text": [
      "dj_jasonb\n",
      "page 0\n",
      "Number of ratings:  112190\n",
      "<Response [200]>\n",
      "page 1\n",
      "Number of ratings:  112290\n",
      "<Response [200]>\n",
      "page 2\n",
      "Number of ratings:  112390\n",
      "<Response [200]>\n",
      "page 3\n",
      "Number of ratings:  112490\n",
      "<Response [200]>\n",
      "page 4\n",
      "Number of ratings:  112590\n",
      "<Response [200]>\n",
      "page 5\n",
      "Number of ratings:  112690\n",
      "<Response [200]>\n",
      "page 6\n",
      "Number of ratings:  112790\n",
      "<Response [200]>\n",
      "page 7\n",
      "Number of ratings:  112890\n",
      "<Response [200]>\n",
      "page 8\n",
      "Number of ratings:  112990\n",
      "<Response [200]>\n",
      "page 9\n",
      "Number of ratings:  113090\n",
      "<Response [200]>\n",
      "page 10\n",
      "Number of ratings:  113190\n",
      "<Response [200]>\n",
      "page 11\n",
      "Number of ratings:  113290\n",
      "<Response [200]>\n",
      "page 12\n",
      "Number of ratings:  113390\n",
      "<Response [200]>\n",
      "page 13\n",
      "Number of ratings:  113490\n",
      "<Response [200]>\n",
      "page 14\n",
      "Number of ratings:  113590\n",
      "<Response [200]>\n",
      "page 15\n",
      "Number of ratings:  113690\n",
      "<Response [200]>\n",
      "page 16\n",
      "Number of ratings:  113790\n",
      "<Response [200]>\n",
      "page 17\n",
      "Number of ratings:  113890\n",
      "<Response [200]>\n",
      "page 18\n",
      "Number of ratings:  113990\n",
      "<Response [200]>\n",
      "page 19\n",
      "Number of ratings:  114090\n",
      "<Response [200]>\n",
      "page 20\n",
      "Number of ratings:  114190\n",
      "<Response [200]>\n",
      "page 21\n",
      "Number of ratings:  114290\n",
      "<Response [200]>\n",
      "page 22\n",
      "Number of ratings:  114390\n",
      "<Response [200]>\n",
      "page 23\n",
      "Number of ratings:  114490\n",
      "<Response [200]>\n",
      "page 24\n",
      "Number of ratings:  114590\n",
      "<Response [200]>\n",
      "page 25\n",
      "Number of ratings:  114690\n",
      "<Response [200]>\n",
      "page 26\n",
      "Number of ratings:  114790\n",
      "<Response [200]>\n",
      "page 27\n",
      "Number of ratings:  114890\n",
      "<Response [200]>\n",
      "page 28\n",
      "Number of ratings:  114990\n",
      "<Response [200]>\n",
      "page 29\n",
      "Number of ratings:  115090\n",
      "<Response [200]>\n",
      "page 30\n",
      "Number of ratings:  115190\n",
      "<Response [200]>\n",
      "page 31\n",
      "Number of ratings:  115290\n",
      "<Response [200]>\n",
      "page 32\n",
      "Number of ratings:  115390\n",
      "<Response [200]>\n",
      "page 33\n",
      "Number of ratings:  115490\n",
      "<Response [200]>\n",
      "page 34\n",
      "Number of ratings:  115590\n",
      "<Response [200]>\n",
      "page 35\n",
      "Number of ratings:  115690\n",
      "<Response [200]>\n",
      "page 36\n",
      "Number of ratings:  115790\n",
      "<Response [200]>\n",
      "page 37\n",
      "Number of ratings:  115890\n",
      "<Response [200]>\n",
      "page 38\n",
      "Number of ratings:  115990\n",
      "<Response [200]>\n",
      "page 39\n",
      "Number of ratings:  116090\n",
      "<Response [200]>\n",
      "page 40\n",
      "Number of ratings:  116190\n",
      "<Response [200]>\n",
      "page 41\n",
      "Number of ratings:  116290\n",
      "<Response [200]>\n",
      "page 42\n",
      "Number of ratings:  116390\n",
      "<Response [200]>\n",
      "page 43\n",
      "Number of ratings:  116490\n",
      "<Response [200]>\n",
      "page 44\n",
      "Number of ratings:  116590\n",
      "<Response [200]>\n",
      "page 45\n",
      "Number of ratings:  116690\n",
      "<Response [200]>\n",
      "page 46\n",
      "Number of ratings:  116790\n",
      "<Response [200]>\n",
      "SALIENDO = RATINGS0\n",
      "SALIENDO: not next or Rating0\n"
     ]
    },
    {
     "name": "stderr",
     "output_type": "stream",
     "text": [
      "\n",
      " 71%|██████████████████████████████████████████████████████▏                     | 325/456 [1:13:22<1:42:26, 46.92s/it]"
     ]
    },
    {
     "name": "stdout",
     "output_type": "stream",
     "text": [
      "PawelScream\n",
      "page 0\n",
      "Number of ratings:  116879\n",
      "<Response [200]>\n",
      "SALIENDO = RATINGS0\n",
      "SALIENDO: not next or Rating0\n"
     ]
    },
    {
     "name": "stderr",
     "output_type": "stream",
     "text": [
      "\n",
      " 71%|██████████████████████████████████████████████████████▎                     | 326/456 [1:13:25<1:13:05, 33.73s/it]"
     ]
    },
    {
     "name": "stdout",
     "output_type": "stream",
     "text": [
      "edjog\n",
      "page 0\n",
      "Number of ratings:  116928\n",
      "<Response [200]>\n",
      "page 1\n",
      "Number of ratings:  117028\n",
      "<Response [200]>\n",
      "page 2\n",
      "Number of ratings:  117128\n",
      "<Response [200]>\n",
      "SALIENDO = RATINGS0\n",
      "SALIENDO: not next or Rating0\n"
     ]
    },
    {
     "name": "stderr",
     "output_type": "stream",
     "text": [
      "\n",
      " 72%|███████████████████████████████████████████████████████▉                      | 327/456 [1:13:33<56:17, 26.18s/it]"
     ]
    },
    {
     "name": "stdout",
     "output_type": "stream",
     "text": [
      "Olo666\n",
      "page 0\n",
      "Number of ratings:  117163\n",
      "<Response [200]>\n",
      "SALIENDO: not next or Rating0\n"
     ]
    },
    {
     "name": "stderr",
     "output_type": "stream",
     "text": [
      "\n",
      " 72%|████████████████████████████████████████████████████████                      | 328/456 [1:13:36<41:15, 19.34s/it]"
     ]
    },
    {
     "name": "stdout",
     "output_type": "stream",
     "text": [
      "dj_ramses\n",
      "page 0\n",
      "Number of ratings:  117241\n",
      "<Response [200]>\n",
      "SALIENDO = RATINGS0\n",
      "SALIENDO: not next or Rating0\n"
     ]
    },
    {
     "name": "stderr",
     "output_type": "stream",
     "text": [
      "\n",
      " 72%|████████████████████████████████████████████████████████▎                     | 329/456 [1:13:39<30:30, 14.41s/it]"
     ]
    },
    {
     "name": "stdout",
     "output_type": "stream",
     "text": [
      "CONRAD99CONRAD\n",
      "page 0\n",
      "Number of ratings:  117242\n",
      "<Response [200]>\n",
      "SALIENDO: not next or Rating0\n"
     ]
    },
    {
     "name": "stderr",
     "output_type": "stream",
     "text": [
      "\n",
      " 72%|████████████████████████████████████████████████████████▍                     | 330/456 [1:13:41<22:12, 10.58s/it]"
     ]
    },
    {
     "name": "stdout",
     "output_type": "stream",
     "text": [
      "clip326\n",
      "page 0\n",
      "Number of ratings:  117244\n",
      "<Response [200]>\n",
      "page 1\n",
      "Number of ratings:  117344\n",
      "<Response [200]>\n",
      "page 2\n",
      "Number of ratings:  117444\n",
      "<Response [200]>\n",
      "page 3\n",
      "Number of ratings:  117544\n",
      "<Response [200]>\n",
      "page 4\n",
      "Number of ratings:  117644\n",
      "<Response [200]>\n",
      "page 5\n",
      "Number of ratings:  117744\n",
      "<Response [200]>\n",
      "page 6\n",
      "Number of ratings:  117844\n",
      "<Response [200]>\n",
      "page 7\n",
      "Number of ratings:  117944\n",
      "<Response [200]>\n",
      "page 8\n",
      "Number of ratings:  118044\n",
      "<Response [200]>\n",
      "page 9\n",
      "Number of ratings:  118144\n",
      "<Response [200]>\n",
      "page 10\n",
      "Number of ratings:  118244\n",
      "<Response [200]>\n",
      "page 11\n",
      "Number of ratings:  118344\n",
      "<Response [200]>\n",
      "page 12\n",
      "Number of ratings:  118444\n",
      "<Response [200]>\n",
      "page 13\n",
      "Number of ratings:  118544\n",
      "<Response [200]>\n",
      "page 14\n",
      "Number of ratings:  118644\n",
      "<Response [200]>\n",
      "page 15\n",
      "Number of ratings:  118744\n",
      "<Response [200]>\n",
      "page 16\n",
      "Number of ratings:  118844\n",
      "<Response [200]>\n",
      "page 17\n",
      "Number of ratings:  118944\n",
      "<Response [200]>\n",
      "page 18\n",
      "Number of ratings:  119044\n",
      "<Response [200]>\n",
      "page 19\n",
      "Number of ratings:  119144\n",
      "<Response [200]>\n",
      "page 20\n",
      "Number of ratings:  119244\n",
      "<Response [200]>\n",
      "page 21\n",
      "Number of ratings:  119344\n",
      "<Response [200]>\n",
      "page 22\n",
      "Number of ratings:  119444\n",
      "<Response [200]>\n",
      "page 23\n",
      "Number of ratings:  119544\n",
      "<Response [200]>\n",
      "page 24\n",
      "Number of ratings:  119644\n",
      "<Response [200]>\n",
      "page 25\n",
      "Number of ratings:  119744\n",
      "<Response [200]>\n",
      "page 26\n",
      "Number of ratings:  119844\n",
      "<Response [200]>\n",
      "page 27\n",
      "Number of ratings:  119944\n",
      "<Response [200]>\n",
      "page 28\n",
      "Number of ratings:  120044\n",
      "<Response [200]>\n",
      "page 29\n",
      "Number of ratings:  120144\n",
      "<Response [200]>\n",
      "page 30\n",
      "Number of ratings:  120244\n",
      "<Response [200]>\n",
      "page 31\n",
      "Number of ratings:  120344\n",
      "<Response [200]>\n",
      "page 32\n",
      "Number of ratings:  120444\n",
      "<Response [200]>\n",
      "page 33\n",
      "Number of ratings:  120544\n",
      "<Response [200]>\n",
      "page 34\n",
      "Number of ratings:  120644\n",
      "<Response [200]>\n",
      "page 35\n",
      "Number of ratings:  120744\n",
      "<Response [200]>\n",
      "page 36\n",
      "Number of ratings:  120844\n",
      "<Response [200]>\n",
      "page 37\n",
      "Number of ratings:  120944\n",
      "<Response [200]>\n",
      "page 38\n",
      "Number of ratings:  121044\n",
      "<Response [200]>\n",
      "page 39\n",
      "Number of ratings:  121144\n",
      "<Response [200]>\n",
      "page 40\n",
      "Number of ratings:  121244\n",
      "<Response [200]>\n",
      "page 41\n",
      "Number of ratings:  121344\n",
      "<Response [200]>\n",
      "page 42\n",
      "Number of ratings:  121444\n",
      "<Response [200]>\n",
      "page 43\n",
      "Number of ratings:  121544\n",
      "<Response [200]>\n",
      "page 44\n",
      "Number of ratings:  121644\n",
      "<Response [200]>\n",
      "page 45\n",
      "Number of ratings:  121744\n",
      "<Response [200]>\n",
      "page 46\n",
      "Number of ratings:  121844\n",
      "<Response [200]>\n",
      "page 47\n",
      "Number of ratings:  121944\n",
      "<Response [200]>\n",
      "page 48\n",
      "Number of ratings:  122044\n",
      "<Response [200]>\n",
      "page 49\n",
      "Number of ratings:  122144\n",
      "<Response [200]>\n",
      "page 50\n",
      "Number of ratings:  122244\n",
      "<Response [200]>\n",
      "page 51\n",
      "Number of ratings:  122344\n",
      "<Response [200]>\n",
      "page 52\n",
      "Number of ratings:  122444\n",
      "<Response [200]>\n",
      "page 53\n",
      "Number of ratings:  122544\n",
      "<Response [200]>\n",
      "page 54\n",
      "Number of ratings:  122644\n",
      "<Response [200]>\n",
      "SALIENDO = RATINGS0\n",
      "SALIENDO: not next or Rating0\n"
     ]
    },
    {
     "name": "stderr",
     "output_type": "stream",
     "text": [
      "\n",
      " 73%|███████████████████████████████████████████████████████▏                    | 331/456 [1:16:41<2:07:53, 61.39s/it]"
     ]
    },
    {
     "name": "stdout",
     "output_type": "stream",
     "text": [
      "kontemplator\n",
      "page 0\n",
      "Number of ratings:  122676\n",
      "<Response [401]>\n",
      "No hay realases en la collection del user\n"
     ]
    },
    {
     "name": "stderr",
     "output_type": "stream",
     "text": [
      "\n",
      " 73%|███████████████████████████████████████████████████████▎                    | 332/456 [1:16:43<1:29:48, 43.46s/it]"
     ]
    },
    {
     "name": "stdout",
     "output_type": "stream",
     "text": [
      "jmob4\n",
      "page 0\n",
      "Number of ratings:  122676\n",
      "<Response [401]>\n",
      "No hay realases en la collection del user\n"
     ]
    },
    {
     "name": "stderr",
     "output_type": "stream",
     "text": [
      "\n",
      " 73%|███████████████████████████████████████████████████████▌                    | 333/456 [1:16:44<1:03:20, 30.90s/it]"
     ]
    },
    {
     "name": "stdout",
     "output_type": "stream",
     "text": [
      "extrance2007\n",
      "page 0\n",
      "Number of ratings:  122676\n",
      "<Response [401]>\n",
      "No hay realases en la collection del user\n"
     ]
    },
    {
     "name": "stderr",
     "output_type": "stream",
     "text": [
      "\n",
      " 73%|█████████████████████████████████████████████████████████▏                    | 334/456 [1:16:46<44:58, 22.11s/it]"
     ]
    },
    {
     "name": "stdout",
     "output_type": "stream",
     "text": [
      "daniel_cooper89\n",
      "page 0\n",
      "Number of ratings:  122676\n",
      "<Response [200]>\n",
      "SALIENDO = RATINGS0\n",
      "SALIENDO: not next or Rating0\n"
     ]
    },
    {
     "name": "stderr",
     "output_type": "stream",
     "text": [
      "\n",
      " 73%|█████████████████████████████████████████████████████████▎                    | 335/456 [1:16:49<33:03, 16.39s/it]"
     ]
    },
    {
     "name": "stdout",
     "output_type": "stream",
     "text": [
      "geronlucpha\n",
      "page 0\n",
      "Number of ratings:  122676\n",
      "<Response [401]>\n",
      "No hay realases en la collection del user\n"
     ]
    },
    {
     "name": "stderr",
     "output_type": "stream",
     "text": [
      "\n",
      " 74%|█████████████████████████████████████████████████████████▍                    | 336/456 [1:16:50<23:55, 11.96s/it]"
     ]
    },
    {
     "name": "stdout",
     "output_type": "stream",
     "text": [
      "darkdubh\n",
      "page 0\n",
      "Number of ratings:  122676\n",
      "<Response [200]>\n",
      "page 1\n",
      "Number of ratings:  122776\n",
      "<Response [200]>\n",
      "page 2\n",
      "Number of ratings:  122876\n",
      "<Response [200]>\n",
      "page 3\n",
      "Number of ratings:  122976\n",
      "<Response [200]>\n",
      "page 4\n",
      "Number of ratings:  123076\n",
      "<Response [200]>\n",
      "page 5\n",
      "Number of ratings:  123176\n",
      "<Response [200]>\n",
      "page 6\n",
      "Number of ratings:  123276\n",
      "<Response [200]>\n",
      "SALIENDO = RATINGS0\n",
      "SALIENDO: not next or Rating0\n"
     ]
    },
    {
     "name": "stderr",
     "output_type": "stream",
     "text": [
      "\n",
      " 74%|█████████████████████████████████████████████████████████▋                    | 337/456 [1:17:13<30:04, 15.16s/it]"
     ]
    },
    {
     "name": "stdout",
     "output_type": "stream",
     "text": [
      "cocktailmix\n",
      "page 0\n",
      "Number of ratings:  123346\n",
      "<Response [401]>\n",
      "No hay realases en la collection del user\n"
     ]
    },
    {
     "name": "stderr",
     "output_type": "stream",
     "text": [
      "\n",
      " 74%|█████████████████████████████████████████████████████████▊                    | 338/456 [1:17:15<21:49, 11.10s/it]"
     ]
    },
    {
     "name": "stdout",
     "output_type": "stream",
     "text": [
      "borderes\n",
      "page 0\n",
      "Number of ratings:  123346\n",
      "<Response [401]>\n",
      "No hay realases en la collection del user\n"
     ]
    },
    {
     "name": "stderr",
     "output_type": "stream",
     "text": [
      "\n",
      " 74%|█████████████████████████████████████████████████████████▉                    | 339/456 [1:17:16<16:05,  8.25s/it]"
     ]
    },
    {
     "name": "stdout",
     "output_type": "stream",
     "text": [
      "doolyklf\n",
      "page 0\n",
      "Number of ratings:  123346\n",
      "<Response [200]>\n",
      "page 1\n",
      "Number of ratings:  123446\n",
      "<Response [200]>\n",
      "page 2\n",
      "Number of ratings:  123546\n",
      "<Response [200]>\n",
      "page 3\n",
      "Number of ratings:  123646\n",
      "<Response [200]>\n",
      "page 4\n",
      "Number of ratings:  123746\n",
      "<Response [200]>\n",
      "page 5\n",
      "Number of ratings:  123846\n",
      "<Response [200]>\n",
      "SALIENDO = RATINGS0\n",
      "SALIENDO: not next or Rating0\n"
     ]
    },
    {
     "name": "stderr",
     "output_type": "stream",
     "text": [
      "\n",
      " 75%|██████████████████████████████████████████████████████████▏                   | 340/456 [1:17:35<22:12, 11.49s/it]"
     ]
    },
    {
     "name": "stdout",
     "output_type": "stream",
     "text": [
      "1stverse\n",
      "page 0\n",
      "Number of ratings:  123923\n",
      "<Response [401]>\n",
      "No hay realases en la collection del user\n"
     ]
    },
    {
     "name": "stderr",
     "output_type": "stream",
     "text": [
      "\n",
      " 75%|██████████████████████████████████████████████████████████▎                   | 341/456 [1:17:37<16:20,  8.52s/it]"
     ]
    },
    {
     "name": "stdout",
     "output_type": "stream",
     "text": [
      "Charon49\n",
      "page 0\n",
      "Number of ratings:  123923\n",
      "<Response [200]>\n",
      "SALIENDO = RATINGS0\n",
      "SALIENDO: not next or Rating0\n"
     ]
    },
    {
     "name": "stderr",
     "output_type": "stream",
     "text": [
      "\n",
      " 75%|██████████████████████████████████████████████████████████▌                   | 342/456 [1:17:40<13:06,  6.90s/it]"
     ]
    },
    {
     "name": "stdout",
     "output_type": "stream",
     "text": [
      "powergroove69\n",
      "page 0\n",
      "Number of ratings:  124002\n",
      "<Response [200]>\n",
      "page 1\n",
      "Number of ratings:  124102\n",
      "<Response [200]>\n",
      "page 2\n",
      "Number of ratings:  124202\n",
      "<Response [200]>\n",
      "SALIENDO = RATINGS0\n",
      "SALIENDO: not next or Rating0\n"
     ]
    },
    {
     "name": "stderr",
     "output_type": "stream",
     "text": [
      "\n",
      " 75%|██████████████████████████████████████████████████████████▋                   | 343/456 [1:17:50<14:41,  7.80s/it]"
     ]
    },
    {
     "name": "stdout",
     "output_type": "stream",
     "text": [
      "JoshHubi\n",
      "page 0\n",
      "Number of ratings:  124264\n",
      "<Response [200]>\n",
      "SALIENDO = RATINGS0\n",
      "SALIENDO: not next or Rating0\n"
     ]
    },
    {
     "name": "stderr",
     "output_type": "stream",
     "text": [
      "\n",
      " 75%|██████████████████████████████████████████████████████████▊                   | 344/456 [1:17:53<12:07,  6.50s/it]"
     ]
    },
    {
     "name": "stdout",
     "output_type": "stream",
     "text": [
      "psoumas\n",
      "page 0\n",
      "Number of ratings:  124298\n",
      "<Response [200]>\n",
      "SALIENDO = RATINGS0\n",
      "SALIENDO: not next or Rating0\n"
     ]
    },
    {
     "name": "stderr",
     "output_type": "stream",
     "text": [
      "\n",
      " 76%|███████████████████████████████████████████████████████████                   | 345/456 [1:17:57<10:26,  5.65s/it]"
     ]
    },
    {
     "name": "stdout",
     "output_type": "stream",
     "text": [
      "Ves\n",
      "page 0\n",
      "Number of ratings:  124308\n",
      "<Response [200]>\n",
      "page 1\n",
      "Number of ratings:  124408\n",
      "<Response [200]>\n",
      "page 2\n",
      "Number of ratings:  124508\n",
      "<Response [200]>\n",
      "page 3\n",
      "Number of ratings:  124608\n",
      "<Response [200]>\n",
      "SALIENDO = RATINGS0\n",
      "SALIENDO: not next or Rating0\n"
     ]
    },
    {
     "name": "stderr",
     "output_type": "stream",
     "text": [
      "\n",
      " 76%|███████████████████████████████████████████████████████████▏                  | 346/456 [1:18:09<13:48,  7.53s/it]"
     ]
    },
    {
     "name": "stdout",
     "output_type": "stream",
     "text": [
      "Marlboro_Man\n",
      "page 0\n",
      "Number of ratings:  124632\n",
      "<Response [200]>\n",
      "page 1\n",
      "Number of ratings:  124732\n",
      "<Response [200]>\n",
      "page 2\n",
      "Number of ratings:  124832\n",
      "<Response [200]>\n",
      "page 3\n",
      "Number of ratings:  124932\n",
      "<Response [200]>\n",
      "page 4\n",
      "Number of ratings:  125032\n",
      "<Response [200]>\n",
      "page 5\n",
      "Number of ratings:  125132\n",
      "<Response [200]>\n",
      "page 6\n",
      "Number of ratings:  125232\n",
      "<Response [200]>\n",
      "page 7\n",
      "Number of ratings:  125332\n",
      "<Response [200]>\n",
      "page 8\n",
      "Number of ratings:  125432\n",
      "<Response [200]>\n",
      "SALIENDO = RATINGS0\n",
      "SALIENDO: not next or Rating0\n"
     ]
    },
    {
     "name": "stderr",
     "output_type": "stream",
     "text": [
      "\n",
      " 76%|███████████████████████████████████████████████████████████▎                  | 347/456 [1:18:34<23:25, 12.89s/it]"
     ]
    },
    {
     "name": "stdout",
     "output_type": "stream",
     "text": [
      "jmpatrick\n",
      "page 0\n",
      "Number of ratings:  125484\n",
      "<Response [200]>\n",
      "SALIENDO = RATINGS0\n",
      "SALIENDO: not next or Rating0\n"
     ]
    },
    {
     "name": "stderr",
     "output_type": "stream",
     "text": [
      "\n",
      " 76%|███████████████████████████████████████████████████████████▌                  | 348/456 [1:18:36<17:12,  9.56s/it]"
     ]
    },
    {
     "name": "stdout",
     "output_type": "stream",
     "text": [
      "Noteartist\n",
      "page 0\n",
      "Number of ratings:  125484\n",
      "<Response [200]>\n",
      "SALIENDO: not next or Rating0\n"
     ]
    },
    {
     "name": "stderr",
     "output_type": "stream",
     "text": [
      "\n",
      " 77%|███████████████████████████████████████████████████████████▋                  | 349/456 [1:18:38<12:48,  7.18s/it]"
     ]
    },
    {
     "name": "stdout",
     "output_type": "stream",
     "text": [
      "greenoaks\n",
      "page 0\n",
      "Number of ratings:  125484\n",
      "<Response [401]>\n",
      "No hay realases en la collection del user\n"
     ]
    },
    {
     "name": "stderr",
     "output_type": "stream",
     "text": [
      "\n",
      " 77%|███████████████████████████████████████████████████████████▊                  | 350/456 [1:18:39<09:43,  5.51s/it]"
     ]
    },
    {
     "name": "stdout",
     "output_type": "stream",
     "text": [
      "Greyhound\n",
      "page 0\n",
      "Number of ratings:  125484\n",
      "<Response [200]>\n",
      "page 1\n",
      "Number of ratings:  125584\n",
      "<Response [200]>\n",
      "page 2\n",
      "Number of ratings:  125684\n",
      "<Response [200]>\n",
      "page 3\n",
      "Number of ratings:  125784\n",
      "<Response [200]>\n",
      "page 4\n",
      "Number of ratings:  125884\n",
      "<Response [200]>\n",
      "page 5\n",
      "Number of ratings:  125984\n",
      "<Response [200]>\n",
      "page 6\n",
      "Number of ratings:  126084\n",
      "<Response [200]>\n",
      "page 7\n",
      "Number of ratings:  126184\n",
      "<Response [200]>\n",
      "page 8\n",
      "Number of ratings:  126284\n",
      "<Response [200]>\n",
      "page 9\n",
      "Number of ratings:  126384\n",
      "<Response [200]>\n",
      "page 10\n",
      "Number of ratings:  126484\n",
      "<Response [200]>\n",
      "SALIENDO = RATINGS0\n",
      "SALIENDO: not next or Rating0\n"
     ]
    },
    {
     "name": "stderr",
     "output_type": "stream",
     "text": [
      "\n",
      " 77%|████████████████████████████████████████████████████████████                  | 351/456 [1:19:11<23:19, 13.33s/it]"
     ]
    },
    {
     "name": "stdout",
     "output_type": "stream",
     "text": [
      "tompilla\n",
      "page 0\n",
      "Number of ratings:  126515\n",
      "<Response [200]>\n",
      "SALIENDO = RATINGS0\n",
      "SALIENDO: not next or Rating0\n"
     ]
    },
    {
     "name": "stderr",
     "output_type": "stream",
     "text": [
      "\n",
      " 77%|████████████████████████████████████████████████████████████▏                 | 352/456 [1:19:14<17:53, 10.32s/it]"
     ]
    },
    {
     "name": "stdout",
     "output_type": "stream",
     "text": [
      "RTW\n",
      "page 0\n",
      "Number of ratings:  126599\n",
      "<Response [401]>\n",
      "No hay realases en la collection del user\n"
     ]
    },
    {
     "name": "stderr",
     "output_type": "stream",
     "text": [
      "\n",
      " 77%|████████████████████████████████████████████████████████████▍                 | 353/456 [1:19:16<13:14,  7.72s/it]"
     ]
    },
    {
     "name": "stdout",
     "output_type": "stream",
     "text": [
      "cratest-hits\n",
      "page 0\n",
      "Number of ratings:  126599\n",
      "<Response [401]>\n",
      "No hay realases en la collection del user\n"
     ]
    },
    {
     "name": "stderr",
     "output_type": "stream",
     "text": [
      "\n",
      " 78%|████████████████████████████████████████████████████████████▌                 | 354/456 [1:19:18<10:00,  5.89s/it]"
     ]
    },
    {
     "name": "stdout",
     "output_type": "stream",
     "text": [
      "Disques-Poney\n",
      "page 0\n",
      "Number of ratings:  126599\n",
      "<Response [200]>\n",
      "SALIENDO = RATINGS0\n",
      "SALIENDO: not next or Rating0\n"
     ]
    },
    {
     "name": "stderr",
     "output_type": "stream",
     "text": [
      "\n",
      " 78%|████████████████████████████████████████████████████████████▋                 | 355/456 [1:19:19<07:48,  4.63s/it]"
     ]
    },
    {
     "name": "stdout",
     "output_type": "stream",
     "text": [
      "ggghhh\n",
      "page 0\n",
      "Number of ratings:  126604\n",
      "<Response [200]>\n",
      "SALIENDO: not next or Rating0\n"
     ]
    },
    {
     "name": "stderr",
     "output_type": "stream",
     "text": [
      "\n",
      " 78%|████████████████████████████████████████████████████████████▉                 | 356/456 [1:19:21<06:14,  3.75s/it]"
     ]
    },
    {
     "name": "stdout",
     "output_type": "stream",
     "text": [
      "gboe\n",
      "page 0\n",
      "Number of ratings:  126604\n",
      "<Response [401]>\n",
      "No hay realases en la collection del user\n"
     ]
    },
    {
     "name": "stderr",
     "output_type": "stream",
     "text": [
      "\n",
      " 78%|█████████████████████████████████████████████████████████████                 | 357/456 [1:19:23<05:08,  3.11s/it]"
     ]
    },
    {
     "name": "stdout",
     "output_type": "stream",
     "text": [
      "JudoJoe\n",
      "page 0\n",
      "Number of ratings:  126604\n",
      "<Response [200]>\n",
      "SALIENDO = RATINGS0\n",
      "SALIENDO: not next or Rating0\n"
     ]
    },
    {
     "name": "stderr",
     "output_type": "stream",
     "text": [
      "\n",
      " 79%|█████████████████████████████████████████████████████████████▏                | 358/456 [1:19:25<04:33,  2.79s/it]"
     ]
    },
    {
     "name": "stdout",
     "output_type": "stream",
     "text": [
      "Scherer8\n",
      "page 0\n",
      "Number of ratings:  126605\n",
      "<Response [200]>\n",
      "SALIENDO = RATINGS0\n",
      "SALIENDO: not next or Rating0\n"
     ]
    },
    {
     "name": "stderr",
     "output_type": "stream",
     "text": [
      "\n",
      " 79%|█████████████████████████████████████████████████████████████▍                | 359/456 [1:19:28<04:57,  3.07s/it]"
     ]
    },
    {
     "name": "stdout",
     "output_type": "stream",
     "text": [
      "hardrockanimal\n",
      "page 0\n",
      "Number of ratings:  126617\n",
      "<Response [200]>\n",
      "SALIENDO: not next or Rating0\n"
     ]
    },
    {
     "name": "stderr",
     "output_type": "stream",
     "text": [
      "\n",
      " 79%|█████████████████████████████████████████████████████████████▌                | 360/456 [1:19:30<04:13,  2.64s/it]"
     ]
    },
    {
     "name": "stdout",
     "output_type": "stream",
     "text": [
      "sound.and.vision\n",
      "page 0\n",
      "Number of ratings:  126617\n",
      "<Response [200]>\n",
      "page 1\n",
      "Number of ratings:  126717\n",
      "<Response [200]>\n",
      "page 2\n",
      "Number of ratings:  126817\n",
      "<Response [200]>\n",
      "page 3\n",
      "Number of ratings:  126917\n",
      "<Response [200]>\n",
      "page 4\n",
      "Number of ratings:  127017\n",
      "<Response [200]>\n",
      "page 5\n",
      "Number of ratings:  127117\n",
      "<Response [200]>\n",
      "page 6\n",
      "Number of ratings:  127217\n",
      "<Response [200]>\n",
      "page 7\n",
      "Number of ratings:  127317\n",
      "<Response [200]>\n",
      "page 8\n",
      "Number of ratings:  127417\n",
      "<Response [200]>\n",
      "SALIENDO = RATINGS0\n",
      "SALIENDO: not next or Rating0\n"
     ]
    },
    {
     "name": "stderr",
     "output_type": "stream",
     "text": [
      "\n",
      " 79%|█████████████████████████████████████████████████████████████▊                | 361/456 [1:19:59<16:48, 10.61s/it]"
     ]
    },
    {
     "name": "stdout",
     "output_type": "stream",
     "text": [
      "Dawgystyle\n",
      "page 0\n",
      "Number of ratings:  127456\n",
      "<Response [401]>\n",
      "No hay realases en la collection del user\n"
     ]
    },
    {
     "name": "stderr",
     "output_type": "stream",
     "text": [
      "\n",
      " 79%|█████████████████████████████████████████████████████████████▉                | 362/456 [1:20:01<12:24,  7.92s/it]"
     ]
    },
    {
     "name": "stdout",
     "output_type": "stream",
     "text": [
      "hype1_nl\n",
      "page 0\n",
      "Number of ratings:  127456\n",
      "<Response [401]>\n",
      "No hay realases en la collection del user\n"
     ]
    },
    {
     "name": "stderr",
     "output_type": "stream",
     "text": [
      "\n",
      " 80%|██████████████████████████████████████████████████████████████                | 363/456 [1:20:02<09:21,  6.03s/it]"
     ]
    },
    {
     "name": "stdout",
     "output_type": "stream",
     "text": [
      "djcassis\n",
      "page 0\n",
      "Number of ratings:  127456\n",
      "<Response [401]>\n",
      "No hay realases en la collection del user\n"
     ]
    },
    {
     "name": "stderr",
     "output_type": "stream",
     "text": [
      "\n",
      " 80%|██████████████████████████████████████████████████████████████▎               | 364/456 [1:20:04<07:15,  4.73s/it]"
     ]
    },
    {
     "name": "stdout",
     "output_type": "stream",
     "text": [
      "LaGaletteNancy\n",
      "page 0\n",
      "Number of ratings:  127456\n",
      "<Response [200]>\n",
      "SALIENDO = RATINGS0\n",
      "SALIENDO: not next or Rating0\n"
     ]
    },
    {
     "name": "stderr",
     "output_type": "stream",
     "text": [
      "\n",
      " 80%|██████████████████████████████████████████████████████████████▍               | 365/456 [1:20:08<06:41,  4.41s/it]"
     ]
    },
    {
     "name": "stdout",
     "output_type": "stream",
     "text": [
      "BlueBirdie\n",
      "page 0\n",
      "Number of ratings:  127467\n",
      "<Response [200]>\n",
      "SALIENDO = RATINGS0\n",
      "SALIENDO: not next or Rating0\n"
     ]
    },
    {
     "name": "stderr",
     "output_type": "stream",
     "text": [
      "\n",
      " 80%|██████████████████████████████████████████████████████████████▌               | 366/456 [1:20:12<06:17,  4.20s/it]"
     ]
    },
    {
     "name": "stdout",
     "output_type": "stream",
     "text": [
      "dlj2221p\n",
      "page 0\n",
      "Number of ratings:  127467\n",
      "<Response [401]>\n",
      "No hay realases en la collection del user\n"
     ]
    },
    {
     "name": "stderr",
     "output_type": "stream",
     "text": [
      "\n",
      " 80%|██████████████████████████████████████████████████████████████▊               | 367/456 [1:20:13<05:06,  3.44s/it]"
     ]
    },
    {
     "name": "stdout",
     "output_type": "stream",
     "text": [
      "freakzen\n",
      "page 0\n",
      "Number of ratings:  127467\n",
      "<Response [200]>\n",
      "SALIENDO = RATINGS0\n",
      "SALIENDO: not next or Rating0\n"
     ]
    },
    {
     "name": "stderr",
     "output_type": "stream",
     "text": [
      "\n",
      " 81%|██████████████████████████████████████████████████████████████▉               | 368/456 [1:20:17<05:00,  3.41s/it]"
     ]
    },
    {
     "name": "stdout",
     "output_type": "stream",
     "text": [
      "xjoxjox\n",
      "page 0\n",
      "Number of ratings:  127509\n",
      "<Response [200]>\n",
      "SALIENDO = RATINGS0\n",
      "SALIENDO: not next or Rating0\n"
     ]
    },
    {
     "name": "stderr",
     "output_type": "stream",
     "text": [
      "\n",
      " 81%|███████████████████████████████████████████████████████████████               | 369/456 [1:20:21<05:22,  3.71s/it]"
     ]
    },
    {
     "name": "stdout",
     "output_type": "stream",
     "text": [
      "adscbpereira\n",
      "page 0\n",
      "Number of ratings:  127510\n",
      "<Response [200]>\n",
      "SALIENDO = RATINGS0\n",
      "SALIENDO: not next or Rating0\n"
     ]
    },
    {
     "name": "stderr",
     "output_type": "stream",
     "text": [
      "\n",
      " 81%|███████████████████████████████████████████████████████████████▎              | 370/456 [1:20:24<05:09,  3.60s/it]"
     ]
    },
    {
     "name": "stdout",
     "output_type": "stream",
     "text": [
      "slexoder68\n",
      "page 0\n",
      "Number of ratings:  127519\n",
      "<Response [200]>\n",
      "page 1\n",
      "Number of ratings:  127619\n",
      "<Response [200]>\n",
      "page 2\n",
      "Number of ratings:  127719\n",
      "<Response [200]>\n",
      "page 3\n",
      "Number of ratings:  127819\n",
      "<Response [200]>\n",
      "page 4\n",
      "Number of ratings:  127919\n",
      "<Response [200]>\n",
      "SALIENDO = RATINGS0\n",
      "SALIENDO: not next or Rating0\n"
     ]
    },
    {
     "name": "stderr",
     "output_type": "stream",
     "text": [
      "\n",
      " 81%|███████████████████████████████████████████████████████████████▍              | 371/456 [1:20:40<10:15,  7.24s/it]"
     ]
    },
    {
     "name": "stdout",
     "output_type": "stream",
     "text": [
      "jpmetal\n",
      "page 0\n",
      "Number of ratings:  127921\n",
      "<Response [200]>\n",
      "SALIENDO = RATINGS0\n",
      "SALIENDO: not next or Rating0\n"
     ]
    },
    {
     "name": "stderr",
     "output_type": "stream",
     "text": [
      "\n",
      " 82%|███████████████████████████████████████████████████████████████▋              | 372/456 [1:20:42<07:48,  5.57s/it]"
     ]
    },
    {
     "name": "stdout",
     "output_type": "stream",
     "text": [
      "haremscarem\n",
      "page 0\n",
      "Number of ratings:  127921\n",
      "<Response [200]>\n",
      "page 1\n",
      "Number of ratings:  128021\n",
      "<Response [200]>\n",
      "page 2\n",
      "Number of ratings:  128121\n",
      "<Response [200]>\n",
      "page 3\n",
      "Number of ratings:  128221\n",
      "<Response [200]>\n",
      "page 4\n",
      "Number of ratings:  128321\n",
      "<Response [200]>\n",
      "page 5\n",
      "Number of ratings:  128421\n",
      "<Response [200]>\n",
      "page 6\n",
      "Number of ratings:  128521\n",
      "<Response [200]>\n",
      "page 7\n",
      "Number of ratings:  128621\n",
      "<Response [200]>\n",
      "page 8\n",
      "Number of ratings:  128721\n",
      "<Response [200]>\n",
      "page 9\n",
      "Number of ratings:  128821\n",
      "<Response [200]>\n",
      "page 10\n",
      "Number of ratings:  128921\n",
      "<Response [200]>\n",
      "page 11\n",
      "Number of ratings:  129021\n",
      "<Response [200]>\n",
      "page 12\n",
      "Number of ratings:  129121\n",
      "<Response [200]>\n",
      "page 13\n",
      "Number of ratings:  129221\n",
      "<Response [200]>\n",
      "page 14\n",
      "Number of ratings:  129321\n",
      "<Response [200]>\n",
      "page 15\n",
      "Number of ratings:  129421\n",
      "<Response [200]>\n",
      "SALIENDO = RATINGS0\n",
      "SALIENDO: not next or Rating0\n"
     ]
    },
    {
     "name": "stderr",
     "output_type": "stream",
     "text": [
      "\n",
      " 82%|███████████████████████████████████████████████████████████████▊              | 373/456 [1:21:35<27:36, 19.95s/it]"
     ]
    },
    {
     "name": "stdout",
     "output_type": "stream",
     "text": [
      "elCartucho\n",
      "page 0\n",
      "Number of ratings:  129495\n",
      "<Response [200]>\n",
      "SALIENDO = RATINGS0\n",
      "SALIENDO: not next or Rating0\n"
     ]
    },
    {
     "name": "stderr",
     "output_type": "stream",
     "text": [
      "\n",
      " 82%|███████████████████████████████████████████████████████████████▉              | 374/456 [1:21:39<20:38, 15.11s/it]"
     ]
    },
    {
     "name": "stdout",
     "output_type": "stream",
     "text": [
      "strooikaas\n",
      "page 0\n",
      "Number of ratings:  129501\n",
      "<Response [200]>\n",
      "SALIENDO = RATINGS0\n",
      "SALIENDO: not next or Rating0\n"
     ]
    },
    {
     "name": "stderr",
     "output_type": "stream",
     "text": [
      "\n",
      " 82%|████████████████████████████████████████████████████████████████▏             | 375/456 [1:21:44<16:19, 12.09s/it]"
     ]
    },
    {
     "name": "stdout",
     "output_type": "stream",
     "text": [
      "bydrum\n",
      "page 0\n",
      "Number of ratings:  129525\n",
      "<Response [200]>\n",
      "page 1\n",
      "Number of ratings:  129625\n",
      "<Response [200]>\n",
      "page 2\n",
      "Number of ratings:  129725\n",
      "<Response [200]>\n",
      "SALIENDO = RATINGS0\n",
      "SALIENDO: not next or Rating0\n"
     ]
    },
    {
     "name": "stderr",
     "output_type": "stream",
     "text": [
      "\n",
      " 82%|████████████████████████████████████████████████████████████████▎             | 376/456 [1:21:54<15:21, 11.52s/it]"
     ]
    },
    {
     "name": "stdout",
     "output_type": "stream",
     "text": [
      "venetian-guy\n",
      "page 0\n",
      "Number of ratings:  129801\n",
      "<Response [200]>\n",
      "SALIENDO = RATINGS0\n",
      "SALIENDO: not next or Rating0\n"
     ]
    },
    {
     "name": "stderr",
     "output_type": "stream",
     "text": [
      "\n",
      " 83%|████████████████████████████████████████████████████████████████▍             | 377/456 [1:21:58<12:09,  9.23s/it]"
     ]
    },
    {
     "name": "stdout",
     "output_type": "stream",
     "text": [
      "Rising\n",
      "page 0\n",
      "Number of ratings:  129814\n",
      "<Response [200]>\n",
      "SALIENDO = RATINGS0\n",
      "SALIENDO: not next or Rating0\n"
     ]
    },
    {
     "name": "stderr",
     "output_type": "stream",
     "text": [
      "\n",
      " 83%|████████████████████████████████████████████████████████████████▋             | 378/456 [1:22:02<09:44,  7.49s/it]"
     ]
    },
    {
     "name": "stdout",
     "output_type": "stream",
     "text": [
      "JCH1966\n",
      "page 0\n",
      "Number of ratings:  129814\n",
      "<Response [200]>\n",
      "SALIENDO = RATINGS0\n",
      "SALIENDO: not next or Rating0\n"
     ]
    },
    {
     "name": "stderr",
     "output_type": "stream",
     "text": [
      "\n",
      " 83%|████████████████████████████████████████████████████████████████▊             | 379/456 [1:22:05<08:08,  6.35s/it]"
     ]
    },
    {
     "name": "stdout",
     "output_type": "stream",
     "text": [
      "sdwilson\n",
      "page 0\n",
      "Number of ratings:  129820\n",
      "<Response [200]>\n",
      "page 1\n",
      "Number of ratings:  129920\n",
      "<Response [200]>\n",
      "page 2\n",
      "Number of ratings:  130020\n",
      "<Response [200]>\n",
      "page 3\n",
      "Number of ratings:  130120\n",
      "<Response [200]>\n",
      "page 4\n",
      "Number of ratings:  130220\n",
      "<Response [200]>\n",
      "page 5\n",
      "Number of ratings:  130320\n",
      "<Response [200]>\n",
      "page 6\n",
      "Number of ratings:  130420\n",
      "<Response [200]>\n",
      "page 7\n",
      "Number of ratings:  130520\n",
      "<Response [200]>\n",
      "page 8\n",
      "Number of ratings:  130620\n",
      "<Response [200]>\n",
      "page 9\n",
      "Number of ratings:  130720\n",
      "<Response [200]>\n",
      "page 10\n",
      "Number of ratings:  130820\n",
      "<Response [200]>\n",
      "page 11\n",
      "Number of ratings:  130920\n",
      "<Response [200]>\n",
      "page 12\n",
      "Number of ratings:  131020\n",
      "<Response [200]>\n",
      "page 13\n",
      "Number of ratings:  131120\n",
      "<Response [200]>\n",
      "page 14\n",
      "Number of ratings:  131220\n",
      "<Response [200]>\n",
      "page 15\n",
      "Number of ratings:  131320\n",
      "<Response [200]>\n",
      "page 16\n",
      "Number of ratings:  131420\n",
      "<Response [200]>\n",
      "page 17\n",
      "Number of ratings:  131520\n",
      "<Response [200]>\n",
      "page 18\n",
      "Number of ratings:  131620\n",
      "<Response [200]>\n",
      "page 19\n",
      "Number of ratings:  131720\n",
      "<Response [200]>\n",
      "page 20\n",
      "Number of ratings:  131820\n",
      "<Response [200]>\n",
      "page 21\n",
      "Number of ratings:  131920\n",
      "<Response [200]>\n",
      "page 22\n",
      "Number of ratings:  132020\n",
      "<Response [200]>\n",
      "page 23\n",
      "Number of ratings:  132120\n",
      "<Response [200]>\n",
      "page 24\n",
      "Number of ratings:  132220\n",
      "<Response [200]>\n",
      "page 25\n",
      "Number of ratings:  132320\n",
      "<Response [200]>\n",
      "page 26\n",
      "Number of ratings:  132420\n",
      "<Response [200]>\n",
      "page 27\n",
      "Number of ratings:  132520\n",
      "<Response [200]>\n",
      "page 28\n",
      "Number of ratings:  132620\n",
      "<Response [200]>\n",
      "page 29\n",
      "Number of ratings:  132720\n",
      "<Response [200]>\n",
      "page 30\n",
      "Number of ratings:  132820\n",
      "<Response [200]>\n",
      "page 31\n",
      "Number of ratings:  132920\n",
      "<Response [200]>\n",
      "page 32\n",
      "Number of ratings:  133020\n",
      "<Response [200]>\n",
      "page 33\n",
      "Number of ratings:  133120\n",
      "<Response [200]>\n",
      "page 34\n",
      "Number of ratings:  133220\n",
      "<Response [200]>\n",
      "page 35\n",
      "Number of ratings:  133320\n",
      "<Response [200]>\n",
      "page 36\n",
      "Number of ratings:  133420\n",
      "<Response [200]>\n",
      "page 37\n",
      "Number of ratings:  133520\n",
      "<Response [200]>\n",
      "page 38\n",
      "Number of ratings:  133620\n",
      "<Response [200]>\n",
      "page 39\n",
      "Number of ratings:  133720\n",
      "<Response [200]>\n",
      "page 40\n",
      "Number of ratings:  133820\n",
      "<Response [200]>\n",
      "page 41\n",
      "Number of ratings:  133920\n",
      "<Response [200]>\n",
      "SALIENDO = RATINGS0\n",
      "SALIENDO: not next or Rating0\n"
     ]
    },
    {
     "name": "stderr",
     "output_type": "stream",
     "text": [
      "\n",
      " 83%|███████████████████████████████████████████████████████████████▎            | 380/456 [1:24:36<1:03:00, 49.75s/it]"
     ]
    },
    {
     "name": "stdout",
     "output_type": "stream",
     "text": [
      "sun-s\n",
      "page 0\n",
      "Number of ratings:  133967\n",
      "<Response [200]>\n",
      "SALIENDO = RATINGS0\n",
      "SALIENDO: not next or Rating0\n"
     ]
    },
    {
     "name": "stderr",
     "output_type": "stream",
     "text": [
      "\n",
      " 84%|█████████████████████████████████████████████████████████████████▏            | 381/456 [1:24:40<44:51, 35.89s/it]"
     ]
    },
    {
     "name": "stdout",
     "output_type": "stream",
     "text": [
      "Violent-Power\n",
      "page 0\n",
      "Number of ratings:  133987\n",
      "<Response [200]>\n",
      "SALIENDO = RATINGS0\n",
      "SALIENDO: not next or Rating0\n"
     ]
    },
    {
     "name": "stderr",
     "output_type": "stream",
     "text": [
      "\n",
      " 84%|█████████████████████████████████████████████████████████████████▎            | 382/456 [1:24:44<32:29, 26.34s/it]"
     ]
    },
    {
     "name": "stdout",
     "output_type": "stream",
     "text": [
      "prprp\n",
      "page 0\n",
      "Number of ratings:  134022\n",
      "<Response [200]>\n",
      "SALIENDO = RATINGS0\n",
      "SALIENDO: not next or Rating0\n"
     ]
    },
    {
     "name": "stderr",
     "output_type": "stream",
     "text": [
      "\n",
      " 84%|█████████████████████████████████████████████████████████████████▌            | 383/456 [1:24:47<23:44, 19.51s/it]"
     ]
    },
    {
     "name": "stdout",
     "output_type": "stream",
     "text": [
      "bertielego\n",
      "page 0\n",
      "Number of ratings:  134024\n",
      "<Response [200]>\n",
      "page 1\n",
      "Number of ratings:  134124\n",
      "<Response [200]>\n",
      "page 2\n",
      "Number of ratings:  134224\n",
      "<Response [200]>\n",
      "page 3\n",
      "Number of ratings:  134324\n",
      "<Response [200]>\n",
      "page 4\n",
      "Number of ratings:  134424\n",
      "<Response [200]>\n",
      "page 5\n",
      "Number of ratings:  134524\n",
      "<Response [200]>\n",
      "page 6\n",
      "Number of ratings:  134624\n",
      "<Response [200]>\n",
      "page 7\n",
      "Number of ratings:  134724\n",
      "<Response [200]>\n",
      "page 8\n",
      "Number of ratings:  134824\n",
      "<Response [200]>\n",
      "page 9\n",
      "Number of ratings:  134924\n",
      "<Response [200]>\n",
      "page 10\n",
      "Number of ratings:  135024\n",
      "<Response [200]>\n",
      "page 11\n",
      "Number of ratings:  135124\n",
      "<Response [200]>\n",
      "page 12\n",
      "Number of ratings:  135224\n",
      "<Response [200]>\n",
      "page 13\n",
      "Number of ratings:  135324\n",
      "<Response [200]>\n",
      "page 14\n",
      "Number of ratings:  135424\n",
      "<Response [200]>\n",
      "page 15\n",
      "Number of ratings:  135524\n",
      "<Response [200]>\n",
      "page 16\n",
      "Number of ratings:  135624\n",
      "<Response [200]>\n",
      "page 17\n",
      "Number of ratings:  135724\n",
      "<Response [200]>\n",
      "page 18\n",
      "Number of ratings:  135824\n",
      "<Response [200]>\n",
      "page 19\n",
      "Number of ratings:  135924\n",
      "<Response [200]>\n",
      "page 20\n",
      "Number of ratings:  136024\n",
      "<Response [200]>\n",
      "page 21\n",
      "Number of ratings:  136124\n",
      "<Response [200]>\n",
      "page 22\n",
      "Number of ratings:  136224\n",
      "<Response [200]>\n",
      "page 23\n",
      "Number of ratings:  136324\n",
      "<Response [200]>\n",
      "page 24\n",
      "Number of ratings:  136424\n",
      "<Response [200]>\n",
      "page 25\n",
      "Number of ratings:  136524\n",
      "<Response [200]>\n",
      "page 26\n",
      "Number of ratings:  136624\n",
      "<Response [200]>\n",
      "page 27\n",
      "Number of ratings:  136724\n",
      "<Response [200]>\n",
      "page 28\n",
      "Number of ratings:  136824\n",
      "<Response [200]>\n",
      "page 29\n",
      "Number of ratings:  136924\n",
      "<Response [200]>\n",
      "page 30\n",
      "Number of ratings:  137024\n",
      "<Response [200]>\n",
      "page 31\n",
      "Number of ratings:  137124\n",
      "<Response [200]>\n",
      "page 32\n",
      "Number of ratings:  137224\n",
      "<Response [200]>\n",
      "page 33\n",
      "Number of ratings:  137324\n",
      "<Response [200]>\n",
      "page 34\n",
      "Number of ratings:  137424\n",
      "<Response [200]>\n",
      "page 35\n",
      "Number of ratings:  137524\n",
      "<Response [200]>\n",
      "page 36\n",
      "Number of ratings:  137624\n",
      "<Response [200]>\n",
      "page 37\n",
      "Number of ratings:  137724\n",
      "<Response [200]>\n",
      "page 38\n",
      "Number of ratings:  137824\n",
      "<Response [200]>\n",
      "page 39\n",
      "Number of ratings:  137924\n",
      "<Response [200]>\n",
      "page 40\n",
      "Number of ratings:  138024\n",
      "<Response [200]>\n",
      "page 41\n",
      "Number of ratings:  138124\n",
      "<Response [200]>\n",
      "page 42\n",
      "Number of ratings:  138224\n",
      "<Response [200]>\n",
      "page 43\n",
      "Number of ratings:  138324\n",
      "<Response [200]>\n",
      "page 44\n",
      "Number of ratings:  138424\n",
      "<Response [200]>\n",
      "page 45\n",
      "Number of ratings:  138524\n",
      "<Response [200]>\n",
      "page 46\n",
      "Number of ratings:  138624\n",
      "<Response [200]>\n",
      "page 47\n",
      "Number of ratings:  138724\n",
      "<Response [200]>\n",
      "page 48\n",
      "Number of ratings:  138824\n",
      "<Response [200]>\n",
      "page 49\n",
      "Number of ratings:  138924\n",
      "<Response [200]>\n",
      "page 50\n",
      "Number of ratings:  139024\n",
      "<Response [200]>\n",
      "page 51\n",
      "Number of ratings:  139124\n",
      "<Response [200]>\n",
      "page 52\n",
      "Number of ratings:  139224\n",
      "<Response [200]>\n",
      "page 53\n",
      "Number of ratings:  139324\n",
      "<Response [200]>\n",
      "page 54\n",
      "Number of ratings:  139424\n",
      "<Response [200]>\n",
      "page 55\n",
      "Number of ratings:  139524\n",
      "<Response [200]>\n",
      "page 56\n",
      "Number of ratings:  139624\n",
      "<Response [200]>\n",
      "page 57\n",
      "Number of ratings:  139724\n",
      "<Response [200]>\n",
      "page 58\n",
      "Number of ratings:  139824\n",
      "<Response [200]>\n",
      "page 59\n",
      "Number of ratings:  139924\n",
      "<Response [200]>\n",
      "page 60\n",
      "Number of ratings:  140024\n",
      "<Response [200]>\n",
      "page 61\n",
      "Number of ratings:  140124\n",
      "<Response [200]>\n",
      "page 62\n",
      "Number of ratings:  140224\n",
      "<Response [200]>\n",
      "page 63\n",
      "Number of ratings:  140324\n",
      "<Response [200]>\n",
      "page 64\n",
      "Number of ratings:  140424\n",
      "<Response [200]>\n",
      "page 65\n",
      "Number of ratings:  140524\n",
      "<Response [200]>\n",
      "page 66\n",
      "Number of ratings:  140624\n",
      "<Response [200]>\n",
      "page 67\n",
      "Number of ratings:  140724\n",
      "<Response [200]>\n",
      "page 68\n",
      "Number of ratings:  140824\n",
      "<Response [200]>\n",
      "page 69\n",
      "Number of ratings:  140924\n",
      "<Response [200]>\n",
      "page 70\n",
      "Number of ratings:  141024\n",
      "<Response [200]>\n",
      "page 71\n",
      "Number of ratings:  141124\n",
      "<Response [200]>\n",
      "page 72\n",
      "Number of ratings:  141224\n",
      "<Response [200]>\n",
      "page 73\n",
      "Number of ratings:  141324\n",
      "<Response [200]>\n",
      "page 74\n",
      "Number of ratings:  141424\n",
      "<Response [200]>\n",
      "page 75\n",
      "Number of ratings:  141524\n",
      "<Response [200]>\n",
      "page 76\n",
      "Number of ratings:  141624\n",
      "<Response [200]>\n",
      "page 77\n",
      "Number of ratings:  141724\n",
      "<Response [200]>\n",
      "page 78\n",
      "Number of ratings:  141824\n",
      "<Response [200]>\n",
      "page 79\n",
      "Number of ratings:  141924\n",
      "<Response [200]>\n",
      "page 80\n",
      "Number of ratings:  142024\n",
      "<Response [200]>\n",
      "page 81\n",
      "Number of ratings:  142124\n",
      "<Response [200]>\n",
      "page 82\n",
      "Number of ratings:  142224\n",
      "<Response [200]>\n",
      "page 83\n",
      "Number of ratings:  142324\n",
      "<Response [200]>\n",
      "page 84\n",
      "Number of ratings:  142424\n",
      "<Response [200]>\n",
      "page 85\n",
      "Number of ratings:  142524\n",
      "<Response [200]>\n",
      "page 86\n",
      "Number of ratings:  142624\n",
      "<Response [200]>\n",
      "page 87\n",
      "Number of ratings:  142724\n",
      "<Response [200]>\n",
      "page 88\n",
      "Number of ratings:  142824\n",
      "<Response [200]>\n",
      "page 89\n",
      "Number of ratings:  142924\n",
      "<Response [200]>\n",
      "SALIENDO = RATINGS0\n",
      "SALIENDO: not next or Rating0\n"
     ]
    },
    {
     "name": "stderr",
     "output_type": "stream",
     "text": [
      "\n",
      " 84%|███████████████████████████████████████████████████████████████▏           | 384/456 [1:30:14<2:13:56, 111.62s/it]"
     ]
    },
    {
     "name": "stdout",
     "output_type": "stream",
     "text": [
      "marco.leistner1\n",
      "page 0\n",
      "Number of ratings:  142988\n",
      "<Response [200]>\n",
      "SALIENDO: not next or Rating0\n"
     ]
    },
    {
     "name": "stderr",
     "output_type": "stream",
     "text": [
      "\n",
      " 84%|████████████████████████████████████████████████████████████████▏           | 385/456 [1:30:16<1:33:06, 78.68s/it]"
     ]
    },
    {
     "name": "stdout",
     "output_type": "stream",
     "text": [
      "mossinterest\n",
      "page 0\n",
      "Number of ratings:  142997\n",
      "<Response [401]>\n",
      "No hay realases en la collection del user\n"
     ]
    },
    {
     "name": "stderr",
     "output_type": "stream",
     "text": [
      "\n",
      " 85%|████████████████████████████████████████████████████████████████▎           | 386/456 [1:30:18<1:04:57, 55.67s/it]"
     ]
    },
    {
     "name": "stdout",
     "output_type": "stream",
     "text": [
      "FrothNinja\n",
      "page 0\n",
      "Number of ratings:  142997\n",
      "<Response [200]>\n",
      "SALIENDO = RATINGS0\n",
      "SALIENDO: not next or Rating0\n"
     ]
    },
    {
     "name": "stderr",
     "output_type": "stream",
     "text": [
      "\n",
      " 85%|██████████████████████████████████████████████████████████████████▏           | 387/456 [1:30:22<46:05, 40.07s/it]"
     ]
    },
    {
     "name": "stdout",
     "output_type": "stream",
     "text": [
      "Soudijaeaek\n",
      "page 0\n",
      "Number of ratings:  143037\n",
      "<Response [200]>\n",
      "SALIENDO = RATINGS0\n",
      "SALIENDO: not next or Rating0\n"
     ]
    },
    {
     "name": "stderr",
     "output_type": "stream",
     "text": [
      "\n",
      " 85%|██████████████████████████████████████████████████████████████████▎           | 388/456 [1:30:25<32:55, 29.06s/it]"
     ]
    },
    {
     "name": "stdout",
     "output_type": "stream",
     "text": [
      "Perplexer-\n",
      "page 0\n",
      "Number of ratings:  143037\n",
      "<Response [200]>\n",
      "SALIENDO = RATINGS0\n",
      "SALIENDO: not next or Rating0\n"
     ]
    },
    {
     "name": "stderr",
     "output_type": "stream",
     "text": [
      "\n",
      " 85%|██████████████████████████████████████████████████████████████████▌           | 389/456 [1:30:30<24:22, 21.83s/it]"
     ]
    },
    {
     "name": "stdout",
     "output_type": "stream",
     "text": [
      "Poke_Mode\n",
      "page 0\n",
      "Number of ratings:  143038\n",
      "<Response [200]>\n",
      "SALIENDO: not next or Rating0\n"
     ]
    },
    {
     "name": "stderr",
     "output_type": "stream",
     "text": [
      "\n",
      " 86%|██████████████████████████████████████████████████████████████████▋           | 390/456 [1:30:32<17:21, 15.79s/it]"
     ]
    },
    {
     "name": "stdout",
     "output_type": "stream",
     "text": [
      "mickov\n",
      "page 0\n",
      "Number of ratings:  143038\n",
      "<Response [401]>\n",
      "No hay realases en la collection del user\n"
     ]
    },
    {
     "name": "stderr",
     "output_type": "stream",
     "text": [
      "\n",
      " 86%|██████████████████████████████████████████████████████████████████▉           | 391/456 [1:30:33<12:30, 11.54s/it]"
     ]
    },
    {
     "name": "stdout",
     "output_type": "stream",
     "text": [
      "r.courb\n",
      "page 0\n",
      "Number of ratings:  143038\n",
      "<Response [200]>\n",
      "page 1\n",
      "Number of ratings:  143138\n",
      "<Response [200]>\n",
      "page 2\n",
      "Number of ratings:  143238\n",
      "<Response [200]>\n",
      "page 3\n",
      "Number of ratings:  143338\n",
      "<Response [200]>\n",
      "page 4\n",
      "Number of ratings:  143438\n",
      "<Response [200]>\n",
      "page 5\n",
      "Number of ratings:  143538\n",
      "<Response [200]>\n",
      "page 6\n",
      "Number of ratings:  143638\n",
      "<Response [200]>\n",
      "SALIENDO = RATINGS0\n",
      "SALIENDO: not next or Rating0\n"
     ]
    },
    {
     "name": "stderr",
     "output_type": "stream",
     "text": [
      "\n",
      " 86%|███████████████████████████████████████████████████████████████████           | 392/456 [1:31:04<18:36, 17.44s/it]"
     ]
    },
    {
     "name": "stdout",
     "output_type": "stream",
     "text": [
      "Severus08\n",
      "page 0\n",
      "Number of ratings:  143728\n",
      "<Response [200]>\n",
      "page 1\n",
      "Number of ratings:  143828\n",
      "<Response [200]>\n",
      "page 2\n",
      "Number of ratings:  143928\n",
      "<Response [200]>\n",
      "page 3\n",
      "Number of ratings:  144028\n",
      "<Response [200]>\n",
      "page 4\n",
      "Number of ratings:  144128\n",
      "<Response [200]>\n",
      "page 5\n",
      "Number of ratings:  144228\n",
      "<Response [200]>\n",
      "page 6\n",
      "Number of ratings:  144328\n",
      "<Response [200]>\n",
      "page 7\n",
      "Number of ratings:  144428\n",
      "<Response [200]>\n",
      "page 8\n",
      "Number of ratings:  144528\n",
      "<Response [200]>\n",
      "SALIENDO = RATINGS0\n",
      "SALIENDO: not next or Rating0\n"
     ]
    },
    {
     "name": "stderr",
     "output_type": "stream",
     "text": [
      "\n",
      " 86%|███████████████████████████████████████████████████████████████████▏          | 393/456 [1:31:36<22:41, 21.60s/it]"
     ]
    },
    {
     "name": "stdout",
     "output_type": "stream",
     "text": [
      "hjrecords\n",
      "page 0\n",
      "Number of ratings:  144612\n",
      "<Response [200]>\n",
      "SALIENDO = RATINGS0\n",
      "SALIENDO: not next or Rating0\n"
     ]
    },
    {
     "name": "stderr",
     "output_type": "stream",
     "text": [
      "\n",
      " 86%|███████████████████████████████████████████████████████████████████▍          | 394/456 [1:31:37<16:09, 15.63s/it]"
     ]
    },
    {
     "name": "stdout",
     "output_type": "stream",
     "text": [
      "R.de.Graaf\n",
      "page 0\n",
      "Number of ratings:  144612\n",
      "<Response [200]>\n",
      "SALIENDO = RATINGS0\n",
      "SALIENDO: not next or Rating0\n"
     ]
    },
    {
     "name": "stderr",
     "output_type": "stream",
     "text": [
      "\n",
      " 87%|███████████████████████████████████████████████████████████████████▌          | 395/456 [1:31:42<12:23, 12.19s/it]"
     ]
    },
    {
     "name": "stdout",
     "output_type": "stream",
     "text": [
      "Pathfinder\n",
      "page 0\n",
      "Number of ratings:  144612\n",
      "<Response [200]>\n",
      "page 1\n",
      "Number of ratings:  144712\n",
      "<Response [200]>\n",
      "page 2\n",
      "Number of ratings:  144812\n",
      "<Response [200]>\n",
      "page 3\n",
      "Number of ratings:  144912\n",
      "<Response [200]>\n",
      "page 4\n",
      "Number of ratings:  145012\n",
      "<Response [200]>\n",
      "page 5\n",
      "Number of ratings:  145112\n",
      "<Response [200]>\n",
      "page 6\n",
      "Number of ratings:  145212\n",
      "<Response [200]>\n",
      "page 7\n",
      "Number of ratings:  145312\n",
      "<Response [200]>\n",
      "page 8\n",
      "Number of ratings:  145412\n",
      "<Response [200]>\n",
      "page 9\n",
      "Number of ratings:  145512\n",
      "<Response [200]>\n",
      "page 10\n",
      "Number of ratings:  145612\n",
      "<Response [200]>\n",
      "page 11\n",
      "Number of ratings:  145712\n",
      "<Response [200]>\n",
      "page 12\n",
      "Number of ratings:  145812\n",
      "<Response [200]>\n",
      "SALIENDO = RATINGS0\n",
      "SALIENDO: not next or Rating0\n"
     ]
    },
    {
     "name": "stderr",
     "output_type": "stream",
     "text": [
      "\n",
      " 87%|███████████████████████████████████████████████████████████████████▋          | 396/456 [1:32:20<20:12, 20.21s/it]"
     ]
    },
    {
     "name": "stdout",
     "output_type": "stream",
     "text": [
      "bolzkow\n",
      "page 0\n",
      "Number of ratings:  145887\n",
      "<Response [200]>\n",
      "SALIENDO = RATINGS0\n",
      "SALIENDO: not next or Rating0\n"
     ]
    },
    {
     "name": "stderr",
     "output_type": "stream",
     "text": [
      "\n",
      " 87%|███████████████████████████████████████████████████████████████████▉          | 397/456 [1:32:23<14:40, 14.92s/it]"
     ]
    },
    {
     "name": "stdout",
     "output_type": "stream",
     "text": [
      "krohobor\n",
      "page 0\n",
      "Number of ratings:  145893\n",
      "<Response [200]>\n",
      "page 1\n",
      "Number of ratings:  145993\n",
      "<Response [200]>\n",
      "page 2\n",
      "Number of ratings:  146093\n",
      "<Response [200]>\n",
      "page 3\n",
      "Number of ratings:  146193\n",
      "<Response [200]>\n",
      "page 4\n",
      "Number of ratings:  146293\n",
      "<Response [200]>\n",
      "SALIENDO = RATINGS0\n",
      "SALIENDO: not next or Rating0\n"
     ]
    },
    {
     "name": "stderr",
     "output_type": "stream",
     "text": [
      "\n",
      " 87%|████████████████████████████████████████████████████████████████████          | 398/456 [1:32:38<14:20, 14.83s/it]"
     ]
    },
    {
     "name": "stdout",
     "output_type": "stream",
     "text": [
      "swattan\n",
      "page 0\n",
      "Number of ratings:  146298\n",
      "<Response [401]>\n",
      "No hay realases en la collection del user\n"
     ]
    },
    {
     "name": "stderr",
     "output_type": "stream",
     "text": [
      "\n",
      " 88%|████████████████████████████████████████████████████████████████████▎         | 399/456 [1:32:39<10:19, 10.87s/it]"
     ]
    },
    {
     "name": "stdout",
     "output_type": "stream",
     "text": [
      "scredj\n",
      "page 0\n",
      "Number of ratings:  146298\n",
      "<Response [200]>\n",
      "SALIENDO = RATINGS0\n",
      "SALIENDO: not next or Rating0\n"
     ]
    },
    {
     "name": "stderr",
     "output_type": "stream",
     "text": [
      "\n",
      " 88%|████████████████████████████████████████████████████████████████████▍         | 400/456 [1:32:43<08:04,  8.64s/it]"
     ]
    },
    {
     "name": "stdout",
     "output_type": "stream",
     "text": [
      "rawsound\n",
      "page 0\n",
      "Number of ratings:  146397\n",
      "<Response [200]>\n",
      "SALIENDO = RATINGS0\n",
      "SALIENDO: not next or Rating0\n"
     ]
    },
    {
     "name": "stderr",
     "output_type": "stream",
     "text": [
      "\n",
      " 88%|████████████████████████████████████████████████████████████████████▌         | 401/456 [1:32:45<06:04,  6.63s/it]"
     ]
    },
    {
     "name": "stdout",
     "output_type": "stream",
     "text": [
      "symtone\n",
      "page 0\n",
      "Number of ratings:  146411\n",
      "<Response [401]>\n",
      "No hay realases en la collection del user\n"
     ]
    },
    {
     "name": "stderr",
     "output_type": "stream",
     "text": [
      "\n",
      " 88%|████████████████████████████████████████████████████████████████████▊         | 402/456 [1:32:46<04:37,  5.13s/it]"
     ]
    },
    {
     "name": "stdout",
     "output_type": "stream",
     "text": [
      "Curiopete\n",
      "page 0\n",
      "Number of ratings:  146411\n",
      "<Response [401]>\n",
      "No hay realases en la collection del user\n"
     ]
    },
    {
     "name": "stderr",
     "output_type": "stream",
     "text": [
      "\n",
      " 88%|████████████████████████████████████████████████████████████████████▉         | 403/456 [1:32:48<03:36,  4.08s/it]"
     ]
    },
    {
     "name": "stdout",
     "output_type": "stream",
     "text": [
      "van-Roy\n",
      "page 0\n",
      "Number of ratings:  146411\n",
      "<Response [200]>\n",
      "SALIENDO = RATINGS0\n",
      "SALIENDO: not next or Rating0\n"
     ]
    },
    {
     "name": "stderr",
     "output_type": "stream",
     "text": [
      "\n",
      " 89%|█████████████████████████████████████████████████████████████████████         | 404/456 [1:32:52<03:29,  4.03s/it]"
     ]
    },
    {
     "name": "stdout",
     "output_type": "stream",
     "text": [
      "antideath-ray\n",
      "page 0\n",
      "Number of ratings:  146453\n",
      "<Response [200]>\n",
      "page 1\n",
      "Number of ratings:  146553\n",
      "<Response [200]>\n",
      "page 2\n",
      "Number of ratings:  146653\n",
      "<Response [200]>\n",
      "SALIENDO = RATINGS0\n",
      "SALIENDO: not next or Rating0\n"
     ]
    },
    {
     "name": "stderr",
     "output_type": "stream",
     "text": [
      "\n",
      " 89%|█████████████████████████████████████████████████████████████████████▎        | 405/456 [1:33:04<05:28,  6.44s/it]"
     ]
    },
    {
     "name": "stdout",
     "output_type": "stream",
     "text": [
      "Jooles\n",
      "page 0\n",
      "Number of ratings:  146711\n",
      "<Response [200]>\n",
      "page 1\n",
      "Number of ratings:  146811\n",
      "<Response [200]>\n",
      "page 2\n",
      "Number of ratings:  146911\n",
      "<Response [200]>\n",
      "page 3\n",
      "Number of ratings:  147011\n",
      "<Response [200]>\n",
      "page 4\n",
      "Number of ratings:  147111\n",
      "<Response [200]>\n",
      "page 5\n",
      "Number of ratings:  147211\n",
      "<Response [200]>\n",
      "page 6\n",
      "Number of ratings:  147311\n",
      "<Response [200]>\n",
      "page 7\n",
      "Number of ratings:  147411\n",
      "<Response [200]>\n",
      "page 8\n",
      "Number of ratings:  147511\n",
      "<Response [200]>\n",
      "page 9\n",
      "Number of ratings:  147611\n",
      "<Response [200]>\n",
      "page 10\n",
      "Number of ratings:  147711\n",
      "<Response [200]>\n",
      "page 11\n",
      "Number of ratings:  147811\n",
      "<Response [200]>\n",
      "page 12\n",
      "Number of ratings:  147911\n",
      "<Response [200]>\n",
      "page 13\n",
      "Number of ratings:  148011\n",
      "<Response [200]>\n",
      "page 14\n",
      "Number of ratings:  148111\n",
      "<Response [200]>\n",
      "page 15\n",
      "Number of ratings:  148211\n",
      "<Response [200]>\n",
      "page 16\n",
      "Number of ratings:  148311\n",
      "<Response [200]>\n",
      "page 17\n",
      "Number of ratings:  148411\n",
      "<Response [200]>\n",
      "page 18\n",
      "Number of ratings:  148511\n",
      "<Response [200]>\n",
      "page 19\n",
      "Number of ratings:  148611\n",
      "<Response [200]>\n",
      "page 20\n",
      "Number of ratings:  148711\n",
      "<Response [200]>\n",
      "page 21\n",
      "Number of ratings:  148811\n",
      "<Response [200]>\n",
      "page 22\n",
      "Number of ratings:  148911\n",
      "<Response [200]>\n",
      "page 23\n",
      "Number of ratings:  149011\n",
      "<Response [200]>\n",
      "page 24\n",
      "Number of ratings:  149111\n",
      "<Response [200]>\n",
      "SALIENDO = RATINGS0\n",
      "SALIENDO: not next or Rating0\n"
     ]
    },
    {
     "name": "stderr",
     "output_type": "stream",
     "text": [
      "\n",
      " 89%|█████████████████████████████████████████████████████████████████████▍        | 406/456 [1:34:18<22:23, 26.87s/it]"
     ]
    },
    {
     "name": "stdout",
     "output_type": "stream",
     "text": [
      "Themis\n",
      "page 0\n",
      "Number of ratings:  149180\n",
      "<Response [200]>\n",
      "page 1\n",
      "Number of ratings:  149280\n",
      "<Response [200]>\n",
      "page 2\n",
      "Number of ratings:  149380\n",
      "<Response [200]>\n",
      "SALIENDO = RATINGS0\n",
      "SALIENDO: not next or Rating0\n"
     ]
    },
    {
     "name": "stderr",
     "output_type": "stream",
     "text": [
      "\n",
      " 89%|█████████████████████████████████████████████████████████████████████▌        | 407/456 [1:34:27<17:34, 21.51s/it]"
     ]
    },
    {
     "name": "stdout",
     "output_type": "stream",
     "text": [
      "richlooker\n",
      "page 0\n",
      "Number of ratings:  149438\n",
      "<Response [200]>\n",
      "SALIENDO = RATINGS0\n",
      "SALIENDO: not next or Rating0\n"
     ]
    },
    {
     "name": "stderr",
     "output_type": "stream",
     "text": [
      "\n",
      " 89%|█████████████████████████████████████████████████████████████████████▊        | 408/456 [1:34:31<12:48, 16.01s/it]"
     ]
    },
    {
     "name": "stdout",
     "output_type": "stream",
     "text": [
      "bab-musique\n",
      "page 0\n",
      "Number of ratings:  149438\n",
      "<Response [200]>\n",
      "SALIENDO: not next or Rating0\n"
     ]
    },
    {
     "name": "stderr",
     "output_type": "stream",
     "text": [
      "\n",
      " 90%|█████████████████████████████████████████████████████████████████████▉        | 409/456 [1:34:32<09:09, 11.70s/it]"
     ]
    },
    {
     "name": "stdout",
     "output_type": "stream",
     "text": [
      "deepsouthent\n",
      "page 0\n",
      "Number of ratings:  149438\n",
      "<Response [200]>\n",
      "SALIENDO = RATINGS0\n",
      "SALIENDO: not next or Rating0\n"
     ]
    },
    {
     "name": "stderr",
     "output_type": "stream",
     "text": [
      "\n",
      " 90%|██████████████████████████████████████████████████████████████████████▏       | 410/456 [1:34:34<06:40,  8.70s/it]"
     ]
    },
    {
     "name": "stdout",
     "output_type": "stream",
     "text": [
      "audioel\n",
      "page 0\n",
      "Number of ratings:  149438\n",
      "<Response [200]>\n",
      "SALIENDO = RATINGS0\n",
      "SALIENDO: not next or Rating0\n"
     ]
    },
    {
     "name": "stderr",
     "output_type": "stream",
     "text": [
      "\n",
      " 90%|██████████████████████████████████████████████████████████████████████▎       | 411/456 [1:34:36<05:03,  6.74s/it]"
     ]
    },
    {
     "name": "stdout",
     "output_type": "stream",
     "text": [
      "condition\n",
      "page 0\n",
      "Number of ratings:  149445\n",
      "<Response [200]>\n",
      "page 1\n",
      "Number of ratings:  149545\n",
      "<Response [200]>\n",
      "page 2\n",
      "Number of ratings:  149645\n",
      "<Response [200]>\n",
      "page 3\n",
      "Number of ratings:  149745\n",
      "<Response [200]>\n",
      "page 4\n",
      "Number of ratings:  149845\n",
      "<Response [200]>\n",
      "page 5\n",
      "Number of ratings:  149945\n",
      "<Response [200]>\n",
      "page 6\n",
      "Number of ratings:  150045\n",
      "<Response [200]>\n",
      "page 7\n",
      "Number of ratings:  150145\n",
      "<Response [200]>\n",
      "page 8\n",
      "Number of ratings:  150245\n",
      "<Response [200]>\n",
      "page 9\n",
      "Number of ratings:  150345\n",
      "<Response [200]>\n",
      "page 10\n",
      "Number of ratings:  150445\n",
      "<Response [200]>\n",
      "page 11\n",
      "Number of ratings:  150545\n",
      "<Response [200]>\n",
      "page 12\n",
      "Number of ratings:  150645\n",
      "<Response [200]>\n",
      "page 13\n",
      "Number of ratings:  150745\n",
      "<Response [200]>\n",
      "page 14\n",
      "Number of ratings:  150845\n",
      "<Response [200]>\n",
      "page 15\n",
      "Number of ratings:  150945\n",
      "<Response [200]>\n",
      "page 16\n",
      "Number of ratings:  151045\n",
      "<Response [200]>\n",
      "page 17\n",
      "Number of ratings:  151145\n",
      "<Response [200]>\n",
      "page 18\n",
      "Number of ratings:  151245\n",
      "<Response [200]>\n",
      "page 19\n",
      "Number of ratings:  151345\n",
      "<Response [200]>\n",
      "page 20\n",
      "Number of ratings:  151445\n",
      "<Response [200]>\n",
      "SALIENDO = RATINGS0\n",
      "SALIENDO: not next or Rating0\n"
     ]
    },
    {
     "name": "stderr",
     "output_type": "stream",
     "text": [
      "\n",
      " 90%|██████████████████████████████████████████████████████████████████████▍       | 412/456 [1:35:36<16:36, 22.64s/it]"
     ]
    },
    {
     "name": "stdout",
     "output_type": "stream",
     "text": [
      "Jon606\n",
      "page 0\n",
      "Number of ratings:  151536\n",
      "<Response [401]>\n",
      "No hay realases en la collection del user\n"
     ]
    },
    {
     "name": "stderr",
     "output_type": "stream",
     "text": [
      "\n",
      " 91%|██████████████████████████████████████████████████████████████████████▋       | 413/456 [1:35:38<11:42, 16.35s/it]"
     ]
    },
    {
     "name": "stdout",
     "output_type": "stream",
     "text": [
      "Dj-Scripture\n",
      "page 0\n",
      "Number of ratings:  151536\n",
      "<Response [200]>\n",
      "SALIENDO = RATINGS0\n",
      "SALIENDO: not next or Rating0\n"
     ]
    },
    {
     "name": "stderr",
     "output_type": "stream",
     "text": [
      "\n",
      " 91%|██████████████████████████████████████████████████████████████████████▊       | 414/456 [1:35:41<08:43, 12.47s/it]"
     ]
    },
    {
     "name": "stdout",
     "output_type": "stream",
     "text": [
      "100Me\n",
      "page 0\n",
      "Number of ratings:  151542\n",
      "<Response [401]>\n",
      "No hay realases en la collection del user\n"
     ]
    },
    {
     "name": "stderr",
     "output_type": "stream",
     "text": [
      "\n",
      " 91%|██████████████████████████████████████████████████████████████████████▉       | 415/456 [1:35:43<06:18,  9.23s/it]"
     ]
    },
    {
     "name": "stdout",
     "output_type": "stream",
     "text": [
      "Mr.PhonkOne\n",
      "page 0\n",
      "Number of ratings:  151542\n",
      "<Response [200]>\n",
      "SALIENDO: not next or Rating0\n"
     ]
    },
    {
     "name": "stderr",
     "output_type": "stream",
     "text": [
      "\n",
      " 91%|███████████████████████████████████████████████████████████████████████▏      | 416/456 [1:35:44<04:38,  6.97s/it]"
     ]
    },
    {
     "name": "stdout",
     "output_type": "stream",
     "text": [
      "jopla2\n",
      "page 0\n",
      "Number of ratings:  151542\n",
      "<Response [200]>\n",
      "page 1\n",
      "Number of ratings:  151642\n",
      "<Response [200]>\n",
      "page 2\n",
      "Number of ratings:  151742\n",
      "<Response [200]>\n",
      "SALIENDO = RATINGS0\n",
      "SALIENDO: not next or Rating0\n"
     ]
    },
    {
     "name": "stderr",
     "output_type": "stream",
     "text": [
      "\n",
      " 91%|███████████████████████████████████████████████████████████████████████▎      | 417/456 [1:35:55<05:15,  8.10s/it]"
     ]
    },
    {
     "name": "stdout",
     "output_type": "stream",
     "text": [
      "zamla_71\n",
      "page 0\n",
      "Number of ratings:  151834\n",
      "<Response [200]>\n",
      "page 1\n",
      "Number of ratings:  151934\n",
      "<Response [200]>\n",
      "page 2\n",
      "Number of ratings:  152034\n",
      "<Response [200]>\n",
      "page 3\n",
      "Number of ratings:  152134\n",
      "<Response [200]>\n",
      "SALIENDO = RATINGS0\n",
      "SALIENDO: not next or Rating0\n"
     ]
    },
    {
     "name": "stderr",
     "output_type": "stream",
     "text": [
      "\n",
      " 92%|███████████████████████████████████████████████████████████████████████▌      | 418/456 [1:36:06<05:42,  9.00s/it]"
     ]
    },
    {
     "name": "stdout",
     "output_type": "stream",
     "text": [
      "jenniferdupond133\n",
      "page 0\n",
      "Number of ratings:  152216\n",
      "<Response [401]>\n",
      "No hay realases en la collection del user\n"
     ]
    },
    {
     "name": "stderr",
     "output_type": "stream",
     "text": [
      "\n",
      " 92%|███████████████████████████████████████████████████████████████████████▋      | 419/456 [1:36:08<04:10,  6.77s/it]"
     ]
    },
    {
     "name": "stdout",
     "output_type": "stream",
     "text": [
      "marro27\n",
      "page 0\n",
      "Number of ratings:  152216\n",
      "<Response [200]>\n",
      "page 1\n",
      "Number of ratings:  152316\n",
      "<Response [200]>\n",
      "page 2\n",
      "Number of ratings:  152416\n",
      "<Response [200]>\n",
      "page 3\n",
      "Number of ratings:  152516\n",
      "<Response [200]>\n",
      "page 4\n",
      "Number of ratings:  152616\n",
      "<Response [200]>\n",
      "page 5\n",
      "Number of ratings:  152716\n",
      "<Response [200]>\n",
      "page 6\n",
      "Number of ratings:  152816\n",
      "<Response [200]>\n",
      "page 7\n",
      "Number of ratings:  152916\n",
      "<Response [200]>\n",
      "page 8\n",
      "Number of ratings:  153016\n",
      "<Response [200]>\n",
      "page 9\n",
      "Number of ratings:  153116\n",
      "<Response [200]>\n",
      "page 10\n",
      "Number of ratings:  153216\n",
      "<Response [200]>\n",
      "page 11\n",
      "Number of ratings:  153316\n",
      "<Response [200]>\n",
      "page 12\n",
      "Number of ratings:  153416\n",
      "<Response [200]>\n",
      "page 13\n",
      "Number of ratings:  153516\n",
      "<Response [200]>\n",
      "SALIENDO = RATINGS0\n",
      "SALIENDO: not next or Rating0\n"
     ]
    },
    {
     "name": "stderr",
     "output_type": "stream",
     "text": [
      "\n",
      " 92%|███████████████████████████████████████████████████████████████████████▊      | 420/456 [1:36:52<10:43, 17.88s/it]"
     ]
    },
    {
     "name": "stdout",
     "output_type": "stream",
     "text": [
      "zaffa\n",
      "page 0\n",
      "Number of ratings:  153519\n",
      "<Response [200]>\n",
      "page 1\n",
      "Number of ratings:  153619\n",
      "<Response [200]>\n",
      "page 2\n",
      "Number of ratings:  153719\n",
      "<Response [200]>\n",
      "SALIENDO = RATINGS0\n",
      "SALIENDO: not next or Rating0\n"
     ]
    },
    {
     "name": "stderr",
     "output_type": "stream",
     "text": [
      "\n",
      " 92%|████████████████████████████████████████████████████████████████████████      | 421/456 [1:37:02<09:07, 15.65s/it]"
     ]
    },
    {
     "name": "stdout",
     "output_type": "stream",
     "text": [
      "Larsern\n",
      "page 0\n",
      "Number of ratings:  153733\n",
      "<Response [200]>\n",
      "page 1\n",
      "Number of ratings:  153833\n",
      "<Response [200]>\n",
      "page 2\n",
      "Number of ratings:  153933\n",
      "<Response [200]>\n",
      "page 3\n",
      "Number of ratings:  154033\n",
      "<Response [200]>\n",
      "page 4\n",
      "Number of ratings:  154133\n",
      "<Response [200]>\n",
      "page 5\n",
      "Number of ratings:  154233\n",
      "<Response [200]>\n",
      "page 6\n",
      "Number of ratings:  154333\n",
      "<Response [200]>\n",
      "page 7\n",
      "Number of ratings:  154433\n",
      "<Response [200]>\n",
      "page 8\n",
      "Number of ratings:  154533\n",
      "<Response [200]>\n",
      "page 9\n",
      "Number of ratings:  154633\n",
      "<Response [200]>\n",
      "page 10\n",
      "Number of ratings:  154733\n",
      "<Response [200]>\n",
      "page 11\n",
      "Number of ratings:  154833\n",
      "<Response [200]>\n",
      "page 12\n",
      "Number of ratings:  154933\n",
      "<Response [200]>\n",
      "page 13\n",
      "Number of ratings:  155033\n",
      "<Response [200]>\n",
      "SALIENDO = RATINGS0\n",
      "SALIENDO: not next or Rating0\n"
     ]
    },
    {
     "name": "stderr",
     "output_type": "stream",
     "text": [
      "\n",
      " 93%|████████████████████████████████████████████████████████████████████████▏     | 422/456 [1:37:57<15:29, 27.33s/it]"
     ]
    },
    {
     "name": "stdout",
     "output_type": "stream",
     "text": [
      "Miki242\n",
      "page 0\n",
      "Number of ratings:  155058\n",
      "<Response [200]>\n",
      "page 1\n",
      "Number of ratings:  155158\n",
      "<Response [200]>\n",
      "page 2\n",
      "Number of ratings:  155258\n",
      "<Response [200]>\n",
      "page 3\n",
      "Number of ratings:  155358\n",
      "<Response [200]>\n",
      "page 4\n",
      "Number of ratings:  155458\n",
      "<Response [200]>\n",
      "page 5\n",
      "Number of ratings:  155558\n",
      "<Response [200]>\n",
      "page 6\n",
      "Number of ratings:  155658\n",
      "<Response [200]>\n",
      "page 7\n",
      "Number of ratings:  155758\n",
      "<Response [200]>\n",
      "page 8\n",
      "Number of ratings:  155858\n",
      "<Response [200]>\n",
      "page 9\n",
      "Number of ratings:  155958\n",
      "<Response [200]>\n",
      "page 10\n",
      "Number of ratings:  156058\n",
      "<Response [200]>\n",
      "page 11\n",
      "Number of ratings:  156158\n",
      "<Response [200]>\n",
      "page 12\n",
      "Number of ratings:  156258\n",
      "<Response [200]>\n",
      "page 13\n",
      "Number of ratings:  156358\n",
      "<Response [200]>\n",
      "page 14\n",
      "Number of ratings:  156458\n",
      "<Response [200]>\n",
      "page 15\n",
      "Number of ratings:  156558\n",
      "<Response [200]>\n",
      "page 16\n",
      "Number of ratings:  156658\n",
      "<Response [200]>\n",
      "page 17\n",
      "Number of ratings:  156758\n",
      "<Response [200]>\n",
      "page 18\n",
      "Number of ratings:  156858\n",
      "<Response [200]>\n",
      "page 19\n",
      "Number of ratings:  156958\n",
      "<Response [200]>\n",
      "page 20\n",
      "Number of ratings:  157058\n",
      "<Response [200]>\n",
      "page 21\n",
      "Number of ratings:  157158\n",
      "<Response [200]>\n",
      "page 22\n",
      "Number of ratings:  157258\n",
      "<Response [200]>\n",
      "page 23\n",
      "Number of ratings:  157358\n",
      "<Response [200]>\n",
      "page 24\n",
      "Number of ratings:  157458\n",
      "<Response [200]>\n",
      "page 25\n",
      "Number of ratings:  157558\n",
      "<Response [200]>\n",
      "page 26\n",
      "Number of ratings:  157658\n",
      "<Response [200]>\n",
      "SALIENDO = RATINGS0\n",
      "SALIENDO: not next or Rating0\n"
     ]
    },
    {
     "name": "stderr",
     "output_type": "stream",
     "text": [
      "\n",
      " 93%|████████████████████████████████████████████████████████████████████████▎     | 423/456 [1:39:31<26:05, 47.43s/it]"
     ]
    },
    {
     "name": "stdout",
     "output_type": "stream",
     "text": [
      "underthesilence\n",
      "page 0\n",
      "Number of ratings:  157721\n",
      "<Response [200]>\n",
      "SALIENDO = RATINGS0\n",
      "SALIENDO: not next or Rating0\n"
     ]
    },
    {
     "name": "stderr",
     "output_type": "stream",
     "text": [
      "\n",
      " 93%|████████████████████████████████████████████████████████████████████████▌     | 424/456 [1:39:35<18:25, 34.54s/it]"
     ]
    },
    {
     "name": "stdout",
     "output_type": "stream",
     "text": [
      "aliokas\n",
      "page 0\n",
      "Number of ratings:  157727\n",
      "<Response [200]>\n",
      "SALIENDO = RATINGS0\n",
      "SALIENDO: not next or Rating0\n"
     ]
    },
    {
     "name": "stderr",
     "output_type": "stream",
     "text": [
      "\n",
      " 93%|████████████████████████████████████████████████████████████████████████▋     | 425/456 [1:39:39<13:06, 25.36s/it]"
     ]
    },
    {
     "name": "stdout",
     "output_type": "stream",
     "text": [
      "ynpguy\n",
      "page 0\n",
      "Number of ratings:  157823\n",
      "<Response [200]>\n",
      "page 1\n",
      "Number of ratings:  157923\n",
      "<Response [200]>\n",
      "page 2\n",
      "Number of ratings:  158023\n",
      "<Response [200]>\n",
      "page 3\n",
      "Number of ratings:  158123\n",
      "<Response [200]>\n",
      "page 4\n",
      "Number of ratings:  158223\n",
      "<Response [200]>\n",
      "SALIENDO = RATINGS0\n",
      "SALIENDO: not next or Rating0\n"
     ]
    },
    {
     "name": "stderr",
     "output_type": "stream",
     "text": [
      "\n",
      " 93%|████████████████████████████████████████████████████████████████████████▊     | 426/456 [1:40:03<12:27, 24.92s/it]"
     ]
    },
    {
     "name": "stdout",
     "output_type": "stream",
     "text": [
      "darksurprise\n",
      "page 0\n",
      "Number of ratings:  158236\n",
      "<Response [401]>\n",
      "No hay realases en la collection del user\n"
     ]
    },
    {
     "name": "stderr",
     "output_type": "stream",
     "text": [
      "\n",
      " 94%|█████████████████████████████████████████████████████████████████████████     | 427/456 [1:40:05<08:40, 17.95s/it]"
     ]
    },
    {
     "name": "stdout",
     "output_type": "stream",
     "text": [
      "Erit_Invictus\n",
      "page 0\n",
      "Number of ratings:  158236\n",
      "<Response [200]>\n",
      "page 1\n",
      "Number of ratings:  158336\n",
      "<Response [200]>\n",
      "page 2\n",
      "Number of ratings:  158436\n",
      "<Response [200]>\n",
      "page 3\n",
      "Number of ratings:  158536\n",
      "<Response [200]>\n",
      "page 4\n",
      "Number of ratings:  158636\n",
      "<Response [200]>\n",
      "page 5\n",
      "Number of ratings:  158736\n",
      "<Response [200]>\n",
      "page 6\n",
      "Number of ratings:  158836\n",
      "<Response [200]>\n",
      "page 7\n",
      "Number of ratings:  158936\n",
      "<Response [200]>\n",
      "SALIENDO = RATINGS0\n",
      "SALIENDO: not next or Rating0\n"
     ]
    },
    {
     "name": "stderr",
     "output_type": "stream",
     "text": [
      "\n",
      " 94%|█████████████████████████████████████████████████████████████████████████▏    | 428/456 [1:40:35<10:04, 21.58s/it]"
     ]
    },
    {
     "name": "stdout",
     "output_type": "stream",
     "text": [
      "phallancz\n",
      "page 0\n",
      "Number of ratings:  158977\n",
      "<Response [401]>\n",
      "No hay realases en la collection del user\n"
     ]
    },
    {
     "name": "stderr",
     "output_type": "stream",
     "text": [
      "\n",
      " 94%|█████████████████████████████████████████████████████████████████████████▍    | 429/456 [1:40:37<07:01, 15.61s/it]"
     ]
    },
    {
     "name": "stdout",
     "output_type": "stream",
     "text": [
      "S8nsick66\n",
      "page 0\n",
      "Number of ratings:  158977\n",
      "<Response [200]>\n",
      "SALIENDO = RATINGS0\n",
      "SALIENDO: not next or Rating0\n"
     ]
    },
    {
     "name": "stderr",
     "output_type": "stream",
     "text": [
      "\n",
      " 94%|█████████████████████████████████████████████████████████████████████████▌    | 430/456 [1:40:41<05:18, 12.25s/it]"
     ]
    },
    {
     "name": "stdout",
     "output_type": "stream",
     "text": [
      "Nevermind_Records\n",
      "page 0\n",
      "Number of ratings:  158982\n",
      "<Response [401]>\n",
      "No hay realases en la collection del user\n"
     ]
    },
    {
     "name": "stderr",
     "output_type": "stream",
     "text": [
      "\n",
      " 95%|█████████████████████████████████████████████████████████████████████████▋    | 431/456 [1:40:43<03:46,  9.06s/it]"
     ]
    },
    {
     "name": "stdout",
     "output_type": "stream",
     "text": [
      "aldoxzx\n",
      "page 0\n",
      "Number of ratings:  158982\n",
      "<Response [200]>\n",
      "SALIENDO = RATINGS0\n",
      "SALIENDO: not next or Rating0\n"
     ]
    },
    {
     "name": "stderr",
     "output_type": "stream",
     "text": [
      "\n",
      " 95%|█████████████████████████████████████████████████████████████████████████▉    | 432/456 [1:40:46<02:55,  7.30s/it]"
     ]
    },
    {
     "name": "stdout",
     "output_type": "stream",
     "text": [
      "cashox\n",
      "page 0\n",
      "Number of ratings:  158987\n",
      "<Response [401]>\n",
      "No hay realases en la collection del user\n"
     ]
    },
    {
     "name": "stderr",
     "output_type": "stream",
     "text": [
      "\n",
      " 95%|██████████████████████████████████████████████████████████████████████████    | 433/456 [1:40:47<02:08,  5.60s/it]"
     ]
    },
    {
     "name": "stdout",
     "output_type": "stream",
     "text": [
      "christianus\n",
      "page 0\n",
      "Number of ratings:  158987\n",
      "<Response [200]>\n",
      "SALIENDO = RATINGS0\n",
      "SALIENDO: not next or Rating0\n"
     ]
    },
    {
     "name": "stderr",
     "output_type": "stream",
     "text": [
      "\n",
      " 95%|██████████████████████████████████████████████████████████████████████████▏   | 434/456 [1:40:51<01:47,  4.87s/it]"
     ]
    },
    {
     "name": "stdout",
     "output_type": "stream",
     "text": [
      "ianbrown57\n",
      "page 0\n",
      "Number of ratings:  158987\n",
      "<Response [401]>\n",
      "No hay realases en la collection del user\n"
     ]
    },
    {
     "name": "stderr",
     "output_type": "stream",
     "text": [
      "\n",
      " 95%|██████████████████████████████████████████████████████████████████████████▍   | 435/456 [1:40:53<01:25,  4.07s/it]"
     ]
    },
    {
     "name": "stdout",
     "output_type": "stream",
     "text": [
      "adom57\n",
      "page 0\n",
      "Number of ratings:  158987\n",
      "<Response [200]>\n",
      "SALIENDO = RATINGS0\n",
      "SALIENDO: not next or Rating0\n"
     ]
    },
    {
     "name": "stderr",
     "output_type": "stream",
     "text": [
      "\n",
      " 96%|██████████████████████████████████████████████████████████████████████████▌   | 436/456 [1:40:57<01:24,  4.21s/it]"
     ]
    },
    {
     "name": "stdout",
     "output_type": "stream",
     "text": [
      "fcorne\n",
      "page 0\n",
      "Number of ratings:  159005\n",
      "<Response [200]>\n",
      "SALIENDO = RATINGS0\n",
      "SALIENDO: not next or Rating0\n"
     ]
    },
    {
     "name": "stderr",
     "output_type": "stream",
     "text": [
      "\n",
      " 96%|██████████████████████████████████████████████████████████████████████████▊   | 437/456 [1:41:01<01:19,  4.16s/it]"
     ]
    },
    {
     "name": "stdout",
     "output_type": "stream",
     "text": [
      "Mat.rock\n",
      "page 0\n",
      "Number of ratings:  159005\n",
      "<Response [200]>\n",
      "page 1\n",
      "Number of ratings:  159105\n",
      "<Response [200]>\n",
      "page 2\n",
      "Number of ratings:  159205\n",
      "<Response [200]>\n",
      "page 3\n",
      "Number of ratings:  159305\n",
      "<Response [200]>\n",
      "page 4\n",
      "Number of ratings:  159405\n",
      "<Response [200]>\n",
      "page 5\n",
      "Number of ratings:  159505\n",
      "<Response [200]>\n",
      "page 6\n",
      "Number of ratings:  159605\n",
      "<Response [200]>\n",
      "SALIENDO = RATINGS0\n",
      "SALIENDO: not next or Rating0\n"
     ]
    },
    {
     "name": "stderr",
     "output_type": "stream",
     "text": [
      "\n",
      " 96%|██████████████████████████████████████████████████████████████████████████▉   | 438/456 [1:41:30<03:29, 11.61s/it]"
     ]
    },
    {
     "name": "stdout",
     "output_type": "stream",
     "text": [
      "corner1\n",
      "page 0\n",
      "Number of ratings:  159624\n",
      "<Response [200]>\n",
      "SALIENDO = RATINGS0\n",
      "SALIENDO: not next or Rating0\n"
     ]
    },
    {
     "name": "stderr",
     "output_type": "stream",
     "text": [
      "\n",
      " 96%|███████████████████████████████████████████████████████████████████████████   | 439/456 [1:41:37<02:49,  9.98s/it]"
     ]
    },
    {
     "name": "stdout",
     "output_type": "stream",
     "text": [
      "EllisRay\n",
      "page 0\n",
      "Number of ratings:  159661\n",
      "<Response [200]>\n",
      "page 1\n",
      "Number of ratings:  159761\n",
      "<Response [200]>\n",
      "page 2\n",
      "Number of ratings:  159861\n",
      "<Response [200]>\n",
      "page 3\n",
      "Number of ratings:  159961\n",
      "<Response [200]>\n",
      "page 4\n",
      "Number of ratings:  160061\n",
      "<Response [200]>\n",
      "SALIENDO = RATINGS0\n",
      "SALIENDO: not next or Rating0\n"
     ]
    },
    {
     "name": "stderr",
     "output_type": "stream",
     "text": [
      "\n",
      " 96%|███████████████████████████████████████████████████████████████████████████▎  | 440/456 [1:41:58<03:35, 13.46s/it]"
     ]
    },
    {
     "name": "stdout",
     "output_type": "stream",
     "text": [
      "NIKXING77\n",
      "page 0\n",
      "Number of ratings:  160130\n",
      "<Response [401]>\n",
      "No hay realases en la collection del user\n"
     ]
    },
    {
     "name": "stderr",
     "output_type": "stream",
     "text": [
      "\n",
      " 97%|███████████████████████████████████████████████████████████████████████████▍  | 441/456 [1:42:00<02:28,  9.92s/it]"
     ]
    },
    {
     "name": "stdout",
     "output_type": "stream",
     "text": [
      "Akroatis\n",
      "page 0\n",
      "Number of ratings:  160130\n",
      "<Response [200]>\n",
      "SALIENDO = RATINGS0\n",
      "SALIENDO: not next or Rating0\n"
     ]
    },
    {
     "name": "stderr",
     "output_type": "stream",
     "text": [
      "\n",
      " 97%|███████████████████████████████████████████████████████████████████████████▌  | 442/456 [1:42:04<01:53,  8.11s/it]"
     ]
    },
    {
     "name": "stdout",
     "output_type": "stream",
     "text": [
      "kbell75\n",
      "page 0\n",
      "Number of ratings:  160131\n",
      "<Response [200]>\n",
      "SALIENDO = RATINGS0\n",
      "SALIENDO: not next or Rating0\n"
     ]
    },
    {
     "name": "stderr",
     "output_type": "stream",
     "text": [
      "\n",
      " 97%|███████████████████████████████████████████████████████████████████████████▊  | 443/456 [1:42:08<01:28,  6.82s/it]"
     ]
    },
    {
     "name": "stdout",
     "output_type": "stream",
     "text": [
      "stevies45s\n",
      "page 0\n",
      "Number of ratings:  160131\n",
      "<Response [200]>\n",
      "SALIENDO: not next or Rating0\n"
     ]
    },
    {
     "name": "stderr",
     "output_type": "stream",
     "text": [
      "\n",
      " 97%|███████████████████████████████████████████████████████████████████████████▉  | 444/456 [1:42:09<01:03,  5.28s/it]"
     ]
    },
    {
     "name": "stdout",
     "output_type": "stream",
     "text": [
      "jazzmann\n",
      "page 0\n",
      "Number of ratings:  160131\n",
      "<Response [401]>\n",
      "No hay realases en la collection del user\n"
     ]
    },
    {
     "name": "stderr",
     "output_type": "stream",
     "text": [
      "\n",
      " 98%|████████████████████████████████████████████████████████████████████████████  | 445/456 [1:42:11<00:45,  4.18s/it]"
     ]
    },
    {
     "name": "stdout",
     "output_type": "stream",
     "text": [
      "pano9000\n",
      "page 0\n",
      "Number of ratings:  160131\n",
      "<Response [401]>\n",
      "No hay realases en la collection del user\n"
     ]
    },
    {
     "name": "stderr",
     "output_type": "stream",
     "text": [
      "\n",
      " 98%|████████████████████████████████████████████████████████████████████████████▎ | 446/456 [1:42:13<00:34,  3.44s/it]"
     ]
    },
    {
     "name": "stdout",
     "output_type": "stream",
     "text": [
      "Victor2F\n",
      "page 0\n",
      "Number of ratings:  160131\n",
      "<Response [401]>\n",
      "No hay realases en la collection del user\n"
     ]
    },
    {
     "name": "stderr",
     "output_type": "stream",
     "text": [
      "\n",
      " 98%|████████████████████████████████████████████████████████████████████████████▍ | 447/456 [1:42:14<00:26,  2.89s/it]"
     ]
    },
    {
     "name": "stdout",
     "output_type": "stream",
     "text": [
      "Martin_H_Unzon\n",
      "page 0\n",
      "Number of ratings:  160131\n",
      "<Response [200]>\n",
      "SALIENDO = RATINGS0\n",
      "SALIENDO: not next or Rating0\n"
     ]
    },
    {
     "name": "stderr",
     "output_type": "stream",
     "text": [
      "\n",
      " 98%|████████████████████████████████████████████████████████████████████████████▋ | 448/456 [1:42:18<00:26,  3.31s/it]"
     ]
    },
    {
     "name": "stdout",
     "output_type": "stream",
     "text": [
      "kawayama\n",
      "page 0\n",
      "Number of ratings:  160163\n",
      "<Response [200]>\n",
      "page 1\n",
      "Number of ratings:  160263\n",
      "<Response [200]>\n",
      "page 2\n",
      "Number of ratings:  160363\n",
      "<Response [200]>\n",
      "page 3\n",
      "Number of ratings:  160463\n",
      "<Response [200]>\n",
      "SALIENDO = RATINGS0\n",
      "SALIENDO: not next or Rating0\n"
     ]
    },
    {
     "name": "stderr",
     "output_type": "stream",
     "text": [
      "\n",
      " 98%|████████████████████████████████████████████████████████████████████████████▊ | 449/456 [1:42:34<00:48,  6.98s/it]"
     ]
    },
    {
     "name": "stdout",
     "output_type": "stream",
     "text": [
      "KaitouGentleman\n",
      "page 0\n",
      "Number of ratings:  160491\n",
      "<Response [200]>\n",
      "SALIENDO = RATINGS0\n",
      "SALIENDO: not next or Rating0\n"
     ]
    },
    {
     "name": "stderr",
     "output_type": "stream",
     "text": [
      "\n",
      " 99%|████████████████████████████████████████████████████████████████████████████▉ | 450/456 [1:42:38<00:36,  6.04s/it]"
     ]
    },
    {
     "name": "stdout",
     "output_type": "stream",
     "text": [
      "data_boy\n",
      "page 0\n",
      "Number of ratings:  160491\n",
      "<Response [401]>\n",
      "No hay realases en la collection del user\n"
     ]
    },
    {
     "name": "stderr",
     "output_type": "stream",
     "text": [
      "\n",
      " 99%|█████████████████████████████████████████████████████████████████████████████▏| 451/456 [1:42:39<00:23,  4.72s/it]"
     ]
    },
    {
     "name": "stdout",
     "output_type": "stream",
     "text": [
      "Showbiz_Kid\n",
      "page 0\n",
      "Number of ratings:  160491\n",
      "<Response [200]>\n",
      "page 1\n",
      "Number of ratings:  160591\n",
      "<Response [200]>\n",
      "page 2\n",
      "Number of ratings:  160691\n",
      "<Response [200]>\n",
      "page 3\n",
      "Number of ratings:  160791\n",
      "<Response [200]>\n",
      "page 4\n",
      "Number of ratings:  160891\n",
      "<Response [200]>\n",
      "page 5\n",
      "Number of ratings:  160991\n",
      "<Response [200]>\n",
      "page 6\n",
      "Number of ratings:  161091\n",
      "<Response [200]>\n",
      "page 7\n",
      "Number of ratings:  161191\n",
      "<Response [200]>\n",
      "page 8\n",
      "Number of ratings:  161291\n",
      "<Response [200]>\n",
      "page 9\n",
      "Number of ratings:  161391\n",
      "<Response [200]>\n",
      "page 10\n",
      "Number of ratings:  161491\n",
      "<Response [200]>\n",
      "page 11\n",
      "Number of ratings:  161591\n",
      "<Response [200]>\n",
      "page 12\n",
      "Number of ratings:  161691\n",
      "<Response [200]>\n",
      "page 13\n",
      "Number of ratings:  161791\n",
      "<Response [200]>\n",
      "page 14\n",
      "Number of ratings:  161891\n",
      "<Response [200]>\n",
      "page 15\n",
      "Number of ratings:  161991\n",
      "<Response [200]>\n",
      "page 16\n",
      "Number of ratings:  162091\n",
      "<Response [200]>\n",
      "page 17\n",
      "Number of ratings:  162191\n",
      "<Response [200]>\n",
      "page 18\n",
      "Number of ratings:  162291\n",
      "<Response [200]>\n",
      "page 19\n",
      "Number of ratings:  162391\n",
      "<Response [200]>\n",
      "page 20\n",
      "Number of ratings:  162491\n",
      "<Response [200]>\n",
      "page 21\n",
      "Number of ratings:  162591\n",
      "<Response [200]>\n",
      "page 22\n",
      "Number of ratings:  162691\n",
      "<Response [200]>\n",
      "page 23\n",
      "Number of ratings:  162791\n",
      "<Response [200]>\n",
      "page 24\n",
      "Number of ratings:  162891\n",
      "<Response [200]>\n",
      "page 25\n",
      "Number of ratings:  162991\n",
      "<Response [200]>\n",
      "page 26\n",
      "Number of ratings:  163091\n",
      "<Response [200]>\n",
      "page 27\n",
      "Number of ratings:  163191\n",
      "<Response [200]>\n",
      "page 28\n",
      "Number of ratings:  163291\n",
      "<Response [200]>\n",
      "page 29\n",
      "Number of ratings:  163391\n",
      "<Response [200]>\n",
      "page 30\n",
      "Number of ratings:  163491\n",
      "<Response [200]>\n",
      "page 31\n",
      "Number of ratings:  163591\n",
      "<Response [200]>\n",
      "page 32\n",
      "Number of ratings:  163691\n",
      "<Response [200]>\n",
      "page 33\n",
      "Number of ratings:  163791\n",
      "<Response [200]>\n",
      "page 34\n",
      "Number of ratings:  163891\n",
      "<Response [200]>\n",
      "page 35\n",
      "Number of ratings:  163991\n",
      "<Response [200]>\n",
      "page 36\n",
      "Number of ratings:  164091\n",
      "<Response [200]>\n",
      "page 37\n",
      "Number of ratings:  164191\n",
      "<Response [200]>\n",
      "page 38\n",
      "Number of ratings:  164291\n",
      "<Response [200]>\n",
      "page 39\n",
      "Number of ratings:  164391\n",
      "<Response [200]>\n",
      "page 40\n",
      "Number of ratings:  164491\n",
      "<Response [200]>\n",
      "page 41\n",
      "Number of ratings:  164591\n",
      "<Response [200]>\n",
      "page 42\n",
      "Number of ratings:  164691\n",
      "<Response [200]>\n",
      "page 43\n",
      "Number of ratings:  164791\n",
      "<Response [200]>\n",
      "page 44\n",
      "Number of ratings:  164891\n",
      "<Response [200]>\n",
      "page 45\n",
      "Number of ratings:  164991\n",
      "<Response [200]>\n",
      "page 46\n",
      "Number of ratings:  165091\n",
      "<Response [200]>\n",
      "page 47\n",
      "Number of ratings:  165191\n",
      "<Response [200]>\n",
      "page 48\n",
      "Number of ratings:  165291\n",
      "<Response [200]>\n",
      "page 49\n",
      "Number of ratings:  165391\n",
      "<Response [200]>\n",
      "page 50\n",
      "Number of ratings:  165491\n",
      "<Response [200]>\n",
      "page 51\n",
      "Number of ratings:  165591\n",
      "<Response [200]>\n",
      "page 52\n",
      "Number of ratings:  165691\n",
      "<Response [200]>\n",
      "page 53\n",
      "Number of ratings:  165791\n",
      "<Response [200]>\n",
      "page 54\n",
      "Number of ratings:  165891\n",
      "<Response [200]>\n",
      "page 55\n",
      "Number of ratings:  165991\n",
      "<Response [200]>\n",
      "page 56\n",
      "Number of ratings:  166091\n",
      "<Response [200]>\n",
      "page 57\n",
      "Number of ratings:  166191\n",
      "<Response [200]>\n",
      "page 58\n",
      "Number of ratings:  166291\n",
      "<Response [200]>\n",
      "page 59\n",
      "Number of ratings:  166391\n",
      "<Response [200]>\n",
      "page 60\n",
      "Number of ratings:  166491\n",
      "<Response [200]>\n",
      "SALIENDO = RATINGS0\n",
      "SALIENDO: not next or Rating0\n"
     ]
    },
    {
     "name": "stderr",
     "output_type": "stream",
     "text": [
      "\n",
      " 99%|█████████████████████████████████████████████████████████████████████████████▎| 452/456 [1:46:16<04:33, 68.40s/it]"
     ]
    },
    {
     "name": "stdout",
     "output_type": "stream",
     "text": [
      "folkerman\n",
      "page 0\n",
      "Number of ratings:  166522\n",
      "<Response [200]>\n",
      "SALIENDO = RATINGS0\n",
      "SALIENDO: not next or Rating0\n"
     ]
    },
    {
     "name": "stderr",
     "output_type": "stream",
     "text": [
      "\n",
      " 99%|█████████████████████████████████████████████████████████████████████████████▍| 453/456 [1:46:20<02:26, 48.96s/it]"
     ]
    },
    {
     "name": "stdout",
     "output_type": "stream",
     "text": [
      "craigandkim\n",
      "page 0\n",
      "Number of ratings:  166523\n",
      "<Response [200]>\n",
      "SALIENDO = RATINGS0\n",
      "SALIENDO: not next or Rating0\n"
     ]
    },
    {
     "name": "stderr",
     "output_type": "stream",
     "text": [
      "\n",
      "100%|█████████████████████████████████████████████████████████████████████████████▋| 454/456 [1:46:24<01:10, 35.34s/it]"
     ]
    },
    {
     "name": "stdout",
     "output_type": "stream",
     "text": [
      "alfes\n",
      "page 0\n",
      "Number of ratings:  166527\n",
      "<Response [200]>\n",
      "SALIENDO = RATINGS0\n",
      "SALIENDO: not next or Rating0\n"
     ]
    },
    {
     "name": "stderr",
     "output_type": "stream",
     "text": [
      "\n",
      "100%|█████████████████████████████████████████████████████████████████████████████▊| 455/456 [1:46:28<00:26, 26.10s/it]"
     ]
    },
    {
     "name": "stdout",
     "output_type": "stream",
     "text": [
      "ratzrotz\n",
      "page 0\n",
      "Number of ratings:  166527\n",
      "<Response [200]>\n",
      "SALIENDO = RATINGS0\n",
      "SALIENDO: not next or Rating0\n"
     ]
    },
    {
     "name": "stderr",
     "output_type": "stream",
     "text": [
      "\n",
      "100%|██████████████████████████████████████████████████████████████████████████████| 456/456 [1:46:33<00:00, 19.86s/it]"
     ]
    },
    {
     "data": {
      "text/html": [
       "<div>\n",
       "<style scoped>\n",
       "    .dataframe tbody tr th:only-of-type {\n",
       "        vertical-align: middle;\n",
       "    }\n",
       "\n",
       "    .dataframe tbody tr th {\n",
       "        vertical-align: top;\n",
       "    }\n",
       "\n",
       "    .dataframe thead th {\n",
       "        text-align: right;\n",
       "    }\n",
       "</style>\n",
       "<table border=\"1\" class=\"dataframe\">\n",
       "  <thead>\n",
       "    <tr style=\"text-align: right;\">\n",
       "      <th></th>\n",
       "      <th>user_id</th>\n",
       "      <th>master_id</th>\n",
       "      <th>rating</th>\n",
       "    </tr>\n",
       "  </thead>\n",
       "  <tbody>\n",
       "    <tr>\n",
       "      <th>0</th>\n",
       "      <td>Theseampsgotoeleven</td>\n",
       "      <td>1199306</td>\n",
       "      <td>5</td>\n",
       "    </tr>\n",
       "    <tr>\n",
       "      <th>1</th>\n",
       "      <td>Theseampsgotoeleven</td>\n",
       "      <td>341992</td>\n",
       "      <td>5</td>\n",
       "    </tr>\n",
       "    <tr>\n",
       "      <th>2</th>\n",
       "      <td>Theseampsgotoeleven</td>\n",
       "      <td>11777</td>\n",
       "      <td>5</td>\n",
       "    </tr>\n",
       "    <tr>\n",
       "      <th>3</th>\n",
       "      <td>Theseampsgotoeleven</td>\n",
       "      <td>14139</td>\n",
       "      <td>5</td>\n",
       "    </tr>\n",
       "    <tr>\n",
       "      <th>4</th>\n",
       "      <td>Theseampsgotoeleven</td>\n",
       "      <td>1485239</td>\n",
       "      <td>5</td>\n",
       "    </tr>\n",
       "    <tr>\n",
       "      <th>5</th>\n",
       "      <td>Theseampsgotoeleven</td>\n",
       "      <td>2358</td>\n",
       "      <td>5</td>\n",
       "    </tr>\n",
       "    <tr>\n",
       "      <th>6</th>\n",
       "      <td>Theseampsgotoeleven</td>\n",
       "      <td>1758844</td>\n",
       "      <td>5</td>\n",
       "    </tr>\n",
       "    <tr>\n",
       "      <th>7</th>\n",
       "      <td>Theseampsgotoeleven</td>\n",
       "      <td>1729872</td>\n",
       "      <td>5</td>\n",
       "    </tr>\n",
       "    <tr>\n",
       "      <th>8</th>\n",
       "      <td>Theseampsgotoeleven</td>\n",
       "      <td>576008</td>\n",
       "      <td>5</td>\n",
       "    </tr>\n",
       "    <tr>\n",
       "      <th>9</th>\n",
       "      <td>Theseampsgotoeleven</td>\n",
       "      <td>576001</td>\n",
       "      <td>5</td>\n",
       "    </tr>\n",
       "    <tr>\n",
       "      <th>10</th>\n",
       "      <td>Theseampsgotoeleven</td>\n",
       "      <td>387736</td>\n",
       "      <td>5</td>\n",
       "    </tr>\n",
       "    <tr>\n",
       "      <th>11</th>\n",
       "      <td>Theseampsgotoeleven</td>\n",
       "      <td>175098</td>\n",
       "      <td>5</td>\n",
       "    </tr>\n",
       "    <tr>\n",
       "      <th>12</th>\n",
       "      <td>Theseampsgotoeleven</td>\n",
       "      <td>3202</td>\n",
       "      <td>5</td>\n",
       "    </tr>\n",
       "    <tr>\n",
       "      <th>13</th>\n",
       "      <td>Theseampsgotoeleven</td>\n",
       "      <td>1729966</td>\n",
       "      <td>5</td>\n",
       "    </tr>\n",
       "    <tr>\n",
       "      <th>14</th>\n",
       "      <td>Theseampsgotoeleven</td>\n",
       "      <td>1729578</td>\n",
       "      <td>5</td>\n",
       "    </tr>\n",
       "    <tr>\n",
       "      <th>15</th>\n",
       "      <td>Theseampsgotoeleven</td>\n",
       "      <td>455565</td>\n",
       "      <td>5</td>\n",
       "    </tr>\n",
       "    <tr>\n",
       "      <th>16</th>\n",
       "      <td>Theseampsgotoeleven</td>\n",
       "      <td>41740</td>\n",
       "      <td>5</td>\n",
       "    </tr>\n",
       "    <tr>\n",
       "      <th>17</th>\n",
       "      <td>Theseampsgotoeleven</td>\n",
       "      <td>538405</td>\n",
       "      <td>5</td>\n",
       "    </tr>\n",
       "    <tr>\n",
       "      <th>18</th>\n",
       "      <td>Theseampsgotoeleven</td>\n",
       "      <td>3863</td>\n",
       "      <td>4</td>\n",
       "    </tr>\n",
       "    <tr>\n",
       "      <th>19</th>\n",
       "      <td>Theseampsgotoeleven</td>\n",
       "      <td>1915</td>\n",
       "      <td>4</td>\n",
       "    </tr>\n",
       "    <tr>\n",
       "      <th>20</th>\n",
       "      <td>Theseampsgotoeleven</td>\n",
       "      <td>1308507</td>\n",
       "      <td>4</td>\n",
       "    </tr>\n",
       "    <tr>\n",
       "      <th>21</th>\n",
       "      <td>Theseampsgotoeleven</td>\n",
       "      <td>3206</td>\n",
       "      <td>4</td>\n",
       "    </tr>\n",
       "    <tr>\n",
       "      <th>22</th>\n",
       "      <td>Theseampsgotoeleven</td>\n",
       "      <td>872</td>\n",
       "      <td>4</td>\n",
       "    </tr>\n",
       "    <tr>\n",
       "      <th>23</th>\n",
       "      <td>Theseampsgotoeleven</td>\n",
       "      <td>3299</td>\n",
       "      <td>4</td>\n",
       "    </tr>\n",
       "    <tr>\n",
       "      <th>24</th>\n",
       "      <td>Theseampsgotoeleven</td>\n",
       "      <td>2820</td>\n",
       "      <td>4</td>\n",
       "    </tr>\n",
       "    <tr>\n",
       "      <th>25</th>\n",
       "      <td>Theseampsgotoeleven</td>\n",
       "      <td>2969</td>\n",
       "      <td>4</td>\n",
       "    </tr>\n",
       "    <tr>\n",
       "      <th>26</th>\n",
       "      <td>Theseampsgotoeleven</td>\n",
       "      <td>1731763</td>\n",
       "      <td>4</td>\n",
       "    </tr>\n",
       "    <tr>\n",
       "      <th>27</th>\n",
       "      <td>Theseampsgotoeleven</td>\n",
       "      <td>513890</td>\n",
       "      <td>4</td>\n",
       "    </tr>\n",
       "    <tr>\n",
       "      <th>28</th>\n",
       "      <td>Theseampsgotoeleven</td>\n",
       "      <td>2705</td>\n",
       "      <td>3</td>\n",
       "    </tr>\n",
       "    <tr>\n",
       "      <th>29</th>\n",
       "      <td>Push</td>\n",
       "      <td>1739303</td>\n",
       "      <td>5</td>\n",
       "    </tr>\n",
       "    <tr>\n",
       "      <th>...</th>\n",
       "      <td>...</td>\n",
       "      <td>...</td>\n",
       "      <td>...</td>\n",
       "    </tr>\n",
       "    <tr>\n",
       "      <th>166497</th>\n",
       "      <td>Showbiz_Kid</td>\n",
       "      <td>1961779</td>\n",
       "      <td>2</td>\n",
       "    </tr>\n",
       "    <tr>\n",
       "      <th>166498</th>\n",
       "      <td>Showbiz_Kid</td>\n",
       "      <td>7422787</td>\n",
       "      <td>2</td>\n",
       "    </tr>\n",
       "    <tr>\n",
       "      <th>166499</th>\n",
       "      <td>Showbiz_Kid</td>\n",
       "      <td>3185165</td>\n",
       "      <td>2</td>\n",
       "    </tr>\n",
       "    <tr>\n",
       "      <th>166500</th>\n",
       "      <td>Showbiz_Kid</td>\n",
       "      <td>7088158</td>\n",
       "      <td>2</td>\n",
       "    </tr>\n",
       "    <tr>\n",
       "      <th>166501</th>\n",
       "      <td>Showbiz_Kid</td>\n",
       "      <td>5640587</td>\n",
       "      <td>2</td>\n",
       "    </tr>\n",
       "    <tr>\n",
       "      <th>166502</th>\n",
       "      <td>Showbiz_Kid</td>\n",
       "      <td>2706716</td>\n",
       "      <td>2</td>\n",
       "    </tr>\n",
       "    <tr>\n",
       "      <th>166503</th>\n",
       "      <td>Showbiz_Kid</td>\n",
       "      <td>5677799</td>\n",
       "      <td>2</td>\n",
       "    </tr>\n",
       "    <tr>\n",
       "      <th>166504</th>\n",
       "      <td>Showbiz_Kid</td>\n",
       "      <td>13346604</td>\n",
       "      <td>2</td>\n",
       "    </tr>\n",
       "    <tr>\n",
       "      <th>166505</th>\n",
       "      <td>Showbiz_Kid</td>\n",
       "      <td>3776495</td>\n",
       "      <td>2</td>\n",
       "    </tr>\n",
       "    <tr>\n",
       "      <th>166506</th>\n",
       "      <td>Showbiz_Kid</td>\n",
       "      <td>4151704</td>\n",
       "      <td>2</td>\n",
       "    </tr>\n",
       "    <tr>\n",
       "      <th>166507</th>\n",
       "      <td>Showbiz_Kid</td>\n",
       "      <td>2326420</td>\n",
       "      <td>2</td>\n",
       "    </tr>\n",
       "    <tr>\n",
       "      <th>166508</th>\n",
       "      <td>Showbiz_Kid</td>\n",
       "      <td>2096927</td>\n",
       "      <td>2</td>\n",
       "    </tr>\n",
       "    <tr>\n",
       "      <th>166509</th>\n",
       "      <td>Showbiz_Kid</td>\n",
       "      <td>5543632</td>\n",
       "      <td>2</td>\n",
       "    </tr>\n",
       "    <tr>\n",
       "      <th>166510</th>\n",
       "      <td>Showbiz_Kid</td>\n",
       "      <td>1449591</td>\n",
       "      <td>2</td>\n",
       "    </tr>\n",
       "    <tr>\n",
       "      <th>166511</th>\n",
       "      <td>Showbiz_Kid</td>\n",
       "      <td>6612442</td>\n",
       "      <td>2</td>\n",
       "    </tr>\n",
       "    <tr>\n",
       "      <th>166512</th>\n",
       "      <td>Showbiz_Kid</td>\n",
       "      <td>6043965</td>\n",
       "      <td>2</td>\n",
       "    </tr>\n",
       "    <tr>\n",
       "      <th>166513</th>\n",
       "      <td>Showbiz_Kid</td>\n",
       "      <td>1532262</td>\n",
       "      <td>2</td>\n",
       "    </tr>\n",
       "    <tr>\n",
       "      <th>166514</th>\n",
       "      <td>Showbiz_Kid</td>\n",
       "      <td>5234848</td>\n",
       "      <td>2</td>\n",
       "    </tr>\n",
       "    <tr>\n",
       "      <th>166515</th>\n",
       "      <td>Showbiz_Kid</td>\n",
       "      <td>2886980</td>\n",
       "      <td>2</td>\n",
       "    </tr>\n",
       "    <tr>\n",
       "      <th>166516</th>\n",
       "      <td>Showbiz_Kid</td>\n",
       "      <td>2511433</td>\n",
       "      <td>2</td>\n",
       "    </tr>\n",
       "    <tr>\n",
       "      <th>166517</th>\n",
       "      <td>Showbiz_Kid</td>\n",
       "      <td>8291637</td>\n",
       "      <td>2</td>\n",
       "    </tr>\n",
       "    <tr>\n",
       "      <th>166518</th>\n",
       "      <td>Showbiz_Kid</td>\n",
       "      <td>1304226</td>\n",
       "      <td>2</td>\n",
       "    </tr>\n",
       "    <tr>\n",
       "      <th>166519</th>\n",
       "      <td>Showbiz_Kid</td>\n",
       "      <td>3622532</td>\n",
       "      <td>2</td>\n",
       "    </tr>\n",
       "    <tr>\n",
       "      <th>166520</th>\n",
       "      <td>Showbiz_Kid</td>\n",
       "      <td>11365972</td>\n",
       "      <td>2</td>\n",
       "    </tr>\n",
       "    <tr>\n",
       "      <th>166521</th>\n",
       "      <td>Showbiz_Kid</td>\n",
       "      <td>7538406</td>\n",
       "      <td>2</td>\n",
       "    </tr>\n",
       "    <tr>\n",
       "      <th>166522</th>\n",
       "      <td>folkerman</td>\n",
       "      <td>13729175</td>\n",
       "      <td>5</td>\n",
       "    </tr>\n",
       "    <tr>\n",
       "      <th>166523</th>\n",
       "      <td>craigandkim</td>\n",
       "      <td>4749664</td>\n",
       "      <td>4</td>\n",
       "    </tr>\n",
       "    <tr>\n",
       "      <th>166524</th>\n",
       "      <td>craigandkim</td>\n",
       "      <td>5278669</td>\n",
       "      <td>4</td>\n",
       "    </tr>\n",
       "    <tr>\n",
       "      <th>166525</th>\n",
       "      <td>craigandkim</td>\n",
       "      <td>5774203</td>\n",
       "      <td>2</td>\n",
       "    </tr>\n",
       "    <tr>\n",
       "      <th>166526</th>\n",
       "      <td>craigandkim</td>\n",
       "      <td>669084</td>\n",
       "      <td>1</td>\n",
       "    </tr>\n",
       "  </tbody>\n",
       "</table>\n",
       "<p>166527 rows × 3 columns</p>\n",
       "</div>"
      ],
      "text/plain": [
       "                    user_id  master_id  rating\n",
       "0       Theseampsgotoeleven    1199306       5\n",
       "1       Theseampsgotoeleven     341992       5\n",
       "2       Theseampsgotoeleven      11777       5\n",
       "3       Theseampsgotoeleven      14139       5\n",
       "4       Theseampsgotoeleven    1485239       5\n",
       "5       Theseampsgotoeleven       2358       5\n",
       "6       Theseampsgotoeleven    1758844       5\n",
       "7       Theseampsgotoeleven    1729872       5\n",
       "8       Theseampsgotoeleven     576008       5\n",
       "9       Theseampsgotoeleven     576001       5\n",
       "10      Theseampsgotoeleven     387736       5\n",
       "11      Theseampsgotoeleven     175098       5\n",
       "12      Theseampsgotoeleven       3202       5\n",
       "13      Theseampsgotoeleven    1729966       5\n",
       "14      Theseampsgotoeleven    1729578       5\n",
       "15      Theseampsgotoeleven     455565       5\n",
       "16      Theseampsgotoeleven      41740       5\n",
       "17      Theseampsgotoeleven     538405       5\n",
       "18      Theseampsgotoeleven       3863       4\n",
       "19      Theseampsgotoeleven       1915       4\n",
       "20      Theseampsgotoeleven    1308507       4\n",
       "21      Theseampsgotoeleven       3206       4\n",
       "22      Theseampsgotoeleven        872       4\n",
       "23      Theseampsgotoeleven       3299       4\n",
       "24      Theseampsgotoeleven       2820       4\n",
       "25      Theseampsgotoeleven       2969       4\n",
       "26      Theseampsgotoeleven    1731763       4\n",
       "27      Theseampsgotoeleven     513890       4\n",
       "28      Theseampsgotoeleven       2705       3\n",
       "29                     Push    1739303       5\n",
       "...                     ...        ...     ...\n",
       "166497          Showbiz_Kid    1961779       2\n",
       "166498          Showbiz_Kid    7422787       2\n",
       "166499          Showbiz_Kid    3185165       2\n",
       "166500          Showbiz_Kid    7088158       2\n",
       "166501          Showbiz_Kid    5640587       2\n",
       "166502          Showbiz_Kid    2706716       2\n",
       "166503          Showbiz_Kid    5677799       2\n",
       "166504          Showbiz_Kid   13346604       2\n",
       "166505          Showbiz_Kid    3776495       2\n",
       "166506          Showbiz_Kid    4151704       2\n",
       "166507          Showbiz_Kid    2326420       2\n",
       "166508          Showbiz_Kid    2096927       2\n",
       "166509          Showbiz_Kid    5543632       2\n",
       "166510          Showbiz_Kid    1449591       2\n",
       "166511          Showbiz_Kid    6612442       2\n",
       "166512          Showbiz_Kid    6043965       2\n",
       "166513          Showbiz_Kid    1532262       2\n",
       "166514          Showbiz_Kid    5234848       2\n",
       "166515          Showbiz_Kid    2886980       2\n",
       "166516          Showbiz_Kid    2511433       2\n",
       "166517          Showbiz_Kid    8291637       2\n",
       "166518          Showbiz_Kid    1304226       2\n",
       "166519          Showbiz_Kid    3622532       2\n",
       "166520          Showbiz_Kid   11365972       2\n",
       "166521          Showbiz_Kid    7538406       2\n",
       "166522            folkerman   13729175       5\n",
       "166523          craigandkim    4749664       4\n",
       "166524          craigandkim    5278669       4\n",
       "166525          craigandkim    5774203       2\n",
       "166526          craigandkim     669084       1\n",
       "\n",
       "[166527 rows x 3 columns]"
      ]
     },
     "execution_count": 26,
     "metadata": {},
     "output_type": "execute_result"
    }
   ],
   "source": [
    "import requests\n",
    "import time\n",
    "from tqdm import tqdm\n",
    "\n",
    "listIdRating = []\n",
    "listIdRatingCount = 0\n",
    "\n",
    "for user in tqdm(usernameDfReset[\"username\"][544:1000]):\n",
    "    \n",
    "    print(user)\n",
    "    \n",
    "    page = 0\n",
    "    \n",
    "    rating0 = False\n",
    "\n",
    "    while True:\n",
    "        print(\"page\", page)\n",
    "        print(\"Number of ratings: \", listIdRatingCount)\n",
    "        r = requests.get(\"\"\"https://api.discogs.com/users/{user}/collection/folders/0/releases?&per_page=100&page={page}&sort=rating&sort_order=desc\"\"\".format(user=user, page=page))\n",
    "        print(r)\n",
    "        \n",
    "        rJson = r.json()\n",
    "        \n",
    "        if (\"releases\" in rJson):\n",
    "            for release in rJson[\"releases\"]:\n",
    "                if (release[\"rating\"] > 0):\n",
    "                    rowIdRating = [user, release[\"id\"], release[\"rating\"]]\n",
    "                    #print(rowIdRating)\n",
    "                    listIdRating.append(rowIdRating)\n",
    "                    listIdRatingCount += 1\n",
    "                else:\n",
    "                    print(\"SALIENDO = RATINGS0\")\n",
    "                    rating0 = True\n",
    "                    break    \n",
    "\n",
    "            page += 1\n",
    "\n",
    "            if (not \"next\" in rJson[\"pagination\"][\"urls\"] or rating0 == True):\n",
    "                print(\"SALIENDO: not next or Rating0\")\n",
    "                break    \n",
    "        else:\n",
    "            print(\"No hay realases en la collection del user\")\n",
    "            break\n",
    "        \n",
    "        time.sleep(0.5)\n",
    "        \n",
    "    time.sleep(1)\n",
    "    \n",
    "dfIdRating = pd.DataFrame(listIdRating, columns=[\"user_id\", \"master_id\", \"rating\"])\n",
    "dfIdRating"
   ]
  },
  {
   "cell_type": "code",
   "execution_count": 17,
   "metadata": {
    "scrolled": true
   },
   "outputs": [
    {
     "data": {
      "text/html": [
       "<div>\n",
       "<style scoped>\n",
       "    .dataframe tbody tr th:only-of-type {\n",
       "        vertical-align: middle;\n",
       "    }\n",
       "\n",
       "    .dataframe tbody tr th {\n",
       "        vertical-align: top;\n",
       "    }\n",
       "\n",
       "    .dataframe thead th {\n",
       "        text-align: right;\n",
       "    }\n",
       "</style>\n",
       "<table border=\"1\" class=\"dataframe\">\n",
       "  <thead>\n",
       "    <tr style=\"text-align: right;\">\n",
       "      <th></th>\n",
       "      <th>user_id</th>\n",
       "      <th>master_id</th>\n",
       "      <th>rating</th>\n",
       "    </tr>\n",
       "  </thead>\n",
       "  <tbody>\n",
       "    <tr>\n",
       "      <th>0</th>\n",
       "      <td>Muetze1</td>\n",
       "      <td>4663199</td>\n",
       "      <td>5</td>\n",
       "    </tr>\n",
       "    <tr>\n",
       "      <th>1</th>\n",
       "      <td>Muetze1</td>\n",
       "      <td>4603010</td>\n",
       "      <td>5</td>\n",
       "    </tr>\n",
       "    <tr>\n",
       "      <th>2</th>\n",
       "      <td>Muetze1</td>\n",
       "      <td>874215</td>\n",
       "      <td>5</td>\n",
       "    </tr>\n",
       "    <tr>\n",
       "      <th>3</th>\n",
       "      <td>tsundereviolence</td>\n",
       "      <td>4813950</td>\n",
       "      <td>5</td>\n",
       "    </tr>\n",
       "    <tr>\n",
       "      <th>4</th>\n",
       "      <td>tsundereviolence</td>\n",
       "      <td>4961694</td>\n",
       "      <td>5</td>\n",
       "    </tr>\n",
       "    <tr>\n",
       "      <th>5</th>\n",
       "      <td>tsundereviolence</td>\n",
       "      <td>4931920</td>\n",
       "      <td>5</td>\n",
       "    </tr>\n",
       "    <tr>\n",
       "      <th>6</th>\n",
       "      <td>tsundereviolence</td>\n",
       "      <td>3791668</td>\n",
       "      <td>5</td>\n",
       "    </tr>\n",
       "    <tr>\n",
       "      <th>7</th>\n",
       "      <td>tsundereviolence</td>\n",
       "      <td>3838581</td>\n",
       "      <td>5</td>\n",
       "    </tr>\n",
       "    <tr>\n",
       "      <th>8</th>\n",
       "      <td>tsundereviolence</td>\n",
       "      <td>3696347</td>\n",
       "      <td>5</td>\n",
       "    </tr>\n",
       "    <tr>\n",
       "      <th>9</th>\n",
       "      <td>tsundereviolence</td>\n",
       "      <td>5030121</td>\n",
       "      <td>5</td>\n",
       "    </tr>\n",
       "    <tr>\n",
       "      <th>10</th>\n",
       "      <td>tsundereviolence</td>\n",
       "      <td>4307608</td>\n",
       "      <td>5</td>\n",
       "    </tr>\n",
       "    <tr>\n",
       "      <th>11</th>\n",
       "      <td>tsundereviolence</td>\n",
       "      <td>4975312</td>\n",
       "      <td>5</td>\n",
       "    </tr>\n",
       "    <tr>\n",
       "      <th>12</th>\n",
       "      <td>tsundereviolence</td>\n",
       "      <td>3630255</td>\n",
       "      <td>5</td>\n",
       "    </tr>\n",
       "    <tr>\n",
       "      <th>13</th>\n",
       "      <td>tsundereviolence</td>\n",
       "      <td>3758049</td>\n",
       "      <td>5</td>\n",
       "    </tr>\n",
       "    <tr>\n",
       "      <th>14</th>\n",
       "      <td>tsundereviolence</td>\n",
       "      <td>3937467</td>\n",
       "      <td>5</td>\n",
       "    </tr>\n",
       "    <tr>\n",
       "      <th>15</th>\n",
       "      <td>tsundereviolence</td>\n",
       "      <td>3758055</td>\n",
       "      <td>5</td>\n",
       "    </tr>\n",
       "    <tr>\n",
       "      <th>16</th>\n",
       "      <td>tsundereviolence</td>\n",
       "      <td>3758039</td>\n",
       "      <td>5</td>\n",
       "    </tr>\n",
       "    <tr>\n",
       "      <th>17</th>\n",
       "      <td>tsundereviolence</td>\n",
       "      <td>3797919</td>\n",
       "      <td>5</td>\n",
       "    </tr>\n",
       "    <tr>\n",
       "      <th>18</th>\n",
       "      <td>tsundereviolence</td>\n",
       "      <td>4440361</td>\n",
       "      <td>5</td>\n",
       "    </tr>\n",
       "    <tr>\n",
       "      <th>19</th>\n",
       "      <td>tsundereviolence</td>\n",
       "      <td>4778449</td>\n",
       "      <td>5</td>\n",
       "    </tr>\n",
       "    <tr>\n",
       "      <th>20</th>\n",
       "      <td>tsundereviolence</td>\n",
       "      <td>4478208</td>\n",
       "      <td>5</td>\n",
       "    </tr>\n",
       "    <tr>\n",
       "      <th>21</th>\n",
       "      <td>tsundereviolence</td>\n",
       "      <td>3710720</td>\n",
       "      <td>5</td>\n",
       "    </tr>\n",
       "    <tr>\n",
       "      <th>22</th>\n",
       "      <td>tsundereviolence</td>\n",
       "      <td>4289526</td>\n",
       "      <td>5</td>\n",
       "    </tr>\n",
       "    <tr>\n",
       "      <th>23</th>\n",
       "      <td>tsundereviolence</td>\n",
       "      <td>3776507</td>\n",
       "      <td>5</td>\n",
       "    </tr>\n",
       "    <tr>\n",
       "      <th>24</th>\n",
       "      <td>tsundereviolence</td>\n",
       "      <td>4707249</td>\n",
       "      <td>5</td>\n",
       "    </tr>\n",
       "    <tr>\n",
       "      <th>25</th>\n",
       "      <td>tsundereviolence</td>\n",
       "      <td>4048894</td>\n",
       "      <td>5</td>\n",
       "    </tr>\n",
       "    <tr>\n",
       "      <th>26</th>\n",
       "      <td>tsundereviolence</td>\n",
       "      <td>3838427</td>\n",
       "      <td>5</td>\n",
       "    </tr>\n",
       "    <tr>\n",
       "      <th>27</th>\n",
       "      <td>tsundereviolence</td>\n",
       "      <td>4786628</td>\n",
       "      <td>5</td>\n",
       "    </tr>\n",
       "    <tr>\n",
       "      <th>28</th>\n",
       "      <td>tsundereviolence</td>\n",
       "      <td>4372975</td>\n",
       "      <td>5</td>\n",
       "    </tr>\n",
       "    <tr>\n",
       "      <th>29</th>\n",
       "      <td>tsundereviolence</td>\n",
       "      <td>4369628</td>\n",
       "      <td>5</td>\n",
       "    </tr>\n",
       "    <tr>\n",
       "      <th>...</th>\n",
       "      <td>...</td>\n",
       "      <td>...</td>\n",
       "      <td>...</td>\n",
       "    </tr>\n",
       "    <tr>\n",
       "      <th>27669</th>\n",
       "      <td>VintageVinylNL</td>\n",
       "      <td>574761</td>\n",
       "      <td>5</td>\n",
       "    </tr>\n",
       "    <tr>\n",
       "      <th>27670</th>\n",
       "      <td>VintageVinylNL</td>\n",
       "      <td>310935</td>\n",
       "      <td>5</td>\n",
       "    </tr>\n",
       "    <tr>\n",
       "      <th>27671</th>\n",
       "      <td>VintageVinylNL</td>\n",
       "      <td>820177</td>\n",
       "      <td>5</td>\n",
       "    </tr>\n",
       "    <tr>\n",
       "      <th>27672</th>\n",
       "      <td>VintageVinylNL</td>\n",
       "      <td>1221261</td>\n",
       "      <td>5</td>\n",
       "    </tr>\n",
       "    <tr>\n",
       "      <th>27673</th>\n",
       "      <td>VintageVinylNL</td>\n",
       "      <td>1131564</td>\n",
       "      <td>5</td>\n",
       "    </tr>\n",
       "    <tr>\n",
       "      <th>27674</th>\n",
       "      <td>VintageVinylNL</td>\n",
       "      <td>4044621</td>\n",
       "      <td>5</td>\n",
       "    </tr>\n",
       "    <tr>\n",
       "      <th>27675</th>\n",
       "      <td>VintageVinylNL</td>\n",
       "      <td>12422584</td>\n",
       "      <td>5</td>\n",
       "    </tr>\n",
       "    <tr>\n",
       "      <th>27676</th>\n",
       "      <td>VintageVinylNL</td>\n",
       "      <td>143379</td>\n",
       "      <td>5</td>\n",
       "    </tr>\n",
       "    <tr>\n",
       "      <th>27677</th>\n",
       "      <td>VintageVinylNL</td>\n",
       "      <td>163414</td>\n",
       "      <td>5</td>\n",
       "    </tr>\n",
       "    <tr>\n",
       "      <th>27678</th>\n",
       "      <td>VintageVinylNL</td>\n",
       "      <td>492055</td>\n",
       "      <td>5</td>\n",
       "    </tr>\n",
       "    <tr>\n",
       "      <th>27679</th>\n",
       "      <td>VintageVinylNL</td>\n",
       "      <td>200800</td>\n",
       "      <td>5</td>\n",
       "    </tr>\n",
       "    <tr>\n",
       "      <th>27680</th>\n",
       "      <td>VintageVinylNL</td>\n",
       "      <td>314883</td>\n",
       "      <td>5</td>\n",
       "    </tr>\n",
       "    <tr>\n",
       "      <th>27681</th>\n",
       "      <td>VintageVinylNL</td>\n",
       "      <td>4193923</td>\n",
       "      <td>5</td>\n",
       "    </tr>\n",
       "    <tr>\n",
       "      <th>27682</th>\n",
       "      <td>VintageVinylNL</td>\n",
       "      <td>5416792</td>\n",
       "      <td>5</td>\n",
       "    </tr>\n",
       "    <tr>\n",
       "      <th>27683</th>\n",
       "      <td>VintageVinylNL</td>\n",
       "      <td>5416792</td>\n",
       "      <td>5</td>\n",
       "    </tr>\n",
       "    <tr>\n",
       "      <th>27684</th>\n",
       "      <td>VintageVinylNL</td>\n",
       "      <td>20690</td>\n",
       "      <td>5</td>\n",
       "    </tr>\n",
       "    <tr>\n",
       "      <th>27685</th>\n",
       "      <td>VintageVinylNL</td>\n",
       "      <td>752970</td>\n",
       "      <td>5</td>\n",
       "    </tr>\n",
       "    <tr>\n",
       "      <th>27686</th>\n",
       "      <td>VintageVinylNL</td>\n",
       "      <td>6344846</td>\n",
       "      <td>5</td>\n",
       "    </tr>\n",
       "    <tr>\n",
       "      <th>27687</th>\n",
       "      <td>VintageVinylNL</td>\n",
       "      <td>1841104</td>\n",
       "      <td>5</td>\n",
       "    </tr>\n",
       "    <tr>\n",
       "      <th>27688</th>\n",
       "      <td>VintageVinylNL</td>\n",
       "      <td>8678508</td>\n",
       "      <td>5</td>\n",
       "    </tr>\n",
       "    <tr>\n",
       "      <th>27689</th>\n",
       "      <td>VintageVinylNL</td>\n",
       "      <td>3662267</td>\n",
       "      <td>5</td>\n",
       "    </tr>\n",
       "    <tr>\n",
       "      <th>27690</th>\n",
       "      <td>VintageVinylNL</td>\n",
       "      <td>5649276</td>\n",
       "      <td>5</td>\n",
       "    </tr>\n",
       "    <tr>\n",
       "      <th>27691</th>\n",
       "      <td>VintageVinylNL</td>\n",
       "      <td>5649276</td>\n",
       "      <td>5</td>\n",
       "    </tr>\n",
       "    <tr>\n",
       "      <th>27692</th>\n",
       "      <td>VintageVinylNL</td>\n",
       "      <td>5649276</td>\n",
       "      <td>5</td>\n",
       "    </tr>\n",
       "    <tr>\n",
       "      <th>27693</th>\n",
       "      <td>VintageVinylNL</td>\n",
       "      <td>1179870</td>\n",
       "      <td>5</td>\n",
       "    </tr>\n",
       "    <tr>\n",
       "      <th>27694</th>\n",
       "      <td>VintageVinylNL</td>\n",
       "      <td>486854</td>\n",
       "      <td>5</td>\n",
       "    </tr>\n",
       "    <tr>\n",
       "      <th>27695</th>\n",
       "      <td>VintageVinylNL</td>\n",
       "      <td>405404</td>\n",
       "      <td>5</td>\n",
       "    </tr>\n",
       "    <tr>\n",
       "      <th>27696</th>\n",
       "      <td>VintageVinylNL</td>\n",
       "      <td>325001</td>\n",
       "      <td>5</td>\n",
       "    </tr>\n",
       "    <tr>\n",
       "      <th>27697</th>\n",
       "      <td>VintageVinylNL</td>\n",
       "      <td>10975826</td>\n",
       "      <td>5</td>\n",
       "    </tr>\n",
       "    <tr>\n",
       "      <th>27698</th>\n",
       "      <td>VintageVinylNL</td>\n",
       "      <td>110289</td>\n",
       "      <td>5</td>\n",
       "    </tr>\n",
       "  </tbody>\n",
       "</table>\n",
       "<p>27699 rows × 3 columns</p>\n",
       "</div>"
      ],
      "text/plain": [
       "                user_id  master_id  rating\n",
       "0               Muetze1    4663199       5\n",
       "1               Muetze1    4603010       5\n",
       "2               Muetze1     874215       5\n",
       "3      tsundereviolence    4813950       5\n",
       "4      tsundereviolence    4961694       5\n",
       "5      tsundereviolence    4931920       5\n",
       "6      tsundereviolence    3791668       5\n",
       "7      tsundereviolence    3838581       5\n",
       "8      tsundereviolence    3696347       5\n",
       "9      tsundereviolence    5030121       5\n",
       "10     tsundereviolence    4307608       5\n",
       "11     tsundereviolence    4975312       5\n",
       "12     tsundereviolence    3630255       5\n",
       "13     tsundereviolence    3758049       5\n",
       "14     tsundereviolence    3937467       5\n",
       "15     tsundereviolence    3758055       5\n",
       "16     tsundereviolence    3758039       5\n",
       "17     tsundereviolence    3797919       5\n",
       "18     tsundereviolence    4440361       5\n",
       "19     tsundereviolence    4778449       5\n",
       "20     tsundereviolence    4478208       5\n",
       "21     tsundereviolence    3710720       5\n",
       "22     tsundereviolence    4289526       5\n",
       "23     tsundereviolence    3776507       5\n",
       "24     tsundereviolence    4707249       5\n",
       "25     tsundereviolence    4048894       5\n",
       "26     tsundereviolence    3838427       5\n",
       "27     tsundereviolence    4786628       5\n",
       "28     tsundereviolence    4372975       5\n",
       "29     tsundereviolence    4369628       5\n",
       "...                 ...        ...     ...\n",
       "27669    VintageVinylNL     574761       5\n",
       "27670    VintageVinylNL     310935       5\n",
       "27671    VintageVinylNL     820177       5\n",
       "27672    VintageVinylNL    1221261       5\n",
       "27673    VintageVinylNL    1131564       5\n",
       "27674    VintageVinylNL    4044621       5\n",
       "27675    VintageVinylNL   12422584       5\n",
       "27676    VintageVinylNL     143379       5\n",
       "27677    VintageVinylNL     163414       5\n",
       "27678    VintageVinylNL     492055       5\n",
       "27679    VintageVinylNL     200800       5\n",
       "27680    VintageVinylNL     314883       5\n",
       "27681    VintageVinylNL    4193923       5\n",
       "27682    VintageVinylNL    5416792       5\n",
       "27683    VintageVinylNL    5416792       5\n",
       "27684    VintageVinylNL      20690       5\n",
       "27685    VintageVinylNL     752970       5\n",
       "27686    VintageVinylNL    6344846       5\n",
       "27687    VintageVinylNL    1841104       5\n",
       "27688    VintageVinylNL    8678508       5\n",
       "27689    VintageVinylNL    3662267       5\n",
       "27690    VintageVinylNL    5649276       5\n",
       "27691    VintageVinylNL    5649276       5\n",
       "27692    VintageVinylNL    5649276       5\n",
       "27693    VintageVinylNL    1179870       5\n",
       "27694    VintageVinylNL     486854       5\n",
       "27695    VintageVinylNL     405404       5\n",
       "27696    VintageVinylNL     325001       5\n",
       "27697    VintageVinylNL   10975826       5\n",
       "27698    VintageVinylNL     110289       5\n",
       "\n",
       "[27699 rows x 3 columns]"
      ]
     },
     "execution_count": 17,
     "metadata": {},
     "output_type": "execute_result"
    }
   ],
   "source": [
    "dfIdRating = pd.DataFrame(listIdRating, columns=[\"user_id\", \"master_id\", \"rating\"])\n",
    "dfIdRating"
   ]
  },
  {
   "cell_type": "code",
   "execution_count": 27,
   "metadata": {
    "scrolled": true
   },
   "outputs": [],
   "source": [
    "dfIdRating.to_csv(path_or_buf = \"../TFM Files/usernameRatings1.csv\" , index=False)"
   ]
  },
  {
   "cell_type": "markdown",
   "metadata": {},
   "source": [
    "<p>Debido a que el servidor de Discogs bloquea las peticiones por exceso de peticiones, tenemos que verificar cuál es el último índice conseguido y continuar las peticiones desde ahí.</p>\n",
    "<p>Por lo tanto, fusionamos las dos tablas en una, para tener el global de usuarios en una única tabla.</p>"
   ]
  },
  {
   "cell_type": "code",
   "execution_count": 29,
   "metadata": {},
   "outputs": [],
   "source": [
    "usernameRatingsCSV = '../TFM Files/usernameRatings.csv'\n",
    "usernameRatingsCSV1 = '../TFM Files/usernameRatings1.csv'\n",
    "\n",
    "dfusernameRatingsCSV = pd.read_csv(usernameRatingsCSV)\n",
    "dfusernameRatingsCSV1 = pd.read_csv(usernameRatingsCSV1)\n",
    "\n",
    "frames = [dfusernameRatingsCSV, dfusernameRatingsCSV1]\n",
    "joinedDFs = pd.concat(frames)\n",
    "\n",
    "joinedDFs.to_csv(path_or_buf = \"../TFM Files/usernameRatingsMerged.csv\" , index=False)"
   ]
  },
  {
   "cell_type": "markdown",
   "metadata": {},
   "source": [
    "<p>Recogemos el número de usuarios de los que tenemos ratings</p>"
   ]
  },
  {
   "cell_type": "code",
   "execution_count": 30,
   "metadata": {
    "scrolled": true
   },
   "outputs": [
    {
     "data": {
      "text/html": [
       "<div>\n",
       "<style scoped>\n",
       "    .dataframe tbody tr th:only-of-type {\n",
       "        vertical-align: middle;\n",
       "    }\n",
       "\n",
       "    .dataframe tbody tr th {\n",
       "        vertical-align: top;\n",
       "    }\n",
       "\n",
       "    .dataframe thead th {\n",
       "        text-align: right;\n",
       "    }\n",
       "</style>\n",
       "<table border=\"1\" class=\"dataframe\">\n",
       "  <thead>\n",
       "    <tr style=\"text-align: right;\">\n",
       "      <th></th>\n",
       "      <th>user_id</th>\n",
       "      <th>master_id</th>\n",
       "      <th>rating</th>\n",
       "    </tr>\n",
       "  </thead>\n",
       "  <tbody>\n",
       "    <tr>\n",
       "      <th>0</th>\n",
       "      <td>andygrayrecords</td>\n",
       "      <td>2336028</td>\n",
       "      <td>5</td>\n",
       "    </tr>\n",
       "    <tr>\n",
       "      <th>1</th>\n",
       "      <td>andygrayrecords</td>\n",
       "      <td>12579831</td>\n",
       "      <td>5</td>\n",
       "    </tr>\n",
       "    <tr>\n",
       "      <th>2</th>\n",
       "      <td>DarreLP</td>\n",
       "      <td>5018675</td>\n",
       "      <td>5</td>\n",
       "    </tr>\n",
       "    <tr>\n",
       "      <th>3</th>\n",
       "      <td>DarreLP</td>\n",
       "      <td>9436063</td>\n",
       "      <td>5</td>\n",
       "    </tr>\n",
       "    <tr>\n",
       "      <th>4</th>\n",
       "      <td>DarreLP</td>\n",
       "      <td>5423437</td>\n",
       "      <td>5</td>\n",
       "    </tr>\n",
       "    <tr>\n",
       "      <th>5</th>\n",
       "      <td>DarreLP</td>\n",
       "      <td>214559</td>\n",
       "      <td>5</td>\n",
       "    </tr>\n",
       "    <tr>\n",
       "      <th>6</th>\n",
       "      <td>DarreLP</td>\n",
       "      <td>5846974</td>\n",
       "      <td>5</td>\n",
       "    </tr>\n",
       "    <tr>\n",
       "      <th>7</th>\n",
       "      <td>DarreLP</td>\n",
       "      <td>11151270</td>\n",
       "      <td>5</td>\n",
       "    </tr>\n",
       "    <tr>\n",
       "      <th>8</th>\n",
       "      <td>DarreLP</td>\n",
       "      <td>2276858</td>\n",
       "      <td>5</td>\n",
       "    </tr>\n",
       "    <tr>\n",
       "      <th>9</th>\n",
       "      <td>DarreLP</td>\n",
       "      <td>8867485</td>\n",
       "      <td>5</td>\n",
       "    </tr>\n",
       "    <tr>\n",
       "      <th>10</th>\n",
       "      <td>DarreLP</td>\n",
       "      <td>8867510</td>\n",
       "      <td>5</td>\n",
       "    </tr>\n",
       "    <tr>\n",
       "      <th>11</th>\n",
       "      <td>DarreLP</td>\n",
       "      <td>377537</td>\n",
       "      <td>5</td>\n",
       "    </tr>\n",
       "    <tr>\n",
       "      <th>12</th>\n",
       "      <td>DarreLP</td>\n",
       "      <td>1445801</td>\n",
       "      <td>5</td>\n",
       "    </tr>\n",
       "    <tr>\n",
       "      <th>13</th>\n",
       "      <td>DarreLP</td>\n",
       "      <td>1581600</td>\n",
       "      <td>5</td>\n",
       "    </tr>\n",
       "    <tr>\n",
       "      <th>14</th>\n",
       "      <td>DarreLP</td>\n",
       "      <td>10844664</td>\n",
       "      <td>5</td>\n",
       "    </tr>\n",
       "    <tr>\n",
       "      <th>15</th>\n",
       "      <td>DarreLP</td>\n",
       "      <td>10170246</td>\n",
       "      <td>5</td>\n",
       "    </tr>\n",
       "    <tr>\n",
       "      <th>16</th>\n",
       "      <td>DarreLP</td>\n",
       "      <td>1511099</td>\n",
       "      <td>5</td>\n",
       "    </tr>\n",
       "    <tr>\n",
       "      <th>17</th>\n",
       "      <td>DarreLP</td>\n",
       "      <td>7375186</td>\n",
       "      <td>5</td>\n",
       "    </tr>\n",
       "    <tr>\n",
       "      <th>18</th>\n",
       "      <td>DarreLP</td>\n",
       "      <td>5612436</td>\n",
       "      <td>5</td>\n",
       "    </tr>\n",
       "    <tr>\n",
       "      <th>19</th>\n",
       "      <td>DarreLP</td>\n",
       "      <td>7923063</td>\n",
       "      <td>5</td>\n",
       "    </tr>\n",
       "    <tr>\n",
       "      <th>20</th>\n",
       "      <td>DarreLP</td>\n",
       "      <td>5097003</td>\n",
       "      <td>5</td>\n",
       "    </tr>\n",
       "    <tr>\n",
       "      <th>21</th>\n",
       "      <td>DarreLP</td>\n",
       "      <td>11724844</td>\n",
       "      <td>5</td>\n",
       "    </tr>\n",
       "    <tr>\n",
       "      <th>22</th>\n",
       "      <td>DarreLP</td>\n",
       "      <td>112376</td>\n",
       "      <td>5</td>\n",
       "    </tr>\n",
       "    <tr>\n",
       "      <th>23</th>\n",
       "      <td>DarreLP</td>\n",
       "      <td>2585893</td>\n",
       "      <td>5</td>\n",
       "    </tr>\n",
       "    <tr>\n",
       "      <th>24</th>\n",
       "      <td>DarreLP</td>\n",
       "      <td>4655640</td>\n",
       "      <td>5</td>\n",
       "    </tr>\n",
       "    <tr>\n",
       "      <th>25</th>\n",
       "      <td>DarreLP</td>\n",
       "      <td>8039703</td>\n",
       "      <td>5</td>\n",
       "    </tr>\n",
       "    <tr>\n",
       "      <th>26</th>\n",
       "      <td>DarreLP</td>\n",
       "      <td>1382899</td>\n",
       "      <td>5</td>\n",
       "    </tr>\n",
       "    <tr>\n",
       "      <th>27</th>\n",
       "      <td>DarreLP</td>\n",
       "      <td>11544153</td>\n",
       "      <td>5</td>\n",
       "    </tr>\n",
       "    <tr>\n",
       "      <th>28</th>\n",
       "      <td>DarreLP</td>\n",
       "      <td>12225406</td>\n",
       "      <td>5</td>\n",
       "    </tr>\n",
       "    <tr>\n",
       "      <th>29</th>\n",
       "      <td>DarreLP</td>\n",
       "      <td>2515439</td>\n",
       "      <td>5</td>\n",
       "    </tr>\n",
       "    <tr>\n",
       "      <th>...</th>\n",
       "      <td>...</td>\n",
       "      <td>...</td>\n",
       "      <td>...</td>\n",
       "    </tr>\n",
       "    <tr>\n",
       "      <th>379922</th>\n",
       "      <td>Showbiz_Kid</td>\n",
       "      <td>1961779</td>\n",
       "      <td>2</td>\n",
       "    </tr>\n",
       "    <tr>\n",
       "      <th>379923</th>\n",
       "      <td>Showbiz_Kid</td>\n",
       "      <td>7422787</td>\n",
       "      <td>2</td>\n",
       "    </tr>\n",
       "    <tr>\n",
       "      <th>379924</th>\n",
       "      <td>Showbiz_Kid</td>\n",
       "      <td>3185165</td>\n",
       "      <td>2</td>\n",
       "    </tr>\n",
       "    <tr>\n",
       "      <th>379925</th>\n",
       "      <td>Showbiz_Kid</td>\n",
       "      <td>7088158</td>\n",
       "      <td>2</td>\n",
       "    </tr>\n",
       "    <tr>\n",
       "      <th>379926</th>\n",
       "      <td>Showbiz_Kid</td>\n",
       "      <td>5640587</td>\n",
       "      <td>2</td>\n",
       "    </tr>\n",
       "    <tr>\n",
       "      <th>379927</th>\n",
       "      <td>Showbiz_Kid</td>\n",
       "      <td>2706716</td>\n",
       "      <td>2</td>\n",
       "    </tr>\n",
       "    <tr>\n",
       "      <th>379928</th>\n",
       "      <td>Showbiz_Kid</td>\n",
       "      <td>5677799</td>\n",
       "      <td>2</td>\n",
       "    </tr>\n",
       "    <tr>\n",
       "      <th>379929</th>\n",
       "      <td>Showbiz_Kid</td>\n",
       "      <td>13346604</td>\n",
       "      <td>2</td>\n",
       "    </tr>\n",
       "    <tr>\n",
       "      <th>379930</th>\n",
       "      <td>Showbiz_Kid</td>\n",
       "      <td>3776495</td>\n",
       "      <td>2</td>\n",
       "    </tr>\n",
       "    <tr>\n",
       "      <th>379931</th>\n",
       "      <td>Showbiz_Kid</td>\n",
       "      <td>4151704</td>\n",
       "      <td>2</td>\n",
       "    </tr>\n",
       "    <tr>\n",
       "      <th>379932</th>\n",
       "      <td>Showbiz_Kid</td>\n",
       "      <td>2326420</td>\n",
       "      <td>2</td>\n",
       "    </tr>\n",
       "    <tr>\n",
       "      <th>379933</th>\n",
       "      <td>Showbiz_Kid</td>\n",
       "      <td>2096927</td>\n",
       "      <td>2</td>\n",
       "    </tr>\n",
       "    <tr>\n",
       "      <th>379934</th>\n",
       "      <td>Showbiz_Kid</td>\n",
       "      <td>5543632</td>\n",
       "      <td>2</td>\n",
       "    </tr>\n",
       "    <tr>\n",
       "      <th>379935</th>\n",
       "      <td>Showbiz_Kid</td>\n",
       "      <td>1449591</td>\n",
       "      <td>2</td>\n",
       "    </tr>\n",
       "    <tr>\n",
       "      <th>379936</th>\n",
       "      <td>Showbiz_Kid</td>\n",
       "      <td>6612442</td>\n",
       "      <td>2</td>\n",
       "    </tr>\n",
       "    <tr>\n",
       "      <th>379937</th>\n",
       "      <td>Showbiz_Kid</td>\n",
       "      <td>6043965</td>\n",
       "      <td>2</td>\n",
       "    </tr>\n",
       "    <tr>\n",
       "      <th>379938</th>\n",
       "      <td>Showbiz_Kid</td>\n",
       "      <td>1532262</td>\n",
       "      <td>2</td>\n",
       "    </tr>\n",
       "    <tr>\n",
       "      <th>379939</th>\n",
       "      <td>Showbiz_Kid</td>\n",
       "      <td>5234848</td>\n",
       "      <td>2</td>\n",
       "    </tr>\n",
       "    <tr>\n",
       "      <th>379940</th>\n",
       "      <td>Showbiz_Kid</td>\n",
       "      <td>2886980</td>\n",
       "      <td>2</td>\n",
       "    </tr>\n",
       "    <tr>\n",
       "      <th>379941</th>\n",
       "      <td>Showbiz_Kid</td>\n",
       "      <td>2511433</td>\n",
       "      <td>2</td>\n",
       "    </tr>\n",
       "    <tr>\n",
       "      <th>379942</th>\n",
       "      <td>Showbiz_Kid</td>\n",
       "      <td>8291637</td>\n",
       "      <td>2</td>\n",
       "    </tr>\n",
       "    <tr>\n",
       "      <th>379943</th>\n",
       "      <td>Showbiz_Kid</td>\n",
       "      <td>1304226</td>\n",
       "      <td>2</td>\n",
       "    </tr>\n",
       "    <tr>\n",
       "      <th>379944</th>\n",
       "      <td>Showbiz_Kid</td>\n",
       "      <td>3622532</td>\n",
       "      <td>2</td>\n",
       "    </tr>\n",
       "    <tr>\n",
       "      <th>379945</th>\n",
       "      <td>Showbiz_Kid</td>\n",
       "      <td>11365972</td>\n",
       "      <td>2</td>\n",
       "    </tr>\n",
       "    <tr>\n",
       "      <th>379946</th>\n",
       "      <td>Showbiz_Kid</td>\n",
       "      <td>7538406</td>\n",
       "      <td>2</td>\n",
       "    </tr>\n",
       "    <tr>\n",
       "      <th>379947</th>\n",
       "      <td>folkerman</td>\n",
       "      <td>13729175</td>\n",
       "      <td>5</td>\n",
       "    </tr>\n",
       "    <tr>\n",
       "      <th>379948</th>\n",
       "      <td>craigandkim</td>\n",
       "      <td>4749664</td>\n",
       "      <td>4</td>\n",
       "    </tr>\n",
       "    <tr>\n",
       "      <th>379949</th>\n",
       "      <td>craigandkim</td>\n",
       "      <td>5278669</td>\n",
       "      <td>4</td>\n",
       "    </tr>\n",
       "    <tr>\n",
       "      <th>379950</th>\n",
       "      <td>craigandkim</td>\n",
       "      <td>5774203</td>\n",
       "      <td>2</td>\n",
       "    </tr>\n",
       "    <tr>\n",
       "      <th>379951</th>\n",
       "      <td>craigandkim</td>\n",
       "      <td>669084</td>\n",
       "      <td>1</td>\n",
       "    </tr>\n",
       "  </tbody>\n",
       "</table>\n",
       "<p>379952 rows × 3 columns</p>\n",
       "</div>"
      ],
      "text/plain": [
       "                user_id  master_id  rating\n",
       "0       andygrayrecords    2336028       5\n",
       "1       andygrayrecords   12579831       5\n",
       "2               DarreLP    5018675       5\n",
       "3               DarreLP    9436063       5\n",
       "4               DarreLP    5423437       5\n",
       "5               DarreLP     214559       5\n",
       "6               DarreLP    5846974       5\n",
       "7               DarreLP   11151270       5\n",
       "8               DarreLP    2276858       5\n",
       "9               DarreLP    8867485       5\n",
       "10              DarreLP    8867510       5\n",
       "11              DarreLP     377537       5\n",
       "12              DarreLP    1445801       5\n",
       "13              DarreLP    1581600       5\n",
       "14              DarreLP   10844664       5\n",
       "15              DarreLP   10170246       5\n",
       "16              DarreLP    1511099       5\n",
       "17              DarreLP    7375186       5\n",
       "18              DarreLP    5612436       5\n",
       "19              DarreLP    7923063       5\n",
       "20              DarreLP    5097003       5\n",
       "21              DarreLP   11724844       5\n",
       "22              DarreLP     112376       5\n",
       "23              DarreLP    2585893       5\n",
       "24              DarreLP    4655640       5\n",
       "25              DarreLP    8039703       5\n",
       "26              DarreLP    1382899       5\n",
       "27              DarreLP   11544153       5\n",
       "28              DarreLP   12225406       5\n",
       "29              DarreLP    2515439       5\n",
       "...                 ...        ...     ...\n",
       "379922      Showbiz_Kid    1961779       2\n",
       "379923      Showbiz_Kid    7422787       2\n",
       "379924      Showbiz_Kid    3185165       2\n",
       "379925      Showbiz_Kid    7088158       2\n",
       "379926      Showbiz_Kid    5640587       2\n",
       "379927      Showbiz_Kid    2706716       2\n",
       "379928      Showbiz_Kid    5677799       2\n",
       "379929      Showbiz_Kid   13346604       2\n",
       "379930      Showbiz_Kid    3776495       2\n",
       "379931      Showbiz_Kid    4151704       2\n",
       "379932      Showbiz_Kid    2326420       2\n",
       "379933      Showbiz_Kid    2096927       2\n",
       "379934      Showbiz_Kid    5543632       2\n",
       "379935      Showbiz_Kid    1449591       2\n",
       "379936      Showbiz_Kid    6612442       2\n",
       "379937      Showbiz_Kid    6043965       2\n",
       "379938      Showbiz_Kid    1532262       2\n",
       "379939      Showbiz_Kid    5234848       2\n",
       "379940      Showbiz_Kid    2886980       2\n",
       "379941      Showbiz_Kid    2511433       2\n",
       "379942      Showbiz_Kid    8291637       2\n",
       "379943      Showbiz_Kid    1304226       2\n",
       "379944      Showbiz_Kid    3622532       2\n",
       "379945      Showbiz_Kid   11365972       2\n",
       "379946      Showbiz_Kid    7538406       2\n",
       "379947        folkerman   13729175       5\n",
       "379948      craigandkim    4749664       4\n",
       "379949      craigandkim    5278669       4\n",
       "379950      craigandkim    5774203       2\n",
       "379951      craigandkim     669084       1\n",
       "\n",
       "[379952 rows x 3 columns]"
      ]
     },
     "execution_count": 30,
     "metadata": {},
     "output_type": "execute_result"
    }
   ],
   "source": [
    "usernameRatingsCSV = '../TFM Files/usernameRatingsMerged.csv'\n",
    "\n",
    "dfRatings = pd.read_csv(usernameRatingsCSV)\n",
    "dfRatings"
   ]
  },
  {
   "cell_type": "code",
   "execution_count": 31,
   "metadata": {
    "scrolled": true
   },
   "outputs": [
    {
     "name": "stdout",
     "output_type": "stream",
     "text": [
      "Número de usuarios (con repetidos):  user_id      379952\n",
      "master_id    379952\n",
      "rating       379952\n",
      "dtype: int64\n",
      "Número de usuarios:  user_id      535\n",
      "master_id    535\n",
      "rating       535\n",
      "dtype: int64\n"
     ]
    }
   ],
   "source": [
    "print(\"Número de usuarios (con repetidos): \", dfRatings.count())\n",
    "dfUsersRatings = dfRatings.drop_duplicates(\"user_id\")\n",
    "print(\"Número de usuarios: \", dfUsersRatings.count())"
   ]
  },
  {
   "cell_type": "markdown",
   "metadata": {},
   "source": [
    "<p>Sacamos el id del último usuario del que tenemos datos para seguir desde ahí.</p>"
   ]
  },
  {
   "cell_type": "code",
   "execution_count": 32,
   "metadata": {},
   "outputs": [
    {
     "data": {
      "text/html": [
       "<div>\n",
       "<style scoped>\n",
       "    .dataframe tbody tr th:only-of-type {\n",
       "        vertical-align: middle;\n",
       "    }\n",
       "\n",
       "    .dataframe tbody tr th {\n",
       "        vertical-align: top;\n",
       "    }\n",
       "\n",
       "    .dataframe thead th {\n",
       "        text-align: right;\n",
       "    }\n",
       "</style>\n",
       "<table border=\"1\" class=\"dataframe\">\n",
       "  <thead>\n",
       "    <tr style=\"text-align: right;\">\n",
       "      <th></th>\n",
       "      <th>username</th>\n",
       "    </tr>\n",
       "  </thead>\n",
       "  <tbody>\n",
       "    <tr>\n",
       "      <th>544</th>\n",
       "      <td>Theseampsgotoeleven</td>\n",
       "    </tr>\n",
       "  </tbody>\n",
       "</table>\n",
       "</div>"
      ],
      "text/plain": [
       "                username\n",
       "544  Theseampsgotoeleven"
      ]
     },
     "execution_count": 32,
     "metadata": {},
     "output_type": "execute_result"
    }
   ],
   "source": [
    "lastUser = usernameDfReset.tail(1)\n",
    "\n",
    "currentIdDf = usernameDfReset.loc[usernameDfReset['username'] == \"Theseampsgotoeleven\"]\n",
    "currentIdDf"
   ]
  }
 ],
 "metadata": {
  "kernelspec": {
   "display_name": "Python 3",
   "language": "python",
   "name": "python3"
  },
  "language_info": {
   "codemirror_mode": {
    "name": "ipython",
    "version": 3
   },
   "file_extension": ".py",
   "mimetype": "text/x-python",
   "name": "python",
   "nbconvert_exporter": "python",
   "pygments_lexer": "ipython3",
   "version": "3.7.3"
  }
 },
 "nbformat": 4,
 "nbformat_minor": 2
}
