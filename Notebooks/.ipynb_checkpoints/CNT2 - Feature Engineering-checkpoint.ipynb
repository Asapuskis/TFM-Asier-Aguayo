{
 "cells": [
  {
   "cell_type": "markdown",
   "metadata": {},
   "source": [
    "<h2>Importación de librerías</h2>"
   ]
  },
  {
   "cell_type": "code",
   "execution_count": 1,
   "metadata": {},
   "outputs": [],
   "source": [
    "from pyspark import SparkContext, SparkConf\n",
    "from pyspark.sql.session import SparkSession\n",
    "from pyspark.sql import SQLContext\n",
    "\n",
    "# Carga del paquete databricks:spark-xml para pasar directamente de XML a dataframe\n",
    "import os\n",
    "from os import environ\n",
    "environ['PYSPARK_SUBMIT_ARGS'] = '--packages com.databricks:spark-xml_2.10:0.4.1 pyspark-shell'\n",
    "\n",
    "from pyspark.sql.functions import *\n",
    "from pyspark.sql.types import *\n"
   ]
  },
  {
   "cell_type": "markdown",
   "metadata": {},
   "source": [
    "<h2>Configuración de Spark</h2>"
   ]
  },
  {
   "cell_type": "code",
   "execution_count": 2,
   "metadata": {
    "scrolled": true
   },
   "outputs": [],
   "source": [
    "#conf = SparkConf()\\\n",
    "#        .setAppName(\"tfm01\")\\\n",
    "#        .setMaster(\"local\")\n",
    "\n",
    "conf = SparkConf()\\\n",
    "        .setAppName(\"tfm03\")\\\n",
    "        .setMaster(\"spark://192.168.2.132:7077\")\n",
    "    \n",
    "sc = SparkContext(conf=conf)\n",
    "\n",
    "sqlContext = SQLContext(sc)"
   ]
  },
  {
   "cell_type": "markdown",
   "metadata": {},
   "source": [
    "<h2>Carga del fichero JSON</h2> "
   ]
  },
  {
   "cell_type": "code",
   "execution_count": 3,
   "metadata": {
    "scrolled": false
   },
   "outputs": [
    {
     "data": {
      "text/plain": [
       "69955"
      ]
     },
     "execution_count": 3,
     "metadata": {},
     "output_type": "execute_result"
    }
   ],
   "source": [
    "#Definición de los archivos XML \n",
    "mastersReleasesJoinedFile = '../TFM Files/CNT1.3 - MastersReleasesJoined/MastersReleasesJoined.json'\n",
    "\n",
    "\n",
    "\n",
    "dfMRJ = sqlContext.read.format(\"json\")\\\n",
    "                        .load(mastersReleasesJoinedFile)\n",
    "    \n",
    "dfMRJ.count()"
   ]
  },
  {
   "cell_type": "code",
   "execution_count": 4,
   "metadata": {},
   "outputs": [],
   "source": [
    "dfMRJ = dfMRJ.select(\"master_id\", \n",
    "                       \"title\", \n",
    "                       \"year\", \n",
    "                       \"formats\", \n",
    "                       \"duration\", \n",
    "                       \"number_tracks\", \n",
    "                       \"artists\",  \n",
    "                       \"country\",   \n",
    "                       \"companies\", \n",
    "                       \"genres\", \n",
    "                       \"styles\")\\\n",
    "                .orderBy(\"master_id\")"
   ]
  },
  {
   "cell_type": "markdown",
   "metadata": {},
   "source": [
    "<h4>Creación de columnas por formato. </h4>\n",
    "<p>Como hay publicaciones con varios formatos, se ha decicido crear una columna por cada tipo diferente de formato e indicar con un 1 si se ha publicado en ese formato y con un 0 si no se ha hecho así. Se ha tomado esta decisión basándose en el algoritmo OneHotEncoder. En este caso, al tratarse de más de un valor, se utiliza la idea del MultilabelBinarizer implementado entre otros en Sklearn.</p>"
   ]
  },
  {
   "cell_type": "code",
   "execution_count": 5,
   "metadata": {
    "scrolled": true
   },
   "outputs": [
    {
     "name": "stdout",
     "output_type": "stream",
     "text": [
      "+-----------------+\n",
      "|       formatsSep|\n",
      "+-----------------+\n",
      "|       Betacam SP|\n",
      "|            Vinyl|\n",
      "|8-Track Cartridge|\n",
      "|         Cassette|\n",
      "|          Box Set|\n",
      "|     Reel-To-Reel|\n",
      "|              CDV|\n",
      "|              DVD|\n",
      "|          Acetate|\n",
      "|        Lathe Cut|\n",
      "|           MiniDV|\n",
      "|             DVDr|\n",
      "|          Blu-ray|\n",
      "|          Shellac|\n",
      "|              CDr|\n",
      "|        All Media|\n",
      "|             SACD|\n",
      "|           Hybrid|\n",
      "|             File|\n",
      "|        Laserdisc|\n",
      "|              VHS|\n",
      "|    SelectaVision|\n",
      "|          Betamax|\n",
      "|     Memory Stick|\n",
      "|       Flexi-disc|\n",
      "|              DCC|\n",
      "|         Minidisc|\n",
      "|               CD|\n",
      "+-----------------+\n",
      "\n"
     ]
    },
    {
     "data": {
      "text/plain": [
       "28"
      ]
     },
     "execution_count": 5,
     "metadata": {},
     "output_type": "execute_result"
    }
   ],
   "source": [
    "# Expandimos la lista \n",
    "\n",
    "dfFormatSep = dfMRJ.withColumn(\"formatsSep\", explode(col(\"formats\")))\n",
    "dfFormatSep = dfFormatSep.drop(\"formats\")\n",
    "\n",
    "dfFormatSep.select(\"formatsSep\").distinct().show(30) \n",
    "dfFormatSep.select(\"formatsSep\").distinct().count() "
   ]
  },
  {
   "cell_type": "markdown",
   "metadata": {},
   "source": [
    "<p>Al haber 28 formatos diferentes, se van a agrupar en categorías más genéricas para evitar una gran cantidad de columnas.</p>"
   ]
  },
  {
   "cell_type": "code",
   "execution_count": 6,
   "metadata": {},
   "outputs": [],
   "source": [
    "@udf(\"boolean\")\n",
    "def checkCondition(colValue, colType):\n",
    "    if colType == 1:\n",
    "        selectedCondList = audioCond\n",
    "    else:\n",
    "        selectedCondList = videoCond\n",
    "    \n",
    "    for cond in selectedCondList:\n",
    "        if colValue == cond:\n",
    "            return True\n",
    "    return False"
   ]
  },
  {
   "cell_type": "code",
   "execution_count": 7,
   "metadata": {},
   "outputs": [
    {
     "name": "stdout",
     "output_type": "stream",
     "text": [
      "+----------+\n",
      "|formatsSep|\n",
      "+----------+\n",
      "|     Video|\n",
      "|     Other|\n",
      "|     Audio|\n",
      "+----------+\n",
      "\n"
     ]
    }
   ],
   "source": [
    "# audioCond son los valores que se tomarán como Audio\n",
    "# videoCond los valores que se tomarán como video\n",
    "\n",
    "audioCond = [\"CD\",\"CDr\",\"Minidisc\",\"SACD\",\"DCC\",\"Vinyl\",\"Cassette\",\"CDV\",\"Laserdisc\", \"Flexi-disc\"] \n",
    "videoCond = [\"Box Set\", \"All Media\", \"File\", \"Hybrid\"]\n",
    "\n",
    "checkCondition_udf = udf(lambda c, n: checkCondition(c, n), BooleanType())\n",
    "\n",
    "dfFormatSep = dfFormatSep.withColumn(\"formatsSep\", \n",
    "                            when(checkCondition(dfFormatSep[\"formatsSep\"], lit(1)), \"Audio\")\\\n",
    "                            .otherwise(when(checkCondition(dfFormatSep[\"formatsSep\"], lit(2)), \"Video\")\\\n",
    "                            .otherwise(\"Other\")))\n",
    "\n",
    "dfFormatSep.select(\"formatsSep\").distinct().show() "
   ]
  },
  {
   "cell_type": "code",
   "execution_count": 8,
   "metadata": {
    "scrolled": true
   },
   "outputs": [
    {
     "name": "stdout",
     "output_type": "stream",
     "text": [
      "+---------+--------------------+----+--------+-------------+--------------------+--------------------+--------------------+------------+--------------------+----------+\n",
      "|master_id|               title|year|duration|number_tracks|             artists|             country|           companies|      genres|              styles|formatsSep|\n",
      "+---------+--------------------+----+--------+-------------+--------------------+--------------------+--------------------+------------+--------------------+----------+\n",
      "|      128|         Cosmic Cars|2000|       9|            2|          [Cybotron]|               Spain|      Hispavox, S.A.|[Electronic]| [House, Deep House]|     Audio|\n",
      "|      132|              Stress|2000|      24|            2|      [Emmanuel Top]|              France|Music Line Intern...|[Electronic]|        [Tech House]|     Audio|\n",
      "|      156|It's A Bit Compli...|2000|      34|           11|          [Art Brut]|              Russia| S.B.A./GALA Records|[Electronic]|[Future Jazz, Dee...|     Audio|\n",
      "|      164|       Get  The Hook|1998|      19|            3|       [House Pimps]|                  US|ZYX-Music Distrib...|[Electronic]|            [Techno]|     Audio|\n",
      "|      165|          Emily Kane|1997|       9|            3|          [Art Brut]|                  UK|        Pinnacle (3)|[Electronic]|    [Tribal, Techno]|     Audio|\n",
      "|      186|Soul Image / Majo...|2000|      15|            2|[BK, D.A.V.E. The...|                  UK|  Amato Distribution|[Electronic]| [House, Deep House]|     Audio|\n",
      "|      210|          Love Shook|1998|      38|            4|[Pattie Brooks, T...|           Australia|  Casablanca Records|[Electronic]|       [Drum n Bass]|     Audio|\n",
      "|      211|     Music Takes Two|1997|      40|            8|             [Blame]|                  US|        Downtown 161|[Electronic]|       [Drum n Bass]|     Audio|\n",
      "|      214|          Party Girl|1996|      70|           14|     [Pattie Brooks]|                  US|Casablanca Record...|[Electronic]|       [Drum n Bass]|     Audio|\n",
      "|      229|Break It Down / A...|1996|      17|            2|[Tasha Killer Pus...|                  UK|Mo's Music Machin...|[Electronic]|       [Drum n Bass]|     Audio|\n",
      "|      234|     Playing My Game|1998|      44|           10|       [Lene Marlin]|              Russia|S.B.A. Records, Inc.|[Electronic]|       [Drum n Bass]|     Audio|\n",
      "|      237|        Nirvana Road|1996|      47|           11|            [Deuter]|USA, Canada & Europe| Celestial Harmonies|[Electronic]|       [Drum n Bass]|     Audio|\n",
      "|      242|           Haleakala|1997|      76|           10|            [Deuter]|             Germany|                 TIS|[Electronic]|       [Drum n Bass]|     Audio|\n",
      "|      248|         Celebration|1998|     129|           24|            [Deuter]|USA, Canada & Europe| Celestial Harmonies|[Electronic]|       [Drum n Bass]|     Audio|\n",
      "|      251|             Ecstasy|1996|      90|           14|            [Deuter]|USA, Canada & Europe| Celestial Harmonies|[Electronic]|       [Drum n Bass]|     Audio|\n",
      "|      253|              Cicada|1996|      47|            9|            [Deuter]|             Germany| Celestial Harmonies|[Electronic]|       [Drum n Bass]|     Audio|\n",
      "|      254|Burning The Field...|1996|      21|            4|[Fields Of The Ne...|         UK & Europe|          The Cartel|[Electronic]|    [IDM, Downtempo]|     Audio|\n",
      "|      258|          Blue Water|1998|      20|            3|[Fields Of The Ne...|                  UK|            SPV GmbH|[Electronic]|       [Drum n Bass]|     Audio|\n",
      "|      266|Returning To Gehenna|1998|      88|           20|[Fields Of The Ne...|               Italy|Supporti Fonografici|[Electronic]|   [Techno, Minimal]|     Audio|\n",
      "|      276|           Dawnrazor|1995|      35|            8|[Fields Of The Ne...|Germany, Austria,...|           Disctrade|[Electronic]|[Leftfield, Downt...|     Audio|\n",
      "+---------+--------------------+----+--------+-------------+--------------------+--------------------+--------------------+------------+--------------------+----------+\n",
      "only showing top 20 rows\n",
      "\n"
     ]
    }
   ],
   "source": [
    "dfFormatSep.show()"
   ]
  },
  {
   "cell_type": "markdown",
   "metadata": {},
   "source": [
    "<h5>Aplicación de MultilabelBinarizer para que se creen las columnas de los diferentes formatos.</h5>"
   ]
  },
  {
   "cell_type": "code",
   "execution_count": 9,
   "metadata": {
    "scrolled": true
   },
   "outputs": [
    {
     "name": "stdout",
     "output_type": "stream",
     "text": [
      "+---------+-----+-----+-----+\n",
      "|master_id|Audio|Other|Video|\n",
      "+---------+-----+-----+-----+\n",
      "|   419628|    1|    0|    0|\n",
      "|   101519|    1|    0|    0|\n",
      "|   776612|    1|    0|    0|\n",
      "|    19141|    1|    0|    0|\n",
      "|   364400|    1|    0|    0|\n",
      "|   521238|    1|    0|    0|\n",
      "|    23506|    1|    0|    0|\n",
      "|    38996|    1|    0|    0|\n",
      "|   889632|    1|    0|    0|\n",
      "|   417135|    1|    0|    0|\n",
      "|  1104088|    1|    0|    0|\n",
      "|   721566|    1|    0|    0|\n",
      "|  1350398|    1|    0|    0|\n",
      "|    15846|    1|    0|    0|\n",
      "|    34340|    1|    0|    0|\n",
      "|    99489|    1|    0|    0|\n",
      "|   640076|    1|    1|    0|\n",
      "|    62526|    1|    0|    0|\n",
      "|    71575|    1|    0|    0|\n",
      "|   103478|    1|    0|    0|\n",
      "+---------+-----+-----+-----+\n",
      "only showing top 20 rows\n",
      "\n",
      "0\n"
     ]
    }
   ],
   "source": [
    "# Creamos la tabla pivote\n",
    "dfFormatPiv = dfFormatSep.groupby(dfFormatSep[\"master_id\"]).pivot(\"formatsSep\").count()\n",
    "dfFormatPiv = dfFormatPiv.na.fill(0)\n",
    "dfFormatPiv.show()\n",
    "\n",
    "#Comprobamos que no hay ids repetidos\n",
    "\n",
    "from pyspark.sql import Window\n",
    "\n",
    "w = Window.partitionBy('master_id')\n",
    "dfFormatExplodedRepeated = dfFormatPiv.select('*', count('master_id').over(w).alias('dupeCount'))\\\n",
    "    .where('dupeCount > 1')\\\n",
    "    .drop('dupeCount')\n",
    "\n",
    "print(dfFormatExplodedRepeated.count())"
   ]
  },
  {
   "cell_type": "code",
   "execution_count": 10,
   "metadata": {
    "scrolled": true
   },
   "outputs": [
    {
     "name": "stdout",
     "output_type": "stream",
     "text": [
      "+---------+--------------------+----+--------+-------------+--------------------+--------------------+--------------------+------------+--------------------+----------+-----+-----+-----+\n",
      "|master_id|               title|year|duration|number_tracks|             artists|             country|           companies|      genres|              styles|formatsSep|Audio|Other|Video|\n",
      "+---------+--------------------+----+--------+-------------+--------------------+--------------------+--------------------+------------+--------------------+----------+-----+-----+-----+\n",
      "|      128|         Cosmic Cars|2000|       9|            2|          [Cybotron]|               Spain|      Hispavox, S.A.|[Electronic]| [House, Deep House]|     Audio|    1|    0|    0|\n",
      "|      132|              Stress|2000|      24|            2|      [Emmanuel Top]|              France|Music Line Intern...|[Electronic]|        [Tech House]|     Audio|    1|    0|    0|\n",
      "|      156|It's A Bit Compli...|2000|      34|           11|          [Art Brut]|              Russia| S.B.A./GALA Records|[Electronic]|[Future Jazz, Dee...|     Audio|    1|    0|    0|\n",
      "|      164|       Get  The Hook|1998|      19|            3|       [House Pimps]|                  US|ZYX-Music Distrib...|[Electronic]|            [Techno]|     Audio|    1|    0|    0|\n",
      "|      165|          Emily Kane|1997|       9|            3|          [Art Brut]|                  UK|        Pinnacle (3)|[Electronic]|    [Tribal, Techno]|     Audio|    1|    0|    0|\n",
      "|      186|Soul Image / Majo...|2000|      15|            2|[BK, D.A.V.E. The...|                  UK|  Amato Distribution|[Electronic]| [House, Deep House]|     Audio|    1|    0|    0|\n",
      "|      210|          Love Shook|1998|      38|            4|[Pattie Brooks, T...|           Australia|  Casablanca Records|[Electronic]|       [Drum n Bass]|     Audio|    1|    0|    0|\n",
      "|      211|     Music Takes Two|1997|      40|            8|             [Blame]|                  US|        Downtown 161|[Electronic]|       [Drum n Bass]|     Audio|    1|    0|    0|\n",
      "|      214|          Party Girl|1996|      70|           14|     [Pattie Brooks]|                  US|Casablanca Record...|[Electronic]|       [Drum n Bass]|     Audio|    1|    0|    0|\n",
      "|      229|Break It Down / A...|1996|      17|            2|[Tasha Killer Pus...|                  UK|Mo's Music Machin...|[Electronic]|       [Drum n Bass]|     Audio|    1|    0|    0|\n",
      "|      234|     Playing My Game|1998|      44|           10|       [Lene Marlin]|              Russia|S.B.A. Records, Inc.|[Electronic]|       [Drum n Bass]|     Audio|    1|    0|    0|\n",
      "|      237|        Nirvana Road|1996|      47|           11|            [Deuter]|USA, Canada & Europe| Celestial Harmonies|[Electronic]|       [Drum n Bass]|     Audio|    1|    0|    0|\n",
      "|      242|           Haleakala|1997|      76|           10|            [Deuter]|             Germany|                 TIS|[Electronic]|       [Drum n Bass]|     Audio|    1|    0|    0|\n",
      "|      248|         Celebration|1998|     129|           24|            [Deuter]|USA, Canada & Europe| Celestial Harmonies|[Electronic]|       [Drum n Bass]|     Audio|    1|    0|    0|\n",
      "|      251|             Ecstasy|1996|      90|           14|            [Deuter]|USA, Canada & Europe| Celestial Harmonies|[Electronic]|       [Drum n Bass]|     Audio|    1|    0|    0|\n",
      "|      253|              Cicada|1996|      47|            9|            [Deuter]|             Germany| Celestial Harmonies|[Electronic]|       [Drum n Bass]|     Audio|    1|    0|    0|\n",
      "|      254|Burning The Field...|1996|      21|            4|[Fields Of The Ne...|         UK & Europe|          The Cartel|[Electronic]|    [IDM, Downtempo]|     Audio|    1|    0|    0|\n",
      "|      258|          Blue Water|1998|      20|            3|[Fields Of The Ne...|                  UK|            SPV GmbH|[Electronic]|       [Drum n Bass]|     Audio|    1|    0|    0|\n",
      "|      266|Returning To Gehenna|1998|      88|           20|[Fields Of The Ne...|               Italy|Supporti Fonografici|[Electronic]|   [Techno, Minimal]|     Audio|    1|    0|    0|\n",
      "|      276|           Dawnrazor|1995|      35|            8|[Fields Of The Ne...|Germany, Austria,...|           Disctrade|[Electronic]|[Leftfield, Downt...|     Audio|    1|    0|    0|\n",
      "+---------+--------------------+----+--------+-------------+--------------------+--------------------+--------------------+------------+--------------------+----------+-----+-----+-----+\n",
      "only showing top 20 rows\n",
      "\n"
     ]
    }
   ],
   "source": [
    "dfJoined = dfFormatSep.alias(\"dfFormatSep\")\\\n",
    "                .join(other = dfFormatPiv.alias(\"dfFormPiv\"), on=\"master_id\", how=\"inner\")\\\n",
    "                .drop(\"formats\")            \n",
    "\n",
    "dfJoined.show()"
   ]
  },
  {
   "cell_type": "code",
   "execution_count": 11,
   "metadata": {},
   "outputs": [],
   "source": [
    "dfJoined = dfJoined.drop(\"formatsSep\")\n",
    "dfJoined = dfJoined.dropDuplicates()"
   ]
  },
  {
   "cell_type": "code",
   "execution_count": 12,
   "metadata": {},
   "outputs": [],
   "source": [
    "dfJoined = dfJoined.cache()"
   ]
  },
  {
   "cell_type": "markdown",
   "metadata": {},
   "source": [
    "<h4>Creación de columnas por Género. </h4>\n",
    "<p>De la misma manera que se ha hecho con el formato, se procederá a separar las publicaciones por género.</p>"
   ]
  },
  {
   "cell_type": "code",
   "execution_count": 13,
   "metadata": {
    "scrolled": false
   },
   "outputs": [
    {
     "name": "stdout",
     "output_type": "stream",
     "text": [
      "+--------------------+\n",
      "|           genresSep|\n",
      "+--------------------+\n",
      "|      Stage & Screen|\n",
      "|               Latin|\n",
      "|    Brass & Military|\n",
      "|           Non-Music|\n",
      "|         Funk / Soul|\n",
      "|                Rock|\n",
      "|                Jazz|\n",
      "|             Hip Hop|\n",
      "|          Children's|\n",
      "|           Classical|\n",
      "|               Blues|\n",
      "|Folk, World, & Co...|\n",
      "|                 Pop|\n",
      "|              Reggae|\n",
      "|          Electronic|\n",
      "+--------------------+\n",
      "\n"
     ]
    }
   ],
   "source": [
    "# Expandimos la lista \n",
    "\n",
    "dfGenresSep = dfJoined.withColumn(\"genresSep\", explode(col(\"genres\")))\n",
    "dfGenresSep.select(\"genresSep\").distinct().show() "
   ]
  },
  {
   "cell_type": "markdown",
   "metadata": {},
   "source": [
    "<h5>Aplicación de MultilabelBinarizer para que se creen las columnas de los diferentes formatos.</h5>"
   ]
  },
  {
   "cell_type": "code",
   "execution_count": 14,
   "metadata": {
    "scrolled": true
   },
   "outputs": [
    {
     "name": "stdout",
     "output_type": "stream",
     "text": [
      "+---------+-----+----------------+----------+---------+----------+----------------------+-----------+-------+----+-----+---------+---+------+----+--------------+\n",
      "|master_id|Blues|Brass & Military|Children's|Classical|Electronic|Folk, World, & Country|Funk / Soul|Hip Hop|Jazz|Latin|Non-Music|Pop|Reggae|Rock|Stage & Screen|\n",
      "+---------+-----+----------------+----------+---------+----------+----------------------+-----------+-------+----+-----+---------+---+------+----+--------------+\n",
      "|      128|    0|               0|         0|        0|         1|                     0|          0|      0|   0|    0|        0|  0|     0|   0|             0|\n",
      "|      132|    0|               0|         0|        0|         1|                     0|          0|      0|   0|    0|        0|  0|     0|   0|             0|\n",
      "|      156|    0|               0|         0|        0|         1|                     0|          0|      0|   0|    0|        0|  0|     0|   0|             0|\n",
      "|      164|    0|               0|         0|        0|         1|                     0|          0|      0|   0|    0|        0|  0|     0|   0|             0|\n",
      "|      165|    0|               0|         0|        0|         1|                     0|          0|      0|   0|    0|        0|  0|     0|   0|             0|\n",
      "|      186|    0|               0|         0|        0|         1|                     0|          0|      0|   0|    0|        0|  0|     0|   0|             0|\n",
      "|      210|    0|               0|         0|        0|         1|                     0|          0|      0|   0|    0|        0|  0|     0|   0|             0|\n",
      "|      211|    0|               0|         0|        0|         1|                     0|          0|      0|   0|    0|        0|  0|     0|   0|             0|\n",
      "|      214|    0|               0|         0|        0|         1|                     0|          0|      0|   0|    0|        0|  0|     0|   0|             0|\n",
      "|      229|    0|               0|         0|        0|         1|                     0|          0|      0|   0|    0|        0|  0|     0|   0|             0|\n",
      "|      234|    0|               0|         0|        0|         1|                     0|          0|      0|   0|    0|        0|  0|     0|   0|             0|\n",
      "|      237|    0|               0|         0|        0|         1|                     0|          0|      0|   0|    0|        0|  0|     0|   0|             0|\n",
      "|      242|    0|               0|         0|        0|         1|                     0|          0|      0|   0|    0|        0|  0|     0|   0|             0|\n",
      "|      248|    0|               0|         0|        0|         1|                     0|          0|      0|   0|    0|        0|  0|     0|   0|             0|\n",
      "|      251|    0|               0|         0|        0|         1|                     0|          0|      0|   0|    0|        0|  0|     0|   0|             0|\n",
      "|      253|    0|               0|         0|        0|         1|                     0|          0|      0|   0|    0|        0|  0|     0|   0|             0|\n",
      "|      254|    0|               0|         0|        0|         1|                     0|          0|      0|   0|    0|        0|  0|     0|   0|             0|\n",
      "|      258|    0|               0|         0|        0|         1|                     0|          0|      0|   0|    0|        0|  0|     0|   0|             0|\n",
      "|      266|    0|               0|         0|        0|         1|                     0|          0|      0|   0|    0|        0|  0|     0|   0|             0|\n",
      "|      276|    0|               0|         0|        0|         1|                     0|          0|      0|   0|    0|        0|  0|     0|   0|             0|\n",
      "+---------+-----+----------------+----------+---------+----------+----------------------+-----------+-------+----+-----+---------+---+------+----+--------------+\n",
      "only showing top 20 rows\n",
      "\n",
      "0\n"
     ]
    }
   ],
   "source": [
    "# Creamos la tabla pivote\n",
    "dfGenresPiv = dfGenresSep.groupby(dfGenresSep[\"master_id\"]).pivot(\"genresSep\").count()\n",
    "dfGenresPiv = dfGenresPiv.na.fill(0)\n",
    "dfGenresPiv.show()\n",
    "\n",
    "#Comprobamos que no hay ids repetidos\n",
    "\n",
    "from pyspark.sql import Window\n",
    "\n",
    "w = Window.partitionBy('master_id')\n",
    "dfGenresExplodedRepeated = dfGenresPiv.select('*', count('master_id').over(w).alias('dupeCount'))\\\n",
    "    .where('dupeCount > 1')\\\n",
    "    .drop('dupeCount')\n",
    "\n",
    "print(dfGenresExplodedRepeated.count())"
   ]
  },
  {
   "cell_type": "code",
   "execution_count": 15,
   "metadata": {
    "scrolled": true
   },
   "outputs": [
    {
     "name": "stdout",
     "output_type": "stream",
     "text": [
      "+---------+--------------------+----+--------+-------------+--------------------+-----------+--------------------+--------------------+-----+-----+-----+-----+----------------+----------+---------+----------+----------------------+-----------+-------+----+-----+---------+---+------+----+--------------+\n",
      "|master_id|               title|year|duration|number_tracks|             artists|    country|           companies|              styles|Audio|Other|Video|Blues|Brass & Military|Children's|Classical|Electronic|Folk, World, & Country|Funk / Soul|Hip Hop|Jazz|Latin|Non-Music|Pop|Reggae|Rock|Stage & Screen|\n",
      "+---------+--------------------+----+--------+-------------+--------------------+-----------+--------------------+--------------------+-----+-----+-----+-----+----------------+----------+---------+----------+----------------------+-----------+-------+----+-----+---------+---+------+----+--------------+\n",
      "|     1677|                  M6|1997|      18|            2|          [Maurizio]|    Germany|                 SRD|             [House]|    1|    0|    0|    0|               0|         0|        0|         1|                     0|          0|      0|   0|    0|        0|  0|     0|   0|             0|\n",
      "|     1806|The State Of E:Mo...|2000|     151|           29|           [Various]|    Germany|     EFA Medien GmbH|        [Tech House]|    1|    0|    0|    0|               0|         0|        0|         1|                     0|          0|      0|   0|    0|        0|  0|     0|   0|             0|\n",
      "|     3091| Music Out Of Bounds|2000|      15|            3|          [Stacey Q]|         US|Atlantic Recordin...|[House, Deep Hous...|    1|    0|    0|    0|               0|         0|        0|         1|                     0|          0|      0|   0|    0|        0|  0|     0|   0|             0|\n",
      "|     4823|         Progression|1994|      77|           13|     [Markus Schulz]|Philippines|Universal Records...|            [Techno]|    1|    0|    0|    0|               0|         0|        0|         1|                     0|          0|      0|   0|    0|        0|  0|     0|   0|             0|\n",
      "|     4894|               Vol 4|1989|      44|           10|     [Black Sabbath]|     Mexico|BMG Entertainment...| [House, Deep House]|    1|    0|    0|    0|               0|         0|        0|         1|                     0|          0|      0|   0|    0|        0|  0|     0|   0|             0|\n",
      "|     5556|           The Wagon|1996|       9|            2|      [Dinosaur Jr.]|    Germany|                 EFA|       [Drum n Bass]|    1|    0|    0|    0|               0|         0|        0|         1|                     0|          0|      0|   0|    0|        0|  0|     0|   0|             0|\n",
      "|     7225|Nobody's Perfect ...|1994|      74|           26|     [Andrea Parker]|         UK|                 SRD|            [Techno]|    1|    0|    0|    0|               0|         0|        0|         1|                     0|          0|      0|   0|    0|        0|  0|     0|   0|             0|\n",
      "|     8075|               Shine|1999|      36|            6|             [Erire]|         US|           BMG Music|            [Techno]|    1|    0|    0|    0|               0|         0|        0|         1|                     0|          0|      0|   0|    0|        0|  0|     0|   0|             0|\n",
      "|     9233|        Landcruising|1994|      57|            9|        [Carl Craig]|      Japan|Warner Music Japa...|  [House, Downtempo]|    1|    0|    0|    0|               0|         0|        0|         1|                     0|          0|      0|   0|    0|        0|  0|     0|   0|             0|\n",
      "|    13452|        BBC Sessions|1997|     112|           30|     [Cocteau Twins]|         US|      Columbia House|             [House]|    1|    0|    0|    0|               0|         0|        0|         1|                     0|          0|      0|   0|    0|        0|  0|     0|   0|             0|\n",
      "|    14846|Rigor Mortis (I L...|2000|      11|            2|     [Flesh & Bones]|    Belgium|Roadrunner Arcade...|    [IDM, Jazzdance]|    1|    0|    0|    0|               0|         0|        0|         1|                     0|          0|      0|   0|    0|        0|  0|     0|   0|             0|\n",
      "|    15057|           Cosmology|2001|      68|            9|          [Cosmosis]|         UK| Flying Records (UK)|[Ambient, Downtempo]|    1|    0|    0|    0|               0|         0|        0|         1|                     0|          0|      0|   0|    0|        0|  0|     0|   0|             0|\n",
      "|    15846|     Sync-In (Remix)|1996|      19|            3|      [Silent Breed]|    Germany|          Discomania|[Downtempo, Trip ...|    1|    0|    0|    0|               0|         0|        0|         1|                     0|          0|      0|   0|    0|        0|  0|     0|   0|             0|\n",
      "|    18295|         Bloodthirst|1999|      73|           23|   [Cannibal Corpse]|    Germany|            SPV GmbH|            [Techno]|    1|    0|    0|    0|               0|         0|        0|         1|                     0|          0|      0|   0|    0|        0|  0|     0|   0|             0|\n",
      "|    18348| Dimension Intrusion|1998|      75|           13|          [F.U.S.E.]|         US|         TVT Records|[Soundtrack, Euro...|    1|    0|    0|    0|               0|         0|        0|         1|                     0|          0|      0|   0|    0|        0|  0|     0|   0|             1|\n",
      "|    18628|       The FON Mixes|1997|      49|           14|  [The Art Of Noise]|    Benelux|         CNR Records|             [House]|    1|    0|    0|    0|               0|         0|        0|         1|                     0|          0|      0|   0|    0|        0|  0|     0|   0|             0|\n",
      "|    18730|Another Great Rec...|1999|      40|           12|        [The Damned]|     France|                 RCA|[Breakbeat, Downt...|    1|    0|    0|    0|               0|         0|        0|         1|                     0|          0|      0|   0|    0|        0|  0|     0|   0|             0|\n",
      "|    19141|Looking For The P...|1988|      29|            4|[Afrika Bambaataa...|         US|     Tommy Boy Music|                null|    1|    0|    0|    0|               0|         0|        0|         0|                     0|          0|      1|   0|    0|        0|  0|     0|   0|             0|\n",
      "|    19158|   Accepted Eclectic|1985|      63|           16|         [Aceyalone]|         US|    Nu Gruv Alliance|           [Electro]|    1|    0|    0|    0|               0|         0|        0|         0|                     0|          0|      1|   0|    0|        0|  0|     0|   0|             0|\n",
      "|    21965|     Niteworks Pt. 3|1999|      15|            4|[Damon Wild, Echo...|         US|            N.E.W.S.|             [House]|    1|    0|    0|    0|               0|         0|        0|         1|                     0|          0|      0|   0|    0|        0|  0|     0|   0|             0|\n",
      "+---------+--------------------+----+--------+-------------+--------------------+-----------+--------------------+--------------------+-----+-----+-----+-----+----------------+----------+---------+----------+----------------------+-----------+-------+----+-----+---------+---+------+----+--------------+\n",
      "only showing top 20 rows\n",
      "\n"
     ]
    }
   ],
   "source": [
    "dfJoined = dfJoined.alias(\"dfJoined\")\\\n",
    "                .join(other = dfGenresPiv.alias(\"dfGenresPiv\"), on=\"master_id\", how=\"inner\")\\\n",
    "                .drop(\"genres\")\n",
    "\n",
    "dfJoined.show()"
   ]
  },
  {
   "cell_type": "code",
   "execution_count": 16,
   "metadata": {
    "scrolled": true
   },
   "outputs": [
    {
     "name": "stdout",
     "output_type": "stream",
     "text": [
      "+---------+--------------------+----+--------+-------------+--------------------+--------------------+--------------------+--------------------+-----+-----+-----+-----+----------------+----------+---------+----------+----------------------+-----------+-------+----+-----+---------+---+------+----+--------------+\n",
      "|master_id|               title|year|duration|number_tracks|             artists|             country|           companies|              styles|Audio|Other|Video|Blues|Brass & Military|Children's|Classical|Electronic|Folk, World, & Country|Funk / Soul|Hip Hop|Jazz|Latin|Non-Music|Pop|Reggae|Rock|Stage & Screen|\n",
      "+---------+--------------------+----+--------+-------------+--------------------+--------------------+--------------------+--------------------+-----+-----+-----+-----+----------------+----------+---------+----------+----------------------+-----------+-------+----+-----+---------+---+------+----+--------------+\n",
      "|      128|         Cosmic Cars|2000|       9|            2|          [Cybotron]|               Spain|      Hispavox, S.A.| [House, Deep House]|    1|    0|    0|    0|               0|         0|        0|         1|                     0|          0|      0|   0|    0|        0|  0|     0|   0|             0|\n",
      "|      132|              Stress|2000|      24|            2|      [Emmanuel Top]|              France|Music Line Intern...|        [Tech House]|    1|    0|    0|    0|               0|         0|        0|         1|                     0|          0|      0|   0|    0|        0|  0|     0|   0|             0|\n",
      "|      156|It's A Bit Compli...|2000|      34|           11|          [Art Brut]|              Russia| S.B.A./GALA Records|[Future Jazz, Dee...|    1|    0|    0|    0|               0|         0|        0|         1|                     0|          0|      0|   0|    0|        0|  0|     0|   0|             0|\n",
      "|      164|       Get  The Hook|1998|      19|            3|       [House Pimps]|                  US|ZYX-Music Distrib...|            [Techno]|    1|    0|    0|    0|               0|         0|        0|         1|                     0|          0|      0|   0|    0|        0|  0|     0|   0|             0|\n",
      "|      165|          Emily Kane|1997|       9|            3|          [Art Brut]|                  UK|        Pinnacle (3)|    [Tribal, Techno]|    1|    0|    0|    0|               0|         0|        0|         1|                     0|          0|      0|   0|    0|        0|  0|     0|   0|             0|\n",
      "|      186|Soul Image / Majo...|2000|      15|            2|[BK, D.A.V.E. The...|                  UK|  Amato Distribution| [House, Deep House]|    1|    0|    0|    0|               0|         0|        0|         1|                     0|          0|      0|   0|    0|        0|  0|     0|   0|             0|\n",
      "|      210|          Love Shook|1998|      38|            4|[Pattie Brooks, T...|           Australia|  Casablanca Records|       [Drum n Bass]|    1|    0|    0|    0|               0|         0|        0|         1|                     0|          0|      0|   0|    0|        0|  0|     0|   0|             0|\n",
      "|      211|     Music Takes Two|1997|      40|            8|             [Blame]|                  US|        Downtown 161|       [Drum n Bass]|    1|    0|    0|    0|               0|         0|        0|         1|                     0|          0|      0|   0|    0|        0|  0|     0|   0|             0|\n",
      "|      214|          Party Girl|1996|      70|           14|     [Pattie Brooks]|                  US|Casablanca Record...|       [Drum n Bass]|    1|    0|    0|    0|               0|         0|        0|         1|                     0|          0|      0|   0|    0|        0|  0|     0|   0|             0|\n",
      "|      229|Break It Down / A...|1996|      17|            2|[Tasha Killer Pus...|                  UK|Mo's Music Machin...|       [Drum n Bass]|    1|    0|    0|    0|               0|         0|        0|         1|                     0|          0|      0|   0|    0|        0|  0|     0|   0|             0|\n",
      "|      234|     Playing My Game|1998|      44|           10|       [Lene Marlin]|              Russia|S.B.A. Records, Inc.|       [Drum n Bass]|    1|    0|    0|    0|               0|         0|        0|         1|                     0|          0|      0|   0|    0|        0|  0|     0|   0|             0|\n",
      "|      237|        Nirvana Road|1996|      47|           11|            [Deuter]|USA, Canada & Europe| Celestial Harmonies|       [Drum n Bass]|    1|    0|    0|    0|               0|         0|        0|         1|                     0|          0|      0|   0|    0|        0|  0|     0|   0|             0|\n",
      "|      242|           Haleakala|1997|      76|           10|            [Deuter]|             Germany|                 TIS|       [Drum n Bass]|    1|    0|    0|    0|               0|         0|        0|         1|                     0|          0|      0|   0|    0|        0|  0|     0|   0|             0|\n",
      "|      248|         Celebration|1998|     129|           24|            [Deuter]|USA, Canada & Europe| Celestial Harmonies|       [Drum n Bass]|    1|    0|    0|    0|               0|         0|        0|         1|                     0|          0|      0|   0|    0|        0|  0|     0|   0|             0|\n",
      "|      251|             Ecstasy|1996|      90|           14|            [Deuter]|USA, Canada & Europe| Celestial Harmonies|       [Drum n Bass]|    1|    0|    0|    0|               0|         0|        0|         1|                     0|          0|      0|   0|    0|        0|  0|     0|   0|             0|\n",
      "|      253|              Cicada|1996|      47|            9|            [Deuter]|             Germany| Celestial Harmonies|       [Drum n Bass]|    1|    0|    0|    0|               0|         0|        0|         1|                     0|          0|      0|   0|    0|        0|  0|     0|   0|             0|\n",
      "|      254|Burning The Field...|1996|      21|            4|[Fields Of The Ne...|         UK & Europe|          The Cartel|    [IDM, Downtempo]|    1|    0|    0|    0|               0|         0|        0|         1|                     0|          0|      0|   0|    0|        0|  0|     0|   0|             0|\n",
      "|      258|          Blue Water|1998|      20|            3|[Fields Of The Ne...|                  UK|            SPV GmbH|       [Drum n Bass]|    1|    0|    0|    0|               0|         0|        0|         1|                     0|          0|      0|   0|    0|        0|  0|     0|   0|             0|\n",
      "|      266|Returning To Gehenna|1998|      88|           20|[Fields Of The Ne...|               Italy|Supporti Fonografici|   [Techno, Minimal]|    1|    0|    0|    0|               0|         0|        0|         1|                     0|          0|      0|   0|    0|        0|  0|     0|   0|             0|\n",
      "|      276|           Dawnrazor|1995|      35|            8|[Fields Of The Ne...|Germany, Austria,...|           Disctrade|[Leftfield, Downt...|    1|    0|    0|    0|               0|         0|        0|         1|                     0|          0|      0|   0|    0|        0|  0|     0|   0|             0|\n",
      "+---------+--------------------+----+--------+-------------+--------------------+--------------------+--------------------+--------------------+-----+-----+-----+-----+----------------+----------+---------+----------+----------------------+-----------+-------+----+-----+---------+---+------+----+--------------+\n",
      "only showing top 20 rows\n",
      "\n"
     ]
    }
   ],
   "source": [
    "dfJoined.orderBy(\"master_id\").show()"
   ]
  },
  {
   "cell_type": "code",
   "execution_count": 17,
   "metadata": {},
   "outputs": [
    {
     "data": {
      "text/plain": [
       "69955"
      ]
     },
     "execution_count": 17,
     "metadata": {},
     "output_type": "execute_result"
    }
   ],
   "source": [
    "dfJoined.count()"
   ]
  },
  {
   "cell_type": "markdown",
   "metadata": {},
   "source": [
    "<h3>Creación de tabla intermedia</h3>"
   ]
  },
  {
   "cell_type": "code",
   "execution_count": 18,
   "metadata": {},
   "outputs": [],
   "source": [
    "dfJoined = dfJoined.cache()"
   ]
  },
  {
   "cell_type": "markdown",
   "metadata": {},
   "source": [
    "<h4>Columna Estilo.</h4>"
   ]
  },
  {
   "cell_type": "code",
   "execution_count": 19,
   "metadata": {
    "scrolled": true
   },
   "outputs": [
    {
     "name": "stdout",
     "output_type": "stream",
     "text": [
      "+-----------------+\n",
      "|        stylesSep|\n",
      "+-----------------+\n",
      "|        Synth-pop|\n",
      "|        Jumpstyle|\n",
      "|       Folk Metal|\n",
      "|         Ranchera|\n",
      "|   Piedmont Blues|\n",
      "|          Beatbox|\n",
      "|   Electric Blues|\n",
      "|Minneapolis Sound|\n",
      "|       Acid House|\n",
      "|         Acoustic|\n",
      "|    Jazzy Hip-Hop|\n",
      "|        Hip-House|\n",
      "|   Rhythmic Noise|\n",
      "|        Education|\n",
      "|        Post-Punk|\n",
      "|              MPB|\n",
      "|             Surf|\n",
      "|           Thrash|\n",
      "| Avant-garde Jazz|\n",
      "|        Chillwave|\n",
      "+-----------------+\n",
      "only showing top 20 rows\n",
      "\n",
      "416\n"
     ]
    }
   ],
   "source": [
    "# Expandimos la lista \n",
    "\n",
    "dfStyleSep = dfMRJ.withColumn(\"stylesSep\", explode(col(\"styles\")))\n",
    "dfStyleSep.select(\"stylesSep\").distinct().show() \n",
    "print(dfStyleSep.select(\"stylesSep\").distinct().count())"
   ]
  },
  {
   "cell_type": "markdown",
   "metadata": {},
   "source": [
    "<p>Al haber 416 estilos diferentes, generar una columna para cada estilo no es la estrategia más apropiada. En este caso, se utilizará el algoritmo String Indexer, este algoritmo asigna un índice a cada valor.</p>"
   ]
  },
  {
   "cell_type": "code",
   "execution_count": 20,
   "metadata": {
    "scrolled": true
   },
   "outputs": [
    {
     "name": "stdout",
     "output_type": "stream",
     "text": [
      "+---------+--------------------+----+--------+-------------+--------------------+-----------+--------------------+--------------------+-----+-----+-----+-----+----------------+----------+---------+----------+----------------------+-----------+-------+----+-----+---------+---+------+----+--------------+--------------------+-----------+\n",
      "|master_id|               title|year|duration|number_tracks|             artists|    country|           companies|              styles|Audio|Other|Video|Blues|Brass & Military|Children's|Classical|Electronic|Folk, World, & Country|Funk / Soul|Hip Hop|Jazz|Latin|Non-Music|Pop|Reggae|Rock|Stage & Screen|        stylesConcat|stylesIndex|\n",
      "+---------+--------------------+----+--------+-------------+--------------------+-----------+--------------------+--------------------+-----+-----+-----+-----+----------------+----------+---------+----------+----------------------+-----------+-------+----+-----+---------+---+------+----+--------------+--------------------+-----------+\n",
      "|     1677|                  M6|1997|      18|            2|          [Maurizio]|    Germany|                 SRD|             [House]|    1|    0|    0|    0|               0|         0|        0|         1|                     0|          0|      0|   0|    0|        0|  0|     0|   0|             0|               House|        0.0|\n",
      "|     1806|The State Of E:Mo...|2000|     151|           29|           [Various]|    Germany|     EFA Medien GmbH|        [Tech House]|    1|    0|    0|    0|               0|         0|        0|         1|                     0|          0|      0|   0|    0|        0|  0|     0|   0|             0|          Tech House|       20.0|\n",
      "|     3091| Music Out Of Bounds|2000|      15|            3|          [Stacey Q]|         US|Atlantic Recordin...|[House, Deep Hous...|    1|    0|    0|    0|               0|         0|        0|         1|                     0|          0|      0|   0|    0|        0|  0|     0|   0|             0|House, Deep House...|     8558.0|\n",
      "|     4823|         Progression|1994|      77|           13|     [Markus Schulz]|Philippines|Universal Records...|            [Techno]|    1|    0|    0|    0|               0|         0|        0|         1|                     0|          0|      0|   0|    0|        0|  0|     0|   0|             0|              Techno|        1.0|\n",
      "|     4894|               Vol 4|1989|      44|           10|     [Black Sabbath]|     Mexico|BMG Entertainment...| [House, Deep House]|    1|    0|    0|    0|               0|         0|        0|         1|                     0|          0|      0|   0|    0|        0|  0|     0|   0|             0|   House, Deep House|        7.0|\n",
      "|     5556|           The Wagon|1996|       9|            2|      [Dinosaur Jr.]|    Germany|                 EFA|       [Drum n Bass]|    1|    0|    0|    0|               0|         0|        0|         1|                     0|          0|      0|   0|    0|        0|  0|     0|   0|             0|         Drum n Bass|        2.0|\n",
      "|     7225|Nobody's Perfect ...|1994|      74|           26|     [Andrea Parker]|         UK|                 SRD|            [Techno]|    1|    0|    0|    0|               0|         0|        0|         1|                     0|          0|      0|   0|    0|        0|  0|     0|   0|             0|              Techno|        1.0|\n",
      "|     8075|               Shine|1999|      36|            6|             [Erire]|         US|           BMG Music|            [Techno]|    1|    0|    0|    0|               0|         0|        0|         1|                     0|          0|      0|   0|    0|        0|  0|     0|   0|             0|              Techno|        1.0|\n",
      "|     9233|        Landcruising|1994|      57|            9|        [Carl Craig]|      Japan|Warner Music Japa...|  [House, Downtempo]|    1|    0|    0|    0|               0|         0|        0|         1|                     0|          0|      0|   0|    0|        0|  0|     0|   0|             0|    House, Downtempo|       92.0|\n",
      "|    13452|        BBC Sessions|1997|     112|           30|     [Cocteau Twins]|         US|      Columbia House|             [House]|    1|    0|    0|    0|               0|         0|        0|         1|                     0|          0|      0|   0|    0|        0|  0|     0|   0|             0|               House|        0.0|\n",
      "|    14846|Rigor Mortis (I L...|2000|      11|            2|     [Flesh & Bones]|    Belgium|Roadrunner Arcade...|    [IDM, Jazzdance]|    1|    0|    0|    0|               0|         0|        0|         1|                     0|          0|      0|   0|    0|        0|  0|     0|   0|             0|      IDM, Jazzdance|     7803.0|\n",
      "|    15057|           Cosmology|2001|      68|            9|          [Cosmosis]|         UK| Flying Records (UK)|[Ambient, Downtempo]|    1|    0|    0|    0|               0|         0|        0|         1|                     0|          0|      0|   0|    0|        0|  0|     0|   0|             0|  Ambient, Downtempo|      566.0|\n",
      "|    15846|     Sync-In (Remix)|1996|      19|            3|      [Silent Breed]|    Germany|          Discomania|[Downtempo, Trip ...|    1|    0|    0|    0|               0|         0|        0|         1|                     0|          0|      0|   0|    0|        0|  0|     0|   0|             0| Downtempo, Trip Hop|      132.0|\n",
      "|    18295|         Bloodthirst|1999|      73|           23|   [Cannibal Corpse]|    Germany|            SPV GmbH|            [Techno]|    1|    0|    0|    0|               0|         0|        0|         1|                     0|          0|      0|   0|    0|        0|  0|     0|   0|             0|              Techno|        1.0|\n",
      "|    18348| Dimension Intrusion|1998|      75|           13|          [F.U.S.E.]|         US|         TVT Records|[Soundtrack, Euro...|    1|    0|    0|    0|               0|         0|        0|         1|                     0|          0|      0|   0|    0|        0|  0|     0|   0|             1|Soundtrack, Euro ...|     5240.0|\n",
      "|    18628|       The FON Mixes|1997|      49|           14|  [The Art Of Noise]|    Benelux|         CNR Records|             [House]|    1|    0|    0|    0|               0|         0|        0|         1|                     0|          0|      0|   0|    0|        0|  0|     0|   0|             0|               House|        0.0|\n",
      "|    18730|Another Great Rec...|1999|      40|           12|        [The Damned]|     France|                 RCA|[Breakbeat, Downt...|    1|    0|    0|    0|               0|         0|        0|         1|                     0|          0|      0|   0|    0|        0|  0|     0|   0|             0|Breakbeat, Downte...|     2949.0|\n",
      "|    19141|Looking For The P...|1988|      29|            4|[Afrika Bambaataa...|         US|     Tommy Boy Music|                null|    1|    0|    0|    0|               0|         0|        0|         0|                     0|          0|      1|   0|    0|        0|  0|     0|   0|             0|                    |        3.0|\n",
      "|    19158|   Accepted Eclectic|1985|      63|           16|         [Aceyalone]|         US|    Nu Gruv Alliance|           [Electro]|    1|    0|    0|    0|               0|         0|        0|         0|                     0|          0|      1|   0|    0|        0|  0|     0|   0|             0|             Electro|        9.0|\n",
      "|    21965|     Niteworks Pt. 3|1999|      15|            4|[Damon Wild, Echo...|         US|            N.E.W.S.|             [House]|    1|    0|    0|    0|               0|         0|        0|         1|                     0|          0|      0|   0|    0|        0|  0|     0|   0|             0|               House|        0.0|\n",
      "+---------+--------------------+----+--------+-------------+--------------------+-----------+--------------------+--------------------+-----+-----+-----+-----+----------------+----------+---------+----------+----------------------+-----------+-------+----+-----+---------+---+------+----+--------------+--------------------+-----------+\n",
      "only showing top 20 rows\n",
      "\n"
     ]
    }
   ],
   "source": [
    "from pyspark.ml.feature import StringIndexer\n",
    "\n",
    "dfStyleSep = dfJoined.withColumn(\"stylesConcat\", concat_ws(\", \", \"styles\"))\n",
    "\n",
    "indexer = StringIndexer(inputCol=\"stylesConcat\", outputCol=\"stylesIndex\")\n",
    "indexed = indexer.fit(dfStyleSep).transform(dfStyleSep)\n",
    "indexed.show()"
   ]
  },
  {
   "cell_type": "code",
   "execution_count": 21,
   "metadata": {},
   "outputs": [],
   "source": [
    "# <p>Al haber 416 estilos diferentes, generar una columna para cada estilo no es la estrategia más apropiada. En este caso, se utilizará el algoritmo HashingTF, IDF. Este algoritmo genera un corpus de palabras y asigna un valor númerico en base a la frecuencia de las palabras dentro del corpus.</p>\n",
    "\n",
    "# from pyspark.ml.feature import HashingTF, IDF, Tokenizer\n",
    "\n",
    "# dfStyleSep = dfJoined.withColumn(\"stylesConcat\", concat_ws(\", \", \"styles\"))\n",
    "\n",
    "# tokenizer = Tokenizer(inputCol=\"stylesConcat\", outputCol=\"stylesWords\")\n",
    "# wordsData = tokenizer.transform(dfStyleSep)\n",
    "\n",
    "# hashingTF = HashingTF(inputCol=\"stylesWords\", outputCol=\"stylesWordsTF\", numFeatures=20)\n",
    "# featurizedData = hashingTF.transform(wordsData)\n",
    "\n",
    "# idf = IDF(inputCol=\"stylesWordsTF\", outputCol=\"stylesWordFeatures\")\n",
    "# idfModel = idf.fit(featurizedData)\n",
    "# rescaledData = idfModel.transform(featurizedData)\n",
    "\n",
    "# rescaledData.show()\n",
    "\n",
    "# # dfStyleSep = rescaledData.select(\"master_id\", \"stylesWordFeatures\")\n",
    "# # dfStyleSep.show()\n",
    "\n",
    "# dfJoined = rescaledData.drop(\"styles\", \"stylesConcat\", \"stylesWords\", \"stylesWordsTF\")\n",
    "# dfJoined.show()"
   ]
  },
  {
   "cell_type": "code",
   "execution_count": 22,
   "metadata": {
    "scrolled": true
   },
   "outputs": [],
   "source": [
    "dfJoined = indexed.drop(\"styles\", \"stylesConcat\")"
   ]
  },
  {
   "cell_type": "code",
   "execution_count": 23,
   "metadata": {},
   "outputs": [
    {
     "data": {
      "text/plain": [
       "69955"
      ]
     },
     "execution_count": 23,
     "metadata": {},
     "output_type": "execute_result"
    }
   ],
   "source": [
    "dfJoined.count()"
   ]
  },
  {
   "cell_type": "code",
   "execution_count": 24,
   "metadata": {},
   "outputs": [],
   "source": [
    "dfJoined = dfJoined.cache()"
   ]
  },
  {
   "cell_type": "markdown",
   "metadata": {},
   "source": [
    "<h4>Columna Artistas.</h4>"
   ]
  },
  {
   "cell_type": "code",
   "execution_count": 25,
   "metadata": {
    "scrolled": true
   },
   "outputs": [
    {
     "name": "stdout",
     "output_type": "stream",
     "text": [
      "+--------------------+\n",
      "|          artistsSep|\n",
      "+--------------------+\n",
      "|          Snoop Dogg|\n",
      "|     Johannes Brahms|\n",
      "|      The Black Keys|\n",
      "|       Cockney Rebel|\n",
      "|        Emilio Pujol|\n",
      "|      The Chameleons|\n",
      "|           Los Lobos|\n",
      "|         Justin Vali|\n",
      "|         Exaltasamba|\n",
      "|             Mr. Joy|\n",
      "|Don Johnson Big Band|\n",
      "|     Ladislav Slovák|\n",
      "|  Larsen-Feiten Band|\n",
      "|      Angelo Ferreri|\n",
      "|           Maxim Rad|\n",
      "|        Grady Gaines|\n",
      "|             Goa Gil|\n",
      "|          Eurythmics|\n",
      "|    Brooklyn Express|\n",
      "|Von Hertzen Brothers|\n",
      "+--------------------+\n",
      "only showing top 20 rows\n",
      "\n",
      "38620\n"
     ]
    }
   ],
   "source": [
    "# Expandimos la lista \n",
    "\n",
    "dfArtistsSep = dfJoined.withColumn(\"artistsSep\", explode(col(\"artists\")))\n",
    "dfArtistsSep.select(\"artistsSep\").distinct().show() \n",
    "print(dfArtistsSep.select(\"artistsSep\").distinct().count())"
   ]
  },
  {
   "cell_type": "markdown",
   "metadata": {},
   "source": [
    "<p>En este caso, tenemos 38620 Artistas diferentes, por lo que habrá que tomar otra estrategia distinta a la tomada anteriormente, ya que cada artista debe representarse por un valor.</p>\n",
    "<p>Utilizaremos StringIndexer, este algoritmo asigna un valor númerico a cada artista.</p>"
   ]
  },
  {
   "cell_type": "code",
   "execution_count": 26,
   "metadata": {
    "scrolled": true
   },
   "outputs": [
    {
     "name": "stdout",
     "output_type": "stream",
     "text": [
      "+---------+--------------------+----+--------+-------------+--------------------+-----------+--------------------+-----+-----+-----+-----+----------------+----------+---------+----------+----------------------+-----------+-------+----+-----+---------+---+------+----+--------------+-----------+--------------------+------------+\n",
      "|master_id|               title|year|duration|number_tracks|             artists|    country|           companies|Audio|Other|Video|Blues|Brass & Military|Children's|Classical|Electronic|Folk, World, & Country|Funk / Soul|Hip Hop|Jazz|Latin|Non-Music|Pop|Reggae|Rock|Stage & Screen|stylesIndex|       artistsConcat|artistsIndex|\n",
      "+---------+--------------------+----+--------+-------------+--------------------+-----------+--------------------+-----+-----+-----+-----+----------------+----------+---------+----------+----------------------+-----------+-------+----+-----+---------+---+------+----+--------------+-----------+--------------------+------------+\n",
      "|     1677|                  M6|1997|      18|            2|          [Maurizio]|    Germany|                 SRD|    1|    0|    0|    0|               0|         0|        0|         1|                     0|          0|      0|   0|    0|        0|  0|     0|   0|             0|        0.0|            Maurizio|      4888.0|\n",
      "|     1806|The State Of E:Mo...|2000|     151|           29|           [Various]|    Germany|     EFA Medien GmbH|    1|    0|    0|    0|               0|         0|        0|         1|                     0|          0|      0|   0|    0|        0|  0|     0|   0|             0|       20.0|             Various|         0.0|\n",
      "|     3091| Music Out Of Bounds|2000|      15|            3|          [Stacey Q]|         US|Atlantic Recordin...|    1|    0|    0|    0|               0|         0|        0|         1|                     0|          0|      0|   0|    0|        0|  0|     0|   0|             0|     8558.0|            Stacey Q|      1479.0|\n",
      "|     4823|         Progression|1994|      77|           13|     [Markus Schulz]|Philippines|Universal Records...|    1|    0|    0|    0|               0|         0|        0|         1|                     0|          0|      0|   0|    0|        0|  0|     0|   0|             0|        1.0|       Markus Schulz|      1451.0|\n",
      "|     4894|               Vol 4|1989|      44|           10|     [Black Sabbath]|     Mexico|BMG Entertainment...|    1|    0|    0|    0|               0|         0|        0|         1|                     0|          0|      0|   0|    0|        0|  0|     0|   0|             0|        7.0|       Black Sabbath|       143.0|\n",
      "|     5556|           The Wagon|1996|       9|            2|      [Dinosaur Jr.]|    Germany|                 EFA|    1|    0|    0|    0|               0|         0|        0|         1|                     0|          0|      0|   0|    0|        0|  0|     0|   0|             0|        2.0|        Dinosaur Jr.|       908.0|\n",
      "|     7225|Nobody's Perfect ...|1994|      74|           26|     [Andrea Parker]|         UK|                 SRD|    1|    0|    0|    0|               0|         0|        0|         1|                     0|          0|      0|   0|    0|        0|  0|     0|   0|             0|        1.0|       Andrea Parker|      2668.0|\n",
      "|     8075|               Shine|1999|      36|            6|             [Erire]|         US|           BMG Music|    1|    0|    0|    0|               0|         0|        0|         1|                     0|          0|      0|   0|    0|        0|  0|     0|   0|             0|        1.0|               Erire|     13131.0|\n",
      "|     9233|        Landcruising|1994|      57|            9|        [Carl Craig]|      Japan|Warner Music Japa...|    1|    0|    0|    0|               0|         0|        0|         1|                     0|          0|      0|   0|    0|        0|  0|     0|   0|             0|       92.0|          Carl Craig|      3547.0|\n",
      "|    13452|        BBC Sessions|1997|     112|           30|     [Cocteau Twins]|         US|      Columbia House|    1|    0|    0|    0|               0|         0|        0|         1|                     0|          0|      0|   0|    0|        0|  0|     0|   0|             0|        0.0|       Cocteau Twins|       401.0|\n",
      "|    14846|Rigor Mortis (I L...|2000|      11|            2|     [Flesh & Bones]|    Belgium|Roadrunner Arcade...|    1|    0|    0|    0|               0|         0|        0|         1|                     0|          0|      0|   0|    0|        0|  0|     0|   0|             0|     7803.0|       Flesh & Bones|      7748.0|\n",
      "|    15057|           Cosmology|2001|      68|            9|          [Cosmosis]|         UK| Flying Records (UK)|    1|    0|    0|    0|               0|         0|        0|         1|                     0|          0|      0|   0|    0|        0|  0|     0|   0|             0|      566.0|            Cosmosis|      3886.0|\n",
      "|    15846|     Sync-In (Remix)|1996|      19|            3|      [Silent Breed]|    Germany|          Discomania|    1|    0|    0|    0|               0|         0|        0|         1|                     0|          0|      0|   0|    0|        0|  0|     0|   0|             0|      132.0|        Silent Breed|     17211.0|\n",
      "|    18295|         Bloodthirst|1999|      73|           23|   [Cannibal Corpse]|    Germany|            SPV GmbH|    1|    0|    0|    0|               0|         0|        0|         1|                     0|          0|      0|   0|    0|        0|  0|     0|   0|             0|        1.0|     Cannibal Corpse|      1392.0|\n",
      "|    18348| Dimension Intrusion|1998|      75|           13|          [F.U.S.E.]|         US|         TVT Records|    1|    0|    0|    0|               0|         0|        0|         1|                     0|          0|      0|   0|    0|        0|  0|     0|   0|             1|     5240.0|            F.U.S.E.|      3466.0|\n",
      "|    18628|       The FON Mixes|1997|      49|           14|  [The Art Of Noise]|    Benelux|         CNR Records|    1|    0|    0|    0|               0|         0|        0|         1|                     0|          0|      0|   0|    0|        0|  0|     0|   0|             0|        0.0|    The Art Of Noise|       400.0|\n",
      "|    18730|Another Great Rec...|1999|      40|           12|        [The Damned]|     France|                 RCA|    1|    0|    0|    0|               0|         0|        0|         1|                     0|          0|      0|   0|    0|        0|  0|     0|   0|             0|     2949.0|          The Damned|       202.0|\n",
      "|    19141|Looking For The P...|1988|      29|            4|[Afrika Bambaataa...|         US|     Tommy Boy Music|    1|    0|    0|    0|               0|         0|        0|         0|                     0|          0|      1|   0|    0|        0|  0|     0|   0|             0|        3.0|Afrika Bambaataa ...|      4803.0|\n",
      "|    19158|   Accepted Eclectic|1985|      63|           16|         [Aceyalone]|         US|    Nu Gruv Alliance|    1|    0|    0|    0|               0|         0|        0|         0|                     0|          0|      1|   0|    0|        0|  0|     0|   0|             0|        9.0|           Aceyalone|     28669.0|\n",
      "|    21965|     Niteworks Pt. 3|1999|      15|            4|[Damon Wild, Echo...|         US|            N.E.W.S.|    1|    0|    0|    0|               0|         0|        0|         1|                     0|          0|      0|   0|    0|        0|  0|     0|   0|             0|        0.0|Damon Wild, Echoplex|     26826.0|\n",
      "+---------+--------------------+----+--------+-------------+--------------------+-----------+--------------------+-----+-----+-----+-----+----------------+----------+---------+----------+----------------------+-----------+-------+----+-----+---------+---+------+----+--------------+-----------+--------------------+------------+\n",
      "only showing top 20 rows\n",
      "\n"
     ]
    }
   ],
   "source": [
    "from pyspark.ml.feature import StringIndexer\n",
    "\n",
    "dfArtistsSep = dfJoined.withColumn(\"artistsConcat\", concat_ws(\", \", \"artists\"))\n",
    "\n",
    "indexer = StringIndexer(inputCol=\"artistsConcat\", outputCol=\"artistsIndex\")\n",
    "indexed = indexer.fit(dfArtistsSep).transform(dfArtistsSep)\n",
    "indexed.show()"
   ]
  },
  {
   "cell_type": "code",
   "execution_count": 27,
   "metadata": {},
   "outputs": [],
   "source": [
    "dfJoined = indexed.drop(\"artists\", \"artistsConcat\")"
   ]
  },
  {
   "cell_type": "code",
   "execution_count": 28,
   "metadata": {},
   "outputs": [],
   "source": [
    "tablaIntermedia3 = dfJoined.select(\"*\")"
   ]
  },
  {
   "cell_type": "code",
   "execution_count": 29,
   "metadata": {},
   "outputs": [
    {
     "data": {
      "text/plain": [
       "69955"
      ]
     },
     "execution_count": 29,
     "metadata": {},
     "output_type": "execute_result"
    }
   ],
   "source": [
    "dfJoined.count()"
   ]
  },
  {
   "cell_type": "code",
   "execution_count": 30,
   "metadata": {},
   "outputs": [],
   "source": [
    "dfJoined = dfJoined.cache()"
   ]
  },
  {
   "cell_type": "markdown",
   "metadata": {},
   "source": [
    "<h4>Columna Companies.</h4>"
   ]
  },
  {
   "cell_type": "code",
   "execution_count": 31,
   "metadata": {
    "scrolled": true
   },
   "outputs": [
    {
     "name": "stdout",
     "output_type": "stream",
     "text": [
      "+--------------------+\n",
      "|           companies|\n",
      "+--------------------+\n",
      "|WARNER MUSIC BRAS...|\n",
      "|    Rough Trade Inc.|\n",
      "|  Membran Music Ltd.|\n",
      "|  Tesco Distribution|\n",
      "| BMG The Netherlands|\n",
      "|            PRT Ltd.|\n",
      "|       Sutra Records|\n",
      "|Sundesire Media Worx|\n",
      "|RedX Entertainmen...|\n",
      "|                 Vme|\n",
      "|      Apostrophe (2)|\n",
      "|Trans Canada Records|\n",
      "|Virgin Vision Dis...|\n",
      "|      Benson Records|\n",
      "|                   K|\n",
      "|                B.W.|\n",
      "|Starland Music, Inc.|\n",
      "|Milletlerarası Mü...|\n",
      "|Universal Music D...|\n",
      "|       DiscMedi Blau|\n",
      "+--------------------+\n",
      "only showing top 20 rows\n",
      "\n",
      "7831\n"
     ]
    }
   ],
   "source": [
    "dfJoined.select(\"companies\").distinct().show() \n",
    "print(dfJoined.select(\"companies\").distinct().count())\n"
   ]
  },
  {
   "cell_type": "markdown",
   "metadata": {},
   "source": [
    "<p>De forma semejante a la columna de los artistas, se utilizará el StringIndexer para asignar un valor a cada valor.</p>"
   ]
  },
  {
   "cell_type": "code",
   "execution_count": 32,
   "metadata": {
    "scrolled": true
   },
   "outputs": [
    {
     "name": "stdout",
     "output_type": "stream",
     "text": [
      "+---------+--------------------+----+--------+-------------+-----------+--------------------+-----+-----+-----+-----+----------------+----------+---------+----------+----------------------+-----------+-------+----+-----+---------+---+------+----+--------------+-----------+------------+--------------+\n",
      "|master_id|               title|year|duration|number_tracks|    country|           companies|Audio|Other|Video|Blues|Brass & Military|Children's|Classical|Electronic|Folk, World, & Country|Funk / Soul|Hip Hop|Jazz|Latin|Non-Music|Pop|Reggae|Rock|Stage & Screen|stylesIndex|artistsIndex|companiesIndex|\n",
      "+---------+--------------------+----+--------+-------------+-----------+--------------------+-----+-----+-----+-----+----------------+----------+---------+----------+----------------------+-----------+-------+----+-----+---------+---+------+----+--------------+-----------+------------+--------------+\n",
      "|     1677|                  M6|1997|      18|            2|    Germany|                 SRD|    1|    0|    0|    0|               0|         0|        0|         1|                     0|          0|      0|   0|    0|        0|  0|     0|   0|             0|        0.0|      4888.0|          28.0|\n",
      "|     1806|The State Of E:Mo...|2000|     151|           29|    Germany|     EFA Medien GmbH|    1|    0|    0|    0|               0|         0|        0|         1|                     0|          0|      0|   0|    0|        0|  0|     0|   0|             0|       20.0|         0.0|         276.0|\n",
      "|     3091| Music Out Of Bounds|2000|      15|            3|         US|Atlantic Recordin...|    1|    0|    0|    0|               0|         0|        0|         1|                     0|          0|      0|   0|    0|        0|  0|     0|   0|             0|     8558.0|      1479.0|          29.0|\n",
      "|     4823|         Progression|1994|      77|           13|Philippines|Universal Records...|    1|    0|    0|    0|               0|         0|        0|         1|                     0|          0|      0|   0|    0|        0|  0|     0|   0|             0|        1.0|      1451.0|        2534.0|\n",
      "|     4894|               Vol 4|1989|      44|           10|     Mexico|BMG Entertainment...|    1|    0|    0|    0|               0|         0|        0|         1|                     0|          0|      0|   0|    0|        0|  0|     0|   0|             0|        7.0|       143.0|         787.0|\n",
      "|     5556|           The Wagon|1996|       9|            2|    Germany|                 EFA|    1|    0|    0|    0|               0|         0|        0|         1|                     0|          0|      0|   0|    0|        0|  0|     0|   0|             0|        2.0|       908.0|           4.0|\n",
      "|     7225|Nobody's Perfect ...|1994|      74|           26|         UK|                 SRD|    1|    0|    0|    0|               0|         0|        0|         1|                     0|          0|      0|   0|    0|        0|  0|     0|   0|             0|        1.0|      2668.0|          28.0|\n",
      "|     8075|               Shine|1999|      36|            6|         US|           BMG Music|    1|    0|    0|    0|               0|         0|        0|         1|                     0|          0|      0|   0|    0|        0|  0|     0|   0|             0|        1.0|     13131.0|          31.0|\n",
      "|     9233|        Landcruising|1994|      57|            9|      Japan|Warner Music Japa...|    1|    0|    0|    0|               0|         0|        0|         1|                     0|          0|      0|   0|    0|        0|  0|     0|   0|             0|       92.0|      3547.0|          32.0|\n",
      "|    13452|        BBC Sessions|1997|     112|           30|         US|      Columbia House|    1|    0|    0|    0|               0|         0|        0|         1|                     0|          0|      0|   0|    0|        0|  0|     0|   0|             0|        0.0|       401.0|          20.0|\n",
      "|    14846|Rigor Mortis (I L...|2000|      11|            2|    Belgium|Roadrunner Arcade...|    1|    0|    0|    0|               0|         0|        0|         1|                     0|          0|      0|   0|    0|        0|  0|     0|   0|             0|     7803.0|      7748.0|        6997.0|\n",
      "|    15057|           Cosmology|2001|      68|            9|         UK| Flying Records (UK)|    1|    0|    0|    0|               0|         0|        0|         1|                     0|          0|      0|   0|    0|        0|  0|     0|   0|             0|      566.0|      3886.0|         604.0|\n",
      "|    15846|     Sync-In (Remix)|1996|      19|            3|    Germany|          Discomania|    1|    0|    0|    0|               0|         0|        0|         1|                     0|          0|      0|   0|    0|        0|  0|     0|   0|             0|      132.0|     17211.0|          76.0|\n",
      "|    18295|         Bloodthirst|1999|      73|           23|    Germany|            SPV GmbH|    1|    0|    0|    0|               0|         0|        0|         1|                     0|          0|      0|   0|    0|        0|  0|     0|   0|             0|        1.0|      1392.0|           5.0|\n",
      "|    18348| Dimension Intrusion|1998|      75|           13|         US|         TVT Records|    1|    0|    0|    0|               0|         0|        0|         1|                     0|          0|      0|   0|    0|        0|  0|     0|   0|             1|     5240.0|      3466.0|         172.0|\n",
      "|    18628|       The FON Mixes|1997|      49|           14|    Benelux|         CNR Records|    1|    0|    0|    0|               0|         0|        0|         1|                     0|          0|      0|   0|    0|        0|  0|     0|   0|             0|        0.0|       400.0|          88.0|\n",
      "|    18730|Another Great Rec...|1999|      40|           12|     France|                 RCA|    1|    0|    0|    0|               0|         0|        0|         1|                     0|          0|      0|   0|    0|        0|  0|     0|   0|             0|     2949.0|       202.0|          85.0|\n",
      "|    19141|Looking For The P...|1988|      29|            4|         US|     Tommy Boy Music|    1|    0|    0|    0|               0|         0|        0|         0|                     0|          0|      1|   0|    0|        0|  0|     0|   0|             0|        3.0|      4803.0|         261.0|\n",
      "|    19158|   Accepted Eclectic|1985|      63|           16|         US|    Nu Gruv Alliance|    1|    0|    0|    0|               0|         0|        0|         0|                     0|          0|      1|   0|    0|        0|  0|     0|   0|             0|        9.0|     28669.0|         985.0|\n",
      "|    21965|     Niteworks Pt. 3|1999|      15|            4|         US|            N.E.W.S.|    1|    0|    0|    0|               0|         0|        0|         1|                     0|          0|      0|   0|    0|        0|  0|     0|   0|             0|        0.0|     26826.0|          70.0|\n",
      "+---------+--------------------+----+--------+-------------+-----------+--------------------+-----+-----+-----+-----+----------------+----------+---------+----------+----------------------+-----------+-------+----+-----+---------+---+------+----+--------------+-----------+------------+--------------+\n",
      "only showing top 20 rows\n",
      "\n"
     ]
    }
   ],
   "source": [
    "\n",
    "indexer = StringIndexer(inputCol=\"companies\", outputCol=\"companiesIndex\")\n",
    "indexed = indexer.fit(dfJoined).transform(dfJoined)\n",
    "indexed.show()\n"
   ]
  },
  {
   "cell_type": "code",
   "execution_count": 33,
   "metadata": {},
   "outputs": [],
   "source": [
    "dfJoined = indexed.drop(\"companies\")"
   ]
  },
  {
   "cell_type": "code",
   "execution_count": 34,
   "metadata": {},
   "outputs": [],
   "source": [
    "tablaIntermedia4 = dfJoined.select(\"*\")"
   ]
  },
  {
   "cell_type": "code",
   "execution_count": 35,
   "metadata": {},
   "outputs": [],
   "source": [
    "dfJoined = dfJoined.cache()"
   ]
  },
  {
   "cell_type": "code",
   "execution_count": 36,
   "metadata": {},
   "outputs": [
    {
     "data": {
      "text/plain": [
       "69955"
      ]
     },
     "execution_count": 36,
     "metadata": {},
     "output_type": "execute_result"
    }
   ],
   "source": [
    "dfJoined.count()"
   ]
  },
  {
   "cell_type": "markdown",
   "metadata": {},
   "source": [
    "<h4>Columna Country.</h4>"
   ]
  },
  {
   "cell_type": "code",
   "execution_count": 37,
   "metadata": {
    "scrolled": true
   },
   "outputs": [
    {
     "name": "stdout",
     "output_type": "stream",
     "text": [
      "+--------------------+\n",
      "|             country|\n",
      "+--------------------+\n",
      "|              Russia|\n",
      "|         UK & Europe|\n",
      "|              Sweden|\n",
      "|         Philippines|\n",
      "|            Malaysia|\n",
      "|           Singapore|\n",
      "|              Turkey|\n",
      "|             Germany|\n",
      "|              Europe|\n",
      "| UK, Europe & Israel|\n",
      "|         Ivory Coast|\n",
      "|              Jordan|\n",
      "|              France|\n",
      "|              Greece|\n",
      "|              Taiwan|\n",
      "|Germany, Austria,...|\n",
      "|            Slovakia|\n",
      "|             Reunion|\n",
      "|           Argentina|\n",
      "|Congo, Democratic...|\n",
      "+--------------------+\n",
      "only showing top 20 rows\n",
      "\n",
      "128\n"
     ]
    }
   ],
   "source": [
    "# Expandimos la lista \n",
    "\n",
    "dfMRJ.select(\"country\").distinct().show() \n",
    "print(dfMRJ.select(\"country\").distinct().count())"
   ]
  },
  {
   "cell_type": "markdown",
   "metadata": {},
   "source": [
    "<p>Vamos a los valores de la tabla columna, los países .</p>"
   ]
  },
  {
   "cell_type": "code",
   "execution_count": 38,
   "metadata": {
    "scrolled": true
   },
   "outputs": [
    {
     "name": "stdout",
     "output_type": "stream",
     "text": [
      "+---------+--------------------+----+--------+-------------+-----------+-----+-----+-----+-----+----------------+----------+---------+----------+----------------------+-----------+-------+----+-----+---------+---+------+----+--------------+-----------+------------+--------------+------------+\n",
      "|master_id|               title|year|duration|number_tracks|    country|Audio|Other|Video|Blues|Brass & Military|Children's|Classical|Electronic|Folk, World, & Country|Funk / Soul|Hip Hop|Jazz|Latin|Non-Music|Pop|Reggae|Rock|Stage & Screen|stylesIndex|artistsIndex|companiesIndex|countryIndex|\n",
      "+---------+--------------------+----+--------+-------------+-----------+-----+-----+-----+-----+----------------+----------+---------+----------+----------------------+-----------+-------+----+-----+---------+---+------+----+--------------+-----------+------------+--------------+------------+\n",
      "|     1677|                  M6|1997|      18|            2|    Germany|    1|    0|    0|    0|               0|         0|        0|         1|                     0|          0|      0|   0|    0|        0|  0|     0|   0|             0|        0.0|      4888.0|          28.0|         1.0|\n",
      "|     1806|The State Of E:Mo...|2000|     151|           29|    Germany|    1|    0|    0|    0|               0|         0|        0|         1|                     0|          0|      0|   0|    0|        0|  0|     0|   0|             0|       20.0|         0.0|         276.0|         1.0|\n",
      "|     3091| Music Out Of Bounds|2000|      15|            3|         US|    1|    0|    0|    0|               0|         0|        0|         1|                     0|          0|      0|   0|    0|        0|  0|     0|   0|             0|     8558.0|      1479.0|          29.0|         0.0|\n",
      "|     4823|         Progression|1994|      77|           13|Philippines|    1|    0|    0|    0|               0|         0|        0|         1|                     0|          0|      0|   0|    0|        0|  0|     0|   0|             0|        1.0|      1451.0|        2534.0|        46.0|\n",
      "|     4894|               Vol 4|1989|      44|           10|     Mexico|    1|    0|    0|    0|               0|         0|        0|         1|                     0|          0|      0|   0|    0|        0|  0|     0|   0|             0|        7.0|       143.0|         787.0|        14.0|\n",
      "|     5556|           The Wagon|1996|       9|            2|    Germany|    1|    0|    0|    0|               0|         0|        0|         1|                     0|          0|      0|   0|    0|        0|  0|     0|   0|             0|        2.0|       908.0|           4.0|         1.0|\n",
      "|     7225|Nobody's Perfect ...|1994|      74|           26|         UK|    1|    0|    0|    0|               0|         0|        0|         1|                     0|          0|      0|   0|    0|        0|  0|     0|   0|             0|        1.0|      2668.0|          28.0|         2.0|\n",
      "|     8075|               Shine|1999|      36|            6|         US|    1|    0|    0|    0|               0|         0|        0|         1|                     0|          0|      0|   0|    0|        0|  0|     0|   0|             0|        1.0|     13131.0|          31.0|         0.0|\n",
      "|     9233|        Landcruising|1994|      57|            9|      Japan|    1|    0|    0|    0|               0|         0|        0|         1|                     0|          0|      0|   0|    0|        0|  0|     0|   0|             0|       92.0|      3547.0|          32.0|         8.0|\n",
      "|    13452|        BBC Sessions|1997|     112|           30|         US|    1|    0|    0|    0|               0|         0|        0|         1|                     0|          0|      0|   0|    0|        0|  0|     0|   0|             0|        0.0|       401.0|          20.0|         0.0|\n",
      "|    14846|Rigor Mortis (I L...|2000|      11|            2|    Belgium|    1|    0|    0|    0|               0|         0|        0|         1|                     0|          0|      0|   0|    0|        0|  0|     0|   0|             0|     7803.0|      7748.0|        6997.0|        11.0|\n",
      "|    15057|           Cosmology|2001|      68|            9|         UK|    1|    0|    0|    0|               0|         0|        0|         1|                     0|          0|      0|   0|    0|        0|  0|     0|   0|             0|      566.0|      3886.0|         604.0|         2.0|\n",
      "|    15846|     Sync-In (Remix)|1996|      19|            3|    Germany|    1|    0|    0|    0|               0|         0|        0|         1|                     0|          0|      0|   0|    0|        0|  0|     0|   0|             0|      132.0|     17211.0|          76.0|         1.0|\n",
      "|    18295|         Bloodthirst|1999|      73|           23|    Germany|    1|    0|    0|    0|               0|         0|        0|         1|                     0|          0|      0|   0|    0|        0|  0|     0|   0|             0|        1.0|      1392.0|           5.0|         1.0|\n",
      "|    18348| Dimension Intrusion|1998|      75|           13|         US|    1|    0|    0|    0|               0|         0|        0|         1|                     0|          0|      0|   0|    0|        0|  0|     0|   0|             1|     5240.0|      3466.0|         172.0|         0.0|\n",
      "|    18628|       The FON Mixes|1997|      49|           14|    Benelux|    1|    0|    0|    0|               0|         0|        0|         1|                     0|          0|      0|   0|    0|        0|  0|     0|   0|             0|        0.0|       400.0|          88.0|        32.0|\n",
      "|    18730|Another Great Rec...|1999|      40|           12|     France|    1|    0|    0|    0|               0|         0|        0|         1|                     0|          0|      0|   0|    0|        0|  0|     0|   0|             0|     2949.0|       202.0|          85.0|         4.0|\n",
      "|    19141|Looking For The P...|1988|      29|            4|         US|    1|    0|    0|    0|               0|         0|        0|         0|                     0|          0|      1|   0|    0|        0|  0|     0|   0|             0|        3.0|      4803.0|         261.0|         0.0|\n",
      "|    19158|   Accepted Eclectic|1985|      63|           16|         US|    1|    0|    0|    0|               0|         0|        0|         0|                     0|          0|      1|   0|    0|        0|  0|     0|   0|             0|        9.0|     28669.0|         985.0|         0.0|\n",
      "|    21965|     Niteworks Pt. 3|1999|      15|            4|         US|    1|    0|    0|    0|               0|         0|        0|         1|                     0|          0|      0|   0|    0|        0|  0|     0|   0|             0|        0.0|     26826.0|          70.0|         0.0|\n",
      "+---------+--------------------+----+--------+-------------+-----------+-----+-----+-----+-----+----------------+----------+---------+----------+----------------------+-----------+-------+----+-----+---------+---+------+----+--------------+-----------+------------+--------------+------------+\n",
      "only showing top 20 rows\n",
      "\n"
     ]
    }
   ],
   "source": [
    "from pyspark.ml.feature import StringIndexer\n",
    "\n",
    "indexer = StringIndexer(inputCol=\"country\", outputCol=\"countryIndex\")\n",
    "indexed = indexer.fit(dfJoined).transform(dfJoined)\n",
    "indexed.show()"
   ]
  },
  {
   "cell_type": "code",
   "execution_count": 39,
   "metadata": {
    "scrolled": true
   },
   "outputs": [],
   "source": [
    "# tokenizer = Tokenizer(inputCol=\"country\", outputCol=\"countryWords\")\n",
    "# wordsData = tokenizer.transform(dfJoined)\n",
    "\n",
    "# hashingTF = HashingTF(inputCol=\"countryWords\", outputCol=\"countryWordsTF\")\n",
    "# featurizedData = hashingTF.transform(wordsData)\n",
    "\n",
    "# idf = IDF(inputCol=\"countryWordsTF\", outputCol=\"countryWordsFeatures\")\n",
    "# idfModel = idf.fit(featurizedData)\n",
    "# rescaledData = idfModel.transform(featurizedData)\n",
    "\n",
    "# rescaledData.show()\n",
    "\n",
    "# # dfCountrySep = rescaledData.select(\"master_id\", \"stylesWordFeatures\")\n",
    "# # dfCountrySep.show()\n",
    "\n",
    "# dfJoined = rescaledData.drop(\"country\", \"countryWords\", \"countryWordsTF\")"
   ]
  },
  {
   "cell_type": "code",
   "execution_count": 40,
   "metadata": {},
   "outputs": [],
   "source": [
    "dfJoined = indexed.drop(\"country\")"
   ]
  },
  {
   "cell_type": "code",
   "execution_count": 41,
   "metadata": {
    "scrolled": true
   },
   "outputs": [
    {
     "name": "stdout",
     "output_type": "stream",
     "text": [
      "+---------+--------------------+----+--------+-------------+-----+-----+-----+-----+----------------+----------+---------+----------+----------------------+-----------+-------+----+-----+---------+---+------+----+--------------+-----------+------------+--------------+------------+\n",
      "|master_id|               title|year|duration|number_tracks|Audio|Other|Video|Blues|Brass & Military|Children's|Classical|Electronic|Folk, World, & Country|Funk / Soul|Hip Hop|Jazz|Latin|Non-Music|Pop|Reggae|Rock|Stage & Screen|stylesIndex|artistsIndex|companiesIndex|countryIndex|\n",
      "+---------+--------------------+----+--------+-------------+-----+-----+-----+-----+----------------+----------+---------+----------+----------------------+-----------+-------+----+-----+---------+---+------+----+--------------+-----------+------------+--------------+------------+\n",
      "|     1677|                  M6|1997|      18|            2|    1|    0|    0|    0|               0|         0|        0|         1|                     0|          0|      0|   0|    0|        0|  0|     0|   0|             0|        0.0|      4888.0|          28.0|         1.0|\n",
      "|     1806|The State Of E:Mo...|2000|     151|           29|    1|    0|    0|    0|               0|         0|        0|         1|                     0|          0|      0|   0|    0|        0|  0|     0|   0|             0|       20.0|         0.0|         276.0|         1.0|\n",
      "|     3091| Music Out Of Bounds|2000|      15|            3|    1|    0|    0|    0|               0|         0|        0|         1|                     0|          0|      0|   0|    0|        0|  0|     0|   0|             0|     8558.0|      1479.0|          29.0|         0.0|\n",
      "|     4823|         Progression|1994|      77|           13|    1|    0|    0|    0|               0|         0|        0|         1|                     0|          0|      0|   0|    0|        0|  0|     0|   0|             0|        1.0|      1451.0|        2534.0|        46.0|\n",
      "|     4894|               Vol 4|1989|      44|           10|    1|    0|    0|    0|               0|         0|        0|         1|                     0|          0|      0|   0|    0|        0|  0|     0|   0|             0|        7.0|       143.0|         787.0|        14.0|\n",
      "|     5556|           The Wagon|1996|       9|            2|    1|    0|    0|    0|               0|         0|        0|         1|                     0|          0|      0|   0|    0|        0|  0|     0|   0|             0|        2.0|       908.0|           4.0|         1.0|\n",
      "|     7225|Nobody's Perfect ...|1994|      74|           26|    1|    0|    0|    0|               0|         0|        0|         1|                     0|          0|      0|   0|    0|        0|  0|     0|   0|             0|        1.0|      2668.0|          28.0|         2.0|\n",
      "|     8075|               Shine|1999|      36|            6|    1|    0|    0|    0|               0|         0|        0|         1|                     0|          0|      0|   0|    0|        0|  0|     0|   0|             0|        1.0|     13131.0|          31.0|         0.0|\n",
      "|     9233|        Landcruising|1994|      57|            9|    1|    0|    0|    0|               0|         0|        0|         1|                     0|          0|      0|   0|    0|        0|  0|     0|   0|             0|       92.0|      3547.0|          32.0|         8.0|\n",
      "|    13452|        BBC Sessions|1997|     112|           30|    1|    0|    0|    0|               0|         0|        0|         1|                     0|          0|      0|   0|    0|        0|  0|     0|   0|             0|        0.0|       401.0|          20.0|         0.0|\n",
      "|    14846|Rigor Mortis (I L...|2000|      11|            2|    1|    0|    0|    0|               0|         0|        0|         1|                     0|          0|      0|   0|    0|        0|  0|     0|   0|             0|     7803.0|      7748.0|        6997.0|        11.0|\n",
      "|    15057|           Cosmology|2001|      68|            9|    1|    0|    0|    0|               0|         0|        0|         1|                     0|          0|      0|   0|    0|        0|  0|     0|   0|             0|      566.0|      3886.0|         604.0|         2.0|\n",
      "|    15846|     Sync-In (Remix)|1996|      19|            3|    1|    0|    0|    0|               0|         0|        0|         1|                     0|          0|      0|   0|    0|        0|  0|     0|   0|             0|      132.0|     17211.0|          76.0|         1.0|\n",
      "|    18295|         Bloodthirst|1999|      73|           23|    1|    0|    0|    0|               0|         0|        0|         1|                     0|          0|      0|   0|    0|        0|  0|     0|   0|             0|        1.0|      1392.0|           5.0|         1.0|\n",
      "|    18348| Dimension Intrusion|1998|      75|           13|    1|    0|    0|    0|               0|         0|        0|         1|                     0|          0|      0|   0|    0|        0|  0|     0|   0|             1|     5240.0|      3466.0|         172.0|         0.0|\n",
      "|    18628|       The FON Mixes|1997|      49|           14|    1|    0|    0|    0|               0|         0|        0|         1|                     0|          0|      0|   0|    0|        0|  0|     0|   0|             0|        0.0|       400.0|          88.0|        32.0|\n",
      "|    18730|Another Great Rec...|1999|      40|           12|    1|    0|    0|    0|               0|         0|        0|         1|                     0|          0|      0|   0|    0|        0|  0|     0|   0|             0|     2949.0|       202.0|          85.0|         4.0|\n",
      "|    19141|Looking For The P...|1988|      29|            4|    1|    0|    0|    0|               0|         0|        0|         0|                     0|          0|      1|   0|    0|        0|  0|     0|   0|             0|        3.0|      4803.0|         261.0|         0.0|\n",
      "|    19158|   Accepted Eclectic|1985|      63|           16|    1|    0|    0|    0|               0|         0|        0|         0|                     0|          0|      1|   0|    0|        0|  0|     0|   0|             0|        9.0|     28669.0|         985.0|         0.0|\n",
      "|    21965|     Niteworks Pt. 3|1999|      15|            4|    1|    0|    0|    0|               0|         0|        0|         1|                     0|          0|      0|   0|    0|        0|  0|     0|   0|             0|        0.0|     26826.0|          70.0|         0.0|\n",
      "+---------+--------------------+----+--------+-------------+-----+-----+-----+-----+----------------+----------+---------+----------+----------------------+-----------+-------+----+-----+---------+---+------+----+--------------+-----------+------------+--------------+------------+\n",
      "only showing top 20 rows\n",
      "\n"
     ]
    }
   ],
   "source": [
    "dfJoined.show()"
   ]
  },
  {
   "cell_type": "code",
   "execution_count": 42,
   "metadata": {},
   "outputs": [],
   "source": [
    "dfJoined = dfJoined.cache()"
   ]
  },
  {
   "cell_type": "markdown",
   "metadata": {},
   "source": [
    "<h4>Limpieza de datos de las demás columnas.</h4>"
   ]
  },
  {
   "cell_type": "code",
   "execution_count": 43,
   "metadata": {
    "scrolled": true
   },
   "outputs": [
    {
     "name": "stdout",
     "output_type": "stream",
     "text": [
      "Media de la duración 42\n",
      "Numero de filas con duración 0:  14\n",
      "Numero de filas con duración 0:  0\n"
     ]
    }
   ],
   "source": [
    "# Buscamos los lanzamientos cuya duración sea de 0 (falta de datos) y los rellenamos con la media de las duraciones\n",
    "\n",
    "mean = int(dfJoined.groupBy().avg(\"duration\").take(1)[0][0])\n",
    "print(\"Media de la duración\", mean)\n",
    "\n",
    "print(\"Numero de filas con duración 0: \", dfJoined.select(\"master_id\",\"duration\").where(dfJoined[\"duration\"] == 0).count())\n",
    "\n",
    "dfJoined = dfJoined.withColumn(\"duration\", when(dfJoined[\"duration\"] == 0, mean).otherwise(dfJoined[\"duration\"]))\n",
    "\n",
    "print(\"Numero de filas con duración 0: \", dfJoined.select(\"master_id\",\"duration\").where(dfJoined[\"duration\"] == 0).count())"
   ]
  },
  {
   "cell_type": "code",
   "execution_count": 44,
   "metadata": {
    "scrolled": true
   },
   "outputs": [
    {
     "name": "stdout",
     "output_type": "stream",
     "text": [
      "+--------+\n",
      "|duration|\n",
      "+--------+\n",
      "|    null|\n",
      "|       1|\n",
      "|       2|\n",
      "|       3|\n",
      "|       4|\n",
      "|       5|\n",
      "|       6|\n",
      "|       7|\n",
      "|       8|\n",
      "|       9|\n",
      "|      10|\n",
      "|      11|\n",
      "|      12|\n",
      "|      13|\n",
      "|      14|\n",
      "|      15|\n",
      "|      16|\n",
      "|      17|\n",
      "|      18|\n",
      "|      19|\n",
      "+--------+\n",
      "only showing top 20 rows\n",
      "\n",
      "+--------+\n",
      "|duration|\n",
      "+--------+\n",
      "|       1|\n",
      "|       2|\n",
      "|       3|\n",
      "|       4|\n",
      "|       5|\n",
      "|       6|\n",
      "|       7|\n",
      "|       8|\n",
      "|       9|\n",
      "|      10|\n",
      "|      11|\n",
      "|      12|\n",
      "|      13|\n",
      "|      14|\n",
      "|      15|\n",
      "|      16|\n",
      "|      17|\n",
      "|      18|\n",
      "|      19|\n",
      "|      20|\n",
      "+--------+\n",
      "only showing top 20 rows\n",
      "\n"
     ]
    }
   ],
   "source": [
    "# También rellenamos con la media los posibles valores null.\n",
    "\n",
    "dfJoined.select(\"duration\").distinct().orderBy(\"duration\").show()\n",
    "\n",
    "dfJoined = dfJoined.na.fill(mean)\n",
    "\n",
    "dfJoined.select(\"duration\").distinct().orderBy(\"duration\").show()"
   ]
  },
  {
   "cell_type": "code",
   "execution_count": 45,
   "metadata": {},
   "outputs": [],
   "source": [
    "dfJoined = dfJoined.cache()"
   ]
  },
  {
   "cell_type": "code",
   "execution_count": 46,
   "metadata": {
    "scrolled": true
   },
   "outputs": [
    {
     "name": "stdout",
     "output_type": "stream",
     "text": [
      "+---------+--------------------+----+--------+-------------+-----+-----+-----+-----+----------------+----------+---------+----------+----------------------+-----------+-------+----+-----+---------+---+------+----+--------------+-----------+------------+--------------+------------+\n",
      "|master_id|               title|year|duration|number_tracks|Audio|Other|Video|Blues|Brass & Military|Children's|Classical|Electronic|Folk, World, & Country|Funk / Soul|Hip Hop|Jazz|Latin|Non-Music|Pop|Reggae|Rock|Stage & Screen|stylesIndex|artistsIndex|companiesIndex|countryIndex|\n",
      "+---------+--------------------+----+--------+-------------+-----+-----+-----+-----+----------------+----------+---------+----------+----------------------+-----------+-------+----+-----+---------+---+------+----+--------------+-----------+------------+--------------+------------+\n",
      "|     1677|                  M6|1997|      18|            2|    1|    0|    0|    0|               0|         0|        0|         1|                     0|          0|      0|   0|    0|        0|  0|     0|   0|             0|        0.0|      4888.0|          28.0|         1.0|\n",
      "|     1806|The State Of E:Mo...|2000|     151|           29|    1|    0|    0|    0|               0|         0|        0|         1|                     0|          0|      0|   0|    0|        0|  0|     0|   0|             0|       20.0|         0.0|         276.0|         1.0|\n",
      "|     3091| Music Out Of Bounds|2000|      15|            3|    1|    0|    0|    0|               0|         0|        0|         1|                     0|          0|      0|   0|    0|        0|  0|     0|   0|             0|     8558.0|      1479.0|          29.0|         0.0|\n",
      "|     4823|         Progression|1994|      77|           13|    1|    0|    0|    0|               0|         0|        0|         1|                     0|          0|      0|   0|    0|        0|  0|     0|   0|             0|        1.0|      1451.0|        2534.0|        46.0|\n",
      "|     4894|               Vol 4|1989|      44|           10|    1|    0|    0|    0|               0|         0|        0|         1|                     0|          0|      0|   0|    0|        0|  0|     0|   0|             0|        7.0|       143.0|         787.0|        14.0|\n",
      "|     5556|           The Wagon|1996|       9|            2|    1|    0|    0|    0|               0|         0|        0|         1|                     0|          0|      0|   0|    0|        0|  0|     0|   0|             0|        2.0|       908.0|           4.0|         1.0|\n",
      "|     7225|Nobody's Perfect ...|1994|      74|           26|    1|    0|    0|    0|               0|         0|        0|         1|                     0|          0|      0|   0|    0|        0|  0|     0|   0|             0|        1.0|      2668.0|          28.0|         2.0|\n",
      "|     8075|               Shine|1999|      36|            6|    1|    0|    0|    0|               0|         0|        0|         1|                     0|          0|      0|   0|    0|        0|  0|     0|   0|             0|        1.0|     13131.0|          31.0|         0.0|\n",
      "|     9233|        Landcruising|1994|      57|            9|    1|    0|    0|    0|               0|         0|        0|         1|                     0|          0|      0|   0|    0|        0|  0|     0|   0|             0|       92.0|      3547.0|          32.0|         8.0|\n",
      "|    13452|        BBC Sessions|1997|     112|           30|    1|    0|    0|    0|               0|         0|        0|         1|                     0|          0|      0|   0|    0|        0|  0|     0|   0|             0|        0.0|       401.0|          20.0|         0.0|\n",
      "|    14846|Rigor Mortis (I L...|2000|      11|            2|    1|    0|    0|    0|               0|         0|        0|         1|                     0|          0|      0|   0|    0|        0|  0|     0|   0|             0|     7803.0|      7748.0|        6997.0|        11.0|\n",
      "|    15057|           Cosmology|2001|      68|            9|    1|    0|    0|    0|               0|         0|        0|         1|                     0|          0|      0|   0|    0|        0|  0|     0|   0|             0|      566.0|      3886.0|         604.0|         2.0|\n",
      "|    15846|     Sync-In (Remix)|1996|      19|            3|    1|    0|    0|    0|               0|         0|        0|         1|                     0|          0|      0|   0|    0|        0|  0|     0|   0|             0|      132.0|     17211.0|          76.0|         1.0|\n",
      "|    18295|         Bloodthirst|1999|      73|           23|    1|    0|    0|    0|               0|         0|        0|         1|                     0|          0|      0|   0|    0|        0|  0|     0|   0|             0|        1.0|      1392.0|           5.0|         1.0|\n",
      "|    18348| Dimension Intrusion|1998|      75|           13|    1|    0|    0|    0|               0|         0|        0|         1|                     0|          0|      0|   0|    0|        0|  0|     0|   0|             1|     5240.0|      3466.0|         172.0|         0.0|\n",
      "|    18628|       The FON Mixes|1997|      49|           14|    1|    0|    0|    0|               0|         0|        0|         1|                     0|          0|      0|   0|    0|        0|  0|     0|   0|             0|        0.0|       400.0|          88.0|        32.0|\n",
      "|    18730|Another Great Rec...|1999|      40|           12|    1|    0|    0|    0|               0|         0|        0|         1|                     0|          0|      0|   0|    0|        0|  0|     0|   0|             0|     2949.0|       202.0|          85.0|         4.0|\n",
      "|    19141|Looking For The P...|1988|      29|            4|    1|    0|    0|    0|               0|         0|        0|         0|                     0|          0|      1|   0|    0|        0|  0|     0|   0|             0|        3.0|      4803.0|         261.0|         0.0|\n",
      "|    19158|   Accepted Eclectic|1985|      63|           16|    1|    0|    0|    0|               0|         0|        0|         0|                     0|          0|      1|   0|    0|        0|  0|     0|   0|             0|        9.0|     28669.0|         985.0|         0.0|\n",
      "|    21965|     Niteworks Pt. 3|1999|      15|            4|    1|    0|    0|    0|               0|         0|        0|         1|                     0|          0|      0|   0|    0|        0|  0|     0|   0|             0|        0.0|     26826.0|          70.0|         0.0|\n",
      "+---------+--------------------+----+--------+-------------+-----+-----+-----+-----+----------------+----------+---------+----------+----------------------+-----------+-------+----+-----+---------+---+------+----+--------------+-----------+------------+--------------+------------+\n",
      "only showing top 20 rows\n",
      "\n"
     ]
    }
   ],
   "source": [
    "dfJoined.show()"
   ]
  },
  {
   "cell_type": "markdown",
   "metadata": {},
   "source": [
    "<h3>Creación del fichero con los datos de la manera que nos interesa para calcular la similitud.</h3>"
   ]
  },
  {
   "cell_type": "code",
   "execution_count": 53,
   "metadata": {},
   "outputs": [],
   "source": [
    "csvFileName = \"../TFM Files/CNT2.1 - dataNotScaled\"\n",
    "\n",
    "dfJoined\\\n",
    "    .repartition(1)\\\n",
    "    .coalesce(1)\\\n",
    "    .write\\\n",
    "    .format(\"csv\")\\\n",
    "    .options(sep=\",\", inferSchema=\"true\", header=\"true\")\\\n",
    "    .save(csvFileName)"
   ]
  },
  {
   "cell_type": "markdown",
   "metadata": {},
   "source": [
    "<h1>Generación del dataset con los valores normalizados.</h1>"
   ]
  },
  {
   "cell_type": "code",
   "execution_count": 56,
   "metadata": {
    "scrolled": true
   },
   "outputs": [
    {
     "name": "stdout",
     "output_type": "stream",
     "text": [
      "+---------+--------------------+----+--------+-------------+-----+-----+-----+-----+----------------+----------+---------+----------+----------------------+-----------+-------+----+-----+---------+---+------+----+--------------+-----------+------------+--------------+------------+\n",
      "|master_id|               title|year|duration|number_tracks|Audio|Other|Video|Blues|Brass & Military|Children's|Classical|Electronic|Folk, World, & Country|Funk / Soul|Hip Hop|Jazz|Latin|Non-Music|Pop|Reggae|Rock|Stage & Screen|stylesIndex|artistsIndex|companiesIndex|countryIndex|\n",
      "+---------+--------------------+----+--------+-------------+-----+-----+-----+-----+----------------+----------+---------+----------+----------------------+-----------+-------+----+-----+---------+---+------+----+--------------+-----------+------------+--------------+------------+\n",
      "|     1840|    Cursed / Optimum|1998|      17|            2|    1|    0|    0|    0|               0|         0|        0|         1|                     0|          0|      0|   0|    0|        0|  0|     0|   0|             0|      273.0|      2136.0|          76.0|         2.0|\n",
      "|     2812|            Showcase|1999|     128|           20|    1|    0|    0|    0|               0|         0|        0|         1|                     0|          0|      0|   0|    0|        0|  0|     0|   0|             0|        7.0|     33609.0|          22.0|         1.0|\n",
      "|     3391|          Fairytales|1993|       7|            2|    1|    0|    0|    0|               0|         0|        0|         1|                     0|          0|      0|   0|    0|        0|  0|     0|   0|             0|        1.0|      1037.0|         128.0|         7.0|\n",
      "|     5418|                Sign|2000|      49|            9|    1|    0|    0|    0|               0|         0|        0|         1|                     0|          0|      0|   0|    0|        0|  0|     0|   0|             0|       21.0|       652.0|         323.0|        12.0|\n",
      "|     6424|Papua New Guinea ...|1994|      38|            5|    1|    0|    0|    0|               0|         0|        0|         1|                     0|          0|      0|   0|    0|        0|  0|     0|   0|             0|     3323.0|       779.0|          69.0|         2.0|\n",
      "|     6834|          Tiger Trap|2000|      29|           12|    1|    0|    0|    0|               0|         0|        0|         1|                     0|          0|      0|   0|    0|        0|  0|     0|   0|             0|     6730.0|     28499.0|         221.0|         0.0|\n",
      "|     7544|The Sound Of Goodbye|2001|      68|           12|    1|    0|    0|    0|               0|         0|        0|         1|                     0|          0|      0|   0|    0|        0|  0|     0|   0|             0|       95.0|     16818.0|         317.0|         7.0|\n",
      "|     7546|Different Stages ...|2001|     138|           22|    1|    0|    0|    0|               0|         0|        0|         1|                     0|          0|      0|   0|    0|        0|  0|     0|   0|             0|        0.0|        52.0|          20.0|         3.0|\n",
      "|     8305|At Home With The ...|1993|      52|           14|    1|    0|    0|    0|               0|         0|        0|         1|                     0|          0|      0|   0|    0|        0|  0|     0|   0|             0|       17.0|         0.0|          10.0|         5.0|\n",
      "|    10889|        Virus Meadow|2000|      36|            8|    1|    0|    0|    0|               0|         0|        0|         1|                     0|          0|      0|   0|    0|        0|  0|     0|   0|             0|        0.0|       674.0|         105.0|         4.0|\n",
      "|    11593|                奇跡|2000|      26|            6|    1|    1|    0|    0|               0|         0|        0|         1|                     0|          0|      0|   0|    0|        0|  0|     0|   0|             0|     2198.0|       646.0|         452.0|         8.0|\n",
      "|    13206|   Piano In The Dark|1997|       9|            2|    1|    0|    0|    0|               0|         0|        0|         1|                     0|          0|      0|   0|    0|        0|  0|     0|   0|             0|      174.0|     33524.0|          15.0|         5.0|\n",
      "|    13658|        Fire And Ice|1999|      42|           12|    1|    0|    0|    0|               0|         0|        0|         1|                     0|          0|      0|   0|    0|        0|  0|     0|   0|             0|       63.0|       161.0|         285.0|         9.0|\n",
      "|    14259|     Szenario Europa|1996|      14|            4|    1|    0|    0|    0|               0|         0|        0|         1|                     0|          0|      0|   0|    0|        0|  0|     0|   0|             0|      108.0|      6107.0|         110.0|         1.0|\n",
      "|    14805|      Cocktail Mixxx|2000|      52|           11|    1|    0|    0|    0|               0|         0|        0|         1|                     0|          0|      0|   0|    0|        0|  0|     0|   0|             0|        0.0|       858.0|         102.0|         0.0|\n",
      "|    16781|Take (My Breath A...|1999|      21|            3|    1|    0|    0|    0|               0|         0|        0|         1|                     0|          0|      0|   0|    0|        0|  0|     0|   0|             0|      723.0|     14088.0|         103.0|         1.0|\n",
      "|    17370|            Rüts 2/3|2001|      22|            4|    1|    0|    0|    0|               0|         0|        0|         1|                     0|          0|      0|   0|    0|        0|  0|     0|   0|             0|      990.0|         0.0|         971.0|        11.0|\n",
      "|    19845|              Tumult|1996|      53|           13|    1|    0|    0|    0|               0|         0|        0|         1|                     0|          0|      0|   0|    0|        0|  0|     0|   0|             0|     9323.0|      1163.0|         138.0|         0.0|\n",
      "|    19865|Energy 93 (Compil...|2001|      79|           12|    1|    0|    0|    0|               0|         0|        0|         1|                     0|          0|      0|   0|    0|        0|  0|     0|   0|             0|     2262.0|         0.0|           4.0|        67.0|\n",
      "|    20335|Boys Don't Cry (N...|1997|      22|            6|    1|    0|    0|    0|               0|         0|        0|         1|                     0|          0|      0|   0|    0|        0|  0|     0|   0|             0|        4.0|        31.0|         164.0|         1.0|\n",
      "+---------+--------------------+----+--------+-------------+-----+-----+-----+-----+----------------+----------+---------+----------+----------------------+-----------+-------+----+-----+---------+---+------+----+--------------+-----------+------------+--------------+------------+\n",
      "only showing top 20 rows\n",
      "\n"
     ]
    }
   ],
   "source": [
    "#Definición del archivo json \n",
    "\n",
    "mastersReleasesJoinedFile = '../TFM Files/CNT2.1 - dataNotScaled/dataNotScaled.csv'\n",
    "\n",
    "dfMRJ = sqlContext.read.load(mastersReleasesJoinedFile,\n",
    "                     format=\"csv\", sep=\",\", inferSchema=\"true\", header=\"true\")\n",
    "\n",
    "dfMRJ.show()\n",
    "    \n",
    "# dfMRJ.count()"
   ]
  },
  {
   "cell_type": "code",
   "execution_count": 57,
   "metadata": {},
   "outputs": [
    {
     "name": "stdout",
     "output_type": "stream",
     "text": [
      "['year', 'duration', 'number_tracks', 'Audio', 'Other', 'Video', 'Blues', 'Brass & Military', \"Children's\", 'Classical', 'Electronic', 'Folk, World, & Country', 'Funk / Soul', 'Hip Hop', 'Jazz', 'Latin', 'Non-Music', 'Pop', 'Reggae', 'Rock', 'Stage & Screen', 'stylesIndex', 'artistsIndex', 'companiesIndex', 'countryIndex']\n"
     ]
    }
   ],
   "source": [
    "dfDropped = dfMRJ.drop(\"master_id\", \"title\")\n",
    "\n",
    "featuresCols = dfDropped.columns\n",
    "print(featuresCols)"
   ]
  },
  {
   "cell_type": "code",
   "execution_count": 58,
   "metadata": {
    "scrolled": true
   },
   "outputs": [
    {
     "name": "stdout",
     "output_type": "stream",
     "text": [
      "+---------+--------------------+----+--------+-------------+-----+-----+-----+-----+----------------+----------+---------+----------+----------------------+-----------+-------+----+-----+---------+---+------+----+--------------+-----------+------------+--------------+------------+--------------------+--------------------+\n",
      "|master_id|               title|year|duration|number_tracks|Audio|Other|Video|Blues|Brass & Military|Children's|Classical|Electronic|Folk, World, & Country|Funk / Soul|Hip Hop|Jazz|Latin|Non-Music|Pop|Reggae|Rock|Stage & Screen|stylesIndex|artistsIndex|companiesIndex|countryIndex|            features|      scaledFeatures|\n",
      "+---------+--------------------+----+--------+-------------+-----+-----+-----+-----+----------------+----------+---------+----------+----------------------+-----------+-------+----+-----+---------+---+------+----+--------------+-----------+------------+--------------+------------+--------------------+--------------------+\n",
      "|     1840|    Cursed / Optimum|1998|      17|            2|    1|    0|    0|    0|               0|         0|        0|         1|                     0|          0|      0|   0|    0|        0|  0|     0|   0|             0|      273.0|      2136.0|          76.0|         2.0|(25,[0,1,2,3,10,2...|[0.11954482973390...|\n",
      "|     2812|            Showcase|1999|     128|           20|    1|    0|    0|    0|               0|         0|        0|         1|                     0|          0|      0|   0|    0|        0|  0|     0|   0|             0|        7.0|     33609.0|          22.0|         1.0|(25,[0,1,2,3,10,2...|[0.12416606513307...|\n",
      "|     3391|          Fairytales|1993|       7|            2|    1|    0|    0|    0|               0|         0|        0|         1|                     0|          0|      0|   0|    0|        0|  0|     0|   0|             0|        1.0|      1037.0|         128.0|         7.0|(25,[0,1,2,3,10,2...|[0.09643865273808...|\n",
      "|     5418|                Sign|2000|      49|            9|    1|    0|    0|    0|               0|         0|        0|         1|                     0|          0|      0|   0|    0|        0|  0|     0|   0|             0|       21.0|       652.0|         323.0|        12.0|(25,[0,1,2,3,10,2...|[0.12878730053223...|\n",
      "|     6424|Papua New Guinea ...|1994|      38|            5|    1|    0|    0|    0|               0|         0|        0|         1|                     0|          0|      0|   0|    0|        0|  0|     0|   0|             0|     3323.0|       779.0|          69.0|         2.0|(25,[0,1,2,3,10,2...|[0.10105988813724...|\n",
      "|     6834|          Tiger Trap|2000|      29|           12|    1|    0|    0|    0|               0|         0|        0|         1|                     0|          0|      0|   0|    0|        0|  0|     0|   0|             0|     6730.0|     28499.0|         221.0|         0.0|(25,[0,1,2,3,10,2...|[0.12878730053223...|\n",
      "|     7544|The Sound Of Goodbye|2001|      68|           12|    1|    0|    0|    0|               0|         0|        0|         1|                     0|          0|      0|   0|    0|        0|  0|     0|   0|             0|       95.0|     16818.0|         317.0|         7.0|(25,[0,1,2,3,10,2...|[0.13340853593140...|\n",
      "|     7546|Different Stages ...|2001|     138|           22|    1|    0|    0|    0|               0|         0|        0|         1|                     0|          0|      0|   0|    0|        0|  0|     0|   0|             0|        0.0|        52.0|          20.0|         3.0|(25,[0,1,2,3,10,2...|[0.13340853593140...|\n",
      "|     8305|At Home With The ...|1993|      52|           14|    1|    0|    0|    0|               0|         0|        0|         1|                     0|          0|      0|   0|    0|        0|  0|     0|   0|             0|       17.0|         0.0|          10.0|         5.0|(25,[0,1,2,3,10,2...|[0.09643865273808...|\n",
      "|    10889|        Virus Meadow|2000|      36|            8|    1|    0|    0|    0|               0|         0|        0|         1|                     0|          0|      0|   0|    0|        0|  0|     0|   0|             0|        0.0|       674.0|         105.0|         4.0|(25,[0,1,2,3,10,2...|[0.12878730053223...|\n",
      "|    11593|                奇跡|2000|      26|            6|    1|    1|    0|    0|               0|         0|        0|         1|                     0|          0|      0|   0|    0|        0|  0|     0|   0|             0|     2198.0|       646.0|         452.0|         8.0|(25,[0,1,2,3,4,10...|[0.12878730053223...|\n",
      "|    13206|   Piano In The Dark|1997|       9|            2|    1|    0|    0|    0|               0|         0|        0|         1|                     0|          0|      0|   0|    0|        0|  0|     0|   0|             0|      174.0|     33524.0|          15.0|         5.0|(25,[0,1,2,3,10,2...|[0.11492359433474...|\n",
      "|    13658|        Fire And Ice|1999|      42|           12|    1|    0|    0|    0|               0|         0|        0|         1|                     0|          0|      0|   0|    0|        0|  0|     0|   0|             0|       63.0|       161.0|         285.0|         9.0|(25,[0,1,2,3,10,2...|[0.12416606513307...|\n",
      "|    14259|     Szenario Europa|1996|      14|            4|    1|    0|    0|    0|               0|         0|        0|         1|                     0|          0|      0|   0|    0|        0|  0|     0|   0|             0|      108.0|      6107.0|         110.0|         1.0|(25,[0,1,2,3,10,2...|[0.11030235893557...|\n",
      "|    14805|      Cocktail Mixxx|2000|      52|           11|    1|    0|    0|    0|               0|         0|        0|         1|                     0|          0|      0|   0|    0|        0|  0|     0|   0|             0|        0.0|       858.0|         102.0|         0.0|(25,[0,1,2,3,10,2...|[0.12878730053223...|\n",
      "|    16781|Take (My Breath A...|1999|      21|            3|    1|    0|    0|    0|               0|         0|        0|         1|                     0|          0|      0|   0|    0|        0|  0|     0|   0|             0|      723.0|     14088.0|         103.0|         1.0|(25,[0,1,2,3,10,2...|[0.12416606513307...|\n",
      "|    17370|            Rüts 2/3|2001|      22|            4|    1|    0|    0|    0|               0|         0|        0|         1|                     0|          0|      0|   0|    0|        0|  0|     0|   0|             0|      990.0|         0.0|         971.0|        11.0|(25,[0,1,2,3,10,2...|[0.13340853593140...|\n",
      "|    19845|              Tumult|1996|      53|           13|    1|    0|    0|    0|               0|         0|        0|         1|                     0|          0|      0|   0|    0|        0|  0|     0|   0|             0|     9323.0|      1163.0|         138.0|         0.0|(25,[0,1,2,3,10,2...|[0.11030235893557...|\n",
      "|    19865|Energy 93 (Compil...|2001|      79|           12|    1|    0|    0|    0|               0|         0|        0|         1|                     0|          0|      0|   0|    0|        0|  0|     0|   0|             0|     2262.0|         0.0|           4.0|        67.0|(25,[0,1,2,3,10,2...|[0.13340853593140...|\n",
      "|    20335|Boys Don't Cry (N...|1997|      22|            6|    1|    0|    0|    0|               0|         0|        0|         1|                     0|          0|      0|   0|    0|        0|  0|     0|   0|             0|        4.0|        31.0|         164.0|         1.0|(25,[0,1,2,3,10,2...|[0.11492359433474...|\n",
      "+---------+--------------------+----+--------+-------------+-----+-----+-----+-----+----------------+----------+---------+----------+----------------------+-----------+-------+----+-----+---------+---+------+----+--------------+-----------+------------+--------------+------------+--------------------+--------------------+\n",
      "only showing top 20 rows\n",
      "\n"
     ]
    }
   ],
   "source": [
    "from pyspark.ml.feature import VectorAssembler, VectorIndexer\n",
    "from pyspark.ml.feature import StandardScaler\n",
    "from pyspark.ml import Pipeline\n",
    "\n",
    "# This concatenates all feature columns into a single feature vector in a new column \"rawFeatures\".\n",
    "vectorAssembler = VectorAssembler(inputCols=featuresCols, outputCol=\"features\")\n",
    "\n",
    "scaler = StandardScaler(inputCol=\"features\", outputCol=\"scaledFeatures\",\n",
    "                        withStd=True, withMean=True)\n",
    "\n",
    "pipeline = Pipeline(stages=[vectorAssembler, scaler])\n",
    "\n",
    "# Compute summary statistics by fitting the StandardScaler\n",
    "pipelineModel = pipeline.fit(dfMRJ)\n",
    "\n",
    "# Normalize each feature to have unit standard deviation.\n",
    "scaledData = pipelineModel.transform(dfMRJ)\n",
    "scaledData.show()"
   ]
  },
  {
   "cell_type": "code",
   "execution_count": 59,
   "metadata": {
    "scrolled": true
   },
   "outputs": [
    {
     "name": "stdout",
     "output_type": "stream",
     "text": [
      "+---------+--------------------+--------------------+\n",
      "|master_id|               title|      scaledFeatures|\n",
      "+---------+--------------------+--------------------+\n",
      "|     1840|    Cursed / Optimum|[0.11954482973390...|\n",
      "|     2812|            Showcase|[0.12416606513307...|\n",
      "|     3391|          Fairytales|[0.09643865273808...|\n",
      "|     5418|                Sign|[0.12878730053223...|\n",
      "|     6424|Papua New Guinea ...|[0.10105988813724...|\n",
      "|     6834|          Tiger Trap|[0.12878730053223...|\n",
      "|     7544|The Sound Of Goodbye|[0.13340853593140...|\n",
      "|     7546|Different Stages ...|[0.13340853593140...|\n",
      "|     8305|At Home With The ...|[0.09643865273808...|\n",
      "|    10889|        Virus Meadow|[0.12878730053223...|\n",
      "|    11593|                奇跡|[0.12878730053223...|\n",
      "|    13206|   Piano In The Dark|[0.11492359433474...|\n",
      "|    13658|        Fire And Ice|[0.12416606513307...|\n",
      "|    14259|     Szenario Europa|[0.11030235893557...|\n",
      "|    14805|      Cocktail Mixxx|[0.12878730053223...|\n",
      "|    16781|Take (My Breath A...|[0.12416606513307...|\n",
      "|    17370|            Rüts 2/3|[0.13340853593140...|\n",
      "|    19845|              Tumult|[0.11030235893557...|\n",
      "|    19865|Energy 93 (Compil...|[0.13340853593140...|\n",
      "|    20335|Boys Don't Cry (N...|[0.11492359433474...|\n",
      "+---------+--------------------+--------------------+\n",
      "only showing top 20 rows\n",
      "\n"
     ]
    }
   ],
   "source": [
    "dfCleanedScaled = scaledData.select(\"master_id\", \"title\", \"scaledFeatures\")\n",
    "\n",
    "dfCleanedScaled.show()"
   ]
  },
  {
   "cell_type": "code",
   "execution_count": 61,
   "metadata": {},
   "outputs": [],
   "source": [
    "jsonFileName = \"../TFM Files/CNT2.2 - dataScaled\"\n",
    "\n",
    "dfCleanedScaled\\\n",
    "    .repartition(1)\\\n",
    "    .coalesce(1)\\\n",
    "    .write\\\n",
    "    .format(\"json\")\\\n",
    "    .save(jsonFileName)"
   ]
  }
 ],
 "metadata": {
  "kernelspec": {
   "display_name": "Python 3",
   "language": "python",
   "name": "python3"
  },
  "language_info": {
   "codemirror_mode": {
    "name": "ipython",
    "version": 3
   },
   "file_extension": ".py",
   "mimetype": "text/x-python",
   "name": "python",
   "nbconvert_exporter": "python",
   "pygments_lexer": "ipython3",
   "version": "3.7.3"
  }
 },
 "nbformat": 4,
 "nbformat_minor": 2
}
