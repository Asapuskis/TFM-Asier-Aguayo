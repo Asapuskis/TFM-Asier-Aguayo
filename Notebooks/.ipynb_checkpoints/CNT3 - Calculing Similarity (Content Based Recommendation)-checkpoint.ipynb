{
 "cells": [
  {
   "cell_type": "markdown",
   "metadata": {},
   "source": [
    "<h2>Importación de librerías</h2>"
   ]
  },
  {
   "cell_type": "code",
   "execution_count": 1,
   "metadata": {},
   "outputs": [],
   "source": [
    "from pyspark import SparkContext, SparkConf\n",
    "from pyspark.sql.session import SparkSession\n",
    "from pyspark.sql import SQLContext\n",
    "\n",
    "import numpy as np\n",
    "import pandas as pd\n",
    "\n",
    "from sklearn.metrics.pairwise import cosine_similarity\n",
    "from pyspark.ml import Pipeline\n",
    "from pyspark.ml.feature import StringIndexer\n",
    "from pyspark.sql import Row\n",
    "\n",
    "# Carga del paquete databricks:spark-xml para pasar directamente de XML a dataframe\n",
    "import os\n",
    "from os import environ\n",
    "environ['PYSPARK_SUBMIT_ARGS'] = '--packages com.databricks:spark-xml_2.10:0.4.1 pyspark-shell'\n",
    "\n",
    "from pyspark.sql.functions import *\n",
    "from pyspark.sql.types import *\n"
   ]
  },
  {
   "cell_type": "markdown",
   "metadata": {},
   "source": [
    "<h2>Configuración de Spark</h2>"
   ]
  },
  {
   "cell_type": "code",
   "execution_count": 2,
   "metadata": {
    "scrolled": true
   },
   "outputs": [],
   "source": [
    "#conf = SparkConf()\\\n",
    "#        .setAppName(\"tfm02\")\\\n",
    "#        .setMaster(\"local\")\n",
    "\n",
    "conf = SparkConf()\\\n",
    "        .setAppName(\"tfmX\")\\\n",
    "        .setMaster(\"spark://192.168.2.132:7077\")\n",
    "    \n",
    "sc = SparkContext(conf=conf)\n",
    "\n",
    "sqlContext = SQLContext(sc)"
   ]
  },
  {
   "cell_type": "markdown",
   "metadata": {},
   "source": [
    "<h2>Carga del fichero json con los datos normalizados.</h2> "
   ]
  },
  {
   "cell_type": "code",
   "execution_count": 3,
   "metadata": {
    "scrolled": true
   },
   "outputs": [
    {
     "name": "stdout",
     "output_type": "stream",
     "text": [
      "+---------+--------------------+--------------------+\n",
      "|master_id|      scaledFeatures|               title|\n",
      "+---------+--------------------+--------------------+\n",
      "|    81137|[1, [0.1334085359...|     Greenbank Drive|\n",
      "|    81640|[1, [0.1056811235...|Dancing On The Couch|\n",
      "|    82039|[1, [0.1103023589...|We're Rocking The...|\n",
      "|    82494|[1, [0.1334085359...|  It Takes Me Higher|\n",
      "|    83907|[1, [0.0825749465...|        Bitter Sweet|\n",
      "|    87426|[1, [0.1103023589...|        Sussex Drive|\n",
      "|    90803|[1, [0.1241660651...|Hollow Man (Origi...|\n",
      "|    94241|[1, [0.1056811235...|Chicas, Chicas, C...|\n",
      "|    97214|[1, [0.1195448297...|          Extensions|\n",
      "|    98178|[1, [0.1103023589...|          Alex Party|\n",
      "|    98328|[1, [0.1195448297...|          Barry Blue|\n",
      "|    98999|[1, [0.1380297713...|            Somebody|\n",
      "|    99399|[1, [0.1056811235...|  The Invincible Sex|\n",
      "|   100143|[1, [0.1334085359...|    Don't You Try It|\n",
      "|   100288|[1, [0.0964386527...|        Turn-A-Round|\n",
      "|   102367|[1, [0.1287873005...|          Sick Of It|\n",
      "|   102515|[1, [0.1334085359...|Sir Duke / He's M...|\n",
      "|   102858|[1, [0.1195448297...|             Cha Cha|\n",
      "|   103368|[1, [0.0502262987...|          Rusty Acid|\n",
      "|   105384|[1, [0.0871961819...|       Morning Light|\n",
      "+---------+--------------------+--------------------+\n",
      "only showing top 20 rows\n",
      "\n"
     ]
    }
   ],
   "source": [
    "fullJsonFile = '../TFM Files/CNT2.2 - dataScaled/dataScaled.json'\n",
    "\n",
    "scaledData = sqlContext.read.format(\"json\")\\\n",
    "                        .load(fullJsonFile)\n",
    "    \n",
    "scaledData.show()\n"
   ]
  },
  {
   "cell_type": "code",
   "execution_count": 4,
   "metadata": {
    "scrolled": true
   },
   "outputs": [
    {
     "name": "stdout",
     "output_type": "stream",
     "text": [
      "+---------+\n",
      "|master_id|\n",
      "+---------+\n",
      "|     1355|\n",
      "+---------+\n",
      "\n"
     ]
    }
   ],
   "source": [
    "perUnAmicoFrame = scaledData.select(\"master_id\").where(scaledData[\"title\"] == \"Per Un Amico\")\n",
    "perUnAmicoFrame.show()\n"
   ]
  },
  {
   "cell_type": "code",
   "execution_count": 5,
   "metadata": {},
   "outputs": [
    {
     "data": {
      "text/plain": [
       "1355"
      ]
     },
     "execution_count": 5,
     "metadata": {},
     "output_type": "execute_result"
    }
   ],
   "source": [
    "perUnAmicoIndex = perUnAmicoFrame.select(\"master_id\").collect()\n",
    "perUnAmicoIndex[0][0]"
   ]
  },
  {
   "cell_type": "markdown",
   "metadata": {},
   "source": [
    "<p>Aplicación de la función coseno para hallar las similitudes entre elementos.</p>"
   ]
  },
  {
   "cell_type": "code",
   "execution_count": 6,
   "metadata": {},
   "outputs": [],
   "source": [
    "#Parte donde se calcula el cosine similarity\n",
    "\n",
    "\n",
    "releaseID = perUnAmicoIndex[0][0]\n",
    "\n",
    "selectedRelease = scaledData.where(col(\"master_id\") == releaseID).first()\n",
    "\n",
    "rdd_similarity = scaledData.rdd.map(lambda x : Row(id = x.master_id,\n",
    "                                               sim = cosine_similarity([np.asarray(selectedRelease[\"scaledFeatures\"])[1]],\n",
    "                                                                       [np.asarray(x[\"scaledFeatures\"])[1]])[0][0].item(),\n",
    "                                                title = x.title))\n"
   ]
  },
  {
   "cell_type": "markdown",
   "metadata": {},
   "source": [
    "<p>Generamos el dataframe con la similitud con los demás elementos.</p>"
   ]
  },
  {
   "cell_type": "code",
   "execution_count": 7,
   "metadata": {
    "scrolled": true
   },
   "outputs": [
    {
     "name": "stdout",
     "output_type": "stream",
     "text": [
      "+------+------------+--------------------+\n",
      "|    id|         sim|               title|\n",
      "+------+------------+--------------------+\n",
      "| 81137|  0.93130213|     Greenbank Drive|\n",
      "| 81640|  0.08699941|Dancing On The Couch|\n",
      "| 82039| -0.03178424|We're Rocking The...|\n",
      "| 82494|  0.38232934|  It Takes Me Higher|\n",
      "| 83907|   0.8960064|        Bitter Sweet|\n",
      "| 87426|   0.5762373|        Sussex Drive|\n",
      "| 90803|   0.7572512|Hollow Man (Origi...|\n",
      "| 94241|  0.20213285|Chicas, Chicas, C...|\n",
      "| 97214|   0.4721324|          Extensions|\n",
      "| 98178|  0.72252065|          Alex Party|\n",
      "| 98328|  0.73610693|          Barry Blue|\n",
      "| 98999|-0.082419455|            Somebody|\n",
      "| 99399| -0.18022282|  The Invincible Sex|\n",
      "|100143|  0.66346323|    Don't You Try It|\n",
      "|100288|  0.61651397|        Turn-A-Round|\n",
      "|102367|  0.91712916|          Sick Of It|\n",
      "|102515|   0.9024957|Sir Duke / He's M...|\n",
      "|102858| -0.16368663|             Cha Cha|\n",
      "|103368| -0.44199383|          Rusty Acid|\n",
      "|105384|   0.0793337|       Morning Light|\n",
      "+------+------------+--------------------+\n",
      "only showing top 20 rows\n",
      "\n"
     ]
    }
   ],
   "source": [
    "# Parte donde se genera el df con los resultados\n",
    "\n",
    "schema = StructType([\n",
    "    StructField(\"id\", IntegerType(), True),\n",
    "    StructField(\"sim\", FloatType(), False),\n",
    "    StructField(\"title\", StringType(), False)\n",
    "])\n",
    "\n",
    "df_similarity = sqlContext.createDataFrame(rdd_similarity, schema)\n",
    "\n",
    "df_similarity.show()\n"
   ]
  },
  {
   "cell_type": "code",
   "execution_count": 8,
   "metadata": {},
   "outputs": [],
   "source": [
    "import numpy as np\n",
    "\n",
    "df_similarity = df_similarity.withColumn(\"sim\", round(df_similarity[\"sim\"],5))\n",
    "\n",
    "\n",
    "df_similarity = df_similarity\\\n",
    "    .where(col(\"id\") != releaseID)\\\n",
    "    .orderBy(\"sim\", ascending=False)\n",
    "\n"
   ]
  },
  {
   "cell_type": "code",
   "execution_count": 9,
   "metadata": {},
   "outputs": [
    {
     "name": "stdout",
     "output_type": "stream",
     "text": [
      "Las 10 publicaciones recomendadas son: \n",
      "+------+-------+--------------------------------------------------+\n",
      "|id    |sim    |title                                             |\n",
      "+------+-------+--------------------------------------------------+\n",
      "|313950|0.99697|Snuffy / Wells Fargo / Rhodomagnetics / Count Down|\n",
      "|23151 |0.99418|Marrakech                                         |\n",
      "|53118 |0.99382|Ars Longa Vita Brevis                             |\n",
      "|22420 |0.99291|Station To Station                                |\n",
      "|61688 |0.99159|Ornette On Tenor                                  |\n",
      "|248430|0.99045|Soprano Sax                                       |\n",
      "|155249|0.9904 |Bottom Heavy 2008                                 |\n",
      "|47579 |0.99009|Rhapsody And Blues                                |\n",
      "|14612 |0.98976|Saturday Night (Remix '94)                        |\n",
      "|47901 |0.98944|Sunlight                                          |\n",
      "+------+-------+--------------------------------------------------+\n",
      "only showing top 10 rows\n",
      "\n"
     ]
    }
   ],
   "source": [
    "print(\"Las 10 publicaciones recomendadas son: \")\n",
    "df_similarity.show(10, False)"
   ]
  }
 ],
 "metadata": {
  "kernelspec": {
   "display_name": "Python 3",
   "language": "python",
   "name": "python3"
  },
  "language_info": {
   "codemirror_mode": {
    "name": "ipython",
    "version": 3
   },
   "file_extension": ".py",
   "mimetype": "text/x-python",
   "name": "python",
   "nbconvert_exporter": "python",
   "pygments_lexer": "ipython3",
   "version": "3.7.3"
  }
 },
 "nbformat": 4,
 "nbformat_minor": 2
}
