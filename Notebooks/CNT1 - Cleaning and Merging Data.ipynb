{
 "cells": [
  {
   "cell_type": "markdown",
   "metadata": {},
   "source": [
    "<h1>Carga de las bases de datos, filtrado y unión de datos en un único archivo.</h1>"
   ]
  },
  {
   "cell_type": "markdown",
   "metadata": {},
   "source": [
    "<h2>Importación de librerías</h2>"
   ]
  },
  {
   "cell_type": "code",
   "execution_count": 2,
   "metadata": {},
   "outputs": [],
   "source": [
    "from pyspark import SparkContext, SparkConf\n",
    "from pyspark.sql.session import SparkSession\n",
    "from pyspark.sql import SQLContext\n",
    "\n",
    "# Carga del paquete databricks:spark-xml para pasar directamente de XML a dataframe\n",
    "import os\n",
    "from os import environ\n",
    "environ['PYSPARK_SUBMIT_ARGS'] = '--packages com.databricks:spark-xml_2.10:0.4.1 pyspark-shell'\n",
    "\n",
    "import pyspark.sql.functions as funct\n"
   ]
  },
  {
   "cell_type": "markdown",
   "metadata": {},
   "source": [
    "<h2>Configuración de Spark</h2>"
   ]
  },
  {
   "cell_type": "code",
   "execution_count": 3,
   "metadata": {},
   "outputs": [],
   "source": [
    "#conf = SparkConf()\\\n",
    "#        .setAppName(\"tfm00\")\\\n",
    "#        .setMaster(\"local\")\n",
    "\n",
    "conf = SparkConf()\\\n",
    "        .setAppName(\"tfm02\")\\\n",
    "        .setMaster(\"spark://192.168.2.132:7077\")\n",
    "    \n",
    "sc = SparkContext(conf=conf)\n",
    "\n",
    "sqlContext = SQLContext(sc)"
   ]
  },
  {
   "cell_type": "markdown",
   "metadata": {},
   "source": [
    "<h2>Carga del fichero XML Master</h2> "
   ]
  },
  {
   "cell_type": "code",
   "execution_count": 22,
   "metadata": {
    "scrolled": true
   },
   "outputs": [],
   "source": [
    "#Definición de los archivos XML \n",
    "fullMasterXmlFile = 'Discogs/masters/discogs_20190701_masters.xml'\n",
    "sampleMasterXmlFile = 'Discogs/masters/sample_masters.xml'\n",
    "\n",
    "dfMasters = sqlContext.read.format('com.databricks.spark.xml')\\\n",
    "    .option(\"excludeAttribute\", \"false\")\\\n",
    "    .options(rootTag='masters')\\\n",
    "    .options(rowTag='master')\\\n",
    "    .load(fullMasterXmlFile)\n",
    " \n",
    "#dfMasters.printSchema()"
   ]
  },
  {
   "cell_type": "markdown",
   "metadata": {},
   "source": [
    "<h3>Selección de los atributos necesarios y procesado de datos</h3>"
   ]
  },
  {
   "cell_type": "code",
   "execution_count": 23,
   "metadata": {
    "scrolled": true
   },
   "outputs": [],
   "source": [
    "#Seleccionamos los atributos sin ningún tipo de procesado. \n",
    "\n",
    "finaldfMasters = dfMasters.select(\"main_release\",\"title\",\"artists\",\"data_quality\",\"genres\", \"styles\", \"year\")\\\n",
    "            .withColumn(\"master_title\", funct.col(\"title\"))\\\n",
    "            .withColumn(\"master_artists\", funct.col(\"artists.artist.name\"))\\\n",
    "            .withColumn(\"genres\", funct.col(\"genres.genre\"))\\\n",
    "            .withColumn(\"styles\", funct.col(\"styles.style\"))\\\n",
    "            .drop(\"title\",\"artists\")\\\n",
    "            .orderBy(\"main_release\")\n",
    "\n",
    "#finaldfMasters.count()\n"
   ]
  },
  {
   "cell_type": "code",
   "execution_count": 25,
   "metadata": {
    "scrolled": true
   },
   "outputs": [],
   "source": [
    "#Eliminamos posibles filas duplicadas\n",
    "\n",
    "finaldfMasters = finaldfMasters.drop_duplicates(['main_release'])\n",
    "#finaldfMasters.count()"
   ]
  },
  {
   "cell_type": "markdown",
   "metadata": {},
   "source": [
    "<h4>Generación del archivo Masters con los datos que nos interesan. </h4> "
   ]
  },
  {
   "cell_type": "code",
   "execution_count": 26,
   "metadata": {},
   "outputs": [],
   "source": [
    "jsonPath = \"MastersCleaned\"\n",
    "\n",
    "finaldfMasters\\\n",
    "    .repartition(1)\\\n",
    "    .coalesce(1)\\\n",
    "    .write\\\n",
    "    .format(\"json\")\\\n",
    "    .save(jsonPath)"
   ]
  },
  {
   "cell_type": "code",
   "execution_count": 27,
   "metadata": {},
   "outputs": [
    {
     "data": {
      "text/plain": [
       "0"
      ]
     },
     "execution_count": 27,
     "metadata": {},
     "output_type": "execute_result"
    }
   ],
   "source": [
    "jsonFileName = jsonPath + \".json\"\n",
    "\n",
    "#Unión de los archivos parciales en un único csv\n",
    "os.system(\"cat \" + jsonPath + \"/p* > \" + jsonPath + \"/\" + jsonFileName)"
   ]
  },
  {
   "cell_type": "markdown",
   "metadata": {},
   "source": [
    "<h2>Carga del fichero XML Releases</h2> "
   ]
  },
  {
   "cell_type": "code",
   "execution_count": 86,
   "metadata": {},
   "outputs": [],
   "source": [
    "\n",
    "#Definición de los archivos XML \n",
    "fullReleaseXmlFile = 'Discogs/releases/discogs_20190701_releases.xml'\n",
    "sampleReleaseXmlFile = 'Discogs/releases/sample_releases.xml'\n",
    "\n",
    "dfReleases = sqlContext.read.format('com.databricks.spark.xml')\\\n",
    "    .option(\"excludeAttribute\", \"false\")\\\n",
    "    .options(rootTag='releases')\\\n",
    "    .options(rowTag='release')\\\n",
    "    .load(sampleReleaseXmlFile)\n",
    " \n",
    "#dfReleases.printSchema()"
   ]
  },
  {
   "cell_type": "markdown",
   "metadata": {},
   "source": [
    "<h3>Selección de los atributos necesarios y procesado de datos</h3>"
   ]
  },
  {
   "cell_type": "code",
   "execution_count": 89,
   "metadata": {},
   "outputs": [],
   "source": [
    "# Seleccionamos los atributos. \n",
    "# Se carga en la columna companies todas las compañías participantes en la publicación (distribuidora, productora, diseñador, etc.)\n",
    "# Se carga en la columna tracklist la duración de las canciones que compone la publicación\n",
    "\n",
    "finaldfReleases = dfReleases.select(\"master_id\",\"title\",\"artists\",\"data_quality\",\"formats\",\"country\",\"companies\",\"tracklist\")\\\n",
    "            .withColumn(\"master_id\", funct.col(\"master_id._VALUE\"))\\\n",
    "            .withColumn(\"formats\", funct.col(\"formats.format._name\"))\\\n",
    "            .withColumn(\"artists\", funct.col(\"artists.artist.name\"))\\\n",
    "            .withColumn(\"companies\", funct.explode(funct.col(\"companies.company\")))\\\n",
    "            .withColumn(\"tracklist\", funct.explode(funct.col(\"tracklist.track.duration\")))\\\n",
    "            \n",
    "finaldfReleases = finaldfReleases.where(funct.col(\"master_id\").isNotNull())\n",
    "\n",
    "#finaldfReleases.count()"
   ]
  },
  {
   "cell_type": "code",
   "execution_count": 90,
   "metadata": {
    "scrolled": true
   },
   "outputs": [],
   "source": [
    "# Nos quedamos solo con las distribuidoras, quitamos así otro tipo de compañías que toman parte del proceso de la publicación\n",
    "\n",
    "finaldfReleases = finaldfReleases\\\n",
    "            .withColumn(\"companies\", \n",
    "                funct.when(funct.col(\"companies.entity_type_name\") == \"Distributed By\", funct.col(\"companies.name\")))\\\n",
    "            .dropna()\n",
    "\n",
    "#finaldfReleases.count()"
   ]
  },
  {
   "cell_type": "code",
   "execution_count": 81,
   "metadata": {
    "scrolled": true
   },
   "outputs": [],
   "source": [
    "# Redondeamos la duración de las canciones de la publicación para poder sumarlas más adelante y calcular el total\n",
    "\n",
    "finaldfReleases = finaldfReleases.withColumn(\"tracklist\", funct.to_timestamp(\"tracklist\",\"mm:ss\"))\n",
    "\n",
    "finaldfReleases = finaldfReleases\\\n",
    "                    .withColumn(\"tracklist_minutes\", \n",
    "                                funct.when(funct.second(finaldfReleases[\"tracklist\"]) < 30, funct.minute(finaldfReleases[\"tracklist\"]))\\\n",
    "                                   .otherwise(funct.minute(finaldfReleases[\"tracklist\"])+1))\\\n",
    "                    .drop(\"tracklist\")\n",
    "                    \n",
    "#finaldfReleases.count()\n"
   ]
  },
  {
   "cell_type": "code",
   "execution_count": 82,
   "metadata": {
    "scrolled": true
   },
   "outputs": [],
   "source": [
    "# Sumamos la duración de las canciones de la publicación y creamos una nueva columna llamada duration\n",
    "\n",
    "finaldfReleases = finaldfReleases\\\n",
    "    .groupBy(\"master_id\",\"title\", \"artists\", \"formats\", \"country\", \"companies\")\\\n",
    "    .agg(funct.sum(\"tracklist_minutes\").alias(\"duration\"), funct.count(\"tracklist_minutes\").alias(\"number_tracks\"))\\\n",
    "    \n",
    "#finaldfReleases.count()"
   ]
  },
  {
   "cell_type": "code",
   "execution_count": 83,
   "metadata": {},
   "outputs": [],
   "source": [
    "# Nos quedamos con la compañía más importante, eliminando las demás\n",
    "\n",
    "finaldfReleases = finaldfReleases\\\n",
    "    .drop_duplicates(['master_id'])\\\n",
    "    .orderBy('master_id')\n",
    "\n",
    "#finaldfReleases.count()"
   ]
  },
  {
   "cell_type": "markdown",
   "metadata": {},
   "source": [
    "<h4>Generación del archivo Masters con los datos que nos interesan. </h4> "
   ]
  },
  {
   "cell_type": "code",
   "execution_count": 84,
   "metadata": {
    "scrolled": true
   },
   "outputs": [],
   "source": [
    "jsonPath = \"ReleasesCleaned\"\n",
    "\n",
    "finaldfReleases\\\n",
    "    .repartition(1)\\\n",
    "    .coalesce(1)\\\n",
    "    .write\\\n",
    "    .format(\"json\")\\\n",
    "    .save(jsonPath)"
   ]
  },
  {
   "cell_type": "code",
   "execution_count": 85,
   "metadata": {},
   "outputs": [
    {
     "data": {
      "text/plain": [
       "0"
      ]
     },
     "execution_count": 85,
     "metadata": {},
     "output_type": "execute_result"
    }
   ],
   "source": [
    "jsonFileName = jsonPath + \".json\"\n",
    "\n",
    "#Unión de los archivos parciales en un único csv\n",
    "os.system(\"cat \" + jsonPath + \"/p* > \" + jsonPath + \"/\" + jsonFileName)"
   ]
  },
  {
   "cell_type": "markdown",
   "metadata": {},
   "source": [
    "<h1>Unión de las tablas en una única sola</h1>"
   ]
  },
  {
   "cell_type": "code",
   "execution_count": 124,
   "metadata": {
    "scrolled": true
   },
   "outputs": [],
   "source": [
    "#Masters Cleaned\n",
    "\n",
    "mastersCleanedFile = \"MastersCleaned/MastersCleaned.json\"\n",
    "\n",
    "dfMastersCleaned = sqlContext.read.format(\"json\")\\\n",
    "                        .load(mastersCleanedFile)\n",
    "\n",
    "#dfMastersCleaned.show(5)\n"
   ]
  },
  {
   "cell_type": "code",
   "execution_count": 125,
   "metadata": {},
   "outputs": [],
   "source": [
    "releasesCleanedFile = \"ReleasesCleaned/ReleasesCleaned.json\"\n",
    "\n",
    "dfReleasesCleaned = sqlContext.read.format(\"json\")\\\n",
    "                        .load(releasesCleanedFile)\n",
    "\n",
    "#dfReleasesCleaned.show(5)"
   ]
  },
  {
   "cell_type": "code",
   "execution_count": 126,
   "metadata": {},
   "outputs": [],
   "source": [
    "dfMastersReleases = dfMastersCleaned.alias(\"masters\")\\\n",
    "                    .join(dfReleasesCleaned.alias(\"releases\"), dfMastersCleaned[\"main_release\"] == dfReleasesCleaned[\"master_id\"], how='inner')\\\n",
    "                    .drop(\"main_release\")\n",
    "\n",
    "#dfMastersReleases.show(5)"
   ]
  },
  {
   "cell_type": "code",
   "execution_count": 127,
   "metadata": {},
   "outputs": [],
   "source": [
    "dfMastersReleases = dfMastersReleases.select(\"master_id\", \n",
    "                                           \"title\", \n",
    "                                           \"year\", \n",
    "                                           \"formats\", \n",
    "                                           \"duration\", \n",
    "                                           \"number_tracks\", \n",
    "                                           \"artists\",  \n",
    "                                           \"country\",   \n",
    "                                           \"companies\", \n",
    "                                           \"genres\", \n",
    "                                           \"styles\")\\\n",
    "                                    .orderBy(\"master_id\")"
   ]
  },
  {
   "cell_type": "markdown",
   "metadata": {},
   "source": [
    "<h5>Creamos un fichero uniendo la información en release y en master.</h5>\n",
    "\n",
    "<p>De esta manera tenemos los datos que se van a utilizar en una única tabla.</p>"
   ]
  },
  {
   "cell_type": "code",
   "execution_count": 128,
   "metadata": {},
   "outputs": [],
   "source": [
    "jsonPath = \"MastersReleasesJoined\"\n",
    "\n",
    "dfMastersReleases\\\n",
    "    .repartition(1)\\\n",
    "    .coalesce(1)\\\n",
    "    .write\\\n",
    "    .format(\"json\")\\\n",
    "    .save(jsonPath)"
   ]
  },
  {
   "cell_type": "code",
   "execution_count": 129,
   "metadata": {},
   "outputs": [
    {
     "data": {
      "text/plain": [
       "0"
      ]
     },
     "execution_count": 129,
     "metadata": {},
     "output_type": "execute_result"
    }
   ],
   "source": [
    "jsonFileName = jsonPath + \".json\"\n",
    "\n",
    "#Unión de los archivos parciales en un único csv\n",
    "os.system(\"cat \" + jsonPath + \"/p* > \" + jsonPath + \"/\" + jsonFileName)"
   ]
  }
 ],
 "metadata": {
  "kernelspec": {
   "display_name": "Python 3",
   "language": "python",
   "name": "python3"
  },
  "language_info": {
   "codemirror_mode": {
    "name": "ipython",
    "version": 3
   },
   "file_extension": ".py",
   "mimetype": "text/x-python",
   "name": "python",
   "nbconvert_exporter": "python",
   "pygments_lexer": "ipython3",
   "version": "3.7.3"
  }
 },
 "nbformat": 4,
 "nbformat_minor": 2
}
